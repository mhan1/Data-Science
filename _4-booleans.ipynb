{
 "cells": [
  {
   "cell_type": "markdown",
   "metadata": {},
   "source": [
    "# Boolean Values"
   ]
  },
  {
   "cell_type": "markdown",
   "metadata": {},
   "source": [
    "### Introduction"
   ]
  },
  {
   "cell_type": "markdown",
   "metadata": {},
   "source": [
    "Deciding which features should be included and focused on in our linear model is an important skill of any data scientist.  As we saw previously, if we include features which are too collinear, we will improperly measure the coefficients related to our collinear features.  In addition, feature selection and prioritizing features with feature importance will help us to understand which features to devote our attention to in terms of feature engineering and domain understanding.  Finally, limiting the number of features in our model, and identifying the most crucial features in our model will make our models, and their insights more understandable."
   ]
  },
  {
   "cell_type": "markdown",
   "metadata": {},
   "source": [
    "### Working with AirBnb"
   ]
  },
  {
   "cell_type": "markdown",
   "metadata": {},
   "source": [
    "For this lesson, we'll work with [AirBnb listings in Berlin](https://www.kaggle.com/brittabettendorf/berlin-airbnb-data)."
   ]
  },
  {
   "cell_type": "code",
   "execution_count": 1,
   "metadata": {},
   "outputs": [],
   "source": [
    "import pandas as pd\n",
    "df = pd.read_csv('https://raw.githubusercontent.com/mhan1/Data-Science/master/listings_summary.csv')"
   ]
  },
  {
   "cell_type": "code",
   "execution_count": 2,
   "metadata": {},
   "outputs": [],
   "source": [
    "pd.set_option('display.max_rows',100)"
   ]
  },
  {
   "cell_type": "code",
   "execution_count": 3,
   "metadata": {},
   "outputs": [
    {
     "data": {
      "text/html": [
       "<div>\n",
       "<style scoped>\n",
       "    .dataframe tbody tr th:only-of-type {\n",
       "        vertical-align: middle;\n",
       "    }\n",
       "\n",
       "    .dataframe tbody tr th {\n",
       "        vertical-align: top;\n",
       "    }\n",
       "\n",
       "    .dataframe thead th {\n",
       "        text-align: right;\n",
       "    }\n",
       "</style>\n",
       "<table border=\"1\" class=\"dataframe\">\n",
       "  <thead>\n",
       "    <tr style=\"text-align: right;\">\n",
       "      <th></th>\n",
       "      <th>id</th>\n",
       "      <th>listing_url</th>\n",
       "      <th>scrape_id</th>\n",
       "      <th>last_scraped</th>\n",
       "      <th>name</th>\n",
       "      <th>summary</th>\n",
       "      <th>space</th>\n",
       "      <th>description</th>\n",
       "      <th>experiences_offered</th>\n",
       "      <th>neighborhood_overview</th>\n",
       "      <th>...</th>\n",
       "      <th>requires_license</th>\n",
       "      <th>license</th>\n",
       "      <th>jurisdiction_names</th>\n",
       "      <th>instant_bookable</th>\n",
       "      <th>is_business_travel_ready</th>\n",
       "      <th>cancellation_policy</th>\n",
       "      <th>require_guest_profile_picture</th>\n",
       "      <th>require_guest_phone_verification</th>\n",
       "      <th>calculated_host_listings_count</th>\n",
       "      <th>reviews_per_month</th>\n",
       "    </tr>\n",
       "  </thead>\n",
       "  <tbody>\n",
       "    <tr>\n",
       "      <th>0</th>\n",
       "      <td>2015</td>\n",
       "      <td>https://www.airbnb.com/rooms/2015</td>\n",
       "      <td>20181107122246</td>\n",
       "      <td>2018-11-07</td>\n",
       "      <td>Berlin-Mitte Value! Quiet courtyard/very central</td>\n",
       "      <td>Great location!  30 of 75 sq meters. This wood...</td>\n",
       "      <td>A+++ location! This „Einliegerwohnung“ is an e...</td>\n",
       "      <td>Great location!  30 of 75 sq meters. This wood...</td>\n",
       "      <td>none</td>\n",
       "      <td>It is located in the former East Berlin area o...</td>\n",
       "      <td>...</td>\n",
       "      <td>t</td>\n",
       "      <td>NaN</td>\n",
       "      <td>NaN</td>\n",
       "      <td>f</td>\n",
       "      <td>f</td>\n",
       "      <td>strict_14_with_grace_period</td>\n",
       "      <td>f</td>\n",
       "      <td>f</td>\n",
       "      <td>4</td>\n",
       "      <td>3.76</td>\n",
       "    </tr>\n",
       "    <tr>\n",
       "      <th>1</th>\n",
       "      <td>2695</td>\n",
       "      <td>https://www.airbnb.com/rooms/2695</td>\n",
       "      <td>20181107122246</td>\n",
       "      <td>2018-11-07</td>\n",
       "      <td>Prenzlauer Berg close to Mauerpark</td>\n",
       "      <td>NaN</td>\n",
       "      <td>In the summertime we are spending most of our ...</td>\n",
       "      <td>In the summertime we are spending most of our ...</td>\n",
       "      <td>none</td>\n",
       "      <td>NaN</td>\n",
       "      <td>...</td>\n",
       "      <td>t</td>\n",
       "      <td>NaN</td>\n",
       "      <td>NaN</td>\n",
       "      <td>f</td>\n",
       "      <td>f</td>\n",
       "      <td>flexible</td>\n",
       "      <td>f</td>\n",
       "      <td>f</td>\n",
       "      <td>1</td>\n",
       "      <td>1.42</td>\n",
       "    </tr>\n",
       "  </tbody>\n",
       "</table>\n",
       "<p>2 rows × 96 columns</p>\n",
       "</div>"
      ],
      "text/plain": [
       "     id                        listing_url       scrape_id last_scraped  \\\n",
       "0  2015  https://www.airbnb.com/rooms/2015  20181107122246   2018-11-07   \n",
       "1  2695  https://www.airbnb.com/rooms/2695  20181107122246   2018-11-07   \n",
       "\n",
       "                                               name  \\\n",
       "0  Berlin-Mitte Value! Quiet courtyard/very central   \n",
       "1                Prenzlauer Berg close to Mauerpark   \n",
       "\n",
       "                                             summary  \\\n",
       "0  Great location!  30 of 75 sq meters. This wood...   \n",
       "1                                                NaN   \n",
       "\n",
       "                                               space  \\\n",
       "0  A+++ location! This „Einliegerwohnung“ is an e...   \n",
       "1  In the summertime we are spending most of our ...   \n",
       "\n",
       "                                         description experiences_offered  \\\n",
       "0  Great location!  30 of 75 sq meters. This wood...                none   \n",
       "1  In the summertime we are spending most of our ...                none   \n",
       "\n",
       "                               neighborhood_overview        ...          \\\n",
       "0  It is located in the former East Berlin area o...        ...           \n",
       "1                                                NaN        ...           \n",
       "\n",
       "  requires_license license jurisdiction_names instant_bookable  \\\n",
       "0                t     NaN                NaN                f   \n",
       "1                t     NaN                NaN                f   \n",
       "\n",
       "  is_business_travel_ready          cancellation_policy  \\\n",
       "0                        f  strict_14_with_grace_period   \n",
       "1                        f                     flexible   \n",
       "\n",
       "   require_guest_profile_picture require_guest_phone_verification  \\\n",
       "0                              f                                f   \n",
       "1                              f                                f   \n",
       "\n",
       "   calculated_host_listings_count  reviews_per_month  \n",
       "0                               4               3.76  \n",
       "1                               1               1.42  \n",
       "\n",
       "[2 rows x 96 columns]"
      ]
     },
     "execution_count": 3,
     "metadata": {},
     "output_type": "execute_result"
    }
   ],
   "source": [
    "df.head(2)"
   ]
  },
  {
   "cell_type": "code",
   "execution_count": 4,
   "metadata": {},
   "outputs": [
    {
     "data": {
      "text/plain": [
       "(22552, 96)"
      ]
     },
     "execution_count": 4,
     "metadata": {},
     "output_type": "execute_result"
    }
   ],
   "source": [
    "df.shape"
   ]
  },
  {
   "cell_type": "markdown",
   "metadata": {},
   "source": [
    "### Feature engineering"
   ]
  },
  {
   "cell_type": "markdown",
   "metadata": {},
   "source": [
    "Let's try to capture as much of this object data as possible."
   ]
  },
  {
   "cell_type": "code",
   "execution_count": 5,
   "metadata": {},
   "outputs": [],
   "source": [
    "def find_object_features(df):\n",
    "    return list(df.dtypes[df.dtypes == 'object'].index)"
   ]
  },
  {
   "cell_type": "code",
   "execution_count": 6,
   "metadata": {},
   "outputs": [
    {
     "data": {
      "text/plain": [
       "['listing_url',\n",
       " 'last_scraped',\n",
       " 'name',\n",
       " 'summary',\n",
       " 'space',\n",
       " 'description',\n",
       " 'experiences_offered',\n",
       " 'neighborhood_overview',\n",
       " 'notes',\n",
       " 'transit',\n",
       " 'access',\n",
       " 'interaction',\n",
       " 'house_rules',\n",
       " 'picture_url',\n",
       " 'host_url',\n",
       " 'host_name',\n",
       " 'host_since',\n",
       " 'host_location',\n",
       " 'host_about',\n",
       " 'host_response_time',\n",
       " 'host_response_rate',\n",
       " 'host_is_superhost',\n",
       " 'host_thumbnail_url',\n",
       " 'host_picture_url',\n",
       " 'host_neighbourhood',\n",
       " 'host_verifications',\n",
       " 'host_has_profile_pic',\n",
       " 'host_identity_verified',\n",
       " 'street',\n",
       " 'neighbourhood',\n",
       " 'neighbourhood_cleansed',\n",
       " 'neighbourhood_group_cleansed',\n",
       " 'city',\n",
       " 'state',\n",
       " 'zipcode',\n",
       " 'market',\n",
       " 'smart_location',\n",
       " 'country_code',\n",
       " 'country',\n",
       " 'is_location_exact',\n",
       " 'property_type',\n",
       " 'room_type',\n",
       " 'bed_type',\n",
       " 'amenities',\n",
       " 'price',\n",
       " 'weekly_price',\n",
       " 'monthly_price',\n",
       " 'security_deposit',\n",
       " 'cleaning_fee',\n",
       " 'extra_people',\n",
       " 'calendar_updated',\n",
       " 'has_availability',\n",
       " 'calendar_last_scraped',\n",
       " 'first_review',\n",
       " 'last_review',\n",
       " 'requires_license',\n",
       " 'license',\n",
       " 'instant_bookable',\n",
       " 'is_business_travel_ready',\n",
       " 'cancellation_policy',\n",
       " 'require_guest_profile_picture',\n",
       " 'require_guest_phone_verification']"
      ]
     },
     "execution_count": 6,
     "metadata": {},
     "output_type": "execute_result"
    }
   ],
   "source": [
    "find_object_features(df)"
   ]
  },
  {
   "cell_type": "code",
   "execution_count": 7,
   "metadata": {},
   "outputs": [],
   "source": [
    "def find_object_feature_values(df):\n",
    "    object_features = find_object_features(df)\n",
    "    return df[object_features][:1].values[0]"
   ]
  },
  {
   "cell_type": "code",
   "execution_count": 8,
   "metadata": {},
   "outputs": [
    {
     "data": {
      "text/plain": [
       "array(['https://www.airbnb.com/rooms/2015', '2018-11-07',\n",
       "       'Berlin-Mitte Value! Quiet courtyard/very central',\n",
       "       'Great location!  30 of 75 sq meters. This wood floored/high ceiling typical Berlin \"Altbau\" section of an apartment consists of 1 simple large room, a small kitchen and a bathroom + shower. The apartment is in Mitte, close to Prenzlauer Berg/Mauerpark. Perfect for short visits, singles or couples. Your section is closed from the rest of the bigger flat wich is not noticeable. You will not be sharing your space.',\n",
       "       'A+++ location! This „Einliegerwohnung“ is an extention of a larger apartment with a separate entrance, bathroom and kitchen. The door to the rest of the apartment is soundproof, hidden, locked and barely noticable (behind mirror in pictures). Your 30 sq meters are facing a quiet courtyard. This wood floored/high ceiling typical Berlin \"Altbau\" apartment consists of 1 large room with a large double bed, optionally with an extra matress for a 3rd guest), a small kitchen suitable for preparing simple meals, a bathroom + shower + bathtub and of course your own entrance (all linens and towels are provided.) it is located facing a quiet courtyard, it is clean cozy and an authentic \"Berlin\" place to live. The place is in Mitte, close to Prenzlauer Berg one block from Kastanienallee, Zionskirchplatz, Rosenthaler Platz and Mauerpark. Generally this area is lively with galleries, museums, resturants, cafes, flea markets, bars, clubs, shops, good take away food, a park, U-Bahn, trams, supermarket',\n",
       "       'Great location!  30 of 75 sq meters. This wood floored/high ceiling typical Berlin \"Altbau\" section of an apartment consists of 1 simple large room, a small kitchen and a bathroom + shower. The apartment is in Mitte, close to Prenzlauer Berg/Mauerpark. Perfect for short visits, singles or couples. Your section is closed from the rest of the bigger flat wich is not noticeable. You will not be sharing your space. A+++ location! This „Einliegerwohnung“ is an extention of a larger apartment with a separate entrance, bathroom and kitchen. The door to the rest of the apartment is soundproof, hidden, locked and barely noticable (behind mirror in pictures). Your 30 sq meters are facing a quiet courtyard. This wood floored/high ceiling typical Berlin \"Altbau\" apartment consists of 1 large room with a large double bed, optionally with an extra matress for a 3rd guest), a small kitchen suitable for preparing simple meals, a bathroom + shower + bathtub and of course your own entrance (all linens a',\n",
       "       'none',\n",
       "       'It is located in the former East Berlin area of Kastanienallee and Zionskirchplatz (Berlins only natural elevation), very charming and original turn of the last century architecture; this area was barely been destroyed during the war. Close to galleries, resturants, museums, flea markets, cafes, bars, clubs, shops, good take away food, a park, great public transportation: U-Bahn, S-Bahn, Trams, Busses, supermarkets etc.',\n",
       "       'This is my home, not a hotel. I rent out occasionally when I stay with my friend.',\n",
       "       'Close to U-Bahn U8 and U2 (metro), Trams M12, M10 and M8, Busses. Rosenthaler Platz and Hackescher Markt are close by. S-Bahn. Alexander Platz is 6 minutes away on the U8 line.',\n",
       "       'Simple kitchen/cooking, refrigerator, microwave oven, stove, dishwasher, espresso/ coffee mashine, cable TV deskspace, shower, bath tub, little courtyard garden, 1st floor. There is a large double bed and optional additional airbeds for a 3rd or 4th person/kids. (Please note that the apartment is 30 square meters, if you stay a few nights and are more than 2 adults, it will be tight)',\n",
       "       'Always available',\n",
       "       'No parties No events No pets No smoking, not even in the courtyard/garden Do not pull the door shut with the keys in the lock from the inside; should that happen, the guest pays for locksmith',\n",
       "       'https://a0.muscache.com/im/pictures/260fd609-710a-4304-82ab-abd7498efd62.jpg?aki_policy=large',\n",
       "       'https://www.airbnb.com/users/show/2217', 'Ian', '2008-08-18',\n",
       "       'Key Biscayne, Florida, United States',\n",
       "       'Believe in sharing economy.', 'within an hour', '96%', 't',\n",
       "       'https://a0.muscache.com/im/pictures/21428a22-4f38-444d-8c72-5892be9da109.jpg?aki_policy=profile_small',\n",
       "       'https://a0.muscache.com/im/pictures/21428a22-4f38-444d-8c72-5892be9da109.jpg?aki_policy=profile_x_medium',\n",
       "       'Mitte',\n",
       "       \"['email', 'phone', 'reviews', 'jumio', 'offline_government_id', 'government_id']\",\n",
       "       't', 't', 'Berlin, Berlin, Germany', 'Mitte', 'Brunnenstr. Süd',\n",
       "       'Mitte', 'Berlin', 'Berlin', '10119', 'Berlin', 'Berlin, Germany',\n",
       "       'DE', 'Germany', 'f', 'Guesthouse', 'Entire home/apt', 'Real Bed',\n",
       "       '{TV,\"Cable TV\",Wifi,Kitchen,Gym,Heating,\"Family/kid friendly\",\"Smoke detector\",Essentials,Shampoo,\"Lock on bedroom door\",Hangers,\"Hair dryer\",Iron,\"Laptop friendly workspace\",\"Private living room\",Bathtub,\"Hot water\",\"Bed linens\",\"Extra pillows and blankets\",Microwave,\"Coffee maker\",Refrigerator,Dishwasher,\"Dishes and silverware\",\"Cooking basics\",Stove,\"Luggage dropoff allowed\",\"Long term stays allowed\"}',\n",
       "       '$60.00', nan, nan, '$200.00', '$30.00', '$28.00', '3 months ago',\n",
       "       't', '2018-11-07', '2016-04-11', '2018-10-28', 't', nan, 'f', 'f',\n",
       "       'strict_14_with_grace_period', 'f', 'f'], dtype=object)"
      ]
     },
     "execution_count": 8,
     "metadata": {},
     "output_type": "execute_result"
    }
   ],
   "source": [
    "find_object_feature_values(df)"
   ]
  },
  {
   "cell_type": "code",
   "execution_count": 9,
   "metadata": {},
   "outputs": [],
   "source": [
    "import numpy as np\n",
    "\n",
    "def find_booleans(df):\n",
    "    columns = df.columns\n",
    "    boolean_columns = np.array([column for column in columns if len(df[column].value_counts(dropna=True)) == 2])\n",
    "    boolean_values = np.array([df[column].value_counts(dropna=True).index for column in boolean_columns])\n",
    "    return boolean_columns, boolean_values, boolean_values[:, 0], boolean_values[:, 1], np.stack((boolean_columns, boolean_values[:, 0], boolean_values[:, 1])), np.stack((boolean_columns, boolean_values[:, 0], boolean_values[:, 1])).T"
   ]
  },
  {
   "cell_type": "code",
   "execution_count": 10,
   "metadata": {},
   "outputs": [
    {
     "data": {
      "text/plain": [
       "(array(['last_scraped', 'host_is_superhost', 'host_has_profile_pic',\n",
       "        'host_identity_verified', 'is_location_exact',\n",
       "        'calendar_last_scraped', 'requires_license', 'instant_bookable',\n",
       "        'require_guest_profile_picture',\n",
       "        'require_guest_phone_verification'], dtype='<U32'),\n",
       " array([['2018-11-07', '2018-11-09'],\n",
       "        ['f', 't'],\n",
       "        ['t', 'f'],\n",
       "        ['f', 't'],\n",
       "        ['t', 'f'],\n",
       "        ['2018-11-07', '2018-11-09'],\n",
       "        ['t', 'f'],\n",
       "        ['f', 't'],\n",
       "        ['f', 't'],\n",
       "        ['f', 't']], dtype=object),\n",
       " array(['2018-11-07', 'f', 't', 'f', 't', '2018-11-07', 't', 'f', 'f', 'f'],\n",
       "       dtype=object),\n",
       " array(['2018-11-09', 't', 'f', 't', 'f', '2018-11-09', 'f', 't', 't', 't'],\n",
       "       dtype=object),\n",
       " array([['last_scraped', 'host_is_superhost', 'host_has_profile_pic',\n",
       "         'host_identity_verified', 'is_location_exact',\n",
       "         'calendar_last_scraped', 'requires_license', 'instant_bookable',\n",
       "         'require_guest_profile_picture',\n",
       "         'require_guest_phone_verification'],\n",
       "        ['2018-11-07', 'f', 't', 'f', 't', '2018-11-07', 't', 'f', 'f',\n",
       "         'f'],\n",
       "        ['2018-11-09', 't', 'f', 't', 'f', '2018-11-09', 'f', 't', 't',\n",
       "         't']], dtype=object),\n",
       " array([['last_scraped', '2018-11-07', '2018-11-09'],\n",
       "        ['host_is_superhost', 'f', 't'],\n",
       "        ['host_has_profile_pic', 't', 'f'],\n",
       "        ['host_identity_verified', 'f', 't'],\n",
       "        ['is_location_exact', 't', 'f'],\n",
       "        ['calendar_last_scraped', '2018-11-07', '2018-11-09'],\n",
       "        ['requires_license', 't', 'f'],\n",
       "        ['instant_bookable', 'f', 't'],\n",
       "        ['require_guest_profile_picture', 'f', 't'],\n",
       "        ['require_guest_phone_verification', 'f', 't']], dtype=object))"
      ]
     },
     "execution_count": 10,
     "metadata": {},
     "output_type": "execute_result"
    }
   ],
   "source": [
    "find_booleans(df)"
   ]
  },
  {
   "cell_type": "code",
   "execution_count": 11,
   "metadata": {},
   "outputs": [],
   "source": [
    "import numpy as np\n",
    "def find_booleans(df):\n",
    "    columns = df.columns\n",
    "    boolean_columns = np.array([column for column in columns if len(df[column].value_counts(dropna=True)) == 2])\n",
    "    boolean_values = np.array([df[column] for column in boolean_columns])\n",
    "    columns_and_values = np.stack((boolean_columns, boolean_values[:, 0], boolean_values[:, 1])).T\n",
    "    return columns_and_values"
   ]
  },
  {
   "cell_type": "code",
   "execution_count": 12,
   "metadata": {},
   "outputs": [
    {
     "data": {
      "text/plain": [
       "array([['last_scraped', '2018-11-07', '2018-11-07'],\n",
       "       ['host_is_superhost', 't', 'f'],\n",
       "       ['host_has_profile_pic', 't', 't'],\n",
       "       ['host_identity_verified', 't', 't'],\n",
       "       ['is_location_exact', 'f', 't'],\n",
       "       ['calendar_last_scraped', '2018-11-07', '2018-11-07'],\n",
       "       ['requires_license', 't', 't'],\n",
       "       ['instant_bookable', 'f', 'f'],\n",
       "       ['require_guest_profile_picture', 'f', 'f'],\n",
       "       ['require_guest_phone_verification', 'f', 'f']], dtype=object)"
      ]
     },
     "execution_count": 12,
     "metadata": {},
     "output_type": "execute_result"
    }
   ],
   "source": [
    "find_booleans(df)"
   ]
  },
  {
   "cell_type": "code",
   "execution_count": 13,
   "metadata": {},
   "outputs": [
    {
     "data": {
      "text/plain": [
       "Series([], Name: host_acceptance_rate, dtype: int64)"
      ]
     },
     "execution_count": 13,
     "metadata": {},
     "output_type": "execute_result"
    }
   ],
   "source": [
    "df.host_acceptance_rate.value_counts()"
   ]
  },
  {
   "cell_type": "code",
   "execution_count": 14,
   "metadata": {},
   "outputs": [
    {
     "data": {
      "text/plain": [
       "Float64Index([], dtype='float64')"
      ]
     },
     "execution_count": 14,
     "metadata": {},
     "output_type": "execute_result"
    }
   ],
   "source": [
    "df.host_acceptance_rate.value_counts().index"
   ]
  },
  {
   "cell_type": "code",
   "execution_count": 15,
   "metadata": {},
   "outputs": [
    {
     "data": {
      "text/plain": [
       "RangeIndex(start=0, stop=22552, step=1)"
      ]
     },
     "execution_count": 15,
     "metadata": {},
     "output_type": "execute_result"
    }
   ],
   "source": [
    "df.host_acceptance_rate.index"
   ]
  },
  {
   "cell_type": "code",
   "execution_count": 16,
   "metadata": {},
   "outputs": [
    {
     "data": {
      "text/plain": [
       "0   NaN\n",
       "1   NaN\n",
       "Name: host_acceptance_rate, dtype: float64"
      ]
     },
     "execution_count": 16,
     "metadata": {},
     "output_type": "execute_result"
    }
   ],
   "source": [
    "df.host_acceptance_rate.head(2)"
   ]
  },
  {
   "cell_type": "code",
   "execution_count": 17,
   "metadata": {},
   "outputs": [],
   "source": [
    "boolean_columns = find_booleans(df)"
   ]
  },
  {
   "cell_type": "code",
   "execution_count": 18,
   "metadata": {},
   "outputs": [
    {
     "data": {
      "text/plain": [
       "array([['last_scraped', '2018-11-07', '2018-11-07'],\n",
       "       ['host_is_superhost', 't', 'f'],\n",
       "       ['host_has_profile_pic', 't', 't'],\n",
       "       ['host_identity_verified', 't', 't'],\n",
       "       ['is_location_exact', 'f', 't'],\n",
       "       ['calendar_last_scraped', '2018-11-07', '2018-11-07'],\n",
       "       ['requires_license', 't', 't'],\n",
       "       ['instant_bookable', 'f', 'f'],\n",
       "       ['require_guest_profile_picture', 'f', 'f'],\n",
       "       ['require_guest_phone_verification', 'f', 'f']], dtype=object)"
      ]
     },
     "execution_count": 18,
     "metadata": {},
     "output_type": "execute_result"
    }
   ],
   "source": [
    "boolean_columns"
   ]
  },
  {
   "cell_type": "code",
   "execution_count": 19,
   "metadata": {},
   "outputs": [
    {
     "data": {
      "text/plain": [
       "array(['2018-11-07', 't', 't', 't', 'f', '2018-11-07', 't', 'f', 'f', 'f'],\n",
       "      dtype=object)"
      ]
     },
     "execution_count": 19,
     "metadata": {},
     "output_type": "execute_result"
    }
   ],
   "source": [
    "boolean_columns[:, 1]"
   ]
  },
  {
   "cell_type": "code",
   "execution_count": 20,
   "metadata": {},
   "outputs": [],
   "source": [
    "def select_boolean(df, values = []):\n",
    "    boolean_columns = find_booleans(df)\n",
    "    matches = np.isin(boolean_columns[:, 1], values)\n",
    "    return boolean_columns, matches, boolean_columns[matches]"
   ]
  },
  {
   "cell_type": "code",
   "execution_count": 21,
   "metadata": {},
   "outputs": [
    {
     "data": {
      "text/plain": [
       "(array([['last_scraped', '2018-11-07', '2018-11-07'],\n",
       "        ['host_is_superhost', 't', 'f'],\n",
       "        ['host_has_profile_pic', 't', 't'],\n",
       "        ['host_identity_verified', 't', 't'],\n",
       "        ['is_location_exact', 'f', 't'],\n",
       "        ['calendar_last_scraped', '2018-11-07', '2018-11-07'],\n",
       "        ['requires_license', 't', 't'],\n",
       "        ['instant_bookable', 'f', 'f'],\n",
       "        ['require_guest_profile_picture', 'f', 'f'],\n",
       "        ['require_guest_phone_verification', 'f', 'f']], dtype=object),\n",
       " array([False,  True,  True,  True,  True, False,  True,  True,  True,\n",
       "         True]),\n",
       " array([['host_is_superhost', 't', 'f'],\n",
       "        ['host_has_profile_pic', 't', 't'],\n",
       "        ['host_identity_verified', 't', 't'],\n",
       "        ['is_location_exact', 'f', 't'],\n",
       "        ['requires_license', 't', 't'],\n",
       "        ['instant_bookable', 'f', 'f'],\n",
       "        ['require_guest_profile_picture', 'f', 'f'],\n",
       "        ['require_guest_phone_verification', 'f', 'f']], dtype=object))"
      ]
     },
     "execution_count": 21,
     "metadata": {},
     "output_type": "execute_result"
    }
   ],
   "source": [
    "boolean_values = ['t', 'f']\n",
    "select_boolean(df, boolean_values)"
   ]
  },
  {
   "cell_type": "code",
   "execution_count": 22,
   "metadata": {},
   "outputs": [],
   "source": [
    "def select_booleans(df, values = []):\n",
    "    boolean_columns = find_booleans(df)\n",
    "    matches = np.isin(boolean_columns[:, 1], values)\n",
    "    return boolean_columns[matches]"
   ]
  },
  {
   "cell_type": "code",
   "execution_count": 23,
   "metadata": {},
   "outputs": [
    {
     "data": {
      "text/plain": [
       "array([['host_is_superhost', 't', 'f'],\n",
       "       ['host_has_profile_pic', 't', 't'],\n",
       "       ['host_identity_verified', 't', 't'],\n",
       "       ['is_location_exact', 'f', 't'],\n",
       "       ['requires_license', 't', 't'],\n",
       "       ['instant_bookable', 'f', 'f'],\n",
       "       ['require_guest_profile_picture', 'f', 'f'],\n",
       "       ['require_guest_phone_verification', 'f', 'f']], dtype=object)"
      ]
     },
     "execution_count": 23,
     "metadata": {},
     "output_type": "execute_result"
    }
   ],
   "source": [
    "boolean_values = ['t', 'f']\n",
    "select_booleans(df, boolean_values)"
   ]
  },
  {
   "cell_type": "code",
   "execution_count": 24,
   "metadata": {},
   "outputs": [
    {
     "data": {
      "text/plain": [
       "array(['host_is_superhost', 'host_has_profile_pic',\n",
       "       'host_identity_verified', 'is_location_exact', 'requires_license',\n",
       "       'instant_bookable', 'require_guest_profile_picture',\n",
       "       'require_guest_phone_verification'], dtype=object)"
      ]
     },
     "execution_count": 24,
     "metadata": {},
     "output_type": "execute_result"
    }
   ],
   "source": [
    "select_booleans(df, boolean_values)[:, 0]"
   ]
  },
  {
   "cell_type": "code",
   "execution_count": 25,
   "metadata": {},
   "outputs": [
    {
     "data": {
      "text/plain": [
       "True"
      ]
     },
     "execution_count": 25,
     "metadata": {},
     "output_type": "execute_result"
    }
   ],
   "source": [
    "False == 0"
   ]
  },
  {
   "cell_type": "code",
   "execution_count": 26,
   "metadata": {},
   "outputs": [],
   "source": [
    "boolean_mapping = {'t': 1, 'f': 0}"
   ]
  },
  {
   "cell_type": "code",
   "execution_count": 27,
   "metadata": {},
   "outputs": [
    {
     "data": {
      "text/plain": [
       "dict_keys(['t', 'f'])"
      ]
     },
     "execution_count": 27,
     "metadata": {},
     "output_type": "execute_result"
    }
   ],
   "source": [
    "boolean_mapping.keys()"
   ]
  },
  {
   "cell_type": "code",
   "execution_count": 28,
   "metadata": {},
   "outputs": [
    {
     "data": {
      "text/plain": [
       "dict_values([1, 0])"
      ]
     },
     "execution_count": 28,
     "metadata": {},
     "output_type": "execute_result"
    }
   ],
   "source": [
    "boolean_mapping.values()"
   ]
  },
  {
   "cell_type": "code",
   "execution_count": 29,
   "metadata": {},
   "outputs": [],
   "source": [
    "import numpy as np\n",
    "def to_booleans(df, boolean_mapping):\n",
    "    boolean_values = list(boolean_mapping.keys())\n",
    "    boolean_features = select_booleans(df, boolean_values)[:, 0]\n",
    "    boolean_df = pd.DataFrame({})\n",
    "    for feature in boolean_features:\n",
    "        boolean_df[feature] = df[feature].map(boolean_mapping)\n",
    "    return boolean_df"
   ]
  },
  {
   "cell_type": "code",
   "execution_count": 30,
   "metadata": {},
   "outputs": [
    {
     "data": {
      "text/html": [
       "<div>\n",
       "<style scoped>\n",
       "    .dataframe tbody tr th:only-of-type {\n",
       "        vertical-align: middle;\n",
       "    }\n",
       "\n",
       "    .dataframe tbody tr th {\n",
       "        vertical-align: top;\n",
       "    }\n",
       "\n",
       "    .dataframe thead th {\n",
       "        text-align: right;\n",
       "    }\n",
       "</style>\n",
       "<table border=\"1\" class=\"dataframe\">\n",
       "  <thead>\n",
       "    <tr style=\"text-align: right;\">\n",
       "      <th></th>\n",
       "      <th>host_is_superhost</th>\n",
       "      <th>host_has_profile_pic</th>\n",
       "      <th>host_identity_verified</th>\n",
       "      <th>is_location_exact</th>\n",
       "      <th>requires_license</th>\n",
       "      <th>instant_bookable</th>\n",
       "      <th>require_guest_profile_picture</th>\n",
       "      <th>require_guest_phone_verification</th>\n",
       "    </tr>\n",
       "  </thead>\n",
       "  <tbody>\n",
       "    <tr>\n",
       "      <th>0</th>\n",
       "      <td>1.0</td>\n",
       "      <td>1.0</td>\n",
       "      <td>1.0</td>\n",
       "      <td>0</td>\n",
       "      <td>1</td>\n",
       "      <td>0</td>\n",
       "      <td>0</td>\n",
       "      <td>0</td>\n",
       "    </tr>\n",
       "    <tr>\n",
       "      <th>1</th>\n",
       "      <td>0.0</td>\n",
       "      <td>1.0</td>\n",
       "      <td>1.0</td>\n",
       "      <td>1</td>\n",
       "      <td>1</td>\n",
       "      <td>0</td>\n",
       "      <td>0</td>\n",
       "      <td>0</td>\n",
       "    </tr>\n",
       "    <tr>\n",
       "      <th>2</th>\n",
       "      <td>0.0</td>\n",
       "      <td>1.0</td>\n",
       "      <td>1.0</td>\n",
       "      <td>1</td>\n",
       "      <td>1</td>\n",
       "      <td>1</td>\n",
       "      <td>0</td>\n",
       "      <td>0</td>\n",
       "    </tr>\n",
       "    <tr>\n",
       "      <th>3</th>\n",
       "      <td>0.0</td>\n",
       "      <td>1.0</td>\n",
       "      <td>1.0</td>\n",
       "      <td>1</td>\n",
       "      <td>1</td>\n",
       "      <td>0</td>\n",
       "      <td>0</td>\n",
       "      <td>0</td>\n",
       "    </tr>\n",
       "    <tr>\n",
       "      <th>4</th>\n",
       "      <td>1.0</td>\n",
       "      <td>1.0</td>\n",
       "      <td>1.0</td>\n",
       "      <td>1</td>\n",
       "      <td>1</td>\n",
       "      <td>0</td>\n",
       "      <td>0</td>\n",
       "      <td>0</td>\n",
       "    </tr>\n",
       "  </tbody>\n",
       "</table>\n",
       "</div>"
      ],
      "text/plain": [
       "   host_is_superhost  host_has_profile_pic  host_identity_verified  \\\n",
       "0                1.0                   1.0                     1.0   \n",
       "1                0.0                   1.0                     1.0   \n",
       "2                0.0                   1.0                     1.0   \n",
       "3                0.0                   1.0                     1.0   \n",
       "4                1.0                   1.0                     1.0   \n",
       "\n",
       "   is_location_exact  requires_license  instant_bookable  \\\n",
       "0                  0                 1                 0   \n",
       "1                  1                 1                 0   \n",
       "2                  1                 1                 1   \n",
       "3                  1                 1                 0   \n",
       "4                  1                 1                 0   \n",
       "\n",
       "   require_guest_profile_picture  require_guest_phone_verification  \n",
       "0                              0                                 0  \n",
       "1                              0                                 0  \n",
       "2                              0                                 0  \n",
       "3                              0                                 0  \n",
       "4                              0                                 0  "
      ]
     },
     "execution_count": 30,
     "metadata": {},
     "output_type": "execute_result"
    }
   ],
   "source": [
    "to_booleans(df, boolean_mapping).head()"
   ]
  },
  {
   "cell_type": "code",
   "execution_count": 31,
   "metadata": {},
   "outputs": [
    {
     "data": {
      "text/html": [
       "<div>\n",
       "<style scoped>\n",
       "    .dataframe tbody tr th:only-of-type {\n",
       "        vertical-align: middle;\n",
       "    }\n",
       "\n",
       "    .dataframe tbody tr th {\n",
       "        vertical-align: top;\n",
       "    }\n",
       "\n",
       "    .dataframe thead th {\n",
       "        text-align: right;\n",
       "    }\n",
       "</style>\n",
       "<table border=\"1\" class=\"dataframe\">\n",
       "  <thead>\n",
       "    <tr style=\"text-align: right;\">\n",
       "      <th></th>\n",
       "      <th>host_is_superhost</th>\n",
       "      <th>host_has_profile_pic</th>\n",
       "      <th>host_identity_verified</th>\n",
       "      <th>is_location_exact</th>\n",
       "      <th>requires_license</th>\n",
       "      <th>instant_bookable</th>\n",
       "      <th>require_guest_profile_picture</th>\n",
       "      <th>require_guest_phone_verification</th>\n",
       "    </tr>\n",
       "  </thead>\n",
       "  <tbody>\n",
       "    <tr>\n",
       "      <th>0</th>\n",
       "      <td>1.0</td>\n",
       "      <td>1.0</td>\n",
       "      <td>1.0</td>\n",
       "      <td>0</td>\n",
       "      <td>1</td>\n",
       "      <td>0</td>\n",
       "      <td>0</td>\n",
       "      <td>0</td>\n",
       "    </tr>\n",
       "    <tr>\n",
       "      <th>1</th>\n",
       "      <td>0.0</td>\n",
       "      <td>1.0</td>\n",
       "      <td>1.0</td>\n",
       "      <td>1</td>\n",
       "      <td>1</td>\n",
       "      <td>0</td>\n",
       "      <td>0</td>\n",
       "      <td>0</td>\n",
       "    </tr>\n",
       "  </tbody>\n",
       "</table>\n",
       "</div>"
      ],
      "text/plain": [
       "   host_is_superhost  host_has_profile_pic  host_identity_verified  \\\n",
       "0                1.0                   1.0                     1.0   \n",
       "1                0.0                   1.0                     1.0   \n",
       "\n",
       "   is_location_exact  requires_license  instant_bookable  \\\n",
       "0                  0                 1                 0   \n",
       "1                  1                 1                 0   \n",
       "\n",
       "   require_guest_profile_picture  require_guest_phone_verification  \n",
       "0                              0                                 0  \n",
       "1                              0                                 0  "
      ]
     },
     "execution_count": 31,
     "metadata": {},
     "output_type": "execute_result"
    }
   ],
   "source": [
    "new_boolean_cols = to_booleans(df, boolean_mapping)\n",
    "new_boolean_cols[0:2]"
   ]
  },
  {
   "cell_type": "code",
   "execution_count": 32,
   "metadata": {},
   "outputs": [
    {
     "data": {
      "text/plain": [
       "dtype('float64')"
      ]
     },
     "execution_count": 32,
     "metadata": {},
     "output_type": "execute_result"
    }
   ],
   "source": [
    "new_boolean_cols['host_is_superhost'].dtypes"
   ]
  },
  {
   "cell_type": "code",
   "execution_count": 33,
   "metadata": {},
   "outputs": [
    {
     "name": "stdout",
     "output_type": "stream",
     "text": [
      "<class 'pandas.core.frame.DataFrame'>\n",
      "RangeIndex: 22552 entries, 0 to 22551\n",
      "Data columns (total 8 columns):\n",
      "host_is_superhost                   22526 non-null float64\n",
      "host_has_profile_pic                22526 non-null float64\n",
      "host_identity_verified              22526 non-null float64\n",
      "is_location_exact                   22552 non-null int64\n",
      "requires_license                    22552 non-null int64\n",
      "instant_bookable                    22552 non-null int64\n",
      "require_guest_profile_picture       22552 non-null int64\n",
      "require_guest_phone_verification    22552 non-null int64\n",
      "dtypes: float64(3), int64(5)\n",
      "memory usage: 1.4 MB\n"
     ]
    }
   ],
   "source": [
    "new_boolean_cols.info()"
   ]
  },
  {
   "cell_type": "markdown",
   "metadata": {},
   "source": [
    "### Detecting Almost Binary Features"
   ]
  },
  {
   "cell_type": "code",
   "execution_count": 34,
   "metadata": {},
   "outputs": [],
   "source": [
    "def almost_binary(df):\n",
    "    non_empty_columns = df.dropna(axis=1,how='all').columns\n",
    "    return np.array([df[column].value_counts(normalize=True).values[0] for column in non_empty_columns]).reshape(-1, 1)"
   ]
  },
  {
   "cell_type": "code",
   "execution_count": 35,
   "metadata": {},
   "outputs": [
    {
     "name": "stdout",
     "output_type": "stream",
     "text": [
      "Index(['id', 'listing_url', 'scrape_id', 'last_scraped', 'name', 'summary',\n",
      "       'space', 'description', 'experiences_offered', 'neighborhood_overview',\n",
      "       'notes', 'transit', 'access', 'interaction', 'house_rules',\n",
      "       'picture_url', 'host_id', 'host_url', 'host_name', 'host_since',\n",
      "       'host_location', 'host_about', 'host_response_time',\n",
      "       'host_response_rate', 'host_is_superhost', 'host_thumbnail_url',\n",
      "       'host_picture_url', 'host_neighbourhood', 'host_listings_count',\n",
      "       'host_total_listings_count', 'host_verifications',\n",
      "       'host_has_profile_pic', 'host_identity_verified', 'street',\n",
      "       'neighbourhood', 'neighbourhood_cleansed',\n",
      "       'neighbourhood_group_cleansed', 'city', 'state', 'zipcode', 'market',\n",
      "       'smart_location', 'country_code', 'country', 'latitude', 'longitude',\n",
      "       'is_location_exact', 'property_type', 'room_type', 'accommodates',\n",
      "       'bathrooms', 'bedrooms', 'beds', 'bed_type', 'amenities', 'square_feet',\n",
      "       'price', 'weekly_price', 'monthly_price', 'security_deposit',\n",
      "       'cleaning_fee', 'guests_included', 'extra_people', 'minimum_nights',\n",
      "       'maximum_nights', 'calendar_updated', 'has_availability',\n",
      "       'availability_30', 'availability_60', 'availability_90',\n",
      "       'availability_365', 'calendar_last_scraped', 'number_of_reviews',\n",
      "       'first_review', 'last_review', 'review_scores_rating',\n",
      "       'review_scores_accuracy', 'review_scores_cleanliness',\n",
      "       'review_scores_checkin', 'review_scores_communication',\n",
      "       'review_scores_location', 'review_scores_value', 'requires_license',\n",
      "       'license', 'instant_bookable', 'is_business_travel_ready',\n",
      "       'cancellation_policy', 'require_guest_profile_picture',\n",
      "       'require_guest_phone_verification', 'calculated_host_listings_count',\n",
      "       'reviews_per_month'],\n",
      "      dtype='object')\n",
      "91\n",
      "96\n"
     ]
    }
   ],
   "source": [
    "non_empty_columns = df.dropna(axis=1, how='all').columns\n",
    "print(non_empty_columns)\n",
    "print(len(non_empty_columns))\n",
    "print(len(df.columns))"
   ]
  },
  {
   "cell_type": "code",
   "execution_count": 36,
   "metadata": {},
   "outputs": [
    {
     "name": "stdout",
     "output_type": "stream",
     "text": [
      "10245                    0.039048\n",
      "10247                    0.037998\n",
      "10437                    0.032106\n",
      "10115                    0.030188\n",
      "10997                    0.027311\n",
      "10439                    0.027220\n",
      "10405                    0.026717\n",
      "10999                    0.026215\n",
      "10119                    0.024525\n",
      "10967                    0.022333\n",
      "12049                    0.021328\n",
      "10249                    0.021282\n",
      "12051                    0.021237\n",
      "10243                    0.020415\n",
      "12047                    0.019547\n",
      "10961                    0.019182\n",
      "10435                    0.019136\n",
      "12045                    0.018177\n",
      "12043                    0.017537\n",
      "12053                    0.016944\n",
      "12059                    0.015939\n",
      "10407                    0.015893\n",
      "12055                    0.015208\n",
      "10965                    0.014295\n",
      "13353                    0.014249\n",
      "13357                    0.014158\n",
      "10117                    0.014021\n",
      "10179                    0.012788\n",
      "13347                    0.011418\n",
      "10178                    0.011326\n",
      "10317                    0.011235\n",
      "13359                    0.011007\n",
      "10969                    0.009545\n",
      "10559                    0.009545\n",
      "12435                    0.009271\n",
      "10963                    0.009225\n",
      "10551                    0.009134\n",
      "10829                    0.008677\n",
      "10777                    0.008312\n",
      "10827                    0.007947\n",
      "10555                    0.007627\n",
      "10785                    0.006805\n",
      "10409                    0.006668\n",
      "10557                    0.006348\n",
      "13187                    0.006120\n",
      "13086                    0.005800\n",
      "14059                    0.005754\n",
      "13189                    0.005709\n",
      "10553                    0.005526\n",
      "10781                    0.005480\n",
      "                           ...   \n",
      "12685                    0.000320\n",
      "12627                    0.000320\n",
      "13129                    0.000320\n",
      "12351                    0.000320\n",
      "12165                    0.000320\n",
      "13593                    0.000274\n",
      "12526                    0.000274\n",
      "13059                    0.000228\n",
      "12687                    0.000228\n",
      "13435                    0.000228\n",
      "12349                    0.000183\n",
      "14532                    0.000183\n",
      "13051                    0.000183\n",
      "12629                    0.000183\n",
      "13583                    0.000183\n",
      "12679                    0.000183\n",
      "13505                    0.000183\n",
      "13599                    0.000183\n",
      "13439                    0.000137\n",
      "13589                    0.000137\n",
      "13057                    0.000137\n",
      "14482                    0.000091\n",
      "13597                    0.000091\n",
      "15537                    0.000091\n",
      "10777 Berlin             0.000046\n",
      "14053                    0.000046\n",
      "10997 Kreuzberg          0.000046\n",
      "z. B 13351               0.000046\n",
      "10119 Berlin             0.000046\n",
      "12009                    0.000046\n",
      "6256                     0.000046\n",
      "9244                     0.000046\n",
      "5785                     0.000046\n",
      "3138                     0.000046\n",
      "16761                    0.000046\n",
      "13187 Pankow             0.000046\n",
      "10247, friedrichshain    0.000046\n",
      "10115\\n10115             0.000046\n",
      "15569                    0.000046\n",
      "2439                     0.000046\n",
      "10969\\n10969             0.000046\n",
      "10119\\n10119             0.000046\n",
      "1043                     0.000046\n",
      "10349                    0.000046\n",
      "9248                     0.000046\n",
      "10176                    0.000046\n",
      "15366                    0.000046\n",
      "10436                    0.000046\n",
      "16548                    0.000046\n",
      "2455                     0.000046\n",
      "Name: zipcode, Length: 215, dtype: float64\n",
      "10245                    855\n",
      "10247                    832\n",
      "10437                    703\n",
      "10115                    661\n",
      "10997                    598\n",
      "10439                    596\n",
      "10405                    585\n",
      "10999                    574\n",
      "10119                    537\n",
      "10967                    489\n",
      "12049                    467\n",
      "10249                    466\n",
      "12051                    465\n",
      "10243                    447\n",
      "12047                    428\n",
      "10961                    420\n",
      "10435                    419\n",
      "12045                    398\n",
      "12043                    384\n",
      "12053                    371\n",
      "12059                    349\n",
      "10407                    348\n",
      "12055                    333\n",
      "10965                    313\n",
      "13353                    312\n",
      "13357                    310\n",
      "10117                    307\n",
      "10179                    280\n",
      "13347                    250\n",
      "10178                    248\n",
      "10317                    246\n",
      "13359                    241\n",
      "10969                    209\n",
      "10559                    209\n",
      "12435                    203\n",
      "10963                    202\n",
      "10551                    200\n",
      "10829                    190\n",
      "10777                    182\n",
      "10827                    174\n",
      "10555                    167\n",
      "10785                    149\n",
      "10409                    146\n",
      "10557                    139\n",
      "13187                    134\n",
      "13086                    127\n",
      "14059                    126\n",
      "13189                    125\n",
      "10553                    121\n",
      "10781                    120\n",
      "                        ... \n",
      "12685                      7\n",
      "12627                      7\n",
      "13129                      7\n",
      "12351                      7\n",
      "12165                      7\n",
      "13593                      6\n",
      "12526                      6\n",
      "13059                      5\n",
      "12687                      5\n",
      "13435                      5\n",
      "12349                      4\n",
      "14532                      4\n",
      "13051                      4\n",
      "12629                      4\n",
      "13583                      4\n",
      "12679                      4\n",
      "13505                      4\n",
      "13599                      4\n",
      "13439                      3\n",
      "13589                      3\n",
      "13057                      3\n",
      "14482                      2\n",
      "13597                      2\n",
      "15537                      2\n",
      "10777 Berlin               1\n",
      "14053                      1\n",
      "10997 Kreuzberg            1\n",
      "z. B 13351                 1\n",
      "10119 Berlin               1\n",
      "12009                      1\n",
      "6256                       1\n",
      "9244                       1\n",
      "5785                       1\n",
      "3138                       1\n",
      "16761                      1\n",
      "13187 Pankow               1\n",
      "10247, friedrichshain      1\n",
      "10115\\n10115               1\n",
      "15569                      1\n",
      "2439                       1\n",
      "10969\\n10969               1\n",
      "10119\\n10119               1\n",
      "1043                       1\n",
      "10349                      1\n",
      "9248                       1\n",
      "10176                      1\n",
      "15366                      1\n",
      "10436                      1\n",
      "16548                      1\n",
      "2455                       1\n",
      "Name: zipcode, Length: 215, dtype: int64\n"
     ]
    }
   ],
   "source": [
    "print(df['zipcode'].value_counts(normalize=True))\n",
    "print(df['zipcode'].value_counts())"
   ]
  },
  {
   "cell_type": "code",
   "execution_count": 37,
   "metadata": {},
   "outputs": [
    {
     "data": {
      "text/plain": [
       "(22552, 96)"
      ]
     },
     "execution_count": 37,
     "metadata": {},
     "output_type": "execute_result"
    }
   ],
   "source": [
    "df.shape"
   ]
  },
  {
   "cell_type": "code",
   "execution_count": 38,
   "metadata": {},
   "outputs": [
    {
     "data": {
      "text/plain": [
       "0    10119\n",
       "1    10437\n",
       "2    10405\n",
       "3    10777\n",
       "4    10437\n",
       "Name: zipcode, dtype: object"
      ]
     },
     "execution_count": 38,
     "metadata": {},
     "output_type": "execute_result"
    }
   ],
   "source": [
    "df['zipcode'].head()"
   ]
  },
  {
   "cell_type": "code",
   "execution_count": 39,
   "metadata": {},
   "outputs": [
    {
     "data": {
      "text/plain": [
       "array([0.03904823, 0.03799781, 0.03210632, 0.03018816, 0.02731092])"
      ]
     },
     "execution_count": 39,
     "metadata": {},
     "output_type": "execute_result"
    }
   ],
   "source": [
    "df['zipcode'].value_counts(normalize=True).values[0:5]"
   ]
  },
  {
   "cell_type": "code",
   "execution_count": 40,
   "metadata": {},
   "outputs": [
    {
     "data": {
      "text/plain": [
       "array([[4.43419652e-05],\n",
       "       [4.43419652e-05],\n",
       "       [1.00000000e+00],\n",
       "       [9.99866974e-01],\n",
       "       [6.22415863e-04],\n",
       "       [6.48478392e-04],\n",
       "       [2.92439372e-03],\n",
       "       [5.36936776e-04],\n",
       "       [1.00000000e+00],\n",
       "       [3.72616984e-03],\n",
       "       [5.12820513e-03],\n",
       "       [1.99447683e-03],\n",
       "       [3.87561133e-03],\n",
       "       [4.13223140e-03],\n",
       "       [2.62031618e-03],\n",
       "       [1.33025896e-04],\n",
       "       [1.99538844e-03],\n",
       "       [1.99538844e-03],\n",
       "       [9.58891947e-03],\n",
       "       [2.26405043e-03],\n",
       "       [7.66090212e-01],\n",
       "       [6.34551792e-03],\n",
       "       [5.26092359e-01],\n",
       "       [7.38013876e-01],\n",
       "       [8.66332238e-01],\n",
       "       [2.48601616e-03],\n",
       "       [2.48601616e-03],\n",
       "       [1.46408523e-01],\n",
       "       [7.17082482e-01],\n",
       "       [7.17082482e-01],\n",
       "       [1.81935083e-01],\n",
       "       [9.97513984e-01],\n",
       "       [6.13690846e-01],\n",
       "       [9.89579638e-01],\n",
       "       [1.49806265e-01],\n",
       "       [5.87531039e-02],\n",
       "       [2.43747783e-01],\n",
       "       [9.94234266e-01],\n",
       "       [9.97730105e-01],\n",
       "       [3.90482280e-02],\n",
       "       [9.99733203e-01],\n",
       "       [9.94102519e-01],\n",
       "       [1.00000000e+00],\n",
       "       [1.00000000e+00],\n",
       "       [4.43419652e-05],\n",
       "       [4.43419652e-05],\n",
       "       [7.43880809e-01],\n",
       "       [8.96816247e-01],\n",
       "       [5.11440227e-01],\n",
       "       [5.42213551e-01],\n",
       "       [8.79529307e-01],\n",
       "       [7.61693441e-01],\n",
       "       [6.36549396e-01],\n",
       "       [9.65147215e-01],\n",
       "       [3.32564739e-03],\n",
       "       [2.75784753e-01],\n",
       "       [6.15023058e-02],\n",
       "       [6.30263515e-02],\n",
       "       [5.37796164e-02],\n",
       "       [4.03229475e-01],\n",
       "       [1.21056731e-01],\n",
       "       [7.74698475e-01],\n",
       "       [4.81686768e-01],\n",
       "       [2.59666548e-01],\n",
       "       [4.92683576e-01],\n",
       "       [1.11608726e-01],\n",
       "       [1.00000000e+00],\n",
       "       [6.43357574e-01],\n",
       "       [5.57422845e-01],\n",
       "       [5.19953884e-01],\n",
       "       [4.78361121e-01],\n",
       "       [9.99866974e-01],\n",
       "       [1.72490245e-01],\n",
       "       [6.22384376e-03],\n",
       "       [3.31473933e-02],\n",
       "       [3.32709354e-01],\n",
       "       [7.54438196e-01],\n",
       "       [5.68325892e-01],\n",
       "       [7.90894040e-01],\n",
       "       [8.05393184e-01],\n",
       "       [6.16356713e-01],\n",
       "       [5.53071701e-01],\n",
       "       [9.99645264e-01],\n",
       "       [2.13675214e-02],\n",
       "       [6.88098617e-01],\n",
       "       [1.00000000e+00],\n",
       "       [4.03600568e-01],\n",
       "       [9.93082653e-01],\n",
       "       [9.87628592e-01],\n",
       "       [7.64366797e-01],\n",
       "       [3.34799871e-02]])"
      ]
     },
     "execution_count": 40,
     "metadata": {},
     "output_type": "execute_result"
    }
   ],
   "source": [
    "almost_binary(df)"
   ]
  },
  {
   "cell_type": "code",
   "execution_count": 41,
   "metadata": {},
   "outputs": [
    {
     "data": {
      "text/plain": [
       "91"
      ]
     },
     "execution_count": 41,
     "metadata": {},
     "output_type": "execute_result"
    }
   ],
   "source": [
    "len(almost_binary(df))"
   ]
  },
  {
   "cell_type": "code",
   "execution_count": 42,
   "metadata": {},
   "outputs": [],
   "source": [
    "def summarize_counts(df):\n",
    "    non_empty_columns = df.dropna(axis=1,how='all').columns\n",
    "    frequencies = np.array([df[column].value_counts(normalize=True).values[0] for column in non_empty_columns]).reshape(-1, 1)\n",
    "    columns = np.array(non_empty_columns).reshape(-1, 1)\n",
    "    top_values = np.array([df[column].value_counts(normalize=True).index[0] for column in non_empty_columns]).reshape(-1, 1)\n",
    "    summarize = np.hstack((columns, frequencies, top_values))\n",
    "    return summarize[summarize[:, 1].argsort()[::-1]]"
   ]
  },
  {
   "cell_type": "code",
   "execution_count": 43,
   "metadata": {},
   "outputs": [
    {
     "data": {
      "text/plain": [
       "Index(['10245', '10247', '10437', '10115', '10997', '10439', '10405', '10999',\n",
       "       '10119', '10967',\n",
       "       ...\n",
       "       '10969\\n10969', '10119\\n10119', '1043', '10349', '9248', '10176',\n",
       "       '15366', '10436', '16548', '2455'],\n",
       "      dtype='object', length=215)"
      ]
     },
     "execution_count": 43,
     "metadata": {},
     "output_type": "execute_result"
    }
   ],
   "source": [
    "df['zipcode'].value_counts(normalize=True).index"
   ]
  },
  {
   "cell_type": "code",
   "execution_count": 44,
   "metadata": {},
   "outputs": [
    {
     "data": {
      "text/plain": [
       "array([['country', 1.0, 'Germany'],\n",
       "       ['country_code', 1.0, 'DE'],\n",
       "       ['experiences_offered', 1.0, 'none'],\n",
       "       ['is_business_travel_ready', 1.0, 'f'],\n",
       "       ['has_availability', 1.0, 't'],\n",
       "       ['scrape_id', 1.0, '20181107122246'],\n",
       "       ['last_scraped', 0.9998669741042923, '2018-11-07'],\n",
       "       ['calendar_last_scraped', 0.9998669741042923, '2018-11-07'],\n",
       "       ['market', 0.9997332028991952, 'Berlin'],\n",
       "       ['requires_license', 0.9996452642781128, 't'],\n",
       "       ['state', 0.9977301050382766, 'Berlin'],\n",
       "       ['host_has_profile_pic', 0.997513983840895, 't'],\n",
       "       ['city', 0.9942342661994944, 'Berlin'],\n",
       "       ['smart_location', 0.9941025186236254, 'Berlin, Germany'],\n",
       "       ['require_guest_profile_picture', 0.9930826534231997, 'f'],\n",
       "       ['street', 0.9895796381695636, 'Berlin, Berlin, Germany'],\n",
       "       ['require_guest_phone_verification', 0.9876285916991842, 'f'],\n",
       "       ['bed_type', 0.9651472153245831, 'Real Bed'],\n",
       "       ['property_type', 0.8968162468960624, 'Apartment'],\n",
       "       ['bathrooms', 0.8795293072824156, '1.0'],\n",
       "       ['host_is_superhost', 0.8663322383024061, 'f'],\n",
       "       ['review_scores_communication', 0.805393184074115, '10.0'],\n",
       "       ['review_scores_checkin', 0.7908940397350993, '10.0'],\n",
       "       ['guests_included', 0.7746984746363959, '1'],\n",
       "       ['host_location', 0.7660902121590302, 'Berlin, Berlin, Germany'],\n",
       "       ['calculated_host_listings_count', 0.7643667967364314, '1'],\n",
       "       ['bedrooms', 0.761693441022455, '1.0'],\n",
       "       ['review_scores_accuracy', 0.7544381960524865, '10.0'],\n",
       "       ['is_location_exact', 0.7438808087974459, 't'],\n",
       "       ['host_response_rate', 0.7380138759449104, '100%'],\n",
       "       ['host_listings_count', 0.7170824824647074, '1.0'],\n",
       "       ['host_total_listings_count', 0.7170824824647074, '1.0'],\n",
       "       ['instant_bookable', 0.6880986165306846, 'f'],\n",
       "       ['availability_30', 0.6433575736076623, '0'],\n",
       "       ['beds', 0.636549395877754, '1.0'],\n",
       "       ['review_scores_location', 0.616356713205673, '10.0'],\n",
       "       ['host_identity_verified', 0.613690846133357, 'f'],\n",
       "       ['review_scores_cleanliness', 0.568325891626702, '10.0'],\n",
       "       ['availability_60', 0.5574228449804896, '0'],\n",
       "       ['review_scores_value', 0.5530717006126842, '10.0'],\n",
       "       ['accommodates', 0.5422135509045761, '2'],\n",
       "       ['host_response_time', 0.5260923586663906, 'within an hour'],\n",
       "       ['availability_90', 0.5199538843561546, '0'],\n",
       "       ['room_type', 0.511440227030862, 'Private room'],\n",
       "       ['maximum_nights', 0.49268357573607663, '1125'],\n",
       "       ['extra_people', 0.4816867683575736, '$0.00'],\n",
       "       ['availability_365', 0.47836112096488115, '0'],\n",
       "       ['cancellation_policy', 0.403600567577155, 'flexible'],\n",
       "       ['security_deposit', 0.40322947464180126, '$0.00'],\n",
       "       ['review_scores_rating', 0.33270935418157793, '100.0'],\n",
       "       ['square_feet', 0.2757847533632287, '0.0'],\n",
       "       ['minimum_nights', 0.25966654842142606, '2'],\n",
       "       ['neighbourhood_group_cleansed', 0.2437477829017382,\n",
       "        'Friedrichshain-Kreuzberg'],\n",
       "       ['host_verifications', 0.18193508336289466,\n",
       "        \"['email', 'phone', 'reviews']\"],\n",
       "       ['number_of_reviews', 0.1724902447676481, '0'],\n",
       "       ['neighbourhood', 0.1498062648802577, 'Neukölln'],\n",
       "       ['host_neighbourhood', 0.14640852331309429, 'Neukölln'],\n",
       "       ['cleaning_fee', 0.12105673114371024, '$0.00'],\n",
       "       ['calendar_updated', 0.11160872649875843, 'today'],\n",
       "       ['weekly_price', 0.06302635153490899, '$300.00'],\n",
       "       ['price', 0.06150230578219227, '$30.00'],\n",
       "       ['neighbourhood_cleansed', 0.05875310393756651,\n",
       "        'Tempelhofer Vorstadt'],\n",
       "       ['monthly_price', 0.05377961639714178, '$1,200.00'],\n",
       "       ['zipcode', 0.039048227986846915, '10245'],\n",
       "       ['reviews_per_month', 0.033479987123081874, '0.03'],\n",
       "       ['last_review', 0.03314739326324823, '2018-11-04'],\n",
       "       ['license', 0.021367521367521368, 'HRB155306B'],\n",
       "       ['host_name', 0.009588919470833703, 'Anna'],\n",
       "       ['host_about', 0.006345517919385111, '.'],\n",
       "       ['first_review', 0.006223843760060092, '2017-05-28'],\n",
       "       ['notes', 0.005128205128205128,\n",
       "        'Since 01.01.2014 the city of Berlin had to adopt the so-called city tax of 5%. This is to be paid when you arrive! In addition, 2.00 EUR. per person is also to be paid as a  deposit on the key card. This will be refunded when you check out. - Check out until 10:00 a.m. - No smoking in the house (smoking area available) - Foodstuffs and alcohol are prohibited in the rooms for hygienic reasons - Pets are not allowed - From 10PM is Quiet Time, please respect this - Please respect other people and the staff of the house'],\n",
       "       ['interaction', 0.004132231404958678,\n",
       "        'There is always at least 1 member of staff on duty, who will be happy to help you and answer any questions you may ask!'],\n",
       "       ['access', 0.0038756113315493216,\n",
       "        'We can offer our guests - Pool table/Snooker - Football table - Internet, WIFI free - Printer (0.50 € per page) - Laundry service 5,00 EUR. - Towel: 2,00 EUR. - Padlock: 5,00 EUR. / deposit - Key Card: 2,00 EUR. / deposit - Designated Smoking Area - 24h Bar - Vending Machine - Free Taxi -Call - Free City Maps - Mobile Charging Station - Luggage room for free - Hair Dryer - Iron'],\n",
       "       ['neighborhood_overview', 0.0037261698440207974,\n",
       "        'Welcome Traveler. The Singer Hostel and  Apartment is located right in the center of Berlin. All major attractions are easily accessible and there are plenty of opportunities to have fun in the most trendy suburbs of Berlin - Friedrichshain, Kreuzberg (East Side Gallery, Bars, Clubs, Mercedes Benz Arena, subculture), Prenzlauer Berg (coffee shops, restaurants, shopping streets) and Mitte (tourist attractions).'],\n",
       "       ['amenities', 0.0033256473926924443, '{}'],\n",
       "       ['space', 0.0029243937232524965,\n",
       "        'The Singer 109 Hostel is located in the heart of Berlin, in a former factory building. We offer double rooms and 3-8 bed rooms. The team speaks German and English. (24h Reception and Bar/No Curfew/No Lock Out) Breakfast buffet is served from 07:00 a.m.  - 11:00 a.m.  In the evening, guests can get to know one another over a beer and a chat, during the Happy Hour times. In this time, you can make new friends and plans!'],\n",
       "       ['house_rules', 0.002620316184819635,\n",
       "        '- Most importantly, please have a respectful attitude towards the apartment and neighbors. Please treat my furniture and personal belongings with care and respect the neighbors by keeping noise levels down. I expect to find the apartment in the same condition it was when it was handed over to you. And please respect the non-smoking policy inside the entire building. No guests, pets or parties allowed! - Due to organizational reasons, we can only give you one set of keys. - German law on illegal downloads, streaming and file sharing activities is extremely strict, and enforced very effectively. It is therefore forbidden to engage in any such activities using our internet connection during your stay. We will ask you to cover any legal costs that might arise, should you ignore this rule. Therefore, please use the Wifi carefully on legal sites only and do not stream! Upon arrival, you will need to sign an internet agreement specifying the above-mentioned information, as well as a registrat'],\n",
       "       ['host_thumbnail_url', 0.002486016159105034,\n",
       "        'https://a0.muscache.com/defaults/user_pic-50x50.png?v=3'],\n",
       "       ['host_picture_url', 0.002486016159105034,\n",
       "        'https://a0.muscache.com/defaults/user_pic-225x225.png?v=3'],\n",
       "       ['host_since', 0.0022640504306135133, '2013-08-19'],\n",
       "       ['host_id', 0.0019953884356154663, '1625771'],\n",
       "       ['host_url', 0.0019953884356154663,\n",
       "        'https://www.airbnb.com/users/show/1625771'],\n",
       "       ['transit', 0.0019944768333844736,\n",
       "        'U-Bahn / Underground /Subway / Metro: U5 (Strausberger Platz); S-Bahn / city train: S5; S7; S75 (Jannowitzbrücke) (Alexanderplatz) BUS 142 Bike rental at the TV tower House for car parking at Ostbahnhof: 4,00 EUR. / day House for car parking  at ALEXA: 10,00 EUR. / day'],\n",
       "       ['summary', 0.0006484783917735884,\n",
       "        'with en-suite bathroom, TV, WIFI, bed linen, and storage Breakfast buffet is available for € 5.00 including juices, coffee and tea. The reception is open 24 hours. \"Late Check Out\" is possible after prior agreement! Padlock: 5,00 € deposit Keycard: 2,00 € deposit'],\n",
       "       ['name', 0.000622415862712844, 'Berlin Wohnung'],\n",
       "       ['description', 0.0005369367756946619,\n",
       "        'with en-suite bathroom, TV, WIFI, bed linen, and storage Breakfast buffet is available for € 5.00 including juices, coffee and tea. The reception is open 24 hours. \"Late Check Out\" is possible after prior agreement! Padlock: 5,00 € deposit Keycard: 2,00 € deposit The Singer 109 Hostel is located in the heart of Berlin, in a former factory building. We offer double rooms and 3-8 bed rooms. The team speaks German and English. (24h Reception and Bar/No Curfew/No Lock Out) Breakfast buffet is served from 07:00 a.m.  - 11:00 a.m.  In the evening, guests can get to know one another over a beer and a chat, during the Happy Hour times. In this time, you can make new friends and plans! We can offer our guests - Pool table/Snooker - Football table - Internet, WIFI free - Printer (0.50 € per page) - Laundry service 5,00 EUR. - Towel: 2,00 EUR. - Padlock: 5,00 EUR. / deposit - Key Card: 2,00 EUR. / deposit - Designated Smoking Area - 24h Bar - Vending Machine - Free Taxi -Call - Free City Maps - M'],\n",
       "       ['picture_url', 0.00013302589570769776,\n",
       "        'https://a0.muscache.com/im/pictures/44d0c12a-5ad0-426f-b10d-07b19772fe0d.jpg?aki_policy=large'],\n",
       "       ['listing_url', 4.434196523589925e-05,\n",
       "        'https://www.airbnb.com/rooms/17413763'],\n",
       "       ['longitude', 4.434196523589925e-05, '13.459427015984321'],\n",
       "       ['latitude', 4.434196523589925e-05, '52.49348691021517'],\n",
       "       ['id', 4.434196523589925e-05, '16322558']], dtype=object)"
      ]
     },
     "execution_count": 44,
     "metadata": {},
     "output_type": "execute_result"
    }
   ],
   "source": [
    "summarize_counts(df)"
   ]
  },
  {
   "cell_type": "code",
   "execution_count": 45,
   "metadata": {},
   "outputs": [],
   "source": [
    "summary = summarize_counts(df)"
   ]
  },
  {
   "cell_type": "code",
   "execution_count": 46,
   "metadata": {},
   "outputs": [
    {
     "data": {
      "text/plain": [
       "array([['country', 1.0, 'Germany'],\n",
       "       ['country_code', 1.0, 'DE'],\n",
       "       ['experiences_offered', 1.0, 'none'],\n",
       "       ['is_business_travel_ready', 1.0, 'f'],\n",
       "       ['has_availability', 1.0, 't'],\n",
       "       ['scrape_id', 1.0, '20181107122246'],\n",
       "       ['last_scraped', 0.9998669741042923, '2018-11-07'],\n",
       "       ['calendar_last_scraped', 0.9998669741042923, '2018-11-07'],\n",
       "       ['market', 0.9997332028991952, 'Berlin'],\n",
       "       ['requires_license', 0.9996452642781128, 't'],\n",
       "       ['state', 0.9977301050382766, 'Berlin'],\n",
       "       ['host_has_profile_pic', 0.997513983840895, 't'],\n",
       "       ['city', 0.9942342661994944, 'Berlin'],\n",
       "       ['smart_location', 0.9941025186236254, 'Berlin, Germany'],\n",
       "       ['require_guest_profile_picture', 0.9930826534231997, 'f'],\n",
       "       ['street', 0.9895796381695636, 'Berlin, Berlin, Germany'],\n",
       "       ['require_guest_phone_verification', 0.9876285916991842, 'f'],\n",
       "       ['bed_type', 0.9651472153245831, 'Real Bed'],\n",
       "       ['property_type', 0.8968162468960624, 'Apartment'],\n",
       "       ['bathrooms', 0.8795293072824156, '1.0'],\n",
       "       ['host_is_superhost', 0.8663322383024061, 'f'],\n",
       "       ['review_scores_communication', 0.805393184074115, '10.0'],\n",
       "       ['review_scores_checkin', 0.7908940397350993, '10.0'],\n",
       "       ['guests_included', 0.7746984746363959, '1'],\n",
       "       ['host_location', 0.7660902121590302, 'Berlin, Berlin, Germany'],\n",
       "       ['calculated_host_listings_count', 0.7643667967364314, '1'],\n",
       "       ['bedrooms', 0.761693441022455, '1.0'],\n",
       "       ['review_scores_accuracy', 0.7544381960524865, '10.0'],\n",
       "       ['is_location_exact', 0.7438808087974459, 't'],\n",
       "       ['host_response_rate', 0.7380138759449104, '100%'],\n",
       "       ['host_listings_count', 0.7170824824647074, '1.0'],\n",
       "       ['host_total_listings_count', 0.7170824824647074, '1.0'],\n",
       "       ['instant_bookable', 0.6880986165306846, 'f'],\n",
       "       ['availability_30', 0.6433575736076623, '0'],\n",
       "       ['beds', 0.636549395877754, '1.0'],\n",
       "       ['review_scores_location', 0.616356713205673, '10.0'],\n",
       "       ['host_identity_verified', 0.613690846133357, 'f'],\n",
       "       ['review_scores_cleanliness', 0.568325891626702, '10.0'],\n",
       "       ['availability_60', 0.5574228449804896, '0'],\n",
       "       ['review_scores_value', 0.5530717006126842, '10.0'],\n",
       "       ['accommodates', 0.5422135509045761, '2'],\n",
       "       ['host_response_time', 0.5260923586663906, 'within an hour'],\n",
       "       ['availability_90', 0.5199538843561546, '0'],\n",
       "       ['room_type', 0.511440227030862, 'Private room'],\n",
       "       ['maximum_nights', 0.49268357573607663, '1125'],\n",
       "       ['extra_people', 0.4816867683575736, '$0.00'],\n",
       "       ['availability_365', 0.47836112096488115, '0'],\n",
       "       ['cancellation_policy', 0.403600567577155, 'flexible'],\n",
       "       ['security_deposit', 0.40322947464180126, '$0.00'],\n",
       "       ['review_scores_rating', 0.33270935418157793, '100.0'],\n",
       "       ['square_feet', 0.2757847533632287, '0.0'],\n",
       "       ['minimum_nights', 0.25966654842142606, '2'],\n",
       "       ['neighbourhood_group_cleansed', 0.2437477829017382,\n",
       "        'Friedrichshain-Kreuzberg'],\n",
       "       ['host_verifications', 0.18193508336289466,\n",
       "        \"['email', 'phone', 'reviews']\"],\n",
       "       ['number_of_reviews', 0.1724902447676481, '0'],\n",
       "       ['neighbourhood', 0.1498062648802577, 'Neukölln'],\n",
       "       ['host_neighbourhood', 0.14640852331309429, 'Neukölln'],\n",
       "       ['cleaning_fee', 0.12105673114371024, '$0.00'],\n",
       "       ['calendar_updated', 0.11160872649875843, 'today'],\n",
       "       ['weekly_price', 0.06302635153490899, '$300.00'],\n",
       "       ['price', 0.06150230578219227, '$30.00'],\n",
       "       ['neighbourhood_cleansed', 0.05875310393756651,\n",
       "        'Tempelhofer Vorstadt'],\n",
       "       ['monthly_price', 0.05377961639714178, '$1,200.00'],\n",
       "       ['zipcode', 0.039048227986846915, '10245'],\n",
       "       ['reviews_per_month', 0.033479987123081874, '0.03'],\n",
       "       ['last_review', 0.03314739326324823, '2018-11-04'],\n",
       "       ['license', 0.021367521367521368, 'HRB155306B'],\n",
       "       ['host_name', 0.009588919470833703, 'Anna'],\n",
       "       ['host_about', 0.006345517919385111, '.'],\n",
       "       ['first_review', 0.006223843760060092, '2017-05-28'],\n",
       "       ['notes', 0.005128205128205128,\n",
       "        'Since 01.01.2014 the city of Berlin had to adopt the so-called city tax of 5%. This is to be paid when you arrive! In addition, 2.00 EUR. per person is also to be paid as a  deposit on the key card. This will be refunded when you check out. - Check out until 10:00 a.m. - No smoking in the house (smoking area available) - Foodstuffs and alcohol are prohibited in the rooms for hygienic reasons - Pets are not allowed - From 10PM is Quiet Time, please respect this - Please respect other people and the staff of the house'],\n",
       "       ['interaction', 0.004132231404958678,\n",
       "        'There is always at least 1 member of staff on duty, who will be happy to help you and answer any questions you may ask!'],\n",
       "       ['access', 0.0038756113315493216,\n",
       "        'We can offer our guests - Pool table/Snooker - Football table - Internet, WIFI free - Printer (0.50 € per page) - Laundry service 5,00 EUR. - Towel: 2,00 EUR. - Padlock: 5,00 EUR. / deposit - Key Card: 2,00 EUR. / deposit - Designated Smoking Area - 24h Bar - Vending Machine - Free Taxi -Call - Free City Maps - Mobile Charging Station - Luggage room for free - Hair Dryer - Iron'],\n",
       "       ['neighborhood_overview', 0.0037261698440207974,\n",
       "        'Welcome Traveler. The Singer Hostel and  Apartment is located right in the center of Berlin. All major attractions are easily accessible and there are plenty of opportunities to have fun in the most trendy suburbs of Berlin - Friedrichshain, Kreuzberg (East Side Gallery, Bars, Clubs, Mercedes Benz Arena, subculture), Prenzlauer Berg (coffee shops, restaurants, shopping streets) and Mitte (tourist attractions).'],\n",
       "       ['amenities', 0.0033256473926924443, '{}'],\n",
       "       ['space', 0.0029243937232524965,\n",
       "        'The Singer 109 Hostel is located in the heart of Berlin, in a former factory building. We offer double rooms and 3-8 bed rooms. The team speaks German and English. (24h Reception and Bar/No Curfew/No Lock Out) Breakfast buffet is served from 07:00 a.m.  - 11:00 a.m.  In the evening, guests can get to know one another over a beer and a chat, during the Happy Hour times. In this time, you can make new friends and plans!'],\n",
       "       ['house_rules', 0.002620316184819635,\n",
       "        '- Most importantly, please have a respectful attitude towards the apartment and neighbors. Please treat my furniture and personal belongings with care and respect the neighbors by keeping noise levels down. I expect to find the apartment in the same condition it was when it was handed over to you. And please respect the non-smoking policy inside the entire building. No guests, pets or parties allowed! - Due to organizational reasons, we can only give you one set of keys. - German law on illegal downloads, streaming and file sharing activities is extremely strict, and enforced very effectively. It is therefore forbidden to engage in any such activities using our internet connection during your stay. We will ask you to cover any legal costs that might arise, should you ignore this rule. Therefore, please use the Wifi carefully on legal sites only and do not stream! Upon arrival, you will need to sign an internet agreement specifying the above-mentioned information, as well as a registrat'],\n",
       "       ['host_thumbnail_url', 0.002486016159105034,\n",
       "        'https://a0.muscache.com/defaults/user_pic-50x50.png?v=3'],\n",
       "       ['host_picture_url', 0.002486016159105034,\n",
       "        'https://a0.muscache.com/defaults/user_pic-225x225.png?v=3'],\n",
       "       ['host_since', 0.0022640504306135133, '2013-08-19'],\n",
       "       ['host_id', 0.0019953884356154663, '1625771'],\n",
       "       ['host_url', 0.0019953884356154663,\n",
       "        'https://www.airbnb.com/users/show/1625771'],\n",
       "       ['transit', 0.0019944768333844736,\n",
       "        'U-Bahn / Underground /Subway / Metro: U5 (Strausberger Platz); S-Bahn / city train: S5; S7; S75 (Jannowitzbrücke) (Alexanderplatz) BUS 142 Bike rental at the TV tower House for car parking at Ostbahnhof: 4,00 EUR. / day House for car parking  at ALEXA: 10,00 EUR. / day'],\n",
       "       ['summary', 0.0006484783917735884,\n",
       "        'with en-suite bathroom, TV, WIFI, bed linen, and storage Breakfast buffet is available for € 5.00 including juices, coffee and tea. The reception is open 24 hours. \"Late Check Out\" is possible after prior agreement! Padlock: 5,00 € deposit Keycard: 2,00 € deposit'],\n",
       "       ['name', 0.000622415862712844, 'Berlin Wohnung'],\n",
       "       ['description', 0.0005369367756946619,\n",
       "        'with en-suite bathroom, TV, WIFI, bed linen, and storage Breakfast buffet is available for € 5.00 including juices, coffee and tea. The reception is open 24 hours. \"Late Check Out\" is possible after prior agreement! Padlock: 5,00 € deposit Keycard: 2,00 € deposit The Singer 109 Hostel is located in the heart of Berlin, in a former factory building. We offer double rooms and 3-8 bed rooms. The team speaks German and English. (24h Reception and Bar/No Curfew/No Lock Out) Breakfast buffet is served from 07:00 a.m.  - 11:00 a.m.  In the evening, guests can get to know one another over a beer and a chat, during the Happy Hour times. In this time, you can make new friends and plans! We can offer our guests - Pool table/Snooker - Football table - Internet, WIFI free - Printer (0.50 € per page) - Laundry service 5,00 EUR. - Towel: 2,00 EUR. - Padlock: 5,00 EUR. / deposit - Key Card: 2,00 EUR. / deposit - Designated Smoking Area - 24h Bar - Vending Machine - Free Taxi -Call - Free City Maps - M'],\n",
       "       ['picture_url', 0.00013302589570769776,\n",
       "        'https://a0.muscache.com/im/pictures/44d0c12a-5ad0-426f-b10d-07b19772fe0d.jpg?aki_policy=large'],\n",
       "       ['listing_url', 4.434196523589925e-05,\n",
       "        'https://www.airbnb.com/rooms/17413763'],\n",
       "       ['longitude', 4.434196523589925e-05, '13.459427015984321'],\n",
       "       ['latitude', 4.434196523589925e-05, '52.49348691021517'],\n",
       "       ['id', 4.434196523589925e-05, '16322558']], dtype=object)"
      ]
     },
     "execution_count": 46,
     "metadata": {},
     "output_type": "execute_result"
    }
   ],
   "source": [
    "summary"
   ]
  },
  {
   "cell_type": "code",
   "execution_count": 47,
   "metadata": {},
   "outputs": [],
   "source": [
    "def almost_binary(df, threshold = .95):\n",
    "    return np.array([np.array([cat, top]) for cat, frequency, top in summarize_counts(df) if 1.0 > frequency > threshold])"
   ]
  },
  {
   "cell_type": "code",
   "execution_count": 48,
   "metadata": {},
   "outputs": [],
   "source": [
    "almost_bin_feats = almost_binary(df)"
   ]
  },
  {
   "cell_type": "code",
   "execution_count": 49,
   "metadata": {},
   "outputs": [
    {
     "data": {
      "text/plain": [
       "array([['last_scraped', '2018-11-07'],\n",
       "       ['calendar_last_scraped', '2018-11-07'],\n",
       "       ['market', 'Berlin'],\n",
       "       ['requires_license', 't'],\n",
       "       ['state', 'Berlin'],\n",
       "       ['host_has_profile_pic', 't'],\n",
       "       ['city', 'Berlin'],\n",
       "       ['smart_location', 'Berlin, Germany'],\n",
       "       ['require_guest_profile_picture', 'f'],\n",
       "       ['street', 'Berlin, Berlin, Germany'],\n",
       "       ['require_guest_phone_verification', 'f'],\n",
       "       ['bed_type', 'Real Bed']], dtype='<U32')"
      ]
     },
     "execution_count": 49,
     "metadata": {},
     "output_type": "execute_result"
    }
   ],
   "source": [
    "almost_bin_feats"
   ]
  },
  {
   "cell_type": "code",
   "execution_count": 50,
   "metadata": {},
   "outputs": [],
   "source": [
    "def remove_punctuation(string):\n",
    "    return string.strip().lower().replace(' ', '_').replace('(', '').replace(')', '').replace(',', '')"
   ]
  },
  {
   "cell_type": "code",
   "execution_count": 51,
   "metadata": {},
   "outputs": [],
   "source": [
    "def matrix_new_features(df):\n",
    "    bin_feats = almost_binary(df)\n",
    "    new_bin_feats = np.array(['{column}_is_{top}'.format(column = column, top = remove_punctuation(top)) for column, top in bin_feats])\n",
    "    return np.hstack((bin_feats[:, 0].reshape(-1, 1), bin_feats[:, 1].reshape(-1, 1), new_bin_feats.reshape(-1, 1)))"
   ]
  },
  {
   "cell_type": "code",
   "execution_count": 52,
   "metadata": {},
   "outputs": [],
   "source": [
    "potential_new_features = matrix_new_features(df)"
   ]
  },
  {
   "cell_type": "code",
   "execution_count": 53,
   "metadata": {},
   "outputs": [
    {
     "data": {
      "text/plain": [
       "array([['last_scraped', '2018-11-07', 'last_scraped_is_2018-11-07'],\n",
       "       ['calendar_last_scraped', '2018-11-07',\n",
       "        'calendar_last_scraped_is_2018-11-07'],\n",
       "       ['market', 'Berlin', 'market_is_berlin'],\n",
       "       ['requires_license', 't', 'requires_license_is_t'],\n",
       "       ['state', 'Berlin', 'state_is_berlin'],\n",
       "       ['host_has_profile_pic', 't', 'host_has_profile_pic_is_t'],\n",
       "       ['city', 'Berlin', 'city_is_berlin'],\n",
       "       ['smart_location', 'Berlin, Germany',\n",
       "        'smart_location_is_berlin_germany'],\n",
       "       ['require_guest_profile_picture', 'f',\n",
       "        'require_guest_profile_picture_is_f'],\n",
       "       ['street', 'Berlin, Berlin, Germany',\n",
       "        'street_is_berlin_berlin_germany'],\n",
       "       ['require_guest_phone_verification', 'f',\n",
       "        'require_guest_phone_verification_is_f'],\n",
       "       ['bed_type', 'Real Bed', 'bed_type_is_real_bed']], dtype='<U37')"
      ]
     },
     "execution_count": 53,
     "metadata": {},
     "output_type": "execute_result"
    }
   ],
   "source": [
    "potential_new_features"
   ]
  },
  {
   "cell_type": "code",
   "execution_count": 54,
   "metadata": {},
   "outputs": [],
   "source": [
    "def booleans_without_top_values(df, not_values):\n",
    "    potential_new_features = matrix_new_features(df)\n",
    "    not_tf = ~np.isin(potential_new_features[:, 1], not_values)\n",
    "    return potential_new_features[not_tf]"
   ]
  },
  {
   "cell_type": "code",
   "execution_count": 55,
   "metadata": {},
   "outputs": [
    {
     "data": {
      "text/plain": [
       "array([False, False,  True, False,  True, False,  True,  True, False,\n",
       "        True, False,  True])"
      ]
     },
     "execution_count": 55,
     "metadata": {},
     "output_type": "execute_result"
    }
   ],
   "source": [
    "not_values = ['t', 'f', '2018-11-07']\n",
    "not_tf = ~np.isin(potential_new_features[:, 1], not_values)\n",
    "not_tf"
   ]
  },
  {
   "cell_type": "code",
   "execution_count": 56,
   "metadata": {},
   "outputs": [],
   "source": [
    "selected_booleans = booleans_without_top_values(df, ['t', 'f', '2018-11-07'])"
   ]
  },
  {
   "cell_type": "code",
   "execution_count": 57,
   "metadata": {},
   "outputs": [
    {
     "data": {
      "text/plain": [
       "array([['market', 'Berlin', 'market_is_berlin'],\n",
       "       ['state', 'Berlin', 'state_is_berlin'],\n",
       "       ['city', 'Berlin', 'city_is_berlin'],\n",
       "       ['smart_location', 'Berlin, Germany',\n",
       "        'smart_location_is_berlin_germany'],\n",
       "       ['street', 'Berlin, Berlin, Germany',\n",
       "        'street_is_berlin_berlin_germany'],\n",
       "       ['bed_type', 'Real Bed', 'bed_type_is_real_bed']], dtype='<U37')"
      ]
     },
     "execution_count": 57,
     "metadata": {},
     "output_type": "execute_result"
    }
   ],
   "source": [
    "selected_booleans"
   ]
  },
  {
   "cell_type": "code",
   "execution_count": 58,
   "metadata": {},
   "outputs": [
    {
     "name": "stdout",
     "output_type": "stream",
     "text": [
      "['market' 'state' 'city' 'smart_location' 'street' 'bed_type']\n"
     ]
    },
    {
     "data": {
      "text/html": [
       "<div>\n",
       "<style scoped>\n",
       "    .dataframe tbody tr th:only-of-type {\n",
       "        vertical-align: middle;\n",
       "    }\n",
       "\n",
       "    .dataframe tbody tr th {\n",
       "        vertical-align: top;\n",
       "    }\n",
       "\n",
       "    .dataframe thead th {\n",
       "        text-align: right;\n",
       "    }\n",
       "</style>\n",
       "<table border=\"1\" class=\"dataframe\">\n",
       "  <thead>\n",
       "    <tr style=\"text-align: right;\">\n",
       "      <th></th>\n",
       "      <th>market</th>\n",
       "      <th>state</th>\n",
       "      <th>city</th>\n",
       "      <th>smart_location</th>\n",
       "      <th>street</th>\n",
       "      <th>bed_type</th>\n",
       "    </tr>\n",
       "  </thead>\n",
       "  <tbody>\n",
       "    <tr>\n",
       "      <th>0</th>\n",
       "      <td>Berlin</td>\n",
       "      <td>Berlin</td>\n",
       "      <td>Berlin</td>\n",
       "      <td>Berlin, Germany</td>\n",
       "      <td>Berlin, Berlin, Germany</td>\n",
       "      <td>Real Bed</td>\n",
       "    </tr>\n",
       "    <tr>\n",
       "      <th>1</th>\n",
       "      <td>Berlin</td>\n",
       "      <td>Berlin</td>\n",
       "      <td>Berlin</td>\n",
       "      <td>Berlin, Germany</td>\n",
       "      <td>Berlin, Berlin, Germany</td>\n",
       "      <td>Real Bed</td>\n",
       "    </tr>\n",
       "    <tr>\n",
       "      <th>2</th>\n",
       "      <td>Berlin</td>\n",
       "      <td>Berlin</td>\n",
       "      <td>Berlin</td>\n",
       "      <td>Berlin, Germany</td>\n",
       "      <td>Berlin, Berlin, Germany</td>\n",
       "      <td>Real Bed</td>\n",
       "    </tr>\n",
       "  </tbody>\n",
       "</table>\n",
       "</div>"
      ],
      "text/plain": [
       "   market   state    city   smart_location                   street  bed_type\n",
       "0  Berlin  Berlin  Berlin  Berlin, Germany  Berlin, Berlin, Germany  Real Bed\n",
       "1  Berlin  Berlin  Berlin  Berlin, Germany  Berlin, Berlin, Germany  Real Bed\n",
       "2  Berlin  Berlin  Berlin  Berlin, Germany  Berlin, Berlin, Germany  Real Bed"
      ]
     },
     "execution_count": 58,
     "metadata": {},
     "output_type": "execute_result"
    }
   ],
   "source": [
    "selected_bool_cols = selected_booleans[:, 0]\n",
    "selected_booleans_df = df[selected_bool_cols]\n",
    "print(selected_bool_cols)\n",
    "selected_booleans_df.head(3)"
   ]
  },
  {
   "cell_type": "code",
   "execution_count": 59,
   "metadata": {},
   "outputs": [],
   "source": [
    "def almost_to_boolean(df):\n",
    "    columns_to_replace = matrix_new_features(df)[:, 0]\n",
    "    values_to_replace = matrix_new_features(df)[:, 1]\n",
    "    new_column_names = matrix_new_features(df)[:, 2]\n",
    "    to_replace_df = pd.DataFrame({})\n",
    "    for column, value, new_name in zip(columns_to_replace, values_to_replace, new_column_names):\n",
    "        bool_column = np.where(df[column] == value,1,0)\n",
    "        to_replace_df[new_name] = bool_column\n",
    "    return to_replace_df"
   ]
  },
  {
   "cell_type": "code",
   "execution_count": 60,
   "metadata": {},
   "outputs": [
    {
     "name": "stdout",
     "output_type": "stream",
     "text": [
      "[('last_scraped', '2018-11-07', 'last_scraped_is_2018-11-07'), ('calendar_last_scraped', '2018-11-07', 'calendar_last_scraped_is_2018-11-07'), ('market', 'Berlin', 'market_is_berlin'), ('requires_license', 't', 'requires_license_is_t'), ('state', 'Berlin', 'state_is_berlin'), ('host_has_profile_pic', 't', 'host_has_profile_pic_is_t'), ('city', 'Berlin', 'city_is_berlin'), ('smart_location', 'Berlin, Germany', 'smart_location_is_berlin_germany'), ('require_guest_profile_picture', 'f', 'require_guest_profile_picture_is_f'), ('street', 'Berlin, Berlin, Germany', 'street_is_berlin_berlin_germany'), ('require_guest_phone_verification', 'f', 'require_guest_phone_verification_is_f'), ('bed_type', 'Real Bed', 'bed_type_is_real_bed')]\n"
     ]
    }
   ],
   "source": [
    "columns_to_replace = matrix_new_features(df)[:, 0]\n",
    "values_to_replace = matrix_new_features(df)[:, 1]\n",
    "new_column_names = matrix_new_features(df)[:, 2]\n",
    "\n",
    "print(list(zip(columns_to_replace, values_to_replace, new_column_names)))"
   ]
  },
  {
   "cell_type": "code",
   "execution_count": 61,
   "metadata": {},
   "outputs": [],
   "source": [
    "almost = almost_to_boolean(selected_booleans_df)"
   ]
  },
  {
   "cell_type": "code",
   "execution_count": 62,
   "metadata": {},
   "outputs": [
    {
     "data": {
      "text/html": [
       "<div>\n",
       "<style scoped>\n",
       "    .dataframe tbody tr th:only-of-type {\n",
       "        vertical-align: middle;\n",
       "    }\n",
       "\n",
       "    .dataframe tbody tr th {\n",
       "        vertical-align: top;\n",
       "    }\n",
       "\n",
       "    .dataframe thead th {\n",
       "        text-align: right;\n",
       "    }\n",
       "</style>\n",
       "<table border=\"1\" class=\"dataframe\">\n",
       "  <thead>\n",
       "    <tr style=\"text-align: right;\">\n",
       "      <th></th>\n",
       "      <th>market_is_berlin</th>\n",
       "      <th>state_is_berlin</th>\n",
       "      <th>city_is_berlin</th>\n",
       "      <th>smart_location_is_berlin_germany</th>\n",
       "      <th>street_is_berlin_berlin_germany</th>\n",
       "      <th>bed_type_is_real_bed</th>\n",
       "    </tr>\n",
       "  </thead>\n",
       "  <tbody>\n",
       "    <tr>\n",
       "      <th>0</th>\n",
       "      <td>1</td>\n",
       "      <td>1</td>\n",
       "      <td>1</td>\n",
       "      <td>1</td>\n",
       "      <td>1</td>\n",
       "      <td>1</td>\n",
       "    </tr>\n",
       "    <tr>\n",
       "      <th>1</th>\n",
       "      <td>1</td>\n",
       "      <td>1</td>\n",
       "      <td>1</td>\n",
       "      <td>1</td>\n",
       "      <td>1</td>\n",
       "      <td>1</td>\n",
       "    </tr>\n",
       "    <tr>\n",
       "      <th>2</th>\n",
       "      <td>1</td>\n",
       "      <td>1</td>\n",
       "      <td>1</td>\n",
       "      <td>1</td>\n",
       "      <td>1</td>\n",
       "      <td>1</td>\n",
       "    </tr>\n",
       "    <tr>\n",
       "      <th>3</th>\n",
       "      <td>1</td>\n",
       "      <td>1</td>\n",
       "      <td>1</td>\n",
       "      <td>1</td>\n",
       "      <td>1</td>\n",
       "      <td>0</td>\n",
       "    </tr>\n",
       "    <tr>\n",
       "      <th>4</th>\n",
       "      <td>1</td>\n",
       "      <td>1</td>\n",
       "      <td>1</td>\n",
       "      <td>1</td>\n",
       "      <td>1</td>\n",
       "      <td>1</td>\n",
       "    </tr>\n",
       "    <tr>\n",
       "      <th>5</th>\n",
       "      <td>1</td>\n",
       "      <td>1</td>\n",
       "      <td>1</td>\n",
       "      <td>1</td>\n",
       "      <td>1</td>\n",
       "      <td>1</td>\n",
       "    </tr>\n",
       "    <tr>\n",
       "      <th>6</th>\n",
       "      <td>1</td>\n",
       "      <td>1</td>\n",
       "      <td>1</td>\n",
       "      <td>1</td>\n",
       "      <td>1</td>\n",
       "      <td>1</td>\n",
       "    </tr>\n",
       "    <tr>\n",
       "      <th>7</th>\n",
       "      <td>1</td>\n",
       "      <td>1</td>\n",
       "      <td>1</td>\n",
       "      <td>1</td>\n",
       "      <td>1</td>\n",
       "      <td>1</td>\n",
       "    </tr>\n",
       "    <tr>\n",
       "      <th>8</th>\n",
       "      <td>1</td>\n",
       "      <td>1</td>\n",
       "      <td>1</td>\n",
       "      <td>1</td>\n",
       "      <td>1</td>\n",
       "      <td>1</td>\n",
       "    </tr>\n",
       "    <tr>\n",
       "      <th>9</th>\n",
       "      <td>1</td>\n",
       "      <td>1</td>\n",
       "      <td>1</td>\n",
       "      <td>1</td>\n",
       "      <td>1</td>\n",
       "      <td>1</td>\n",
       "    </tr>\n",
       "    <tr>\n",
       "      <th>10</th>\n",
       "      <td>1</td>\n",
       "      <td>0</td>\n",
       "      <td>1</td>\n",
       "      <td>1</td>\n",
       "      <td>0</td>\n",
       "      <td>1</td>\n",
       "    </tr>\n",
       "  </tbody>\n",
       "</table>\n",
       "</div>"
      ],
      "text/plain": [
       "    market_is_berlin  state_is_berlin  city_is_berlin  \\\n",
       "0                  1                1               1   \n",
       "1                  1                1               1   \n",
       "2                  1                1               1   \n",
       "3                  1                1               1   \n",
       "4                  1                1               1   \n",
       "5                  1                1               1   \n",
       "6                  1                1               1   \n",
       "7                  1                1               1   \n",
       "8                  1                1               1   \n",
       "9                  1                1               1   \n",
       "10                 1                0               1   \n",
       "\n",
       "    smart_location_is_berlin_germany  street_is_berlin_berlin_germany  \\\n",
       "0                                  1                                1   \n",
       "1                                  1                                1   \n",
       "2                                  1                                1   \n",
       "3                                  1                                1   \n",
       "4                                  1                                1   \n",
       "5                                  1                                1   \n",
       "6                                  1                                1   \n",
       "7                                  1                                1   \n",
       "8                                  1                                1   \n",
       "9                                  1                                1   \n",
       "10                                 1                                0   \n",
       "\n",
       "    bed_type_is_real_bed  \n",
       "0                      1  \n",
       "1                      1  \n",
       "2                      1  \n",
       "3                      0  \n",
       "4                      1  \n",
       "5                      1  \n",
       "6                      1  \n",
       "7                      1  \n",
       "8                      1  \n",
       "9                      1  \n",
       "10                     1  "
      ]
     },
     "execution_count": 62,
     "metadata": {},
     "output_type": "execute_result"
    }
   ],
   "source": [
    "almost.head(11)"
   ]
  },
  {
   "cell_type": "code",
   "execution_count": 63,
   "metadata": {},
   "outputs": [
    {
     "data": {
      "text/plain": [
       "market_is_berlin                    int32\n",
       "state_is_berlin                     int32\n",
       "city_is_berlin                      int32\n",
       "smart_location_is_berlin_germany    int32\n",
       "street_is_berlin_berlin_germany     int32\n",
       "bed_type_is_real_bed                int32\n",
       "dtype: object"
      ]
     },
     "execution_count": 63,
     "metadata": {},
     "output_type": "execute_result"
    }
   ],
   "source": [
    "almost.dtypes"
   ]
  },
  {
   "cell_type": "code",
   "execution_count": 64,
   "metadata": {},
   "outputs": [],
   "source": [
    "boolean_mapping = {'t': 1, 'f': 0}\n",
    "boolean_values= ['t', 'f']\n",
    "\n",
    "def df_with_replaced_columns(original_df, selected_booleans_df):\n",
    "    matrix_features = matrix_new_features(selected_booleans_df)\n",
    "    \n",
    "    cols_to_drop = matrix_features[:, 0]\n",
    "    copied_df = original_df.copy()\n",
    "    pruned_df = copied_df.drop(cols_to_drop, axis = 1)\n",
    "    \n",
    "    boolean_df = to_booleans(original_df, boolean_mapping)\n",
    "    boolean_features = select_booleans(original_df, boolean_values)[:,0]\n",
    "    cols_to_drop2 = boolean_features\n",
    "    pruned_df2 = pruned_df.drop(cols_to_drop2, axis = 1)\n",
    "    \n",
    "    return pd.concat([pruned_df2, almost_to_boolean(selected_booleans_df), boolean_df], axis = 1)"
   ]
  },
  {
   "cell_type": "code",
   "execution_count": 65,
   "metadata": {},
   "outputs": [
    {
     "name": "stdout",
     "output_type": "stream",
     "text": [
      "<class 'pandas.core.frame.DataFrame'>\n",
      "RangeIndex: 22552 entries, 0 to 22551\n",
      "Data columns (total 96 columns):\n",
      "id                                  22552 non-null int64\n",
      "listing_url                         22552 non-null object\n",
      "scrape_id                           22552 non-null int64\n",
      "last_scraped                        22552 non-null object\n",
      "name                                22493 non-null object\n",
      "summary                             21589 non-null object\n",
      "space                               14020 non-null object\n",
      "description                         22349 non-null object\n",
      "experiences_offered                 22552 non-null object\n",
      "neighborhood_overview               11540 non-null object\n",
      "notes                               7215 non-null object\n",
      "transit                             13036 non-null object\n",
      "access                              10837 non-null object\n",
      "interaction                         10406 non-null object\n",
      "house_rules                         11449 non-null object\n",
      "thumbnail_url                       0 non-null float64\n",
      "medium_url                          0 non-null float64\n",
      "picture_url                         22552 non-null object\n",
      "xl_picture_url                      0 non-null float64\n",
      "host_id                             22552 non-null int64\n",
      "host_url                            22552 non-null object\n",
      "host_name                           22526 non-null object\n",
      "host_since                          22526 non-null object\n",
      "host_location                       22436 non-null object\n",
      "host_about                          11189 non-null object\n",
      "host_response_time                  9658 non-null object\n",
      "host_response_rate                  9657 non-null object\n",
      "host_acceptance_rate                0 non-null float64\n",
      "host_thumbnail_url                  22526 non-null object\n",
      "host_picture_url                    22526 non-null object\n",
      "host_neighbourhood                  17458 non-null object\n",
      "host_listings_count                 22526 non-null float64\n",
      "host_total_listings_count           22526 non-null float64\n",
      "host_verifications                  22552 non-null object\n",
      "neighbourhood                       21421 non-null object\n",
      "neighbourhood_cleansed              22552 non-null object\n",
      "neighbourhood_group_cleansed        22552 non-null object\n",
      "zipcode                             21896 non-null object\n",
      "country_code                        22552 non-null object\n",
      "country                             22552 non-null object\n",
      "latitude                            22552 non-null float64\n",
      "longitude                           22552 non-null float64\n",
      "property_type                       22552 non-null object\n",
      "room_type                           22552 non-null object\n",
      "accommodates                        22552 non-null int64\n",
      "bathrooms                           22520 non-null float64\n",
      "bedrooms                            22534 non-null float64\n",
      "beds                                22512 non-null float64\n",
      "amenities                           22552 non-null object\n",
      "square_feet                         446 non-null float64\n",
      "price                               22552 non-null object\n",
      "weekly_price                        3681 non-null object\n",
      "monthly_price                       2659 non-null object\n",
      "security_deposit                    13191 non-null object\n",
      "cleaning_fee                        15406 non-null object\n",
      "guests_included                     22552 non-null int64\n",
      "extra_people                        22552 non-null object\n",
      "minimum_nights                      22552 non-null int64\n",
      "maximum_nights                      22552 non-null int64\n",
      "calendar_updated                    22552 non-null object\n",
      "has_availability                    22552 non-null object\n",
      "availability_30                     22552 non-null int64\n",
      "availability_60                     22552 non-null int64\n",
      "availability_90                     22552 non-null int64\n",
      "availability_365                    22552 non-null int64\n",
      "calendar_last_scraped               22552 non-null object\n",
      "number_of_reviews                   22552 non-null int64\n",
      "first_review                        18638 non-null object\n",
      "last_review                         18644 non-null object\n",
      "review_scores_rating                18163 non-null float64\n",
      "review_scores_accuracy              18138 non-null float64\n",
      "review_scores_cleanliness           18141 non-null float64\n",
      "review_scores_checkin               18120 non-null float64\n",
      "review_scores_communication         18134 non-null float64\n",
      "review_scores_location              18121 non-null float64\n",
      "review_scores_value                 18117 non-null float64\n",
      "license                             1638 non-null object\n",
      "jurisdiction_names                  0 non-null float64\n",
      "is_business_travel_ready            22552 non-null object\n",
      "cancellation_policy                 22552 non-null object\n",
      "calculated_host_listings_count      22552 non-null int64\n",
      "reviews_per_month                   18638 non-null float64\n",
      "market_is_berlin                    22552 non-null int32\n",
      "state_is_berlin                     22552 non-null int32\n",
      "city_is_berlin                      22552 non-null int32\n",
      "smart_location_is_berlin_germany    22552 non-null int32\n",
      "street_is_berlin_berlin_germany     22552 non-null int32\n",
      "bed_type_is_real_bed                22552 non-null int32\n",
      "host_is_superhost                   22526 non-null float64\n",
      "host_has_profile_pic                22526 non-null float64\n",
      "host_identity_verified              22526 non-null float64\n",
      "is_location_exact                   22552 non-null int64\n",
      "requires_license                    22552 non-null int64\n",
      "instant_bookable                    22552 non-null int64\n",
      "require_guest_profile_picture       22552 non-null int64\n",
      "require_guest_phone_verification    22552 non-null int64\n",
      "dtypes: float64(24), int32(6), int64(18), object(48)\n",
      "memory usage: 16.0+ MB\n"
     ]
    }
   ],
   "source": [
    "new_df = df_with_replaced_columns(df, selected_booleans_df)\n",
    "new_df.info()"
   ]
  },
  {
   "cell_type": "code",
   "execution_count": 66,
   "metadata": {},
   "outputs": [
    {
     "data": {
      "text/plain": [
       "array([['market', 'Berlin', 'market_is_berlin'],\n",
       "       ['state', 'Berlin', 'state_is_berlin'],\n",
       "       ['city', 'Berlin', 'city_is_berlin'],\n",
       "       ['smart_location', 'Berlin, Germany',\n",
       "        'smart_location_is_berlin_germany'],\n",
       "       ['street', 'Berlin, Berlin, Germany',\n",
       "        'street_is_berlin_berlin_germany'],\n",
       "       ['bed_type', 'Real Bed', 'bed_type_is_real_bed']], dtype='<U32')"
      ]
     },
     "execution_count": 66,
     "metadata": {},
     "output_type": "execute_result"
    }
   ],
   "source": [
    "matrix_features = matrix_new_features(selected_booleans_df)\n",
    "matrix_features    "
   ]
  },
  {
   "cell_type": "code",
   "execution_count": 67,
   "metadata": {},
   "outputs": [
    {
     "data": {
      "text/html": [
       "<div>\n",
       "<style scoped>\n",
       "    .dataframe tbody tr th:only-of-type {\n",
       "        vertical-align: middle;\n",
       "    }\n",
       "\n",
       "    .dataframe tbody tr th {\n",
       "        vertical-align: top;\n",
       "    }\n",
       "\n",
       "    .dataframe thead th {\n",
       "        text-align: right;\n",
       "    }\n",
       "</style>\n",
       "<table border=\"1\" class=\"dataframe\">\n",
       "  <thead>\n",
       "    <tr style=\"text-align: right;\">\n",
       "      <th></th>\n",
       "      <th>market</th>\n",
       "      <th>state</th>\n",
       "      <th>city</th>\n",
       "      <th>smart_location</th>\n",
       "      <th>street</th>\n",
       "      <th>bed_type</th>\n",
       "    </tr>\n",
       "  </thead>\n",
       "  <tbody>\n",
       "    <tr>\n",
       "      <th>0</th>\n",
       "      <td>Berlin</td>\n",
       "      <td>Berlin</td>\n",
       "      <td>Berlin</td>\n",
       "      <td>Berlin, Germany</td>\n",
       "      <td>Berlin, Berlin, Germany</td>\n",
       "      <td>Real Bed</td>\n",
       "    </tr>\n",
       "    <tr>\n",
       "      <th>1</th>\n",
       "      <td>Berlin</td>\n",
       "      <td>Berlin</td>\n",
       "      <td>Berlin</td>\n",
       "      <td>Berlin, Germany</td>\n",
       "      <td>Berlin, Berlin, Germany</td>\n",
       "      <td>Real Bed</td>\n",
       "    </tr>\n",
       "    <tr>\n",
       "      <th>2</th>\n",
       "      <td>Berlin</td>\n",
       "      <td>Berlin</td>\n",
       "      <td>Berlin</td>\n",
       "      <td>Berlin, Germany</td>\n",
       "      <td>Berlin, Berlin, Germany</td>\n",
       "      <td>Real Bed</td>\n",
       "    </tr>\n",
       "  </tbody>\n",
       "</table>\n",
       "</div>"
      ],
      "text/plain": [
       "   market   state    city   smart_location                   street  bed_type\n",
       "0  Berlin  Berlin  Berlin  Berlin, Germany  Berlin, Berlin, Germany  Real Bed\n",
       "1  Berlin  Berlin  Berlin  Berlin, Germany  Berlin, Berlin, Germany  Real Bed\n",
       "2  Berlin  Berlin  Berlin  Berlin, Germany  Berlin, Berlin, Germany  Real Bed"
      ]
     },
     "execution_count": 67,
     "metadata": {},
     "output_type": "execute_result"
    }
   ],
   "source": [
    "selected_booleans_df.head(3)"
   ]
  },
  {
   "cell_type": "code",
   "execution_count": 68,
   "metadata": {},
   "outputs": [
    {
     "data": {
      "text/plain": [
       "0    1\n",
       "1    1\n",
       "2    1\n",
       "3    1\n",
       "4    1\n",
       "Name: market_is_berlin, dtype: int32"
      ]
     },
     "execution_count": 68,
     "metadata": {},
     "output_type": "execute_result"
    }
   ],
   "source": [
    "new_df['market_is_berlin'].head()"
   ]
  },
  {
   "cell_type": "code",
   "execution_count": 69,
   "metadata": {},
   "outputs": [
    {
     "data": {
      "text/plain": [
       "0    1.0\n",
       "1    0.0\n",
       "2    0.0\n",
       "3    0.0\n",
       "4    1.0\n",
       "Name: host_is_superhost, dtype: float64"
      ]
     },
     "execution_count": 69,
     "metadata": {},
     "output_type": "execute_result"
    }
   ],
   "source": [
    "new_df['host_is_superhost'].head()"
   ]
  },
  {
   "cell_type": "code",
   "execution_count": 70,
   "metadata": {},
   "outputs": [
    {
     "data": {
      "text/plain": [
       "(22552, 96)"
      ]
     },
     "execution_count": 70,
     "metadata": {},
     "output_type": "execute_result"
    }
   ],
   "source": [
    "new_df.shape"
   ]
  },
  {
   "cell_type": "code",
   "execution_count": 71,
   "metadata": {},
   "outputs": [
    {
     "data": {
      "text/html": [
       "<div>\n",
       "<style scoped>\n",
       "    .dataframe tbody tr th:only-of-type {\n",
       "        vertical-align: middle;\n",
       "    }\n",
       "\n",
       "    .dataframe tbody tr th {\n",
       "        vertical-align: top;\n",
       "    }\n",
       "\n",
       "    .dataframe thead th {\n",
       "        text-align: right;\n",
       "    }\n",
       "</style>\n",
       "<table border=\"1\" class=\"dataframe\">\n",
       "  <thead>\n",
       "    <tr style=\"text-align: right;\">\n",
       "      <th></th>\n",
       "      <th>0</th>\n",
       "      <th>1</th>\n",
       "    </tr>\n",
       "  </thead>\n",
       "  <tbody>\n",
       "    <tr>\n",
       "      <th>id</th>\n",
       "      <td>2015</td>\n",
       "      <td>2695</td>\n",
       "    </tr>\n",
       "    <tr>\n",
       "      <th>listing_url</th>\n",
       "      <td>https://www.airbnb.com/rooms/2015</td>\n",
       "      <td>https://www.airbnb.com/rooms/2695</td>\n",
       "    </tr>\n",
       "    <tr>\n",
       "      <th>scrape_id</th>\n",
       "      <td>20181107122246</td>\n",
       "      <td>20181107122246</td>\n",
       "    </tr>\n",
       "    <tr>\n",
       "      <th>last_scraped</th>\n",
       "      <td>2018-11-07</td>\n",
       "      <td>2018-11-07</td>\n",
       "    </tr>\n",
       "    <tr>\n",
       "      <th>name</th>\n",
       "      <td>Berlin-Mitte Value! Quiet courtyard/very central</td>\n",
       "      <td>Prenzlauer Berg close to Mauerpark</td>\n",
       "    </tr>\n",
       "    <tr>\n",
       "      <th>summary</th>\n",
       "      <td>Great location!  30 of 75 sq meters. This wood...</td>\n",
       "      <td>NaN</td>\n",
       "    </tr>\n",
       "    <tr>\n",
       "      <th>space</th>\n",
       "      <td>A+++ location! This „Einliegerwohnung“ is an e...</td>\n",
       "      <td>In the summertime we are spending most of our ...</td>\n",
       "    </tr>\n",
       "    <tr>\n",
       "      <th>description</th>\n",
       "      <td>Great location!  30 of 75 sq meters. This wood...</td>\n",
       "      <td>In the summertime we are spending most of our ...</td>\n",
       "    </tr>\n",
       "    <tr>\n",
       "      <th>experiences_offered</th>\n",
       "      <td>none</td>\n",
       "      <td>none</td>\n",
       "    </tr>\n",
       "    <tr>\n",
       "      <th>neighborhood_overview</th>\n",
       "      <td>It is located in the former East Berlin area o...</td>\n",
       "      <td>NaN</td>\n",
       "    </tr>\n",
       "    <tr>\n",
       "      <th>notes</th>\n",
       "      <td>This is my home, not a hotel. I rent out occas...</td>\n",
       "      <td>NaN</td>\n",
       "    </tr>\n",
       "    <tr>\n",
       "      <th>transit</th>\n",
       "      <td>Close to U-Bahn U8 and U2 (metro), Trams M12, ...</td>\n",
       "      <td>Within walking distance you'll find the S-Bahn...</td>\n",
       "    </tr>\n",
       "    <tr>\n",
       "      <th>access</th>\n",
       "      <td>Simple kitchen/cooking, refrigerator, microwav...</td>\n",
       "      <td>Außer deinem Zimmer kannst du noch die Küche u...</td>\n",
       "    </tr>\n",
       "    <tr>\n",
       "      <th>interaction</th>\n",
       "      <td>Always available</td>\n",
       "      <td>NaN</td>\n",
       "    </tr>\n",
       "    <tr>\n",
       "      <th>house_rules</th>\n",
       "      <td>No parties No events No pets No smoking, not e...</td>\n",
       "      <td>NaN</td>\n",
       "    </tr>\n",
       "    <tr>\n",
       "      <th>thumbnail_url</th>\n",
       "      <td>NaN</td>\n",
       "      <td>NaN</td>\n",
       "    </tr>\n",
       "    <tr>\n",
       "      <th>medium_url</th>\n",
       "      <td>NaN</td>\n",
       "      <td>NaN</td>\n",
       "    </tr>\n",
       "    <tr>\n",
       "      <th>picture_url</th>\n",
       "      <td>https://a0.muscache.com/im/pictures/260fd609-7...</td>\n",
       "      <td>https://a0.muscache.com/im/pictures/97d4f6e8-1...</td>\n",
       "    </tr>\n",
       "    <tr>\n",
       "      <th>xl_picture_url</th>\n",
       "      <td>NaN</td>\n",
       "      <td>NaN</td>\n",
       "    </tr>\n",
       "    <tr>\n",
       "      <th>host_id</th>\n",
       "      <td>2217</td>\n",
       "      <td>2986</td>\n",
       "    </tr>\n",
       "    <tr>\n",
       "      <th>host_url</th>\n",
       "      <td>https://www.airbnb.com/users/show/2217</td>\n",
       "      <td>https://www.airbnb.com/users/show/2986</td>\n",
       "    </tr>\n",
       "    <tr>\n",
       "      <th>host_name</th>\n",
       "      <td>Ian</td>\n",
       "      <td>Michael</td>\n",
       "    </tr>\n",
       "    <tr>\n",
       "      <th>host_since</th>\n",
       "      <td>2008-08-18</td>\n",
       "      <td>2008-09-16</td>\n",
       "    </tr>\n",
       "    <tr>\n",
       "      <th>host_location</th>\n",
       "      <td>Key Biscayne, Florida, United States</td>\n",
       "      <td>Berlin, Berlin, Germany</td>\n",
       "    </tr>\n",
       "    <tr>\n",
       "      <th>host_about</th>\n",
       "      <td>Believe in sharing economy.</td>\n",
       "      <td>Living with my wife in Berlin.  Like travellin...</td>\n",
       "    </tr>\n",
       "    <tr>\n",
       "      <th>host_response_time</th>\n",
       "      <td>within an hour</td>\n",
       "      <td>NaN</td>\n",
       "    </tr>\n",
       "    <tr>\n",
       "      <th>host_response_rate</th>\n",
       "      <td>96%</td>\n",
       "      <td>NaN</td>\n",
       "    </tr>\n",
       "    <tr>\n",
       "      <th>host_acceptance_rate</th>\n",
       "      <td>NaN</td>\n",
       "      <td>NaN</td>\n",
       "    </tr>\n",
       "    <tr>\n",
       "      <th>host_thumbnail_url</th>\n",
       "      <td>https://a0.muscache.com/im/pictures/21428a22-4...</td>\n",
       "      <td>https://a0.muscache.com/im/pictures/50434955-1...</td>\n",
       "    </tr>\n",
       "    <tr>\n",
       "      <th>host_picture_url</th>\n",
       "      <td>https://a0.muscache.com/im/pictures/21428a22-4...</td>\n",
       "      <td>https://a0.muscache.com/im/pictures/50434955-1...</td>\n",
       "    </tr>\n",
       "    <tr>\n",
       "      <th>host_neighbourhood</th>\n",
       "      <td>Mitte</td>\n",
       "      <td>Prenzlauer Berg</td>\n",
       "    </tr>\n",
       "    <tr>\n",
       "      <th>host_listings_count</th>\n",
       "      <td>4</td>\n",
       "      <td>1</td>\n",
       "    </tr>\n",
       "    <tr>\n",
       "      <th>host_total_listings_count</th>\n",
       "      <td>4</td>\n",
       "      <td>1</td>\n",
       "    </tr>\n",
       "    <tr>\n",
       "      <th>host_verifications</th>\n",
       "      <td>['email', 'phone', 'reviews', 'jumio', 'offlin...</td>\n",
       "      <td>['email', 'phone', 'reviews', 'jumio', 'govern...</td>\n",
       "    </tr>\n",
       "    <tr>\n",
       "      <th>neighbourhood</th>\n",
       "      <td>Mitte</td>\n",
       "      <td>NaN</td>\n",
       "    </tr>\n",
       "    <tr>\n",
       "      <th>neighbourhood_cleansed</th>\n",
       "      <td>Brunnenstr. Süd</td>\n",
       "      <td>Prenzlauer Berg Nordwest</td>\n",
       "    </tr>\n",
       "    <tr>\n",
       "      <th>neighbourhood_group_cleansed</th>\n",
       "      <td>Mitte</td>\n",
       "      <td>Pankow</td>\n",
       "    </tr>\n",
       "    <tr>\n",
       "      <th>zipcode</th>\n",
       "      <td>10119</td>\n",
       "      <td>10437</td>\n",
       "    </tr>\n",
       "    <tr>\n",
       "      <th>country_code</th>\n",
       "      <td>DE</td>\n",
       "      <td>DE</td>\n",
       "    </tr>\n",
       "    <tr>\n",
       "      <th>country</th>\n",
       "      <td>Germany</td>\n",
       "      <td>Germany</td>\n",
       "    </tr>\n",
       "    <tr>\n",
       "      <th>latitude</th>\n",
       "      <td>52.5345</td>\n",
       "      <td>52.5485</td>\n",
       "    </tr>\n",
       "    <tr>\n",
       "      <th>longitude</th>\n",
       "      <td>13.4026</td>\n",
       "      <td>13.4046</td>\n",
       "    </tr>\n",
       "    <tr>\n",
       "      <th>property_type</th>\n",
       "      <td>Guesthouse</td>\n",
       "      <td>Apartment</td>\n",
       "    </tr>\n",
       "    <tr>\n",
       "      <th>room_type</th>\n",
       "      <td>Entire home/apt</td>\n",
       "      <td>Private room</td>\n",
       "    </tr>\n",
       "    <tr>\n",
       "      <th>accommodates</th>\n",
       "      <td>3</td>\n",
       "      <td>2</td>\n",
       "    </tr>\n",
       "    <tr>\n",
       "      <th>bathrooms</th>\n",
       "      <td>1</td>\n",
       "      <td>1</td>\n",
       "    </tr>\n",
       "    <tr>\n",
       "      <th>bedrooms</th>\n",
       "      <td>1</td>\n",
       "      <td>1</td>\n",
       "    </tr>\n",
       "    <tr>\n",
       "      <th>beds</th>\n",
       "      <td>2</td>\n",
       "      <td>1</td>\n",
       "    </tr>\n",
       "    <tr>\n",
       "      <th>amenities</th>\n",
       "      <td>{TV,\"Cable TV\",Wifi,Kitchen,Gym,Heating,\"Famil...</td>\n",
       "      <td>{Wifi,Kitchen,Elevator,Heating,Washer,Essentia...</td>\n",
       "    </tr>\n",
       "    <tr>\n",
       "      <th>square_feet</th>\n",
       "      <td>NaN</td>\n",
       "      <td>NaN</td>\n",
       "    </tr>\n",
       "    <tr>\n",
       "      <th>price</th>\n",
       "      <td>$60.00</td>\n",
       "      <td>$17.00</td>\n",
       "    </tr>\n",
       "    <tr>\n",
       "      <th>weekly_price</th>\n",
       "      <td>NaN</td>\n",
       "      <td>NaN</td>\n",
       "    </tr>\n",
       "    <tr>\n",
       "      <th>monthly_price</th>\n",
       "      <td>NaN</td>\n",
       "      <td>NaN</td>\n",
       "    </tr>\n",
       "    <tr>\n",
       "      <th>security_deposit</th>\n",
       "      <td>$200.00</td>\n",
       "      <td>$0.00</td>\n",
       "    </tr>\n",
       "    <tr>\n",
       "      <th>cleaning_fee</th>\n",
       "      <td>$30.00</td>\n",
       "      <td>$0.00</td>\n",
       "    </tr>\n",
       "    <tr>\n",
       "      <th>guests_included</th>\n",
       "      <td>1</td>\n",
       "      <td>1</td>\n",
       "    </tr>\n",
       "    <tr>\n",
       "      <th>extra_people</th>\n",
       "      <td>$28.00</td>\n",
       "      <td>$0.00</td>\n",
       "    </tr>\n",
       "    <tr>\n",
       "      <th>minimum_nights</th>\n",
       "      <td>4</td>\n",
       "      <td>2</td>\n",
       "    </tr>\n",
       "    <tr>\n",
       "      <th>maximum_nights</th>\n",
       "      <td>1125</td>\n",
       "      <td>40</td>\n",
       "    </tr>\n",
       "    <tr>\n",
       "      <th>calendar_updated</th>\n",
       "      <td>3 months ago</td>\n",
       "      <td>7 weeks ago</td>\n",
       "    </tr>\n",
       "    <tr>\n",
       "      <th>has_availability</th>\n",
       "      <td>t</td>\n",
       "      <td>t</td>\n",
       "    </tr>\n",
       "    <tr>\n",
       "      <th>availability_30</th>\n",
       "      <td>0</td>\n",
       "      <td>0</td>\n",
       "    </tr>\n",
       "    <tr>\n",
       "      <th>availability_60</th>\n",
       "      <td>21</td>\n",
       "      <td>0</td>\n",
       "    </tr>\n",
       "    <tr>\n",
       "      <th>availability_90</th>\n",
       "      <td>51</td>\n",
       "      <td>0</td>\n",
       "    </tr>\n",
       "    <tr>\n",
       "      <th>availability_365</th>\n",
       "      <td>141</td>\n",
       "      <td>0</td>\n",
       "    </tr>\n",
       "    <tr>\n",
       "      <th>calendar_last_scraped</th>\n",
       "      <td>2018-11-07</td>\n",
       "      <td>2018-11-07</td>\n",
       "    </tr>\n",
       "    <tr>\n",
       "      <th>number_of_reviews</th>\n",
       "      <td>118</td>\n",
       "      <td>6</td>\n",
       "    </tr>\n",
       "    <tr>\n",
       "      <th>first_review</th>\n",
       "      <td>2016-04-11</td>\n",
       "      <td>2018-07-04</td>\n",
       "    </tr>\n",
       "    <tr>\n",
       "      <th>last_review</th>\n",
       "      <td>2018-10-28</td>\n",
       "      <td>2018-10-01</td>\n",
       "    </tr>\n",
       "    <tr>\n",
       "      <th>review_scores_rating</th>\n",
       "      <td>93</td>\n",
       "      <td>100</td>\n",
       "    </tr>\n",
       "    <tr>\n",
       "      <th>review_scores_accuracy</th>\n",
       "      <td>10</td>\n",
       "      <td>10</td>\n",
       "    </tr>\n",
       "    <tr>\n",
       "      <th>review_scores_cleanliness</th>\n",
       "      <td>9</td>\n",
       "      <td>10</td>\n",
       "    </tr>\n",
       "    <tr>\n",
       "      <th>review_scores_checkin</th>\n",
       "      <td>10</td>\n",
       "      <td>10</td>\n",
       "    </tr>\n",
       "    <tr>\n",
       "      <th>review_scores_communication</th>\n",
       "      <td>10</td>\n",
       "      <td>10</td>\n",
       "    </tr>\n",
       "    <tr>\n",
       "      <th>review_scores_location</th>\n",
       "      <td>10</td>\n",
       "      <td>10</td>\n",
       "    </tr>\n",
       "    <tr>\n",
       "      <th>review_scores_value</th>\n",
       "      <td>9</td>\n",
       "      <td>10</td>\n",
       "    </tr>\n",
       "    <tr>\n",
       "      <th>license</th>\n",
       "      <td>NaN</td>\n",
       "      <td>NaN</td>\n",
       "    </tr>\n",
       "    <tr>\n",
       "      <th>jurisdiction_names</th>\n",
       "      <td>NaN</td>\n",
       "      <td>NaN</td>\n",
       "    </tr>\n",
       "    <tr>\n",
       "      <th>is_business_travel_ready</th>\n",
       "      <td>f</td>\n",
       "      <td>f</td>\n",
       "    </tr>\n",
       "    <tr>\n",
       "      <th>cancellation_policy</th>\n",
       "      <td>strict_14_with_grace_period</td>\n",
       "      <td>flexible</td>\n",
       "    </tr>\n",
       "    <tr>\n",
       "      <th>calculated_host_listings_count</th>\n",
       "      <td>4</td>\n",
       "      <td>1</td>\n",
       "    </tr>\n",
       "    <tr>\n",
       "      <th>reviews_per_month</th>\n",
       "      <td>3.76</td>\n",
       "      <td>1.42</td>\n",
       "    </tr>\n",
       "    <tr>\n",
       "      <th>market_is_berlin</th>\n",
       "      <td>1</td>\n",
       "      <td>1</td>\n",
       "    </tr>\n",
       "    <tr>\n",
       "      <th>state_is_berlin</th>\n",
       "      <td>1</td>\n",
       "      <td>1</td>\n",
       "    </tr>\n",
       "    <tr>\n",
       "      <th>city_is_berlin</th>\n",
       "      <td>1</td>\n",
       "      <td>1</td>\n",
       "    </tr>\n",
       "    <tr>\n",
       "      <th>smart_location_is_berlin_germany</th>\n",
       "      <td>1</td>\n",
       "      <td>1</td>\n",
       "    </tr>\n",
       "    <tr>\n",
       "      <th>street_is_berlin_berlin_germany</th>\n",
       "      <td>1</td>\n",
       "      <td>1</td>\n",
       "    </tr>\n",
       "    <tr>\n",
       "      <th>bed_type_is_real_bed</th>\n",
       "      <td>1</td>\n",
       "      <td>1</td>\n",
       "    </tr>\n",
       "    <tr>\n",
       "      <th>host_is_superhost</th>\n",
       "      <td>1</td>\n",
       "      <td>0</td>\n",
       "    </tr>\n",
       "    <tr>\n",
       "      <th>host_has_profile_pic</th>\n",
       "      <td>1</td>\n",
       "      <td>1</td>\n",
       "    </tr>\n",
       "    <tr>\n",
       "      <th>host_identity_verified</th>\n",
       "      <td>1</td>\n",
       "      <td>1</td>\n",
       "    </tr>\n",
       "    <tr>\n",
       "      <th>is_location_exact</th>\n",
       "      <td>0</td>\n",
       "      <td>1</td>\n",
       "    </tr>\n",
       "    <tr>\n",
       "      <th>requires_license</th>\n",
       "      <td>1</td>\n",
       "      <td>1</td>\n",
       "    </tr>\n",
       "    <tr>\n",
       "      <th>instant_bookable</th>\n",
       "      <td>0</td>\n",
       "      <td>0</td>\n",
       "    </tr>\n",
       "    <tr>\n",
       "      <th>require_guest_profile_picture</th>\n",
       "      <td>0</td>\n",
       "      <td>0</td>\n",
       "    </tr>\n",
       "    <tr>\n",
       "      <th>require_guest_phone_verification</th>\n",
       "      <td>0</td>\n",
       "      <td>0</td>\n",
       "    </tr>\n",
       "  </tbody>\n",
       "</table>\n",
       "</div>"
      ],
      "text/plain": [
       "                                                                                  0  \\\n",
       "id                                                                             2015   \n",
       "listing_url                                       https://www.airbnb.com/rooms/2015   \n",
       "scrape_id                                                            20181107122246   \n",
       "last_scraped                                                             2018-11-07   \n",
       "name                               Berlin-Mitte Value! Quiet courtyard/very central   \n",
       "summary                           Great location!  30 of 75 sq meters. This wood...   \n",
       "space                             A+++ location! This „Einliegerwohnung“ is an e...   \n",
       "description                       Great location!  30 of 75 sq meters. This wood...   \n",
       "experiences_offered                                                            none   \n",
       "neighborhood_overview             It is located in the former East Berlin area o...   \n",
       "notes                             This is my home, not a hotel. I rent out occas...   \n",
       "transit                           Close to U-Bahn U8 and U2 (metro), Trams M12, ...   \n",
       "access                            Simple kitchen/cooking, refrigerator, microwav...   \n",
       "interaction                                                        Always available   \n",
       "house_rules                       No parties No events No pets No smoking, not e...   \n",
       "thumbnail_url                                                                   NaN   \n",
       "medium_url                                                                      NaN   \n",
       "picture_url                       https://a0.muscache.com/im/pictures/260fd609-7...   \n",
       "xl_picture_url                                                                  NaN   \n",
       "host_id                                                                        2217   \n",
       "host_url                                     https://www.airbnb.com/users/show/2217   \n",
       "host_name                                                                       Ian   \n",
       "host_since                                                               2008-08-18   \n",
       "host_location                                  Key Biscayne, Florida, United States   \n",
       "host_about                                              Believe in sharing economy.   \n",
       "host_response_time                                                   within an hour   \n",
       "host_response_rate                                                              96%   \n",
       "host_acceptance_rate                                                            NaN   \n",
       "host_thumbnail_url                https://a0.muscache.com/im/pictures/21428a22-4...   \n",
       "host_picture_url                  https://a0.muscache.com/im/pictures/21428a22-4...   \n",
       "host_neighbourhood                                                            Mitte   \n",
       "host_listings_count                                                               4   \n",
       "host_total_listings_count                                                         4   \n",
       "host_verifications                ['email', 'phone', 'reviews', 'jumio', 'offlin...   \n",
       "neighbourhood                                                                 Mitte   \n",
       "neighbourhood_cleansed                                              Brunnenstr. Süd   \n",
       "neighbourhood_group_cleansed                                                  Mitte   \n",
       "zipcode                                                                       10119   \n",
       "country_code                                                                     DE   \n",
       "country                                                                     Germany   \n",
       "latitude                                                                    52.5345   \n",
       "longitude                                                                   13.4026   \n",
       "property_type                                                            Guesthouse   \n",
       "room_type                                                           Entire home/apt   \n",
       "accommodates                                                                      3   \n",
       "bathrooms                                                                         1   \n",
       "bedrooms                                                                          1   \n",
       "beds                                                                              2   \n",
       "amenities                         {TV,\"Cable TV\",Wifi,Kitchen,Gym,Heating,\"Famil...   \n",
       "square_feet                                                                     NaN   \n",
       "price                                                                        $60.00   \n",
       "weekly_price                                                                    NaN   \n",
       "monthly_price                                                                   NaN   \n",
       "security_deposit                                                            $200.00   \n",
       "cleaning_fee                                                                 $30.00   \n",
       "guests_included                                                                   1   \n",
       "extra_people                                                                 $28.00   \n",
       "minimum_nights                                                                    4   \n",
       "maximum_nights                                                                 1125   \n",
       "calendar_updated                                                       3 months ago   \n",
       "has_availability                                                                  t   \n",
       "availability_30                                                                   0   \n",
       "availability_60                                                                  21   \n",
       "availability_90                                                                  51   \n",
       "availability_365                                                                141   \n",
       "calendar_last_scraped                                                    2018-11-07   \n",
       "number_of_reviews                                                               118   \n",
       "first_review                                                             2016-04-11   \n",
       "last_review                                                              2018-10-28   \n",
       "review_scores_rating                                                             93   \n",
       "review_scores_accuracy                                                           10   \n",
       "review_scores_cleanliness                                                         9   \n",
       "review_scores_checkin                                                            10   \n",
       "review_scores_communication                                                      10   \n",
       "review_scores_location                                                           10   \n",
       "review_scores_value                                                               9   \n",
       "license                                                                         NaN   \n",
       "jurisdiction_names                                                              NaN   \n",
       "is_business_travel_ready                                                          f   \n",
       "cancellation_policy                                     strict_14_with_grace_period   \n",
       "calculated_host_listings_count                                                    4   \n",
       "reviews_per_month                                                              3.76   \n",
       "market_is_berlin                                                                  1   \n",
       "state_is_berlin                                                                   1   \n",
       "city_is_berlin                                                                    1   \n",
       "smart_location_is_berlin_germany                                                  1   \n",
       "street_is_berlin_berlin_germany                                                   1   \n",
       "bed_type_is_real_bed                                                              1   \n",
       "host_is_superhost                                                                 1   \n",
       "host_has_profile_pic                                                              1   \n",
       "host_identity_verified                                                            1   \n",
       "is_location_exact                                                                 0   \n",
       "requires_license                                                                  1   \n",
       "instant_bookable                                                                  0   \n",
       "require_guest_profile_picture                                                     0   \n",
       "require_guest_phone_verification                                                  0   \n",
       "\n",
       "                                                                                  1  \n",
       "id                                                                             2695  \n",
       "listing_url                                       https://www.airbnb.com/rooms/2695  \n",
       "scrape_id                                                            20181107122246  \n",
       "last_scraped                                                             2018-11-07  \n",
       "name                                             Prenzlauer Berg close to Mauerpark  \n",
       "summary                                                                         NaN  \n",
       "space                             In the summertime we are spending most of our ...  \n",
       "description                       In the summertime we are spending most of our ...  \n",
       "experiences_offered                                                            none  \n",
       "neighborhood_overview                                                           NaN  \n",
       "notes                                                                           NaN  \n",
       "transit                           Within walking distance you'll find the S-Bahn...  \n",
       "access                            Außer deinem Zimmer kannst du noch die Küche u...  \n",
       "interaction                                                                     NaN  \n",
       "house_rules                                                                     NaN  \n",
       "thumbnail_url                                                                   NaN  \n",
       "medium_url                                                                      NaN  \n",
       "picture_url                       https://a0.muscache.com/im/pictures/97d4f6e8-1...  \n",
       "xl_picture_url                                                                  NaN  \n",
       "host_id                                                                        2986  \n",
       "host_url                                     https://www.airbnb.com/users/show/2986  \n",
       "host_name                                                                   Michael  \n",
       "host_since                                                               2008-09-16  \n",
       "host_location                                               Berlin, Berlin, Germany  \n",
       "host_about                        Living with my wife in Berlin.  Like travellin...  \n",
       "host_response_time                                                              NaN  \n",
       "host_response_rate                                                              NaN  \n",
       "host_acceptance_rate                                                            NaN  \n",
       "host_thumbnail_url                https://a0.muscache.com/im/pictures/50434955-1...  \n",
       "host_picture_url                  https://a0.muscache.com/im/pictures/50434955-1...  \n",
       "host_neighbourhood                                                  Prenzlauer Berg  \n",
       "host_listings_count                                                               1  \n",
       "host_total_listings_count                                                         1  \n",
       "host_verifications                ['email', 'phone', 'reviews', 'jumio', 'govern...  \n",
       "neighbourhood                                                                   NaN  \n",
       "neighbourhood_cleansed                                     Prenzlauer Berg Nordwest  \n",
       "neighbourhood_group_cleansed                                                 Pankow  \n",
       "zipcode                                                                       10437  \n",
       "country_code                                                                     DE  \n",
       "country                                                                     Germany  \n",
       "latitude                                                                    52.5485  \n",
       "longitude                                                                   13.4046  \n",
       "property_type                                                             Apartment  \n",
       "room_type                                                              Private room  \n",
       "accommodates                                                                      2  \n",
       "bathrooms                                                                         1  \n",
       "bedrooms                                                                          1  \n",
       "beds                                                                              1  \n",
       "amenities                         {Wifi,Kitchen,Elevator,Heating,Washer,Essentia...  \n",
       "square_feet                                                                     NaN  \n",
       "price                                                                        $17.00  \n",
       "weekly_price                                                                    NaN  \n",
       "monthly_price                                                                   NaN  \n",
       "security_deposit                                                              $0.00  \n",
       "cleaning_fee                                                                  $0.00  \n",
       "guests_included                                                                   1  \n",
       "extra_people                                                                  $0.00  \n",
       "minimum_nights                                                                    2  \n",
       "maximum_nights                                                                   40  \n",
       "calendar_updated                                                        7 weeks ago  \n",
       "has_availability                                                                  t  \n",
       "availability_30                                                                   0  \n",
       "availability_60                                                                   0  \n",
       "availability_90                                                                   0  \n",
       "availability_365                                                                  0  \n",
       "calendar_last_scraped                                                    2018-11-07  \n",
       "number_of_reviews                                                                 6  \n",
       "first_review                                                             2018-07-04  \n",
       "last_review                                                              2018-10-01  \n",
       "review_scores_rating                                                            100  \n",
       "review_scores_accuracy                                                           10  \n",
       "review_scores_cleanliness                                                        10  \n",
       "review_scores_checkin                                                            10  \n",
       "review_scores_communication                                                      10  \n",
       "review_scores_location                                                           10  \n",
       "review_scores_value                                                              10  \n",
       "license                                                                         NaN  \n",
       "jurisdiction_names                                                              NaN  \n",
       "is_business_travel_ready                                                          f  \n",
       "cancellation_policy                                                        flexible  \n",
       "calculated_host_listings_count                                                    1  \n",
       "reviews_per_month                                                              1.42  \n",
       "market_is_berlin                                                                  1  \n",
       "state_is_berlin                                                                   1  \n",
       "city_is_berlin                                                                    1  \n",
       "smart_location_is_berlin_germany                                                  1  \n",
       "street_is_berlin_berlin_germany                                                   1  \n",
       "bed_type_is_real_bed                                                              1  \n",
       "host_is_superhost                                                                 0  \n",
       "host_has_profile_pic                                                              1  \n",
       "host_identity_verified                                                            1  \n",
       "is_location_exact                                                                 1  \n",
       "requires_license                                                                  1  \n",
       "instant_bookable                                                                  0  \n",
       "require_guest_profile_picture                                                     0  \n",
       "require_guest_phone_verification                                                  0  "
      ]
     },
     "execution_count": 71,
     "metadata": {},
     "output_type": "execute_result"
    }
   ],
   "source": [
    "new_df.head(2).T"
   ]
  },
  {
   "cell_type": "markdown",
   "metadata": {},
   "source": [
    "### Summary"
   ]
  },
  {
   "cell_type": "code",
   "execution_count": null,
   "metadata": {},
   "outputs": [],
   "source": []
  }
 ],
 "metadata": {
  "kernelspec": {
   "display_name": "Python 3",
   "language": "python",
   "name": "python3"
  },
  "language_info": {
   "codemirror_mode": {
    "name": "ipython",
    "version": 3
   },
   "file_extension": ".py",
   "mimetype": "text/x-python",
   "name": "python",
   "nbconvert_exporter": "python",
   "pygments_lexer": "ipython3",
   "version": "3.7.1"
  }
 },
 "nbformat": 4,
 "nbformat_minor": 2
}
