{
 "cells": [
  {
   "cell_type": "markdown",
   "metadata": {},
   "source": [
    "# Laundry Machine Lab"
   ]
  },
  {
   "cell_type": "markdown",
   "metadata": {},
   "source": [
    "### Introduction"
   ]
  },
  {
   "cell_type": "markdown",
   "metadata": {},
   "source": [
    "Imagine that we are building software to sell to different laundromats.  Laundromats want a system to keep track of the laundry bundles that customers drop off for the laundromat to then clean.  Building this system will allow the laundromat to see where there are delays and how quickly they need to process orders.  It will also allow them to staff more workers to help clean as needed.  \n",
    "\n",
    "Let's get started."
   ]
  },
  {
   "cell_type": "markdown",
   "metadata": {},
   "source": [
    "### Building the class"
   ]
  },
  {
   "cell_type": "code",
   "execution_count": 1,
   "metadata": {},
   "outputs": [],
   "source": [
    "from test_helpers import addDaysToBundle, addPickupDays"
   ]
  },
  {
   "cell_type": "markdown",
   "metadata": {},
   "source": [
    "Start by creating a class called `Bundle` in the `bundle.py` file."
   ]
  },
  {
   "cell_type": "code",
   "execution_count": 2,
   "metadata": {},
   "outputs": [],
   "source": [
    "class Bundle:\n",
    "    pass    "
   ]
  },
  {
   "cell_type": "code",
   "execution_count": 3,
   "metadata": {},
   "outputs": [],
   "source": [
    "firstBundle = Bundle()"
   ]
  },
  {
   "cell_type": "code",
   "execution_count": 4,
   "metadata": {},
   "outputs": [
    {
     "data": {
      "text/plain": [
       "<__main__.Bundle at 0x27c32a13ef0>"
      ]
     },
     "execution_count": 4,
     "metadata": {},
     "output_type": "execute_result"
    }
   ],
   "source": [
    "firstBundle"
   ]
  },
  {
   "cell_type": "markdown",
   "metadata": {},
   "source": [
    "The laundromat charges customers based on the weight of the dropoff.  Anything five pounds or under is 10 dollars, and the laundromat charges $1.50 for every pound over five pounds.  \n",
    "\n",
    "* Add a method called, **price** that calculates the price of a bundle."
   ]
  },
  {
   "cell_type": "code",
   "execution_count": 5,
   "metadata": {},
   "outputs": [],
   "source": [
    "class Bundle:\n",
    "    def price(self):\n",
    "        if self.weight < 5:\n",
    "            return 10\n",
    "        else:\n",
    "            return 10 + (self.weight - 5)*1.50"
   ]
  },
  {
   "cell_type": "code",
   "execution_count": 6,
   "metadata": {},
   "outputs": [],
   "source": [
    "secondBundle = Bundle()"
   ]
  },
  {
   "cell_type": "code",
   "execution_count": 7,
   "metadata": {},
   "outputs": [
    {
     "data": {
      "text/plain": [
       "<__main__.Bundle at 0x27c32a45390>"
      ]
     },
     "execution_count": 7,
     "metadata": {},
     "output_type": "execute_result"
    }
   ],
   "source": [
    "secondBundle"
   ]
  },
  {
   "cell_type": "code",
   "execution_count": 8,
   "metadata": {},
   "outputs": [],
   "source": [
    "secondBundle.weight = 8"
   ]
  },
  {
   "cell_type": "code",
   "execution_count": 9,
   "metadata": {},
   "outputs": [
    {
     "data": {
      "text/plain": [
       "14.5"
      ]
     },
     "execution_count": 9,
     "metadata": {},
     "output_type": "execute_result"
    }
   ],
   "source": [
    "secondBundle.price()\n",
    "# 14.5"
   ]
  },
  {
   "cell_type": "markdown",
   "metadata": {},
   "source": [
    "Next, let's write a method called `processing_time` that calculates the number of days between when a dropoff occurs and when a bundle is ready for pickup.  We'll add the following data."
   ]
  },
  {
   "cell_type": "code",
   "execution_count": 10,
   "metadata": {},
   "outputs": [],
   "source": [
    "thirdBundle = Bundle()"
   ]
  },
  {
   "cell_type": "code",
   "execution_count": 11,
   "metadata": {},
   "outputs": [
    {
     "data": {
      "text/plain": [
       "<__main__.Bundle at 0x27c32a45f28>"
      ]
     },
     "execution_count": 11,
     "metadata": {},
     "output_type": "execute_result"
    }
   ],
   "source": [
    "thirdBundle"
   ]
  },
  {
   "cell_type": "code",
   "execution_count": 12,
   "metadata": {},
   "outputs": [
    {
     "data": {
      "text/plain": [
       "<__main__.Bundle at 0x27c32a45f28>"
      ]
     },
     "execution_count": 12,
     "metadata": {},
     "output_type": "execute_result"
    }
   ],
   "source": [
    "addDaysToBundle(thirdBundle)"
   ]
  },
  {
   "cell_type": "code",
   "execution_count": 13,
   "metadata": {},
   "outputs": [
    {
     "data": {
      "text/plain": [
       "{'dropoff_month': 5, 'dropoff_day': 29, 'ready_month': 6, 'ready_day': 2}"
      ]
     },
     "execution_count": 13,
     "metadata": {},
     "output_type": "execute_result"
    }
   ],
   "source": [
    "thirdBundle.__dict__"
   ]
  },
  {
   "cell_type": "markdown",
   "metadata": {},
   "source": [
    "So above we set the dropoff month and day, as well as the day that the bundle is ready for pickup.  Now write a method called `processing_days` that calculates the number of days it took to process the bundle.  For the purposes of this problem assume that every month only has 30 days."
   ]
  },
  {
   "cell_type": "code",
   "execution_count": 14,
   "metadata": {},
   "outputs": [],
   "source": [
    "class Bundle:\n",
    "    def price(self):\n",
    "        if self.weight < 5:\n",
    "            return 10\n",
    "        else:\n",
    "            return 10 + (self.weight - 5)*1.50\n",
    "    \n",
    "    def processingDays(self):\n",
    "        month_diff = self.ready_month - self.dropoff_month\n",
    "        day_diff = self.ready_day - self.dropoff_day\n",
    "        return month_diff * 30 + day_diff "
   ]
  },
  {
   "cell_type": "code",
   "execution_count": 15,
   "metadata": {},
   "outputs": [],
   "source": [
    "thirdBundle = Bundle()"
   ]
  },
  {
   "cell_type": "code",
   "execution_count": 16,
   "metadata": {},
   "outputs": [
    {
     "data": {
      "text/plain": [
       "<__main__.Bundle at 0x27c32a55668>"
      ]
     },
     "execution_count": 16,
     "metadata": {},
     "output_type": "execute_result"
    }
   ],
   "source": [
    "addDaysToBundle(thirdBundle)"
   ]
  },
  {
   "cell_type": "code",
   "execution_count": 17,
   "metadata": {},
   "outputs": [
    {
     "data": {
      "text/plain": [
       "3"
      ]
     },
     "execution_count": 17,
     "metadata": {},
     "output_type": "execute_result"
    }
   ],
   "source": [
    "thirdBundle.processingDays()\n",
    "# 3"
   ]
  },
  {
   "cell_type": "markdown",
   "metadata": {},
   "source": [
    "Ok, now customers are also a factor in how soon the clothes get picked up.  This time we want to write a method called `holdingDays` that calculates from when the clothes were dropped off to when they are picked up."
   ]
  },
  {
   "cell_type": "code",
   "execution_count": 18,
   "metadata": {},
   "outputs": [
    {
     "data": {
      "text/plain": [
       "{'dropoff_month': 5,\n",
       " 'dropoff_day': 29,\n",
       " 'ready_month': 6,\n",
       " 'ready_day': 2,\n",
       " 'pickup_month': 6,\n",
       " 'pickup_day': 5}"
      ]
     },
     "execution_count": 18,
     "metadata": {},
     "output_type": "execute_result"
    }
   ],
   "source": [
    "fourthBundle = Bundle()\n",
    "addPickupDays(fourthBundle)\n",
    "fourthBundle.__dict__"
   ]
  },
  {
   "cell_type": "code",
   "execution_count": 19,
   "metadata": {},
   "outputs": [],
   "source": [
    "class Bundle:\n",
    "    \n",
    "    def price(self):\n",
    "        if self.weight < 5:\n",
    "            return 10\n",
    "        else:\n",
    "            return 10 + (self.weight - 5)*1.50\n",
    "    \n",
    "    def processingDays(self):\n",
    "        month_diff = self.ready_month - self.dropoff_month\n",
    "        day_diff = self.ready_day - self.dropoff_day\n",
    "        return month_diff * 30 + day_diff \n",
    "    \n",
    "    def holdingDays(self):\n",
    "        month_diff2 = self.pickup_month - self.dropoff_month\n",
    "        day_diff2 = self.pickup_day - self.dropoff_day\n",
    "        return month_diff2 * 30 + day_diff2"
   ]
  },
  {
   "cell_type": "code",
   "execution_count": 20,
   "metadata": {},
   "outputs": [],
   "source": [
    "fourthBundle = Bundle()"
   ]
  },
  {
   "cell_type": "code",
   "execution_count": 21,
   "metadata": {},
   "outputs": [
    {
     "data": {
      "text/plain": [
       "<__main__.Bundle at 0x27c32a55dd8>"
      ]
     },
     "execution_count": 21,
     "metadata": {},
     "output_type": "execute_result"
    }
   ],
   "source": [
    "addPickupDays(fourthBundle)"
   ]
  },
  {
   "cell_type": "code",
   "execution_count": 22,
   "metadata": {},
   "outputs": [
    {
     "data": {
      "text/plain": [
       "{'dropoff_month': 5,\n",
       " 'dropoff_day': 29,\n",
       " 'ready_month': 6,\n",
       " 'ready_day': 2,\n",
       " 'pickup_month': 6,\n",
       " 'pickup_day': 5}"
      ]
     },
     "execution_count": 22,
     "metadata": {},
     "output_type": "execute_result"
    }
   ],
   "source": [
    "fourthBundle.__dict__"
   ]
  },
  {
   "cell_type": "code",
   "execution_count": 23,
   "metadata": {},
   "outputs": [
    {
     "data": {
      "text/plain": [
       "6"
      ]
     },
     "execution_count": 23,
     "metadata": {},
     "output_type": "execute_result"
    }
   ],
   "source": [
    "fourthBundle.holdingDays()\n",
    "# 7"
   ]
  },
  {
   "cell_type": "markdown",
   "metadata": {},
   "source": [
    "### Summary\n",
    "\n",
    "Congratulations!  As a bonus, try to add in some of your own methods to the class."
   ]
  }
 ],
 "metadata": {
  "kernelspec": {
   "display_name": "Python 3",
   "language": "python",
   "name": "python3"
  },
  "language_info": {
   "codemirror_mode": {
    "name": "ipython",
    "version": 3
   },
   "file_extension": ".py",
   "mimetype": "text/x-python",
   "name": "python",
   "nbconvert_exporter": "python",
   "pygments_lexer": "ipython3",
   "version": "3.7.1"
  }
 },
 "nbformat": 4,
 "nbformat_minor": 2
}
