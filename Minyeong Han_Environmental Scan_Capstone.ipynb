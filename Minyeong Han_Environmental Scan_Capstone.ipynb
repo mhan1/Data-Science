{
 "cells": [
  {
   "cell_type": "markdown",
   "metadata": {},
   "source": [
    "# 1. Project Scope"
   ]
  },
  {
   "cell_type": "markdown",
   "metadata": {},
   "source": [
    "### 1) Context: \n",
    "The cloud-based software company for dental practice produces and sells the software in Latin America to make the dentists’ life easier and increase their revenues by saving their time.\n",
    "\n",
    "### 2) Needs: \n",
    "The company does not know the right way to measure what matters to expand their business into USA.\n",
    "The CEO and staffs are still trying to figure out what will be the right metrics and how they will be executed.\n",
    "\n",
    "### 3) Vision: \n",
    "The company CEO will get a report why the metric chosen is the right one to expand the business in USA with supporting data-driven examples.\n",
    "\n",
    "### 4) Outcome: \n",
    "The company will continue to grow their business based on the metrics that matter to expand their business in USA.\n",
    "Follow-up study will be conducted at the discretion of the company."
   ]
  },
  {
   "cell_type": "markdown",
   "metadata": {},
   "source": [
    "# 2. Data Sources & Data Dictionary"
   ]
  },
  {
   "cell_type": "markdown",
   "metadata": {},
   "source": [
    "### 1) U.S. Census Bureau, 2013-2017 American Community Survey 5-Year Estimates. \n",
    "- Median household income in the U.S. 2013-2017.\n",
    "\n",
    "\n",
    "https://www.census.gov/search-results.html?q=median+household+income&page=1&stateGeo=none&searchtype=web&cssp=SERP&_charset_=UTF-8"
   ]
  },
  {
   "cell_type": "markdown",
   "metadata": {},
   "source": [
    "### 2) American Dental Association, Supply of Dentists in the U.S. 2001-2018 (Published in February 2019). \n",
    " - Dentists per 100,000 population in each state 2001-2018.\n",
    " - Supply of Dentists in U.S. by practice area 2001-2018.\n",
    "\n",
    "\n",
    "https://www.ada.org/en/science-research/health-policy-institute/data-center/supply-and-profile-of-dentists"
   ]
  },
  {
   "cell_type": "markdown",
   "metadata": {},
   "source": [
    "In my datasources above, there are no unusual fields (or columns), hence I do not need to explain each of the column names in the datasets to be used. However, as the project develops going forward, I will provide more detailed information as needed."
   ]
  },
  {
   "cell_type": "markdown",
   "metadata": {},
   "source": [
    "# 3. Environmental scan"
   ]
  },
  {
   "attachments": {},
   "cell_type": "markdown",
   "metadata": {},
   "source": [
    "### 1) Wealth effect and dental care utilization in the U.S. \n",
    "J Public Health Dent. 2012 ; 72(3): 179–189. https://www.ncbi.nlm.nih.gov/pmc/articles/PMC3433846/"
   ]
  },
  {
   "cell_type": "markdown",
   "metadata": {},
   "source": [
    "- This study estimates the relationship of wealth and income on dental utilization for an aging U.S. population by using 2008 data from the Health and Retirement Study (HRS). \n",
    "\n",
    "- The likelihood of utilizing dental care appeared to decrease with decrease in wealth, compared to those living in the wealthiest U.S. households.\n",
    "\n",
    "- The likelihood of utilizing dental care also appears to decline with a decrease in income.\n",
    "\n",
    "- I use this document to support my assumptions on the relationships between dental utilization and wealth. "
   ]
  },
  {
   "cell_type": "markdown",
   "metadata": {},
   "source": [
    "### 2) Characteristics of dentits providing dental care to publicly insured patients.\n",
    "J Public Health Dent. 2007 Fall ; 67(4): 208-16. https://www.ncbi.nlm.nih.gov/pubmed/18087991"
   ]
  },
  {
   "cell_type": "markdown",
   "metadata": {},
   "source": [
    "- This study identifies the practice and patient care characteristics of dentists who serve publicly insured patients.\n",
    "\n",
    "- This study used regression analyses and uncovered that the dentists who spent more time in periodontic and surgical care, had more walk-in patients, had multilingual capacity, received reduced fees, had more minority patients, had fewer hygienists, or had multiple practice locations wre more likely to see public patients than those without such characteristics.\n",
    "\n",
    "- I use this document to support my assumptions on the relationships between dental practice area and wealth, also to identify the pain point for the denal practitioners who serve patients with different level of wealth."
   ]
  },
  {
   "cell_type": "markdown",
   "metadata": {},
   "source": [
    "# 4. Key challenges"
   ]
  },
  {
   "cell_type": "markdown",
   "metadata": {},
   "source": [
    "### 1) I will compare the dentist number and income level in each state based on the data sources above, to determine the target state as a starting point for the marketing in the U.S.\n",
    "\n",
    "### 2) I will emphasize the software functionality in cosmetic dentistry treatment such as orthodontics and prosthodontics in wealthy state, when advertising the software.\n",
    "\n",
    "### 3) I will emphasize the software functionality in appointment unwealthy state, when advertising the software.\n",
    "\n",
    "### 4) Challenges may occur when it comes to defining publicly insured patients, but I will limit the publicly insured patients to the paitients with Medicaid. https://www.medicaid.gov/medicaid/index.html"
   ]
  },
  {
   "cell_type": "code",
   "execution_count": null,
   "metadata": {},
   "outputs": [],
   "source": []
  }
 ],
 "metadata": {
  "kernelspec": {
   "display_name": "Python 3",
   "language": "python",
   "name": "python3"
  },
  "language_info": {
   "codemirror_mode": {
    "name": "ipython",
    "version": 3
   },
   "file_extension": ".py",
   "mimetype": "text/x-python",
   "name": "python",
   "nbconvert_exporter": "python",
   "pygments_lexer": "ipython3",
   "version": "3.7.1"
  }
 },
 "nbformat": 4,
 "nbformat_minor": 2
}
