{
 "cells": [
  {
   "cell_type": "markdown",
   "metadata": {},
   "source": [
    "### Introduction"
   ]
  },
  {
   "cell_type": "code",
   "execution_count": 1,
   "metadata": {},
   "outputs": [],
   "source": [
    "import requests\n",
    "response = requests.get('https://data.texas.gov/resource/naix-2893.json?location_address=2411%20GLENNA%20GOODACRE%20BLVD')\n",
    "results = response.json()"
   ]
  },
  {
   "cell_type": "code",
   "execution_count": 2,
   "metadata": {},
   "outputs": [
    {
     "data": {
      "text/html": [
       "<div>\n",
       "<style scoped>\n",
       "    .dataframe tbody tr th:only-of-type {\n",
       "        vertical-align: middle;\n",
       "    }\n",
       "\n",
       "    .dataframe tbody tr th {\n",
       "        vertical-align: top;\n",
       "    }\n",
       "\n",
       "    .dataframe thead th {\n",
       "        text-align: right;\n",
       "    }\n",
       "</style>\n",
       "<table border=\"1\" class=\"dataframe\">\n",
       "  <thead>\n",
       "    <tr style=\"text-align: right;\">\n",
       "      <th></th>\n",
       "      <th>beer_receipts</th>\n",
       "      <th>cover_charge_receipts</th>\n",
       "      <th>inside_outside_city_limits_code_y_n</th>\n",
       "      <th>liquor_receipts</th>\n",
       "      <th>location_address</th>\n",
       "      <th>location_city</th>\n",
       "      <th>location_county</th>\n",
       "      <th>location_name</th>\n",
       "      <th>location_number</th>\n",
       "      <th>location_state</th>\n",
       "      <th>...</th>\n",
       "      <th>tabc_permit_number</th>\n",
       "      <th>taxpayer_address</th>\n",
       "      <th>taxpayer_city</th>\n",
       "      <th>taxpayer_county</th>\n",
       "      <th>taxpayer_name</th>\n",
       "      <th>taxpayer_number</th>\n",
       "      <th>taxpayer_state</th>\n",
       "      <th>taxpayer_zip</th>\n",
       "      <th>total_receipts</th>\n",
       "      <th>wine_receipts</th>\n",
       "    </tr>\n",
       "  </thead>\n",
       "  <tbody>\n",
       "    <tr>\n",
       "      <th>0</th>\n",
       "      <td>114</td>\n",
       "      <td>0</td>\n",
       "      <td>Y</td>\n",
       "      <td>76</td>\n",
       "      <td>2411 GLENNA GOODACRE BLVD</td>\n",
       "      <td>LUBBOCK</td>\n",
       "      <td>152</td>\n",
       "      <td>CHIPOTLE MEXICAN GRILL</td>\n",
       "      <td>104</td>\n",
       "      <td>TX</td>\n",
       "      <td>...</td>\n",
       "      <td>MB762148</td>\n",
       "      <td>8800 LYRA DR STE 150</td>\n",
       "      <td>COLUMBUS</td>\n",
       "      <td>0</td>\n",
       "      <td>CHIPOTLE TEXAS, L.L.C.</td>\n",
       "      <td>17429444858</td>\n",
       "      <td>OH</td>\n",
       "      <td>43240</td>\n",
       "      <td>190</td>\n",
       "      <td>0</td>\n",
       "    </tr>\n",
       "    <tr>\n",
       "      <th>1</th>\n",
       "      <td>115</td>\n",
       "      <td>0</td>\n",
       "      <td>Y</td>\n",
       "      <td>137</td>\n",
       "      <td>2411 GLENNA GOODACRE BLVD</td>\n",
       "      <td>LUBBOCK</td>\n",
       "      <td>152</td>\n",
       "      <td>CHIPOTLE MEXICAN GRILL</td>\n",
       "      <td>104</td>\n",
       "      <td>TX</td>\n",
       "      <td>...</td>\n",
       "      <td>MB762148</td>\n",
       "      <td>8800 LYRA DR STE 150</td>\n",
       "      <td>COLUMBUS</td>\n",
       "      <td>0</td>\n",
       "      <td>CHIPOTLE TEXAS, L.L.C.</td>\n",
       "      <td>17429444858</td>\n",
       "      <td>OH</td>\n",
       "      <td>43240</td>\n",
       "      <td>252</td>\n",
       "      <td>0</td>\n",
       "    </tr>\n",
       "    <tr>\n",
       "      <th>2</th>\n",
       "      <td>158</td>\n",
       "      <td>0</td>\n",
       "      <td>Y</td>\n",
       "      <td>116</td>\n",
       "      <td>2411 GLENNA GOODACRE BLVD</td>\n",
       "      <td>LUBBOCK</td>\n",
       "      <td>152</td>\n",
       "      <td>CHIPOTLE MEXICAN GRILL</td>\n",
       "      <td>104</td>\n",
       "      <td>TX</td>\n",
       "      <td>...</td>\n",
       "      <td>MB762148</td>\n",
       "      <td>8800 LYRA DR STE 150</td>\n",
       "      <td>COLUMBUS</td>\n",
       "      <td>0</td>\n",
       "      <td>CHIPOTLE TEXAS, L.L.C.</td>\n",
       "      <td>17429444858</td>\n",
       "      <td>OH</td>\n",
       "      <td>43240</td>\n",
       "      <td>274</td>\n",
       "      <td>0</td>\n",
       "    </tr>\n",
       "    <tr>\n",
       "      <th>3</th>\n",
       "      <td>208</td>\n",
       "      <td>0</td>\n",
       "      <td>Y</td>\n",
       "      <td>147</td>\n",
       "      <td>2411 GLENNA GOODACRE BLVD</td>\n",
       "      <td>LUBBOCK</td>\n",
       "      <td>152</td>\n",
       "      <td>CHIPOTLE MEXICAN GRILL</td>\n",
       "      <td>104</td>\n",
       "      <td>TX</td>\n",
       "      <td>...</td>\n",
       "      <td>MB762148</td>\n",
       "      <td>8800 LYRA DR STE 150</td>\n",
       "      <td>COLUMBUS</td>\n",
       "      <td>0</td>\n",
       "      <td>CHIPOTLE TEXAS, L.L.C.</td>\n",
       "      <td>17429444858</td>\n",
       "      <td>OH</td>\n",
       "      <td>43240</td>\n",
       "      <td>355</td>\n",
       "      <td>0</td>\n",
       "    </tr>\n",
       "    <tr>\n",
       "      <th>4</th>\n",
       "      <td>378</td>\n",
       "      <td>0</td>\n",
       "      <td>Y</td>\n",
       "      <td>631</td>\n",
       "      <td>2411 GLENNA GOODACRE BLVD</td>\n",
       "      <td>LUBBOCK</td>\n",
       "      <td>152</td>\n",
       "      <td>CHIPOTLE MEXICAN GRILL</td>\n",
       "      <td>104</td>\n",
       "      <td>TX</td>\n",
       "      <td>...</td>\n",
       "      <td>MB762148</td>\n",
       "      <td>8800 LYRA DR STE 150</td>\n",
       "      <td>COLUMBUS</td>\n",
       "      <td>0</td>\n",
       "      <td>CHIPOTLE TEXAS, L.L.C.</td>\n",
       "      <td>17429444858</td>\n",
       "      <td>OH</td>\n",
       "      <td>43240</td>\n",
       "      <td>1009</td>\n",
       "      <td>0</td>\n",
       "    </tr>\n",
       "  </tbody>\n",
       "</table>\n",
       "<p>5 rows × 23 columns</p>\n",
       "</div>"
      ],
      "text/plain": [
       "  beer_receipts cover_charge_receipts inside_outside_city_limits_code_y_n  \\\n",
       "0           114                     0                                   Y   \n",
       "1           115                     0                                   Y   \n",
       "2           158                     0                                   Y   \n",
       "3           208                     0                                   Y   \n",
       "4           378                     0                                   Y   \n",
       "\n",
       "  liquor_receipts           location_address location_city location_county  \\\n",
       "0              76  2411 GLENNA GOODACRE BLVD       LUBBOCK             152   \n",
       "1             137  2411 GLENNA GOODACRE BLVD       LUBBOCK             152   \n",
       "2             116  2411 GLENNA GOODACRE BLVD       LUBBOCK             152   \n",
       "3             147  2411 GLENNA GOODACRE BLVD       LUBBOCK             152   \n",
       "4             631  2411 GLENNA GOODACRE BLVD       LUBBOCK             152   \n",
       "\n",
       "            location_name location_number location_state      ...       \\\n",
       "0  CHIPOTLE MEXICAN GRILL             104             TX      ...        \n",
       "1  CHIPOTLE MEXICAN GRILL             104             TX      ...        \n",
       "2  CHIPOTLE MEXICAN GRILL             104             TX      ...        \n",
       "3  CHIPOTLE MEXICAN GRILL             104             TX      ...        \n",
       "4  CHIPOTLE MEXICAN GRILL             104             TX      ...        \n",
       "\n",
       "  tabc_permit_number      taxpayer_address taxpayer_city taxpayer_county  \\\n",
       "0           MB762148  8800 LYRA DR STE 150      COLUMBUS               0   \n",
       "1           MB762148  8800 LYRA DR STE 150      COLUMBUS               0   \n",
       "2           MB762148  8800 LYRA DR STE 150      COLUMBUS               0   \n",
       "3           MB762148  8800 LYRA DR STE 150      COLUMBUS               0   \n",
       "4           MB762148  8800 LYRA DR STE 150      COLUMBUS               0   \n",
       "\n",
       "            taxpayer_name taxpayer_number taxpayer_state taxpayer_zip  \\\n",
       "0  CHIPOTLE TEXAS, L.L.C.     17429444858             OH        43240   \n",
       "1  CHIPOTLE TEXAS, L.L.C.     17429444858             OH        43240   \n",
       "2  CHIPOTLE TEXAS, L.L.C.     17429444858             OH        43240   \n",
       "3  CHIPOTLE TEXAS, L.L.C.     17429444858             OH        43240   \n",
       "4  CHIPOTLE TEXAS, L.L.C.     17429444858             OH        43240   \n",
       "\n",
       "  total_receipts wine_receipts  \n",
       "0            190             0  \n",
       "1            252             0  \n",
       "2            274             0  \n",
       "3            355             0  \n",
       "4           1009             0  \n",
       "\n",
       "[5 rows x 23 columns]"
      ]
     },
     "execution_count": 2,
     "metadata": {},
     "output_type": "execute_result"
    }
   ],
   "source": [
    "import pandas as pd\n",
    "results_df = pd.DataFrame(results)\n",
    "results_df.head()"
   ]
  },
  {
   "cell_type": "code",
   "execution_count": 3,
   "metadata": {},
   "outputs": [
    {
     "data": {
      "text/plain": [
       "(102, 23)"
      ]
     },
     "execution_count": 3,
     "metadata": {},
     "output_type": "execute_result"
    }
   ],
   "source": [
    "results_df.shape"
   ]
  },
  {
   "cell_type": "code",
   "execution_count": 4,
   "metadata": {},
   "outputs": [
    {
     "data": {
      "text/html": [
       "<div>\n",
       "<style scoped>\n",
       "    .dataframe tbody tr th:only-of-type {\n",
       "        vertical-align: middle;\n",
       "    }\n",
       "\n",
       "    .dataframe tbody tr th {\n",
       "        vertical-align: top;\n",
       "    }\n",
       "\n",
       "    .dataframe thead th {\n",
       "        text-align: right;\n",
       "    }\n",
       "</style>\n",
       "<table border=\"1\" class=\"dataframe\">\n",
       "  <thead>\n",
       "    <tr style=\"text-align: right;\">\n",
       "      <th></th>\n",
       "      <th>beer_receipts</th>\n",
       "      <th>cover_charge_receipts</th>\n",
       "      <th>inside_outside_city_limits_code_y_n</th>\n",
       "      <th>liquor_receipts</th>\n",
       "      <th>location_address</th>\n",
       "      <th>location_city</th>\n",
       "      <th>location_county</th>\n",
       "      <th>location_name</th>\n",
       "      <th>location_number</th>\n",
       "      <th>location_state</th>\n",
       "      <th>...</th>\n",
       "      <th>tabc_permit_number</th>\n",
       "      <th>taxpayer_address</th>\n",
       "      <th>taxpayer_city</th>\n",
       "      <th>taxpayer_county</th>\n",
       "      <th>taxpayer_name</th>\n",
       "      <th>taxpayer_number</th>\n",
       "      <th>taxpayer_state</th>\n",
       "      <th>taxpayer_zip</th>\n",
       "      <th>total_receipts</th>\n",
       "      <th>wine_receipts</th>\n",
       "    </tr>\n",
       "  </thead>\n",
       "  <tbody>\n",
       "    <tr>\n",
       "      <th>0</th>\n",
       "      <td>114</td>\n",
       "      <td>0</td>\n",
       "      <td>Y</td>\n",
       "      <td>76</td>\n",
       "      <td>2411 GLENNA GOODACRE BLVD</td>\n",
       "      <td>LUBBOCK</td>\n",
       "      <td>152</td>\n",
       "      <td>CHIPOTLE MEXICAN GRILL</td>\n",
       "      <td>104</td>\n",
       "      <td>TX</td>\n",
       "      <td>...</td>\n",
       "      <td>MB762148</td>\n",
       "      <td>8800 LYRA DR STE 150</td>\n",
       "      <td>COLUMBUS</td>\n",
       "      <td>0</td>\n",
       "      <td>CHIPOTLE TEXAS, L.L.C.</td>\n",
       "      <td>17429444858</td>\n",
       "      <td>OH</td>\n",
       "      <td>43240</td>\n",
       "      <td>190</td>\n",
       "      <td>0</td>\n",
       "    </tr>\n",
       "    <tr>\n",
       "      <th>1</th>\n",
       "      <td>115</td>\n",
       "      <td>0</td>\n",
       "      <td>Y</td>\n",
       "      <td>137</td>\n",
       "      <td>2411 GLENNA GOODACRE BLVD</td>\n",
       "      <td>LUBBOCK</td>\n",
       "      <td>152</td>\n",
       "      <td>CHIPOTLE MEXICAN GRILL</td>\n",
       "      <td>104</td>\n",
       "      <td>TX</td>\n",
       "      <td>...</td>\n",
       "      <td>MB762148</td>\n",
       "      <td>8800 LYRA DR STE 150</td>\n",
       "      <td>COLUMBUS</td>\n",
       "      <td>0</td>\n",
       "      <td>CHIPOTLE TEXAS, L.L.C.</td>\n",
       "      <td>17429444858</td>\n",
       "      <td>OH</td>\n",
       "      <td>43240</td>\n",
       "      <td>252</td>\n",
       "      <td>0</td>\n",
       "    </tr>\n",
       "    <tr>\n",
       "      <th>2</th>\n",
       "      <td>158</td>\n",
       "      <td>0</td>\n",
       "      <td>Y</td>\n",
       "      <td>116</td>\n",
       "      <td>2411 GLENNA GOODACRE BLVD</td>\n",
       "      <td>LUBBOCK</td>\n",
       "      <td>152</td>\n",
       "      <td>CHIPOTLE MEXICAN GRILL</td>\n",
       "      <td>104</td>\n",
       "      <td>TX</td>\n",
       "      <td>...</td>\n",
       "      <td>MB762148</td>\n",
       "      <td>8800 LYRA DR STE 150</td>\n",
       "      <td>COLUMBUS</td>\n",
       "      <td>0</td>\n",
       "      <td>CHIPOTLE TEXAS, L.L.C.</td>\n",
       "      <td>17429444858</td>\n",
       "      <td>OH</td>\n",
       "      <td>43240</td>\n",
       "      <td>274</td>\n",
       "      <td>0</td>\n",
       "    </tr>\n",
       "  </tbody>\n",
       "</table>\n",
       "<p>3 rows × 23 columns</p>\n",
       "</div>"
      ],
      "text/plain": [
       "  beer_receipts cover_charge_receipts inside_outside_city_limits_code_y_n  \\\n",
       "0           114                     0                                   Y   \n",
       "1           115                     0                                   Y   \n",
       "2           158                     0                                   Y   \n",
       "\n",
       "  liquor_receipts           location_address location_city location_county  \\\n",
       "0              76  2411 GLENNA GOODACRE BLVD       LUBBOCK             152   \n",
       "1             137  2411 GLENNA GOODACRE BLVD       LUBBOCK             152   \n",
       "2             116  2411 GLENNA GOODACRE BLVD       LUBBOCK             152   \n",
       "\n",
       "            location_name location_number location_state      ...       \\\n",
       "0  CHIPOTLE MEXICAN GRILL             104             TX      ...        \n",
       "1  CHIPOTLE MEXICAN GRILL             104             TX      ...        \n",
       "2  CHIPOTLE MEXICAN GRILL             104             TX      ...        \n",
       "\n",
       "  tabc_permit_number      taxpayer_address taxpayer_city taxpayer_county  \\\n",
       "0           MB762148  8800 LYRA DR STE 150      COLUMBUS               0   \n",
       "1           MB762148  8800 LYRA DR STE 150      COLUMBUS               0   \n",
       "2           MB762148  8800 LYRA DR STE 150      COLUMBUS               0   \n",
       "\n",
       "            taxpayer_name taxpayer_number taxpayer_state taxpayer_zip  \\\n",
       "0  CHIPOTLE TEXAS, L.L.C.     17429444858             OH        43240   \n",
       "1  CHIPOTLE TEXAS, L.L.C.     17429444858             OH        43240   \n",
       "2  CHIPOTLE TEXAS, L.L.C.     17429444858             OH        43240   \n",
       "\n",
       "  total_receipts wine_receipts  \n",
       "0            190             0  \n",
       "1            252             0  \n",
       "2            274             0  \n",
       "\n",
       "[3 rows x 23 columns]"
      ]
     },
     "execution_count": 4,
     "metadata": {},
     "output_type": "execute_result"
    }
   ],
   "source": [
    "top_three = results_df[0:3]\n",
    "top_three"
   ]
  },
  {
   "cell_type": "code",
   "execution_count": 5,
   "metadata": {},
   "outputs": [
    {
     "data": {
      "text/plain": [
       "Index(['beer_receipts', 'cover_charge_receipts',\n",
       "       'inside_outside_city_limits_code_y_n', 'liquor_receipts',\n",
       "       'location_address', 'location_city', 'location_county', 'location_name',\n",
       "       'location_number', 'location_state', 'location_zip',\n",
       "       'obligation_end_date_yyyymmdd', 'responsibility_begin_date_yyyymmdd',\n",
       "       'tabc_permit_number', 'taxpayer_address', 'taxpayer_city',\n",
       "       'taxpayer_county', 'taxpayer_name', 'taxpayer_number', 'taxpayer_state',\n",
       "       'taxpayer_zip', 'total_receipts', 'wine_receipts'],\n",
       "      dtype='object')"
      ]
     },
     "execution_count": 5,
     "metadata": {},
     "output_type": "execute_result"
    }
   ],
   "source": [
    "results_df.columns"
   ]
  },
  {
   "cell_type": "code",
   "execution_count": 6,
   "metadata": {},
   "outputs": [
    {
     "data": {
      "text/html": [
       "<div>\n",
       "<style scoped>\n",
       "    .dataframe tbody tr th:only-of-type {\n",
       "        vertical-align: middle;\n",
       "    }\n",
       "\n",
       "    .dataframe tbody tr th {\n",
       "        vertical-align: top;\n",
       "    }\n",
       "\n",
       "    .dataframe thead th {\n",
       "        text-align: right;\n",
       "    }\n",
       "</style>\n",
       "<table border=\"1\" class=\"dataframe\">\n",
       "  <thead>\n",
       "    <tr style=\"text-align: right;\">\n",
       "      <th></th>\n",
       "      <th>obligation_end_date_yyyymmdd</th>\n",
       "      <th>responsibility_begin_date_yyyymmdd</th>\n",
       "    </tr>\n",
       "  </thead>\n",
       "  <tbody>\n",
       "    <tr>\n",
       "      <th>0</th>\n",
       "      <td>2019-01-31T00:00:00.000</td>\n",
       "      <td>2010-11-19T00:00:00.000</td>\n",
       "    </tr>\n",
       "    <tr>\n",
       "      <th>1</th>\n",
       "      <td>2019-02-28T00:00:00.000</td>\n",
       "      <td>2010-11-19T00:00:00.000</td>\n",
       "    </tr>\n",
       "    <tr>\n",
       "      <th>2</th>\n",
       "      <td>2019-03-31T00:00:00.000</td>\n",
       "      <td>2010-11-19T00:00:00.000</td>\n",
       "    </tr>\n",
       "    <tr>\n",
       "      <th>3</th>\n",
       "      <td>2019-04-30T00:00:00.000</td>\n",
       "      <td>2010-11-19T00:00:00.000</td>\n",
       "    </tr>\n",
       "    <tr>\n",
       "      <th>4</th>\n",
       "      <td>2014-03-31T00:00:00.000</td>\n",
       "      <td>2010-11-19T00:00:00.000</td>\n",
       "    </tr>\n",
       "    <tr>\n",
       "      <th>5</th>\n",
       "      <td>2013-10-31T00:00:00.000</td>\n",
       "      <td>2010-11-19T00:00:00.000</td>\n",
       "    </tr>\n",
       "    <tr>\n",
       "      <th>6</th>\n",
       "      <td>2016-06-30T00:00:00.000</td>\n",
       "      <td>2010-11-19T00:00:00.000</td>\n",
       "    </tr>\n",
       "    <tr>\n",
       "      <th>7</th>\n",
       "      <td>2012-01-31T00:00:00.000</td>\n",
       "      <td>2010-11-19T00:00:00.000</td>\n",
       "    </tr>\n",
       "    <tr>\n",
       "      <th>8</th>\n",
       "      <td>2012-03-31T00:00:00.000</td>\n",
       "      <td>2010-11-19T00:00:00.000</td>\n",
       "    </tr>\n",
       "    <tr>\n",
       "      <th>9</th>\n",
       "      <td>2018-02-28T00:00:00.000</td>\n",
       "      <td>2010-11-19T00:00:00.000</td>\n",
       "    </tr>\n",
       "  </tbody>\n",
       "</table>\n",
       "</div>"
      ],
      "text/plain": [
       "  obligation_end_date_yyyymmdd responsibility_begin_date_yyyymmdd\n",
       "0      2019-01-31T00:00:00.000            2010-11-19T00:00:00.000\n",
       "1      2019-02-28T00:00:00.000            2010-11-19T00:00:00.000\n",
       "2      2019-03-31T00:00:00.000            2010-11-19T00:00:00.000\n",
       "3      2019-04-30T00:00:00.000            2010-11-19T00:00:00.000\n",
       "4      2014-03-31T00:00:00.000            2010-11-19T00:00:00.000\n",
       "5      2013-10-31T00:00:00.000            2010-11-19T00:00:00.000\n",
       "6      2016-06-30T00:00:00.000            2010-11-19T00:00:00.000\n",
       "7      2012-01-31T00:00:00.000            2010-11-19T00:00:00.000\n",
       "8      2012-03-31T00:00:00.000            2010-11-19T00:00:00.000\n",
       "9      2018-02-28T00:00:00.000            2010-11-19T00:00:00.000"
      ]
     },
     "execution_count": 6,
     "metadata": {},
     "output_type": "execute_result"
    }
   ],
   "source": [
    "results_df[['obligation_end_date_yyyymmdd', 'responsibility_begin_date_yyyymmdd']].head(10)"
   ]
  },
  {
   "cell_type": "code",
   "execution_count": 7,
   "metadata": {},
   "outputs": [],
   "source": [
    "beer_and_liquor_df = results_df[['beer_receipts', 'liquor_receipts', 'total_receipts']].apply(pd.to_numeric)"
   ]
  },
  {
   "cell_type": "code",
   "execution_count": 8,
   "metadata": {},
   "outputs": [
    {
     "ename": "AttributeError",
     "evalue": "'Series' object has no attribute 'to_numpy'",
     "output_type": "error",
     "traceback": [
      "\u001b[1;31m---------------------------------------------------------------------------\u001b[0m",
      "\u001b[1;31mAttributeError\u001b[0m                            Traceback (most recent call last)",
      "\u001b[1;32m<ipython-input-8-2871ba3e2611>\u001b[0m in \u001b[0;36m<module>\u001b[1;34m\u001b[0m\n\u001b[1;32m----> 1\u001b[1;33m \u001b[0mbeer_receipts\u001b[0m \u001b[1;33m=\u001b[0m \u001b[0mbeer_and_liquor_df\u001b[0m\u001b[1;33m[\u001b[0m\u001b[1;34m'beer_receipts'\u001b[0m\u001b[1;33m]\u001b[0m\u001b[1;33m.\u001b[0m\u001b[0mto_numpy\u001b[0m\u001b[1;33m(\u001b[0m\u001b[1;33m)\u001b[0m\u001b[1;33m\u001b[0m\u001b[1;33m\u001b[0m\u001b[0m\n\u001b[0m",
      "\u001b[1;32m~\\Anaconda3\\lib\\site-packages\\pandas\\core\\generic.py\u001b[0m in \u001b[0;36m__getattr__\u001b[1;34m(self, name)\u001b[0m\n\u001b[0;32m   4374\u001b[0m             \u001b[1;32mif\u001b[0m \u001b[0mself\u001b[0m\u001b[1;33m.\u001b[0m\u001b[0m_info_axis\u001b[0m\u001b[1;33m.\u001b[0m\u001b[0m_can_hold_identifiers_and_holds_name\u001b[0m\u001b[1;33m(\u001b[0m\u001b[0mname\u001b[0m\u001b[1;33m)\u001b[0m\u001b[1;33m:\u001b[0m\u001b[1;33m\u001b[0m\u001b[1;33m\u001b[0m\u001b[0m\n\u001b[0;32m   4375\u001b[0m                 \u001b[1;32mreturn\u001b[0m \u001b[0mself\u001b[0m\u001b[1;33m[\u001b[0m\u001b[0mname\u001b[0m\u001b[1;33m]\u001b[0m\u001b[1;33m\u001b[0m\u001b[1;33m\u001b[0m\u001b[0m\n\u001b[1;32m-> 4376\u001b[1;33m             \u001b[1;32mreturn\u001b[0m \u001b[0mobject\u001b[0m\u001b[1;33m.\u001b[0m\u001b[0m__getattribute__\u001b[0m\u001b[1;33m(\u001b[0m\u001b[0mself\u001b[0m\u001b[1;33m,\u001b[0m \u001b[0mname\u001b[0m\u001b[1;33m)\u001b[0m\u001b[1;33m\u001b[0m\u001b[1;33m\u001b[0m\u001b[0m\n\u001b[0m\u001b[0;32m   4377\u001b[0m \u001b[1;33m\u001b[0m\u001b[0m\n\u001b[0;32m   4378\u001b[0m     \u001b[1;32mdef\u001b[0m \u001b[0m__setattr__\u001b[0m\u001b[1;33m(\u001b[0m\u001b[0mself\u001b[0m\u001b[1;33m,\u001b[0m \u001b[0mname\u001b[0m\u001b[1;33m,\u001b[0m \u001b[0mvalue\u001b[0m\u001b[1;33m)\u001b[0m\u001b[1;33m:\u001b[0m\u001b[1;33m\u001b[0m\u001b[1;33m\u001b[0m\u001b[0m\n",
      "\u001b[1;31mAttributeError\u001b[0m: 'Series' object has no attribute 'to_numpy'"
     ]
    }
   ],
   "source": [
    "beer_receipts = beer_and_liquor_df['beer_receipts'].to_numpy()"
   ]
  },
  {
   "cell_type": "markdown",
   "metadata": {},
   "source": [
    "- As shown above, .to_numpy does not generate the array that I want. Hence, I used .as_matrix as below:"
   ]
  },
  {
   "cell_type": "code",
   "execution_count": 9,
   "metadata": {},
   "outputs": [
    {
     "name": "stderr",
     "output_type": "stream",
     "text": [
      "C:\\Users\\Minyeong\\Anaconda3\\lib\\site-packages\\ipykernel_launcher.py:1: FutureWarning: Method .as_matrix will be removed in a future version. Use .values instead.\n",
      "  \"\"\"Entry point for launching an IPython kernel.\n"
     ]
    }
   ],
   "source": [
    "beer_receipts = beer_and_liquor_df['beer_receipts'].as_matrix()"
   ]
  },
  {
   "cell_type": "code",
   "execution_count": 10,
   "metadata": {},
   "outputs": [
    {
     "data": {
      "text/plain": [
       "array([114, 115, 158, 208, 378, 409, 153, 346, 504, 162, 187, 515, 442,\n",
       "       103, 429, 278, 158,   0,   0, 538, 297, 590, 438, 398, 115,   0,\n",
       "       129, 535, 208, 313, 407,  93, 498, 394, 308, 615, 354, 381, 175,\n",
       "       251, 160, 378, 517, 337, 460, 394, 196, 211, 323, 148, 149,  88,\n",
       "       204, 777, 508, 128, 244, 251, 266, 381, 115, 147, 165, 434, 516,\n",
       "       256, 396, 218, 315, 235, 160, 149, 187, 559, 410, 292, 650,  86,\n",
       "       530, 142, 194, 187, 205, 527, 143, 584,  92, 249, 267, 171, 472,\n",
       "       385, 643, 455, 185,  97, 367, 342, 497, 527, 310, 387], dtype=int64)"
      ]
     },
     "execution_count": 10,
     "metadata": {},
     "output_type": "execute_result"
    }
   ],
   "source": [
    "beer_receipts"
   ]
  },
  {
   "cell_type": "code",
   "execution_count": 11,
   "metadata": {},
   "outputs": [],
   "source": [
    "liquor_receipts = beer_and_liquor_df['liquor_receipts'].values"
   ]
  },
  {
   "cell_type": "code",
   "execution_count": 12,
   "metadata": {},
   "outputs": [
    {
     "data": {
      "text/plain": [
       "array([ 76, 137, 116, 147, 631, 560, 116,  81, 261, 147, 249, 615, 787,\n",
       "        69, 682,  27,  78,   0,   0, 327, 334, 815, 409, 445,  31,   0,\n",
       "       183, 302, 204, 656, 761,  59, 937, 185, 144, 315, 480, 602, 175,\n",
       "       297, 163, 357, 935, 167, 189, 662, 241,  78, 189, 144, 114, 121,\n",
       "        95, 514, 248, 118, 178, 161, 349, 486,  76, 128, 329, 252, 319,\n",
       "       213, 488, 168, 595, 251, 139, 159, 161, 275, 319, 334, 340, 133,\n",
       "       288,  75,  76, 172, 380, 252, 111, 342, 151, 280, 166, 149, 167,\n",
       "       482, 302, 185, 185,  78, 383, 531, 180, 234, 144, 149], dtype=int64)"
      ]
     },
     "execution_count": 12,
     "metadata": {},
     "output_type": "execute_result"
    }
   ],
   "source": [
    "liquor_receipts"
   ]
  },
  {
   "cell_type": "markdown",
   "metadata": {},
   "source": [
    "### Working with Vectors in Numpy"
   ]
  },
  {
   "cell_type": "markdown",
   "metadata": {},
   "source": [
    "Let's assume that chipotle earns $.20$ in marginal profit for every dollar of liquor sold, and $.10$ of marginal profit for every dollar of beer sold."
   ]
  },
  {
   "cell_type": "markdown",
   "metadata": {},
   "source": [
    "Calculate the marginal profit for liquor for each month."
   ]
  },
  {
   "cell_type": "code",
   "execution_count": 13,
   "metadata": {},
   "outputs": [
    {
     "data": {
      "text/plain": [
       "array([ 15.2,  27.4,  23.2,  29.4, 126.2])"
      ]
     },
     "execution_count": 13,
     "metadata": {},
     "output_type": "execute_result"
    }
   ],
   "source": [
    "marginal_liquor = .20 * liquor_receipts\n",
    "marginal_liquor[0:5]\n",
    "\n",
    "# marginal_liquor[0:5]\n",
    "# array([ 15.2,  27.4,  23.2,  29.4, 126.2])"
   ]
  },
  {
   "cell_type": "code",
   "execution_count": 14,
   "metadata": {},
   "outputs": [
    {
     "data": {
      "text/plain": [
       "array([11.4, 11.5, 15.8, 20.8, 37.8])"
      ]
     },
     "execution_count": 14,
     "metadata": {},
     "output_type": "execute_result"
    }
   ],
   "source": [
    "marginal_beer = .10 * beer_receipts\n",
    "marginal_beer[0:5]\n",
    "\n",
    "# marginal_beer[0:5]\n",
    "# array([11.4, 11.5, 15.8, 20.8, 37.8])"
   ]
  },
  {
   "cell_type": "markdown",
   "metadata": {},
   "source": [
    "Now calculate the total marginal profit on all alcohol sales -- assume that beer and alcohol receipts are the only source of alcohol revenue."
   ]
  },
  {
   "cell_type": "code",
   "execution_count": 15,
   "metadata": {},
   "outputs": [
    {
     "data": {
      "text/plain": [
       "array([ 26.6,  38.9,  39. ,  50.2, 164. , 152.9,  38.5,  50.8, 102.6,\n",
       "        45.6,  68.5, 174.5, 201.6,  24.1, 179.3,  33.2,  31.4,   0. ,\n",
       "         0. , 119.2,  96.5, 222. , 125.6, 128.8,  17.7,   0. ,  49.5,\n",
       "       113.9,  61.6, 162.5, 192.9,  21.1, 237.2,  76.4,  59.6, 124.5,\n",
       "       131.4, 158.5,  52.5,  84.5,  48.6, 109.2, 238.7,  67.1,  83.8,\n",
       "       171.8,  67.8,  36.7,  70.1,  43.6,  37.7,  33. ,  39.4, 180.5,\n",
       "       100.4,  36.4,  60. ,  57.3,  96.4, 135.3,  26.7,  40.3,  82.3,\n",
       "        93.8, 115.4,  68.2, 137.2,  55.4, 150.5,  73.7,  43.8,  46.7,\n",
       "        50.9, 110.9, 104.8,  96. , 133. ,  35.2, 110.6,  29.2,  34.6,\n",
       "        53.1,  96.5, 103.1,  36.5, 126.8,  39.4,  80.9,  59.9,  46.9,\n",
       "        80.6, 134.9, 124.7,  82.5,  55.5,  25.3, 113.3, 140.4,  85.7,\n",
       "        99.5,  59.8,  68.5])"
      ]
     },
     "execution_count": 15,
     "metadata": {},
     "output_type": "execute_result"
    }
   ],
   "source": [
    "total_margins = marginal_liquor + marginal_beer\n",
    "total_margins\n",
    "# Please check your own work for this one"
   ]
  },
  {
   "cell_type": "markdown",
   "metadata": {},
   "source": [
    "Calculate the percentage of revenue that goes towards marginal profits each month."
   ]
  },
  {
   "cell_type": "code",
   "execution_count": 16,
   "metadata": {},
   "outputs": [
    {
     "name": "stderr",
     "output_type": "stream",
     "text": [
      "C:\\Users\\Minyeong\\Anaconda3\\lib\\site-packages\\ipykernel_launcher.py:1: FutureWarning: Method .as_matrix will be removed in a future version. Use .values instead.\n",
      "  \"\"\"Entry point for launching an IPython kernel.\n"
     ]
    },
    {
     "data": {
      "text/plain": [
       "array([ 190,  252,  274,  355, 1009,  969,  269,  427,  765,  309,  436,\n",
       "       1130, 1229,  172, 1111,  305,  236,    0,    0,  865,  631, 1405,\n",
       "        847,  843,  146,    0,  312,  837,  412,  969, 1168,  152, 1435,\n",
       "        579,  452,  930,  834,  983,  350,  548,  323,  735, 1452,  504,\n",
       "        649, 1056,  437,  289,  512,  292,  263,  209,  299, 1291,  756,\n",
       "        246,  422,  412,  615,  867,  191,  275,  494,  686,  835,  469,\n",
       "        884,  386,  910,  486,  299,  308,  348,  834,  729,  626,  990,\n",
       "        219,  818,  217,  270,  359,  585,  779,  254,  926,  243,  529,\n",
       "        433,  320,  639,  867,  945,  640,  370,  175,  750,  873,  677,\n",
       "        761,  454,  536], dtype=int64)"
      ]
     },
     "execution_count": 16,
     "metadata": {},
     "output_type": "execute_result"
    }
   ],
   "source": [
    "total_receipts = beer_and_liquor_df['total_receipts'].as_matrix()\n",
    "total_receipts"
   ]
  },
  {
   "cell_type": "code",
   "execution_count": 17,
   "metadata": {},
   "outputs": [
    {
     "name": "stderr",
     "output_type": "stream",
     "text": [
      "C:\\Users\\Minyeong\\Anaconda3\\lib\\site-packages\\ipykernel_launcher.py:1: RuntimeWarning: invalid value encountered in true_divide\n",
      "  \"\"\"Entry point for launching an IPython kernel.\n"
     ]
    },
    {
     "data": {
      "text/plain": [
       "array([0.14      , 0.15436508, 0.14233577])"
      ]
     },
     "execution_count": 17,
     "metadata": {},
     "output_type": "execute_result"
    }
   ],
   "source": [
    "margin_percentage = total_margins / total_receipts\n",
    "\n",
    "margin_percentage[0:3]\n",
    "\n",
    "# margin_percentage[0:3]\n",
    "# array([0.14      , 0.15436508, 0.14233577])"
   ]
  },
  {
   "cell_type": "markdown",
   "metadata": {},
   "source": [
    "If we look at the array, there are three nan entries."
   ]
  },
  {
   "cell_type": "code",
   "execution_count": 18,
   "metadata": {},
   "outputs": [
    {
     "data": {
      "text/plain": [
       "array([[17],\n",
       "       [18],\n",
       "       [25]], dtype=int64)"
      ]
     },
     "execution_count": 18,
     "metadata": {},
     "output_type": "execute_result"
    }
   ],
   "source": [
    "import numpy as np\n",
    "\n",
    "np.argwhere(np.isnan(margin_percentage))\n",
    "\n",
    "# np.argwhere(np.isnan(margin_percentage))\n",
    "# array([[17],\n",
    "#        [18],\n",
    "#        [25]])"
   ]
  },
  {
   "cell_type": "markdown",
   "metadata": {},
   "source": [
    "Why do you think that is?  Show your reasoning in code."
   ]
  },
  {
   "cell_type": "markdown",
   "metadata": {},
   "source": [
    "- As shown below, total_receipts values for index number 17, 18, 25 are all 0. Hence, (total_margins / total_receipts) is not a number (nan)."
   ]
  },
  {
   "cell_type": "code",
   "execution_count": 19,
   "metadata": {},
   "outputs": [
    {
     "data": {
      "text/plain": [
       "array([ 190,  252,  274,  355, 1009,  969,  269,  427,  765,  309,  436,\n",
       "       1130, 1229,  172, 1111,  305,  236,    0,    0,  865,  631, 1405,\n",
       "        847,  843,  146,    0,  312,  837,  412,  969, 1168,  152, 1435,\n",
       "        579,  452,  930,  834,  983,  350,  548,  323,  735, 1452,  504,\n",
       "        649, 1056,  437,  289,  512,  292,  263,  209,  299, 1291,  756,\n",
       "        246,  422,  412,  615,  867,  191,  275,  494,  686,  835,  469,\n",
       "        884,  386,  910,  486,  299,  308,  348,  834,  729,  626,  990,\n",
       "        219,  818,  217,  270,  359,  585,  779,  254,  926,  243,  529,\n",
       "        433,  320,  639,  867,  945,  640,  370,  175,  750,  873,  677,\n",
       "        761,  454,  536], dtype=int64)"
      ]
     },
     "execution_count": 19,
     "metadata": {},
     "output_type": "execute_result"
    }
   ],
   "source": [
    "total_receipts"
   ]
  },
  {
   "cell_type": "code",
   "execution_count": 20,
   "metadata": {},
   "outputs": [
    {
     "data": {
      "text/plain": [
       "array([0, 0, 0], dtype=int64)"
      ]
     },
     "execution_count": 20,
     "metadata": {},
     "output_type": "execute_result"
    }
   ],
   "source": [
    "indices =[17, 18, 25] \n",
    "np.take(total_receipts, indices) #indexing"
   ]
  },
  {
   "cell_type": "code",
   "execution_count": 21,
   "metadata": {},
   "outputs": [
    {
     "name": "stderr",
     "output_type": "stream",
     "text": [
      "C:\\Users\\Minyeong\\Anaconda3\\lib\\site-packages\\ipykernel_launcher.py:1: RuntimeWarning: invalid value encountered in true_divide\n",
      "  \"\"\"Entry point for launching an IPython kernel.\n"
     ]
    },
    {
     "data": {
      "text/plain": [
       "array([nan, nan, nan])"
      ]
     },
     "execution_count": 21,
     "metadata": {},
     "output_type": "execute_result"
    }
   ],
   "source": [
    "total_margins[indices] / total_receipts[indices]"
   ]
  },
  {
   "cell_type": "markdown",
   "metadata": {},
   "source": [
    "- As shown above code, dividing the total_margins (numerator) at index number of 17, 18, 25 by total_receipts (denominator or divisor) at index number of 17, 18, 25 respectively generates nan(not a number) because the total_receipts value (denominator or divisor) for each index number is 0."
   ]
  },
  {
   "cell_type": "markdown",
   "metadata": {},
   "source": [
    "### Summary"
   ]
  },
  {
   "cell_type": "markdown",
   "metadata": {},
   "source": [
    "Great job!  In this lesson we practiced adding and multiplying vectors in numpy."
   ]
  }
 ],
 "metadata": {
  "kernelspec": {
   "display_name": "Python 3",
   "language": "python",
   "name": "python3"
  }
 },
 "nbformat": 4,
 "nbformat_minor": 2
}
