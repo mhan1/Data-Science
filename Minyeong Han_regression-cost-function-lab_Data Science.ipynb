{
 "cells": [
  {
   "cell_type": "markdown",
   "metadata": {},
   "source": [
    "# Evaluating a model lab"
   ]
  },
  {
   "cell_type": "markdown",
   "metadata": {},
   "source": [
    "## Review: building a model"
   ]
  },
  {
   "cell_type": "markdown",
   "metadata": {},
   "source": [
    "### 1. Reviewing our data"
   ]
  },
  {
   "cell_type": "markdown",
   "metadata": {},
   "source": [
    "Let's take another look at our restaurant data. Below we have data showing the temperatures and number of restaurant customers over five days."
   ]
  },
  {
   "cell_type": "markdown",
   "metadata": {},
   "source": [
    "| temperature        | actual customers           \n",
    "| ------------- |:-------------:| \n",
    "|    80       | 120 | \n",
    "|    65        | 100 | \n",
    "|    50        | 85 | \n",
    "|    70        | 100 | \n",
    "|    60        | 90 | \n"
   ]
  },
  {
   "cell_type": "markdown",
   "metadata": {},
   "source": [
    "We'll use our `trace_values` method to plot this data."
   ]
  },
  {
   "cell_type": "code",
   "execution_count": 1,
   "metadata": {},
   "outputs": [],
   "source": [
    "temperatures = [80, 65, 50, 70, 60]\n",
    "amounts = [120, 100, 85, 100, 90]"
   ]
  },
  {
   "cell_type": "code",
   "execution_count": 2,
   "metadata": {},
   "outputs": [
    {
     "data": {
      "text/html": [
       "<script type=\"text/javascript\">window.PlotlyConfig = {MathJaxConfig: 'local'};</script><script type=\"text/javascript\">if (window.MathJax) {MathJax.Hub.Config({SVG: {font: \"STIX-Web\"}});}</script><script>requirejs.config({paths: { 'plotly': ['https://cdn.plot.ly/plotly-latest.min']},});if(!window._Plotly) {require(['plotly'],function(plotly) {window._Plotly=plotly;});}</script>"
      ],
      "text/vnd.plotly.v1+html": [
       "<script type=\"text/javascript\">window.PlotlyConfig = {MathJaxConfig: 'local'};</script><script type=\"text/javascript\">if (window.MathJax) {MathJax.Hub.Config({SVG: {font: \"STIX-Web\"}});}</script><script>requirejs.config({paths: { 'plotly': ['https://cdn.plot.ly/plotly-latest.min']},});if(!window._Plotly) {require(['plotly'],function(plotly) {window._Plotly=plotly;});}</script>"
      ]
     },
     "metadata": {},
     "output_type": "display_data"
    },
    {
     "data": {
      "application/vnd.plotly.v1+json": {
       "config": {
        "linkText": "Export to plot.ly",
        "plotlyServerURL": "https://plot.ly",
        "showLink": false
       },
       "data": [
        {
         "mode": "markers",
         "name": "data",
         "text": [],
         "type": "scatter",
         "uid": "c305c067-7fc9-4840-a22e-18721e05155a",
         "x": [
          80,
          65,
          50,
          70,
          60
         ],
         "y": [
          120,
          100,
          85,
          100,
          90
         ]
        }
       ],
       "layout": {}
      },
      "text/html": [
       "<div id=\"edf6b1f1-69ac-4675-8a29-3566334742e4\" style=\"height: 525px; width: 100%;\" class=\"plotly-graph-div\"></div><script type=\"text/javascript\">require([\"plotly\"], function(Plotly) { window.PLOTLYENV=window.PLOTLYENV || {};window.PLOTLYENV.BASE_URL=\"https://plot.ly\";\n",
       "if (document.getElementById(\"edf6b1f1-69ac-4675-8a29-3566334742e4\")) {\n",
       "    Plotly.newPlot(\"edf6b1f1-69ac-4675-8a29-3566334742e4\", [{\"mode\": \"markers\", \"name\": \"data\", \"text\": [], \"x\": [80, 65, 50, 70, 60], \"y\": [120, 100, 85, 100, 90], \"type\": \"scatter\", \"uid\": \"379abc11-45e5-4c02-a23c-bfcd7ce73053\"}], {}, {\"showLink\": false, \"linkText\": \"Export to plot.ly\", \"plotlyServerURL\": \"https://plot.ly\"}); \n",
       "}\n",
       "});</script><script type=\"text/javascript\">window.addEventListener(\"resize\", function(){if (document.getElementById(\"edf6b1f1-69ac-4675-8a29-3566334742e4\")) {window._Plotly.Plots.resize(document.getElementById(\"edf6b1f1-69ac-4675-8a29-3566334742e4\"));};})</script>"
      ],
      "text/vnd.plotly.v1+html": [
       "<div id=\"edf6b1f1-69ac-4675-8a29-3566334742e4\" style=\"height: 525px; width: 100%;\" class=\"plotly-graph-div\"></div><script type=\"text/javascript\">require([\"plotly\"], function(Plotly) { window.PLOTLYENV=window.PLOTLYENV || {};window.PLOTLYENV.BASE_URL=\"https://plot.ly\";\n",
       "if (document.getElementById(\"edf6b1f1-69ac-4675-8a29-3566334742e4\")) {\n",
       "    Plotly.newPlot(\"edf6b1f1-69ac-4675-8a29-3566334742e4\", [{\"mode\": \"markers\", \"name\": \"data\", \"text\": [], \"x\": [80, 65, 50, 70, 60], \"y\": [120, 100, 85, 100, 90], \"type\": \"scatter\", \"uid\": \"379abc11-45e5-4c02-a23c-bfcd7ce73053\"}], {}, {\"showLink\": false, \"linkText\": \"Export to plot.ly\", \"plotlyServerURL\": \"https://plot.ly\"}); \n",
       "}\n",
       "});</script><script type=\"text/javascript\">window.addEventListener(\"resize\", function(){if (document.getElementById(\"edf6b1f1-69ac-4675-8a29-3566334742e4\")) {window._Plotly.Plots.resize(document.getElementById(\"edf6b1f1-69ac-4675-8a29-3566334742e4\"));};})</script>"
      ]
     },
     "metadata": {},
     "output_type": "display_data"
    }
   ],
   "source": [
    "from graph import trace_values, plot\n",
    "data_trace = trace_values(temperatures, amounts)\n",
    "plot([data_trace])"
   ]
  },
  {
   "cell_type": "markdown",
   "metadata": {},
   "source": [
    "### 2. Building a model"
   ]
  },
  {
   "cell_type": "markdown",
   "metadata": {},
   "source": [
    "We start to see that there's an association between temperature and the amount of customers in the restaurant.  It looks like an increase in temperature is associated with an increase in temperature, so we start with the following formula as our machine learning model.\n",
    "\n",
    "$$ amount\\_of\\_customers = 1.3 * temperature $$"
   ]
  },
  {
   "cell_type": "markdown",
   "metadata": {},
   "source": [
    "Now we can translate this into formula into the following function."
   ]
  },
  {
   "cell_type": "code",
   "execution_count": 3,
   "metadata": {},
   "outputs": [],
   "source": [
    "def predicted_customers(temperature):\n",
    "    return 1.3*temperature"
   ]
  },
  {
   "cell_type": "code",
   "execution_count": 4,
   "metadata": {},
   "outputs": [
    {
     "data": {
      "text/plain": [
       "int"
      ]
     },
     "execution_count": 4,
     "metadata": {},
     "output_type": "execute_result"
    }
   ],
   "source": [
    "type(temperatures[0])"
   ]
  },
  {
   "cell_type": "code",
   "execution_count": 5,
   "metadata": {},
   "outputs": [
    {
     "data": {
      "text/plain": [
       "list"
      ]
     },
     "execution_count": 5,
     "metadata": {},
     "output_type": "execute_result"
    }
   ],
   "source": [
    "type(temperatures)"
   ]
  },
  {
   "cell_type": "code",
   "execution_count": 6,
   "metadata": {},
   "outputs": [
    {
     "data": {
      "text/plain": [
       "104.0"
      ]
     },
     "execution_count": 6,
     "metadata": {},
     "output_type": "execute_result"
    }
   ],
   "source": [
    "predicted_customers(temperatures[0])"
   ]
  },
  {
   "cell_type": "markdown",
   "metadata": {},
   "source": [
    "- I defined the function below to generate the list of expected customers as below:"
   ]
  },
  {
   "cell_type": "code",
   "execution_count": 7,
   "metadata": {},
   "outputs": [],
   "source": [
    "def predicted_customers(temps):\n",
    "    predicted_cust = []\n",
    "    for temp in temps:\n",
    "        customer = 1.3 * temp\n",
    "        predicted_cust.append(customer)\n",
    "    return predicted_cust  "
   ]
  },
  {
   "cell_type": "code",
   "execution_count": 8,
   "metadata": {},
   "outputs": [
    {
     "data": {
      "text/plain": [
       "[104.0, 84.5, 65.0, 91.0, 78.0]"
      ]
     },
     "execution_count": 8,
     "metadata": {},
     "output_type": "execute_result"
    }
   ],
   "source": [
    "predicted_customers(temperatures)"
   ]
  },
  {
   "cell_type": "markdown",
   "metadata": {},
   "source": [
    "And we can plot these like so."
   ]
  },
  {
   "cell_type": "code",
   "execution_count": 9,
   "metadata": {},
   "outputs": [
    {
     "data": {
      "application/vnd.plotly.v1+json": {
       "config": {
        "linkText": "Export to plot.ly",
        "plotlyServerURL": "https://plot.ly",
        "showLink": false
       },
       "data": [
        {
         "mode": "markers",
         "name": "actual",
         "text": [],
         "type": "scatter",
         "uid": "2475f801-20a4-4bd7-91c4-4da64f622f19",
         "x": [
          80,
          65,
          50,
          70,
          60
         ],
         "y": [
          120,
          100,
          85,
          100,
          90
         ]
        },
        {
         "mode": "lines",
         "name": "expected",
         "text": [],
         "type": "scatter",
         "uid": "ff89ba02-3b37-402a-9e91-89d523e32378",
         "x": [
          80,
          65,
          50,
          70,
          60
         ],
         "y": [
          104,
          84.5,
          65,
          91,
          78
         ]
        }
       ],
       "layout": {
        "xaxis": {
         "title": {
          "text": "temperature"
         }
        },
        "yaxis": {
         "title": {
          "text": "customers"
         }
        }
       }
      },
      "text/html": [
       "<div id=\"892f92f7-c9a0-4dd1-ad8e-952f08e1ad8b\" style=\"height: 525px; width: 100%;\" class=\"plotly-graph-div\"></div><script type=\"text/javascript\">require([\"plotly\"], function(Plotly) { window.PLOTLYENV=window.PLOTLYENV || {};window.PLOTLYENV.BASE_URL=\"https://plot.ly\";\n",
       "if (document.getElementById(\"892f92f7-c9a0-4dd1-ad8e-952f08e1ad8b\")) {\n",
       "    Plotly.newPlot(\"892f92f7-c9a0-4dd1-ad8e-952f08e1ad8b\", [{\"mode\": \"markers\", \"name\": \"actual\", \"text\": [], \"x\": [80, 65, 50, 70, 60], \"y\": [120, 100, 85, 100, 90], \"type\": \"scatter\", \"uid\": \"21f15806-fdf4-42e8-bcd2-886f56bd7121\"}, {\"mode\": \"lines\", \"name\": \"expected\", \"text\": [], \"x\": [80, 65, 50, 70, 60], \"y\": [104.0, 84.5, 65.0, 91.0, 78.0], \"type\": \"scatter\", \"uid\": \"1d993e79-fcea-4496-8152-d95392fbe817\"}], {\"xaxis\": {\"title\": {\"text\": \"temperature\"}}, \"yaxis\": {\"title\": {\"text\": \"customers\"}}}, {\"showLink\": false, \"linkText\": \"Export to plot.ly\", \"plotlyServerURL\": \"https://plot.ly\"}); \n",
       "}\n",
       "});</script><script type=\"text/javascript\">window.addEventListener(\"resize\", function(){if (document.getElementById(\"892f92f7-c9a0-4dd1-ad8e-952f08e1ad8b\")) {window._Plotly.Plots.resize(document.getElementById(\"892f92f7-c9a0-4dd1-ad8e-952f08e1ad8b\"));};})</script>"
      ],
      "text/vnd.plotly.v1+html": [
       "<div id=\"892f92f7-c9a0-4dd1-ad8e-952f08e1ad8b\" style=\"height: 525px; width: 100%;\" class=\"plotly-graph-div\"></div><script type=\"text/javascript\">require([\"plotly\"], function(Plotly) { window.PLOTLYENV=window.PLOTLYENV || {};window.PLOTLYENV.BASE_URL=\"https://plot.ly\";\n",
       "if (document.getElementById(\"892f92f7-c9a0-4dd1-ad8e-952f08e1ad8b\")) {\n",
       "    Plotly.newPlot(\"892f92f7-c9a0-4dd1-ad8e-952f08e1ad8b\", [{\"mode\": \"markers\", \"name\": \"actual\", \"text\": [], \"x\": [80, 65, 50, 70, 60], \"y\": [120, 100, 85, 100, 90], \"type\": \"scatter\", \"uid\": \"21f15806-fdf4-42e8-bcd2-886f56bd7121\"}, {\"mode\": \"lines\", \"name\": \"expected\", \"text\": [], \"x\": [80, 65, 50, 70, 60], \"y\": [104.0, 84.5, 65.0, 91.0, 78.0], \"type\": \"scatter\", \"uid\": \"1d993e79-fcea-4496-8152-d95392fbe817\"}], {\"xaxis\": {\"title\": {\"text\": \"temperature\"}}, \"yaxis\": {\"title\": {\"text\": \"customers\"}}}, {\"showLink\": false, \"linkText\": \"Export to plot.ly\", \"plotlyServerURL\": \"https://plot.ly\"}); \n",
       "}\n",
       "});</script><script type=\"text/javascript\">window.addEventListener(\"resize\", function(){if (document.getElementById(\"892f92f7-c9a0-4dd1-ad8e-952f08e1ad8b\")) {window._Plotly.Plots.resize(document.getElementById(\"892f92f7-c9a0-4dd1-ad8e-952f08e1ad8b\"));};})</script>"
      ]
     },
     "metadata": {},
     "output_type": "display_data"
    }
   ],
   "source": [
    "from graph import trace_values, plot\n",
    "data_trace = trace_values(temperatures, amounts, name = 'actual')\n",
    "predicted_amounts = list(map(lambda temperature: 1.3*temperature,temperatures))\n",
    "model_trace = trace_values(temperatures, predicted_amounts, name = 'expected', mode = 'lines')\n",
    "\n",
    "layout = {'yaxis': {'title': 'customers'}, 'xaxis': {'title': 'temperature'}}\n",
    "plot([data_trace, model_trace], layout = layout)"
   ]
  },
  {
   "cell_type": "markdown",
   "metadata": {},
   "source": [
    "## Do: Evaluate the model"
   ]
  },
  {
   "cell_type": "markdown",
   "metadata": {},
   "source": [
    "To evaluate the model, let's start by calculating the error at each point."
   ]
  },
  {
   "cell_type": "markdown",
   "metadata": {},
   "source": [
    "| temperature   | actual customers | expected customers| error | \n",
    "| ------------- |:-------------:   |:-----------------:|:-----:| \n",
    "|    80         | 120              | 104               | ?     |\n",
    "|    65         | 100              | 84.5              | ?     |\n",
    "|    50         | 85               | 65                | 20    |\n",
    "|    70         | 100              | 91                | 9     |\n",
    "|    60         | 90               | 78                | 12    |\n"
   ]
  },
  {
   "cell_type": "markdown",
   "metadata": {},
   "source": [
    "- I corrected the error_day_3 in the above table from 15 into 85 - 65 = 20."
   ]
  },
  {
   "cell_type": "code",
   "execution_count": 10,
   "metadata": {},
   "outputs": [
    {
     "data": {
      "text/plain": [
       "16"
      ]
     },
     "execution_count": 10,
     "metadata": {},
     "output_type": "execute_result"
    }
   ],
   "source": [
    "error_day_1 = 120 - 104\n",
    "error_day_1"
   ]
  },
  {
   "cell_type": "code",
   "execution_count": 11,
   "metadata": {},
   "outputs": [
    {
     "data": {
      "text/plain": [
       "15.5"
      ]
     },
     "execution_count": 11,
     "metadata": {},
     "output_type": "execute_result"
    }
   ],
   "source": [
    "error_day_2 = 100 - 84.5\n",
    "error_day_2"
   ]
  },
  {
   "cell_type": "markdown",
   "metadata": {},
   "source": [
    "Ok, now it we should even be able to write a function that calculates the error at each point."
   ]
  },
  {
   "cell_type": "code",
   "execution_count": 12,
   "metadata": {},
   "outputs": [],
   "source": [
    "def error(actual, expected):\n",
    "    return actual - expected"
   ]
  },
  {
   "cell_type": "code",
   "execution_count": 13,
   "metadata": {},
   "outputs": [
    {
     "data": {
      "text/plain": [
       "16"
      ]
     },
     "execution_count": 13,
     "metadata": {},
     "output_type": "execute_result"
    }
   ],
   "source": [
    "error(120, 104)\n",
    "# 16"
   ]
  },
  {
   "cell_type": "markdown",
   "metadata": {},
   "source": [
    "And a function that allows us to pass through a list of actual data, a separate list of expected data, and return a list of errors."
   ]
  },
  {
   "cell_type": "code",
   "execution_count": 14,
   "metadata": {},
   "outputs": [],
   "source": [
    "def errors(actuals, expecteds):\n",
    "    return list(actual - expected for actual, expected in zip(actuals, expecteds))"
   ]
  },
  {
   "cell_type": "markdown",
   "metadata": {},
   "source": [
    "> Hint: One way to do this is to use the Python function `zip` - Google to see how."
   ]
  },
  {
   "cell_type": "code",
   "execution_count": 15,
   "metadata": {},
   "outputs": [
    {
     "data": {
      "text/plain": [
       "[16.0, 15.5, 20.0, 9.0, 12.0]"
      ]
     },
     "execution_count": 15,
     "metadata": {},
     "output_type": "execute_result"
    }
   ],
   "source": [
    "amounts =  [120, 100, 85, 100, 90]\n",
    "predicted_amounts = [104.0, 84.5, 65.0, 91.0, 78.0]\n",
    "\n",
    "calculated_errors = errors(amounts, predicted_amounts)\n",
    "calculated_errors\n",
    "# [16.0, 15.5, 20.0, 9.0, 12.0]"
   ]
  },
  {
   "cell_type": "markdown",
   "metadata": {},
   "source": [
    "Now let's add our errors to our traces above."
   ]
  },
  {
   "cell_type": "markdown",
   "metadata": {},
   "source": [
    "> Press shift enter below.  If you're curious as to how `error_line_traces` works, inspect the function in the `error.py` file."
   ]
  },
  {
   "cell_type": "code",
   "execution_count": 16,
   "metadata": {},
   "outputs": [
    {
     "data": {
      "application/vnd.plotly.v1+json": {
       "config": {
        "linkText": "Export to plot.ly",
        "plotlyServerURL": "https://plot.ly",
        "showLink": false
       },
       "data": [
        {
         "mode": "markers",
         "name": "actual",
         "text": [],
         "type": "scatter",
         "uid": "3c40dda3-7e80-4ed5-a9d6-fec5769f680a",
         "x": [
          80,
          65,
          50,
          70,
          60
         ],
         "y": [
          120,
          100,
          85,
          100,
          90
         ]
        },
        {
         "mode": "lines",
         "name": "expected",
         "text": [],
         "type": "scatter",
         "uid": "5b9979b3-8604-4b58-a567-4479d4d2e154",
         "x": [
          80,
          65,
          50,
          70,
          60
         ],
         "y": [
          104,
          84.5,
          65,
          91,
          78
         ]
        },
        {
         "hoverinfo": "none",
         "marker": {
          "color": "red"
         },
         "mode": "lines",
         "name": "error at 80",
         "text": [
          "16.0"
         ],
         "textposition": "top right",
         "type": "scatter",
         "uid": "1c6a319f-0012-4993-8ec5-8704ace9f324",
         "x": [
          80,
          80
         ],
         "y": [
          104,
          120
         ]
        },
        {
         "hoverinfo": "none",
         "marker": {
          "color": "red"
         },
         "mode": "lines",
         "name": "error at 65",
         "text": [
          "15.5"
         ],
         "textposition": "top right",
         "type": "scatter",
         "uid": "2e05cbf9-0e4c-4499-b07c-96a36b580168",
         "x": [
          65,
          65
         ],
         "y": [
          84.5,
          100
         ]
        },
        {
         "hoverinfo": "none",
         "marker": {
          "color": "red"
         },
         "mode": "lines",
         "name": "error at 50",
         "text": [
          "20.0"
         ],
         "textposition": "top right",
         "type": "scatter",
         "uid": "d0568ce1-9e02-43c8-b1a2-4429a798de49",
         "x": [
          50,
          50
         ],
         "y": [
          65,
          85
         ]
        },
        {
         "hoverinfo": "none",
         "marker": {
          "color": "red"
         },
         "mode": "lines",
         "name": "error at 70",
         "text": [
          "9.0"
         ],
         "textposition": "top right",
         "type": "scatter",
         "uid": "c4367a15-0463-4049-9f1b-0e8e83cbc0be",
         "x": [
          70,
          70
         ],
         "y": [
          91,
          100
         ]
        },
        {
         "hoverinfo": "none",
         "marker": {
          "color": "red"
         },
         "mode": "lines",
         "name": "error at 60",
         "text": [
          "12.0"
         ],
         "textposition": "top right",
         "type": "scatter",
         "uid": "61f4c69a-62cd-48e2-b816-1ee126471ce0",
         "x": [
          60,
          60
         ],
         "y": [
          78,
          90
         ]
        }
       ],
       "layout": {
        "xaxis": {
         "title": {
          "text": "temperature"
         }
        },
        "yaxis": {
         "title": {
          "text": "customers"
         }
        }
       }
      },
      "text/html": [
       "<div id=\"494375d4-98ab-4a72-85aa-4ae8117bb2ab\" style=\"height: 525px; width: 100%;\" class=\"plotly-graph-div\"></div><script type=\"text/javascript\">require([\"plotly\"], function(Plotly) { window.PLOTLYENV=window.PLOTLYENV || {};window.PLOTLYENV.BASE_URL=\"https://plot.ly\";\n",
       "if (document.getElementById(\"494375d4-98ab-4a72-85aa-4ae8117bb2ab\")) {\n",
       "    Plotly.newPlot(\"494375d4-98ab-4a72-85aa-4ae8117bb2ab\", [{\"mode\": \"markers\", \"name\": \"actual\", \"text\": [], \"x\": [80, 65, 50, 70, 60], \"y\": [120, 100, 85, 100, 90], \"type\": \"scatter\", \"uid\": \"62fd9504-2926-4c5e-8ec0-6ef46f9f41e8\"}, {\"mode\": \"lines\", \"name\": \"expected\", \"text\": [], \"x\": [80, 65, 50, 70, 60], \"y\": [104.0, 84.5, 65.0, 91.0, 78.0], \"type\": \"scatter\", \"uid\": \"1737c512-1ad8-4c74-8f20-ffceb4e12e17\"}, {\"hoverinfo\": \"none\", \"marker\": {\"color\": \"red\"}, \"mode\": \"lines\", \"name\": \"error at 80\", \"text\": [\"16.0\"], \"textposition\": \"top right\", \"x\": [80, 80], \"y\": [104.0, 120], \"type\": \"scatter\", \"uid\": \"33cdd010-ee41-4abc-b2c5-d97c0db8b680\"}, {\"hoverinfo\": \"none\", \"marker\": {\"color\": \"red\"}, \"mode\": \"lines\", \"name\": \"error at 65\", \"text\": [\"15.5\"], \"textposition\": \"top right\", \"x\": [65, 65], \"y\": [84.5, 100], \"type\": \"scatter\", \"uid\": \"29d74af0-dcaf-4925-9642-d90ea31b9741\"}, {\"hoverinfo\": \"none\", \"marker\": {\"color\": \"red\"}, \"mode\": \"lines\", \"name\": \"error at 50\", \"text\": [\"20.0\"], \"textposition\": \"top right\", \"x\": [50, 50], \"y\": [65.0, 85], \"type\": \"scatter\", \"uid\": \"a01cf6dc-261f-439e-b9e4-855ddd5dd95d\"}, {\"hoverinfo\": \"none\", \"marker\": {\"color\": \"red\"}, \"mode\": \"lines\", \"name\": \"error at 70\", \"text\": [\"9.0\"], \"textposition\": \"top right\", \"x\": [70, 70], \"y\": [91.0, 100], \"type\": \"scatter\", \"uid\": \"ad279820-adf6-49e7-b5d9-15792e668eec\"}, {\"hoverinfo\": \"none\", \"marker\": {\"color\": \"red\"}, \"mode\": \"lines\", \"name\": \"error at 60\", \"text\": [\"12.0\"], \"textposition\": \"top right\", \"x\": [60, 60], \"y\": [78.0, 90], \"type\": \"scatter\", \"uid\": \"87b36bf4-8c90-4647-84b6-1e97b89c2342\"}], {\"xaxis\": {\"title\": {\"text\": \"temperature\"}}, \"yaxis\": {\"title\": {\"text\": \"customers\"}}}, {\"showLink\": false, \"linkText\": \"Export to plot.ly\", \"plotlyServerURL\": \"https://plot.ly\"}); \n",
       "}\n",
       "});</script><script type=\"text/javascript\">window.addEventListener(\"resize\", function(){if (document.getElementById(\"494375d4-98ab-4a72-85aa-4ae8117bb2ab\")) {window._Plotly.Plots.resize(document.getElementById(\"494375d4-98ab-4a72-85aa-4ae8117bb2ab\"));};})</script>"
      ],
      "text/vnd.plotly.v1+html": [
       "<div id=\"494375d4-98ab-4a72-85aa-4ae8117bb2ab\" style=\"height: 525px; width: 100%;\" class=\"plotly-graph-div\"></div><script type=\"text/javascript\">require([\"plotly\"], function(Plotly) { window.PLOTLYENV=window.PLOTLYENV || {};window.PLOTLYENV.BASE_URL=\"https://plot.ly\";\n",
       "if (document.getElementById(\"494375d4-98ab-4a72-85aa-4ae8117bb2ab\")) {\n",
       "    Plotly.newPlot(\"494375d4-98ab-4a72-85aa-4ae8117bb2ab\", [{\"mode\": \"markers\", \"name\": \"actual\", \"text\": [], \"x\": [80, 65, 50, 70, 60], \"y\": [120, 100, 85, 100, 90], \"type\": \"scatter\", \"uid\": \"62fd9504-2926-4c5e-8ec0-6ef46f9f41e8\"}, {\"mode\": \"lines\", \"name\": \"expected\", \"text\": [], \"x\": [80, 65, 50, 70, 60], \"y\": [104.0, 84.5, 65.0, 91.0, 78.0], \"type\": \"scatter\", \"uid\": \"1737c512-1ad8-4c74-8f20-ffceb4e12e17\"}, {\"hoverinfo\": \"none\", \"marker\": {\"color\": \"red\"}, \"mode\": \"lines\", \"name\": \"error at 80\", \"text\": [\"16.0\"], \"textposition\": \"top right\", \"x\": [80, 80], \"y\": [104.0, 120], \"type\": \"scatter\", \"uid\": \"33cdd010-ee41-4abc-b2c5-d97c0db8b680\"}, {\"hoverinfo\": \"none\", \"marker\": {\"color\": \"red\"}, \"mode\": \"lines\", \"name\": \"error at 65\", \"text\": [\"15.5\"], \"textposition\": \"top right\", \"x\": [65, 65], \"y\": [84.5, 100], \"type\": \"scatter\", \"uid\": \"29d74af0-dcaf-4925-9642-d90ea31b9741\"}, {\"hoverinfo\": \"none\", \"marker\": {\"color\": \"red\"}, \"mode\": \"lines\", \"name\": \"error at 50\", \"text\": [\"20.0\"], \"textposition\": \"top right\", \"x\": [50, 50], \"y\": [65.0, 85], \"type\": \"scatter\", \"uid\": \"a01cf6dc-261f-439e-b9e4-855ddd5dd95d\"}, {\"hoverinfo\": \"none\", \"marker\": {\"color\": \"red\"}, \"mode\": \"lines\", \"name\": \"error at 70\", \"text\": [\"9.0\"], \"textposition\": \"top right\", \"x\": [70, 70], \"y\": [91.0, 100], \"type\": \"scatter\", \"uid\": \"ad279820-adf6-49e7-b5d9-15792e668eec\"}, {\"hoverinfo\": \"none\", \"marker\": {\"color\": \"red\"}, \"mode\": \"lines\", \"name\": \"error at 60\", \"text\": [\"12.0\"], \"textposition\": \"top right\", \"x\": [60, 60], \"y\": [78.0, 90], \"type\": \"scatter\", \"uid\": \"87b36bf4-8c90-4647-84b6-1e97b89c2342\"}], {\"xaxis\": {\"title\": {\"text\": \"temperature\"}}, \"yaxis\": {\"title\": {\"text\": \"customers\"}}}, {\"showLink\": false, \"linkText\": \"Export to plot.ly\", \"plotlyServerURL\": \"https://plot.ly\"}); \n",
       "}\n",
       "});</script><script type=\"text/javascript\">window.addEventListener(\"resize\", function(){if (document.getElementById(\"494375d4-98ab-4a72-85aa-4ae8117bb2ab\")) {window._Plotly.Plots.resize(document.getElementById(\"494375d4-98ab-4a72-85aa-4ae8117bb2ab\"));};})</script>"
      ]
     },
     "metadata": {},
     "output_type": "display_data"
    }
   ],
   "source": [
    "from error import error_line_traces\n",
    "error_traces = error_line_traces(temperatures, amounts, calculated_errors)\n",
    "plot([data_trace, model_trace, *error_traces], layout = layout)"
   ]
  },
  {
   "cell_type": "markdown",
   "metadata": {},
   "source": [
    "- I just tried to show only the error_traces by importing the plotly library out of curiosity as below:"
   ]
  },
  {
   "cell_type": "code",
   "execution_count": 17,
   "metadata": {},
   "outputs": [
    {
     "data": {
      "text/html": [
       "<script type=\"text/javascript\">window.PlotlyConfig = {MathJaxConfig: 'local'};</script><script type=\"text/javascript\">if (window.MathJax) {MathJax.Hub.Config({SVG: {font: \"STIX-Web\"}});}</script><script>requirejs.config({paths: { 'plotly': ['https://cdn.plot.ly/plotly-latest.min']},});if(!window._Plotly) {require(['plotly'],function(plotly) {window._Plotly=plotly;});}</script>"
      ],
      "text/vnd.plotly.v1+html": [
       "<script type=\"text/javascript\">window.PlotlyConfig = {MathJaxConfig: 'local'};</script><script type=\"text/javascript\">if (window.MathJax) {MathJax.Hub.Config({SVG: {font: \"STIX-Web\"}});}</script><script>requirejs.config({paths: { 'plotly': ['https://cdn.plot.ly/plotly-latest.min']},});if(!window._Plotly) {require(['plotly'],function(plotly) {window._Plotly=plotly;});}</script>"
      ]
     },
     "metadata": {},
     "output_type": "display_data"
    },
    {
     "data": {
      "application/vnd.plotly.v1+json": {
       "config": {
        "linkText": "Export to plot.ly",
        "plotlyServerURL": "https://plot.ly",
        "showLink": false
       },
       "data": [
        {
         "hoverinfo": "none",
         "marker": {
          "color": "red"
         },
         "mode": "lines",
         "name": "error at 80",
         "text": [
          "16.0"
         ],
         "textposition": "top right",
         "type": "scatter",
         "uid": "320e6604-2ce5-4fe7-b2f7-c4d759b110c5",
         "x": [
          80,
          80
         ],
         "y": [
          104,
          120
         ]
        },
        {
         "hoverinfo": "none",
         "marker": {
          "color": "red"
         },
         "mode": "lines",
         "name": "error at 65",
         "text": [
          "15.5"
         ],
         "textposition": "top right",
         "type": "scatter",
         "uid": "64f43ae1-e2c1-4c52-9e70-d9cfa527cb68",
         "x": [
          65,
          65
         ],
         "y": [
          84.5,
          100
         ]
        },
        {
         "hoverinfo": "none",
         "marker": {
          "color": "red"
         },
         "mode": "lines",
         "name": "error at 50",
         "text": [
          "20.0"
         ],
         "textposition": "top right",
         "type": "scatter",
         "uid": "dd6cf1e8-fa31-4024-9208-9682e5b00ab6",
         "x": [
          50,
          50
         ],
         "y": [
          65,
          85
         ]
        },
        {
         "hoverinfo": "none",
         "marker": {
          "color": "red"
         },
         "mode": "lines",
         "name": "error at 70",
         "text": [
          "9.0"
         ],
         "textposition": "top right",
         "type": "scatter",
         "uid": "30296ba3-9db2-41ce-bbd4-eb96b054b52b",
         "x": [
          70,
          70
         ],
         "y": [
          91,
          100
         ]
        },
        {
         "hoverinfo": "none",
         "marker": {
          "color": "red"
         },
         "mode": "lines",
         "name": "error at 60",
         "text": [
          "12.0"
         ],
         "textposition": "top right",
         "type": "scatter",
         "uid": "1301f5ca-359e-4b84-93ef-05f80aa40390",
         "x": [
          60,
          60
         ],
         "y": [
          78,
          90
         ]
        }
       ],
       "layout": {}
      },
      "text/html": [
       "<div id=\"8baa98f4-8757-4590-b358-a67f410ce0c1\" style=\"height: 525px; width: 100%;\" class=\"plotly-graph-div\"></div><script type=\"text/javascript\">require([\"plotly\"], function(Plotly) { window.PLOTLYENV=window.PLOTLYENV || {};window.PLOTLYENV.BASE_URL=\"https://plot.ly\";\n",
       "if (document.getElementById(\"8baa98f4-8757-4590-b358-a67f410ce0c1\")) {\n",
       "    Plotly.newPlot(\"8baa98f4-8757-4590-b358-a67f410ce0c1\", [{\"hoverinfo\": \"none\", \"marker\": {\"color\": \"red\"}, \"mode\": \"lines\", \"name\": \"error at 80\", \"text\": [\"16.0\"], \"textposition\": \"top right\", \"x\": [80, 80], \"y\": [104.0, 120], \"type\": \"scatter\", \"uid\": \"5311786c-e92e-40ba-857d-197909472614\"}, {\"hoverinfo\": \"none\", \"marker\": {\"color\": \"red\"}, \"mode\": \"lines\", \"name\": \"error at 65\", \"text\": [\"15.5\"], \"textposition\": \"top right\", \"x\": [65, 65], \"y\": [84.5, 100], \"type\": \"scatter\", \"uid\": \"1d4813c6-c96e-471b-bdca-9cedcba957c7\"}, {\"hoverinfo\": \"none\", \"marker\": {\"color\": \"red\"}, \"mode\": \"lines\", \"name\": \"error at 50\", \"text\": [\"20.0\"], \"textposition\": \"top right\", \"x\": [50, 50], \"y\": [65.0, 85], \"type\": \"scatter\", \"uid\": \"57646d4e-a5f7-49bd-b360-b221fff70458\"}, {\"hoverinfo\": \"none\", \"marker\": {\"color\": \"red\"}, \"mode\": \"lines\", \"name\": \"error at 70\", \"text\": [\"9.0\"], \"textposition\": \"top right\", \"x\": [70, 70], \"y\": [91.0, 100], \"type\": \"scatter\", \"uid\": \"b3fd3b56-0df0-4cd2-ba22-aeaa170dbdc4\"}, {\"hoverinfo\": \"none\", \"marker\": {\"color\": \"red\"}, \"mode\": \"lines\", \"name\": \"error at 60\", \"text\": [\"12.0\"], \"textposition\": \"top right\", \"x\": [60, 60], \"y\": [78.0, 90], \"type\": \"scatter\", \"uid\": \"118644ed-8967-45e4-b06f-2a425d57cae0\"}], {}, {\"showLink\": false, \"linkText\": \"Export to plot.ly\", \"plotlyServerURL\": \"https://plot.ly\"}); \n",
       "}\n",
       "});</script><script type=\"text/javascript\">window.addEventListener(\"resize\", function(){if (document.getElementById(\"8baa98f4-8757-4590-b358-a67f410ce0c1\")) {window._Plotly.Plots.resize(document.getElementById(\"8baa98f4-8757-4590-b358-a67f410ce0c1\"));};})</script>"
      ],
      "text/vnd.plotly.v1+html": [
       "<div id=\"8baa98f4-8757-4590-b358-a67f410ce0c1\" style=\"height: 525px; width: 100%;\" class=\"plotly-graph-div\"></div><script type=\"text/javascript\">require([\"plotly\"], function(Plotly) { window.PLOTLYENV=window.PLOTLYENV || {};window.PLOTLYENV.BASE_URL=\"https://plot.ly\";\n",
       "if (document.getElementById(\"8baa98f4-8757-4590-b358-a67f410ce0c1\")) {\n",
       "    Plotly.newPlot(\"8baa98f4-8757-4590-b358-a67f410ce0c1\", [{\"hoverinfo\": \"none\", \"marker\": {\"color\": \"red\"}, \"mode\": \"lines\", \"name\": \"error at 80\", \"text\": [\"16.0\"], \"textposition\": \"top right\", \"x\": [80, 80], \"y\": [104.0, 120], \"type\": \"scatter\", \"uid\": \"5311786c-e92e-40ba-857d-197909472614\"}, {\"hoverinfo\": \"none\", \"marker\": {\"color\": \"red\"}, \"mode\": \"lines\", \"name\": \"error at 65\", \"text\": [\"15.5\"], \"textposition\": \"top right\", \"x\": [65, 65], \"y\": [84.5, 100], \"type\": \"scatter\", \"uid\": \"1d4813c6-c96e-471b-bdca-9cedcba957c7\"}, {\"hoverinfo\": \"none\", \"marker\": {\"color\": \"red\"}, \"mode\": \"lines\", \"name\": \"error at 50\", \"text\": [\"20.0\"], \"textposition\": \"top right\", \"x\": [50, 50], \"y\": [65.0, 85], \"type\": \"scatter\", \"uid\": \"57646d4e-a5f7-49bd-b360-b221fff70458\"}, {\"hoverinfo\": \"none\", \"marker\": {\"color\": \"red\"}, \"mode\": \"lines\", \"name\": \"error at 70\", \"text\": [\"9.0\"], \"textposition\": \"top right\", \"x\": [70, 70], \"y\": [91.0, 100], \"type\": \"scatter\", \"uid\": \"b3fd3b56-0df0-4cd2-ba22-aeaa170dbdc4\"}, {\"hoverinfo\": \"none\", \"marker\": {\"color\": \"red\"}, \"mode\": \"lines\", \"name\": \"error at 60\", \"text\": [\"12.0\"], \"textposition\": \"top right\", \"x\": [60, 60], \"y\": [78.0, 90], \"type\": \"scatter\", \"uid\": \"118644ed-8967-45e4-b06f-2a425d57cae0\"}], {}, {\"showLink\": false, \"linkText\": \"Export to plot.ly\", \"plotlyServerURL\": \"https://plot.ly\"}); \n",
       "}\n",
       "});</script><script type=\"text/javascript\">window.addEventListener(\"resize\", function(){if (document.getElementById(\"8baa98f4-8757-4590-b358-a67f410ce0c1\")) {window._Plotly.Plots.resize(document.getElementById(\"8baa98f4-8757-4590-b358-a67f410ce0c1\"));};})</script>"
      ]
     },
     "metadata": {},
     "output_type": "display_data"
    }
   ],
   "source": [
    "import plotly\n",
    "from plotly.offline import iplot, init_notebook_mode\n",
    "init_notebook_mode(connected=True)\n",
    "\n",
    "plotly.offline.iplot([*error_traces])"
   ]
  },
  {
   "cell_type": "markdown",
   "metadata": {},
   "source": [
    "Now let's calculate the `total_error`.  Use the errors function to create this."
   ]
  },
  {
   "cell_type": "code",
   "execution_count": 18,
   "metadata": {},
   "outputs": [],
   "source": [
    "def total_error(amounts, predicted_amounts):\n",
    "    return sum(list(amount - predicted_amount for amount, predicted_amount in zip(amounts, predicted_amounts)))"
   ]
  },
  {
   "cell_type": "code",
   "execution_count": 19,
   "metadata": {},
   "outputs": [
    {
     "name": "stdout",
     "output_type": "stream",
     "text": [
      "[16.0, 15.5, 20.0, 9.0, 12.0]\n"
     ]
    },
    {
     "data": {
      "text/plain": [
       "72.5"
      ]
     },
     "execution_count": 19,
     "metadata": {},
     "output_type": "execute_result"
    }
   ],
   "source": [
    "amounts =  [120, 100, 85, 100, 90]\n",
    "predicted_amounts = [104.0, 84.5, 65.0, 91.0, 78.0]\n",
    "\n",
    "calculated_errors = errors(amounts, predicted_amounts)\n",
    "print(calculated_errors)\n",
    "# [16.0, 15.5, 20.0, 9.0, 12.0]\n",
    "\n",
    "\n",
    "total_error(amounts, predicted_amounts)\n",
    "# 72.5"
   ]
  },
  {
   "cell_type": "markdown",
   "metadata": {},
   "source": [
    "## Moving to Sum of Squared Error"
   ]
  },
  {
   "cell_type": "markdown",
   "metadata": {},
   "source": [
    "Now our `total_error` metric happens to work fine with the data and model that we have above.  However, if we change our model, we'll see that our positive and negative errors can start to cancel each other out, which is not what we want.\n",
    "\n",
    "For example, leaving our data the same, we'll change our model to the following: \n",
    "\n",
    "$$ amount\\_of_\\_customers = 1.6 * temperature $$."
   ]
  },
  {
   "cell_type": "code",
   "execution_count": 20,
   "metadata": {},
   "outputs": [
    {
     "data": {
      "application/vnd.plotly.v1+json": {
       "config": {
        "linkText": "Export to plot.ly",
        "plotlyServerURL": "https://plot.ly",
        "showLink": false
       },
       "data": [
        {
         "mode": "markers",
         "name": "actual",
         "text": [],
         "type": "scatter",
         "uid": "f2f8055f-5c2e-4f06-8096-4d93cf2af850",
         "x": [
          80,
          65,
          50,
          70,
          60
         ],
         "y": [
          120,
          100,
          85,
          100,
          90
         ]
        },
        {
         "mode": "lines",
         "name": "expected",
         "text": [],
         "type": "scatter",
         "uid": "e8b6116d-b2b5-4520-905f-fbcbb0f6a387",
         "x": [
          80,
          65,
          50,
          70,
          60
         ],
         "y": [
          128,
          104,
          80,
          112,
          96
         ]
        }
       ],
       "layout": {
        "xaxis": {
         "title": {
          "text": "temperature"
         }
        },
        "yaxis": {
         "title": {
          "text": "customers"
         }
        }
       }
      },
      "text/html": [
       "<div id=\"818b4f50-71ae-4217-8eb6-80996190b00f\" style=\"height: 525px; width: 100%;\" class=\"plotly-graph-div\"></div><script type=\"text/javascript\">require([\"plotly\"], function(Plotly) { window.PLOTLYENV=window.PLOTLYENV || {};window.PLOTLYENV.BASE_URL=\"https://plot.ly\";\n",
       "if (document.getElementById(\"818b4f50-71ae-4217-8eb6-80996190b00f\")) {\n",
       "    Plotly.newPlot(\"818b4f50-71ae-4217-8eb6-80996190b00f\", [{\"mode\": \"markers\", \"name\": \"actual\", \"text\": [], \"x\": [80, 65, 50, 70, 60], \"y\": [120, 100, 85, 100, 90], \"type\": \"scatter\", \"uid\": \"6f84d9fc-dbd7-444d-9c96-e6a5a0e19b87\"}, {\"mode\": \"lines\", \"name\": \"expected\", \"text\": [], \"x\": [80, 65, 50, 70, 60], \"y\": [128.0, 104.0, 80.0, 112.0, 96.0], \"type\": \"scatter\", \"uid\": \"7abd6db7-3236-4f69-9aac-20333865027f\"}], {\"xaxis\": {\"title\": {\"text\": \"temperature\"}}, \"yaxis\": {\"title\": {\"text\": \"customers\"}}}, {\"showLink\": false, \"linkText\": \"Export to plot.ly\", \"plotlyServerURL\": \"https://plot.ly\"}); \n",
       "}\n",
       "});</script><script type=\"text/javascript\">window.addEventListener(\"resize\", function(){if (document.getElementById(\"818b4f50-71ae-4217-8eb6-80996190b00f\")) {window._Plotly.Plots.resize(document.getElementById(\"818b4f50-71ae-4217-8eb6-80996190b00f\"));};})</script>"
      ],
      "text/vnd.plotly.v1+html": [
       "<div id=\"818b4f50-71ae-4217-8eb6-80996190b00f\" style=\"height: 525px; width: 100%;\" class=\"plotly-graph-div\"></div><script type=\"text/javascript\">require([\"plotly\"], function(Plotly) { window.PLOTLYENV=window.PLOTLYENV || {};window.PLOTLYENV.BASE_URL=\"https://plot.ly\";\n",
       "if (document.getElementById(\"818b4f50-71ae-4217-8eb6-80996190b00f\")) {\n",
       "    Plotly.newPlot(\"818b4f50-71ae-4217-8eb6-80996190b00f\", [{\"mode\": \"markers\", \"name\": \"actual\", \"text\": [], \"x\": [80, 65, 50, 70, 60], \"y\": [120, 100, 85, 100, 90], \"type\": \"scatter\", \"uid\": \"6f84d9fc-dbd7-444d-9c96-e6a5a0e19b87\"}, {\"mode\": \"lines\", \"name\": \"expected\", \"text\": [], \"x\": [80, 65, 50, 70, 60], \"y\": [128.0, 104.0, 80.0, 112.0, 96.0], \"type\": \"scatter\", \"uid\": \"7abd6db7-3236-4f69-9aac-20333865027f\"}], {\"xaxis\": {\"title\": {\"text\": \"temperature\"}}, \"yaxis\": {\"title\": {\"text\": \"customers\"}}}, {\"showLink\": false, \"linkText\": \"Export to plot.ly\", \"plotlyServerURL\": \"https://plot.ly\"}); \n",
       "}\n",
       "});</script><script type=\"text/javascript\">window.addEventListener(\"resize\", function(){if (document.getElementById(\"818b4f50-71ae-4217-8eb6-80996190b00f\")) {window._Plotly.Plots.resize(document.getElementById(\"818b4f50-71ae-4217-8eb6-80996190b00f\"));};})</script>"
      ]
     },
     "metadata": {},
     "output_type": "display_data"
    }
   ],
   "source": [
    "updated_predicted_amounts = list(map(lambda temperature: 1.6*temperature,temperatures))\n",
    "updated_model_trace = trace_values(temperatures, updated_predicted_amounts, name = 'expected', mode = 'lines')\n",
    "\n",
    "plot([data_trace, updated_model_trace], layout = layout)"
   ]
  },
  {
   "cell_type": "markdown",
   "metadata": {},
   "source": [
    " In the graph above, we can see that the error at our first temperature is 85 - 80 = 5, and the second error is 90 - 96 = -6, so adding up just these two errors gives us -1, which is not what we should get.\n",
    " \n",
    "To fix this we decide to use the residual sum of squares (RSS) formula.  Write a function that calculates the RSS for a list of actual data and a list of expected data.  If you forget the RSS formula, you can [find it on Wikipedia](https://en.wikipedia.org/wiki/Residual_sum_of_squares)."
   ]
  },
  {
   "cell_type": "code",
   "execution_count": 21,
   "metadata": {},
   "outputs": [],
   "source": [
    "def rss(actuals, expecteds):\n",
    "    return sum(list((actual - expected)**2 for actual, expected in zip(actuals, expecteds)))"
   ]
  },
  {
   "cell_type": "code",
   "execution_count": 22,
   "metadata": {},
   "outputs": [
    {
     "data": {
      "text/plain": [
       "1121.25"
      ]
     },
     "execution_count": 22,
     "metadata": {},
     "output_type": "execute_result"
    }
   ],
   "source": [
    "rss(amounts, predicted_amounts)\n",
    "# 1121.25"
   ]
  },
  {
   "cell_type": "markdown",
   "metadata": {},
   "source": [
    "That was the RSS of our first model.  If we look at the RSS of our second model, we can see that our second model is much closer to our actual data."
   ]
  },
  {
   "cell_type": "code",
   "execution_count": 23,
   "metadata": {},
   "outputs": [
    {
     "data": {
      "text/plain": [
       "285.0"
      ]
     },
     "execution_count": 23,
     "metadata": {},
     "output_type": "execute_result"
    }
   ],
   "source": [
    "rss(amounts, updated_predicted_amounts)"
   ]
  }
 ],
 "metadata": {
  "kernelspec": {
   "display_name": "Python 3",
   "language": "python",
   "name": "python3"
  },
  "language_info": {
   "codemirror_mode": {
    "name": "ipython",
    "version": 3
   },
   "file_extension": ".py",
   "mimetype": "text/x-python",
   "name": "python",
   "nbconvert_exporter": "python",
   "pygments_lexer": "ipython3",
   "version": "3.7.1"
  }
 },
 "nbformat": 4,
 "nbformat_minor": 2
}
