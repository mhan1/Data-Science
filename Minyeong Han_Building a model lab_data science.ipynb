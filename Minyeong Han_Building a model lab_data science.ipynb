{
 "cells": [
  {
   "cell_type": "markdown",
   "metadata": {},
   "source": [
    "## Building a model lab"
   ]
  },
  {
   "cell_type": "markdown",
   "metadata": {},
   "source": [
    "### Introduction"
   ]
  },
  {
   "cell_type": "markdown",
   "metadata": {},
   "source": [
    "In this lesson, we'll use some data for a restaurant to see how the daily temperature can predict how many customers it will have in the day.  It records the weather each bi-weekly over two months.  "
   ]
  },
  {
   "cell_type": "markdown",
   "metadata": {},
   "source": [
    "### Start with a chart of data"
   ]
  },
  {
   "cell_type": "markdown",
   "metadata": {},
   "source": [
    "| temperature        | actual customers           \n",
    "| ------------- |:-------------:| \n",
    "|    80       | 120 | \n",
    "|    65        | 100 | \n",
    "|    50        | 85 | \n",
    "|    70        | 100 | \n",
    "|    60        | 90 | \n"
   ]
  },
  {
   "cell_type": "markdown",
   "metadata": {},
   "source": [
    "Here is a list of the temperatures and a separate list of the customers."
   ]
  },
  {
   "cell_type": "code",
   "execution_count": 1,
   "metadata": {},
   "outputs": [],
   "source": [
    "temperatures = [80, 65, 50, 70, 60]"
   ]
  },
  {
   "cell_type": "code",
   "execution_count": 2,
   "metadata": {},
   "outputs": [],
   "source": [
    "amounts = [120, 100, 85, 100, 90]"
   ]
  },
  {
   "cell_type": "markdown",
   "metadata": {},
   "source": [
    "And we decide to use a linear regression model with the following parameters."
   ]
  },
  {
   "cell_type": "markdown",
   "metadata": {},
   "source": [
    "Our coefficient equals 1.3 and our y-intercept is 20.  Now write out the machine learning model in the cell below.  We'll get you started."
   ]
  },
  {
   "cell_type": "markdown",
   "metadata": {},
   "source": [
    "$$ number\\_of\\_customers = 1.3 * temperatures + 20 $$"
   ]
  },
  {
   "cell_type": "markdown",
   "metadata": {},
   "source": [
    "Now use the above formula to make a prediction of our first two days, with temperatures of 80 degrees and 65 degrees."
   ]
  },
  {
   "cell_type": "code",
   "execution_count": 3,
   "metadata": {},
   "outputs": [
    {
     "data": {
      "text/plain": [
       "124.0"
      ]
     },
     "execution_count": 3,
     "metadata": {},
     "output_type": "execute_result"
    }
   ],
   "source": [
    "expected_customers_day_1 = 1.3 * 80 + 20\n",
    "expected_customers_day_1\n",
    "# 124"
   ]
  },
  {
   "cell_type": "code",
   "execution_count": 4,
   "metadata": {},
   "outputs": [
    {
     "data": {
      "text/plain": [
       "104.5"
      ]
     },
     "execution_count": 4,
     "metadata": {},
     "output_type": "execute_result"
    }
   ],
   "source": [
    "expected_customers_day_2 = 1.3 * 65 + 20\n",
    "\n",
    "expected_customers_day_2\n",
    "# 104"
   ]
  },
  {
   "cell_type": "markdown",
   "metadata": {},
   "source": [
    "| temperature        | actual customers | expected|\n",
    "| ------------- |:-------------:| :-------------:| \n",
    "|    80       | 120 |  ? | \n",
    "|    65        | 100 |  ? | \n",
    "|    50        | 85 | 85 | \n",
    "|    70        | 100 | 111  | \n",
    "|    60        | 90 | 98 | \n"
   ]
  },
  {
   "cell_type": "markdown",
   "metadata": {},
   "source": [
    "### Other expressions of a model "
   ]
  },
  {
   "cell_type": "markdown",
   "metadata": {},
   "source": [
    "Now translate our machine learning model into a function in Python called `predicted_customers`.  It should be in the general form of y = mx + b."
   ]
  },
  {
   "cell_type": "code",
   "execution_count": 5,
   "metadata": {},
   "outputs": [],
   "source": [
    "def predicted_customers(x):\n",
    "    return 1.3 * x + 20"
   ]
  },
  {
   "cell_type": "code",
   "execution_count": 6,
   "metadata": {},
   "outputs": [
    {
     "data": {
      "text/plain": [
       "85.0"
      ]
     },
     "execution_count": 6,
     "metadata": {},
     "output_type": "execute_result"
    }
   ],
   "source": [
    "predicted_customers(50)\n",
    "\n",
    "# predicted_customers(50) # 85\n",
    "# predicted_customers(70) # 111"
   ]
  },
  {
   "cell_type": "code",
   "execution_count": 7,
   "metadata": {},
   "outputs": [
    {
     "data": {
      "text/plain": [
       "111.0"
      ]
     },
     "execution_count": 7,
     "metadata": {},
     "output_type": "execute_result"
    }
   ],
   "source": [
    "predicted_customers(70)"
   ]
  },
  {
   "cell_type": "markdown",
   "metadata": {},
   "source": [
    "### Visualizing our model"
   ]
  },
  {
   "cell_type": "markdown",
   "metadata": {},
   "source": [
    "Now it's time to visualize our model.  We can start by plotting a graph of our actual data.  Remember that we alread have lists of our temperatures, and the amount of customers."
   ]
  },
  {
   "cell_type": "code",
   "execution_count": 8,
   "metadata": {},
   "outputs": [
    {
     "data": {
      "text/plain": [
       "[80, 65, 50, 70, 60]"
      ]
     },
     "execution_count": 8,
     "metadata": {},
     "output_type": "execute_result"
    }
   ],
   "source": [
    "temperatures"
   ]
  },
  {
   "cell_type": "code",
   "execution_count": 9,
   "metadata": {},
   "outputs": [
    {
     "data": {
      "text/plain": [
       "[120, 100, 85, 100, 90]"
      ]
     },
     "execution_count": 9,
     "metadata": {},
     "output_type": "execute_result"
    }
   ],
   "source": [
    "amounts"
   ]
  },
  {
   "cell_type": "markdown",
   "metadata": {},
   "source": [
    "So we can plot them, by passing them into our `trace_values` function."
   ]
  },
  {
   "cell_type": "code",
   "execution_count": 10,
   "metadata": {},
   "outputs": [
    {
     "data": {
      "text/html": [
       "<script type=\"text/javascript\">window.PlotlyConfig = {MathJaxConfig: 'local'};</script><script type=\"text/javascript\">if (window.MathJax) {MathJax.Hub.Config({SVG: {font: \"STIX-Web\"}});}</script><script>requirejs.config({paths: { 'plotly': ['https://cdn.plot.ly/plotly-latest.min']},});if(!window._Plotly) {require(['plotly'],function(plotly) {window._Plotly=plotly;});}</script>"
      ],
      "text/vnd.plotly.v1+html": [
       "<script type=\"text/javascript\">window.PlotlyConfig = {MathJaxConfig: 'local'};</script><script type=\"text/javascript\">if (window.MathJax) {MathJax.Hub.Config({SVG: {font: \"STIX-Web\"}});}</script><script>requirejs.config({paths: { 'plotly': ['https://cdn.plot.ly/plotly-latest.min']},});if(!window._Plotly) {require(['plotly'],function(plotly) {window._Plotly=plotly;});}</script>"
      ]
     },
     "metadata": {},
     "output_type": "display_data"
    },
    {
     "data": {
      "application/vnd.plotly.v1+json": {
       "config": {
        "linkText": "Export to plot.ly",
        "plotlyServerURL": "https://plot.ly",
        "showLink": false
       },
       "data": [
        {
         "mode": "markers",
         "name": "data",
         "text": [],
         "type": "scatter",
         "uid": "e5e5549a-339b-44b7-9742-595b29428f24",
         "x": [
          80,
          65,
          50,
          70,
          60
         ],
         "y": [
          120,
          100,
          85,
          100,
          90
         ]
        }
       ],
       "layout": {}
      },
      "text/html": [
       "<div id=\"d8058fe8-6ed5-4a19-bfda-d72bc181ac01\" style=\"height: 525px; width: 100%;\" class=\"plotly-graph-div\"></div><script type=\"text/javascript\">require([\"plotly\"], function(Plotly) { window.PLOTLYENV=window.PLOTLYENV || {};window.PLOTLYENV.BASE_URL=\"https://plot.ly\";\n",
       "if (document.getElementById(\"d8058fe8-6ed5-4a19-bfda-d72bc181ac01\")) {\n",
       "    Plotly.newPlot(\"d8058fe8-6ed5-4a19-bfda-d72bc181ac01\", [{\"mode\": \"markers\", \"name\": \"data\", \"text\": [], \"x\": [80, 65, 50, 70, 60], \"y\": [120, 100, 85, 100, 90], \"type\": \"scatter\", \"uid\": \"89dfac27-e8d0-4512-a416-28ca29e04039\"}], {}, {\"showLink\": false, \"linkText\": \"Export to plot.ly\", \"plotlyServerURL\": \"https://plot.ly\"}); \n",
       "}\n",
       "});</script><script type=\"text/javascript\">window.addEventListener(\"resize\", function(){if (document.getElementById(\"d8058fe8-6ed5-4a19-bfda-d72bc181ac01\")) {window._Plotly.Plots.resize(document.getElementById(\"d8058fe8-6ed5-4a19-bfda-d72bc181ac01\"));};})</script>"
      ],
      "text/vnd.plotly.v1+html": [
       "<div id=\"d8058fe8-6ed5-4a19-bfda-d72bc181ac01\" style=\"height: 525px; width: 100%;\" class=\"plotly-graph-div\"></div><script type=\"text/javascript\">require([\"plotly\"], function(Plotly) { window.PLOTLYENV=window.PLOTLYENV || {};window.PLOTLYENV.BASE_URL=\"https://plot.ly\";\n",
       "if (document.getElementById(\"d8058fe8-6ed5-4a19-bfda-d72bc181ac01\")) {\n",
       "    Plotly.newPlot(\"d8058fe8-6ed5-4a19-bfda-d72bc181ac01\", [{\"mode\": \"markers\", \"name\": \"data\", \"text\": [], \"x\": [80, 65, 50, 70, 60], \"y\": [120, 100, 85, 100, 90], \"type\": \"scatter\", \"uid\": \"89dfac27-e8d0-4512-a416-28ca29e04039\"}], {}, {\"showLink\": false, \"linkText\": \"Export to plot.ly\", \"plotlyServerURL\": \"https://plot.ly\"}); \n",
       "}\n",
       "});</script><script type=\"text/javascript\">window.addEventListener(\"resize\", function(){if (document.getElementById(\"d8058fe8-6ed5-4a19-bfda-d72bc181ac01\")) {window._Plotly.Plots.resize(document.getElementById(\"d8058fe8-6ed5-4a19-bfda-d72bc181ac01\"));};})</script>"
      ]
     },
     "metadata": {},
     "output_type": "display_data"
    }
   ],
   "source": [
    "from graph import trace_values, plot\n",
    "data_trace = trace_values(temperatures, amounts)\n",
    "plot([data_trace])"
   ]
  },
  {
   "cell_type": "markdown",
   "metadata": {},
   "source": [
    "Now your task is display our model as trace of a line our above trace of the data.  Here is the code that we just used.  We'll guide you through in the lines that follow."
   ]
  },
  {
   "cell_type": "code",
   "execution_count": 11,
   "metadata": {},
   "outputs": [
    {
     "data": {
      "application/vnd.plotly.v1+json": {
       "config": {
        "linkText": "Export to plot.ly",
        "plotlyServerURL": "https://plot.ly",
        "showLink": false
       },
       "data": [
        {
         "mode": "markers",
         "name": "data",
         "text": [],
         "type": "scatter",
         "uid": "284d8012-1338-491f-be48-3dc23b32dd3c",
         "x": [
          80,
          65,
          50,
          70,
          60
         ],
         "y": [
          120,
          100,
          85,
          100,
          90
         ]
        }
       ],
       "layout": {}
      },
      "text/html": [
       "<div id=\"81740fe8-3dce-48cf-b49c-f16f6d3c6344\" style=\"height: 525px; width: 100%;\" class=\"plotly-graph-div\"></div><script type=\"text/javascript\">require([\"plotly\"], function(Plotly) { window.PLOTLYENV=window.PLOTLYENV || {};window.PLOTLYENV.BASE_URL=\"https://plot.ly\";\n",
       "if (document.getElementById(\"81740fe8-3dce-48cf-b49c-f16f6d3c6344\")) {\n",
       "    Plotly.newPlot(\"81740fe8-3dce-48cf-b49c-f16f6d3c6344\", [{\"mode\": \"markers\", \"name\": \"data\", \"text\": [], \"x\": [80, 65, 50, 70, 60], \"y\": [120, 100, 85, 100, 90], \"type\": \"scatter\", \"uid\": \"7bb33efb-ac3e-46ad-99ff-9051d35f0e0c\"}], {}, {\"showLink\": false, \"linkText\": \"Export to plot.ly\", \"plotlyServerURL\": \"https://plot.ly\"}); \n",
       "}\n",
       "});</script><script type=\"text/javascript\">window.addEventListener(\"resize\", function(){if (document.getElementById(\"81740fe8-3dce-48cf-b49c-f16f6d3c6344\")) {window._Plotly.Plots.resize(document.getElementById(\"81740fe8-3dce-48cf-b49c-f16f6d3c6344\"));};})</script>"
      ],
      "text/vnd.plotly.v1+html": [
       "<div id=\"81740fe8-3dce-48cf-b49c-f16f6d3c6344\" style=\"height: 525px; width: 100%;\" class=\"plotly-graph-div\"></div><script type=\"text/javascript\">require([\"plotly\"], function(Plotly) { window.PLOTLYENV=window.PLOTLYENV || {};window.PLOTLYENV.BASE_URL=\"https://plot.ly\";\n",
       "if (document.getElementById(\"81740fe8-3dce-48cf-b49c-f16f6d3c6344\")) {\n",
       "    Plotly.newPlot(\"81740fe8-3dce-48cf-b49c-f16f6d3c6344\", [{\"mode\": \"markers\", \"name\": \"data\", \"text\": [], \"x\": [80, 65, 50, 70, 60], \"y\": [120, 100, 85, 100, 90], \"type\": \"scatter\", \"uid\": \"7bb33efb-ac3e-46ad-99ff-9051d35f0e0c\"}], {}, {\"showLink\": false, \"linkText\": \"Export to plot.ly\", \"plotlyServerURL\": \"https://plot.ly\"}); \n",
       "}\n",
       "});</script><script type=\"text/javascript\">window.addEventListener(\"resize\", function(){if (document.getElementById(\"81740fe8-3dce-48cf-b49c-f16f6d3c6344\")) {window._Plotly.Plots.resize(document.getElementById(\"81740fe8-3dce-48cf-b49c-f16f6d3c6344\"));};})</script>"
      ]
     },
     "metadata": {},
     "output_type": "display_data"
    }
   ],
   "source": [
    "from graph import trace_values, plot\n",
    "data_trace = trace_values(temperatures, amounts)\n",
    "plot([data_trace])"
   ]
  },
  {
   "cell_type": "markdown",
   "metadata": {},
   "source": [
    "So to plot a trace of our model, we need a set of x values, which are our inputs of the temperatures."
   ]
  },
  {
   "cell_type": "code",
   "execution_count": 12,
   "metadata": {},
   "outputs": [],
   "source": [
    "inputs = [50, 55, 60, 65, 70, 75, 80, 85, 90]"
   ]
  },
  {
   "cell_type": "markdown",
   "metadata": {},
   "source": [
    "And it's your task to calculate the expected outputs for each of these inputs.  Assign these expected outputs to the variable `predicted_customers`."
   ]
  },
  {
   "cell_type": "code",
   "execution_count": 13,
   "metadata": {},
   "outputs": [
    {
     "data": {
      "text/plain": [
       "int"
      ]
     },
     "execution_count": 13,
     "metadata": {},
     "output_type": "execute_result"
    }
   ],
   "source": [
    "type(inputs[0])"
   ]
  },
  {
   "cell_type": "code",
   "execution_count": 14,
   "metadata": {},
   "outputs": [
    {
     "data": {
      "text/plain": [
       "[85.0, 91.5, 98.0, 104.5, 111.0, 117.5, 124.0, 130.5, 137.0]"
      ]
     },
     "execution_count": 14,
     "metadata": {},
     "output_type": "execute_result"
    }
   ],
   "source": [
    "predicted_customers = [1.3 * temp + 20 for temp in inputs]\n",
    "predicted_customers"
   ]
  },
  {
   "cell_type": "markdown",
   "metadata": {},
   "source": [
    "Next we can create a `model_trace` and plot it alongside our data."
   ]
  },
  {
   "cell_type": "code",
   "execution_count": 15,
   "metadata": {},
   "outputs": [],
   "source": [
    "model_trace = trace_values(inputs, predicted_customers, mode = 'lines', name = 'model')"
   ]
  },
  {
   "cell_type": "markdown",
   "metadata": {},
   "source": [
    "Uncomment the code below to display a trace of our model and our outputs."
   ]
  },
  {
   "cell_type": "code",
   "execution_count": 16,
   "metadata": {},
   "outputs": [
    {
     "data": {
      "application/vnd.plotly.v1+json": {
       "config": {
        "linkText": "Export to plot.ly",
        "plotlyServerURL": "https://plot.ly",
        "showLink": false
       },
       "data": [
        {
         "mode": "markers",
         "name": "data",
         "text": [],
         "type": "scatter",
         "uid": "e32d3d24-3a73-40a7-acb7-305683efdaa6",
         "x": [
          80,
          65,
          50,
          70,
          60
         ],
         "y": [
          120,
          100,
          85,
          100,
          90
         ]
        },
        {
         "mode": "lines",
         "name": "model",
         "text": [],
         "type": "scatter",
         "uid": "c7064e31-7e73-47bf-880d-189345633f1a",
         "x": [
          50,
          55,
          60,
          65,
          70,
          75,
          80,
          85,
          90
         ],
         "y": [
          85,
          91.5,
          98,
          104.5,
          111,
          117.5,
          124,
          130.5,
          137
         ]
        }
       ],
       "layout": {
        "xaxis": {
         "title": {
          "text": "temperatures"
         }
        },
        "yaxis": {
         "range": [
          0,
          140
         ],
         "title": {
          "text": "expected customers"
         }
        }
       }
      },
      "text/html": [
       "<div id=\"2bc93496-29f8-4b2b-b6fd-8792702758f2\" style=\"height: 525px; width: 100%;\" class=\"plotly-graph-div\"></div><script type=\"text/javascript\">require([\"plotly\"], function(Plotly) { window.PLOTLYENV=window.PLOTLYENV || {};window.PLOTLYENV.BASE_URL=\"https://plot.ly\";\n",
       "if (document.getElementById(\"2bc93496-29f8-4b2b-b6fd-8792702758f2\")) {\n",
       "    Plotly.newPlot(\"2bc93496-29f8-4b2b-b6fd-8792702758f2\", [{\"mode\": \"markers\", \"name\": \"data\", \"text\": [], \"x\": [80, 65, 50, 70, 60], \"y\": [120, 100, 85, 100, 90], \"type\": \"scatter\", \"uid\": \"8dd3cd20-7008-4228-9b2b-2013e6a499d2\"}, {\"mode\": \"lines\", \"name\": \"model\", \"text\": [], \"x\": [50, 55, 60, 65, 70, 75, 80, 85, 90], \"y\": [85.0, 91.5, 98.0, 104.5, 111.0, 117.5, 124.0, 130.5, 137.0], \"type\": \"scatter\", \"uid\": \"ab0e432b-2798-4e7a-a30b-1c439eab0888\"}], {\"xaxis\": {\"title\": {\"text\": \"temperatures\"}}, \"yaxis\": {\"range\": [0, 140], \"title\": {\"text\": \"expected customers\"}}}, {\"showLink\": false, \"linkText\": \"Export to plot.ly\", \"plotlyServerURL\": \"https://plot.ly\"}); \n",
       "}\n",
       "});</script><script type=\"text/javascript\">window.addEventListener(\"resize\", function(){if (document.getElementById(\"2bc93496-29f8-4b2b-b6fd-8792702758f2\")) {window._Plotly.Plots.resize(document.getElementById(\"2bc93496-29f8-4b2b-b6fd-8792702758f2\"));};})</script>"
      ],
      "text/vnd.plotly.v1+html": [
       "<div id=\"2bc93496-29f8-4b2b-b6fd-8792702758f2\" style=\"height: 525px; width: 100%;\" class=\"plotly-graph-div\"></div><script type=\"text/javascript\">require([\"plotly\"], function(Plotly) { window.PLOTLYENV=window.PLOTLYENV || {};window.PLOTLYENV.BASE_URL=\"https://plot.ly\";\n",
       "if (document.getElementById(\"2bc93496-29f8-4b2b-b6fd-8792702758f2\")) {\n",
       "    Plotly.newPlot(\"2bc93496-29f8-4b2b-b6fd-8792702758f2\", [{\"mode\": \"markers\", \"name\": \"data\", \"text\": [], \"x\": [80, 65, 50, 70, 60], \"y\": [120, 100, 85, 100, 90], \"type\": \"scatter\", \"uid\": \"8dd3cd20-7008-4228-9b2b-2013e6a499d2\"}, {\"mode\": \"lines\", \"name\": \"model\", \"text\": [], \"x\": [50, 55, 60, 65, 70, 75, 80, 85, 90], \"y\": [85.0, 91.5, 98.0, 104.5, 111.0, 117.5, 124.0, 130.5, 137.0], \"type\": \"scatter\", \"uid\": \"ab0e432b-2798-4e7a-a30b-1c439eab0888\"}], {\"xaxis\": {\"title\": {\"text\": \"temperatures\"}}, \"yaxis\": {\"range\": [0, 140], \"title\": {\"text\": \"expected customers\"}}}, {\"showLink\": false, \"linkText\": \"Export to plot.ly\", \"plotlyServerURL\": \"https://plot.ly\"}); \n",
       "}\n",
       "});</script><script type=\"text/javascript\">window.addEventListener(\"resize\", function(){if (document.getElementById(\"2bc93496-29f8-4b2b-b6fd-8792702758f2\")) {window._Plotly.Plots.resize(document.getElementById(\"2bc93496-29f8-4b2b-b6fd-8792702758f2\"));};})</script>"
      ]
     },
     "metadata": {},
     "output_type": "display_data"
    }
   ],
   "source": [
    "from graph import trace_values, plot\n",
    "data_trace = trace_values(temperatures, amounts, name = 'data')\n",
    "layout = {'yaxis': {'range': [0, 140], 'title': 'expected customers'},\n",
    "          'xaxis': {'title': 'temperatures'}}\n",
    "plot([data_trace, model_trace], layout)"
   ]
  },
  {
   "cell_type": "markdown",
   "metadata": {},
   "source": [
    "- I corrected the code \"data_trace = trace_values([.30, .50, .70], [8, 11, 17], name = 'data') into as shown above cell, because the data_trace was already defined previously, as data_trace = trace_values(temperatures, amounts) to plot a graph of actual data. \n",
    "- I changed the yaxis range of [0, 18] to [0, 140] as above, because the predicted_customers has the highest value of 137 when the temperature is 90.  "
   ]
  },
  {
   "cell_type": "markdown",
   "metadata": {},
   "source": [
    "### Summary"
   ]
  },
  {
   "cell_type": "markdown",
   "metadata": {},
   "source": [
    "In this lesson, we built our own machine learning model and plotted it alongside our data.  We started by expressing our machine learning model as a math formula, and used it to plug in different temperatures and calculate the expected number of customers. \n",
    "\n",
    "Then we saw that we could translate our machine learning model into code by using a Python function that takes an input and returns an output.  Finally, we plotted our model as a line alongside our actual data.  "
   ]
  }
 ],
 "metadata": {
  "kernelspec": {
   "display_name": "Python 3",
   "language": "python",
   "name": "python3"
  },
  "language_info": {
   "codemirror_mode": {
    "name": "ipython",
    "version": 3
   },
   "file_extension": ".py",
   "mimetype": "text/x-python",
   "name": "python",
   "nbconvert_exporter": "python",
   "pygments_lexer": "ipython3",
   "version": "3.7.1"
  }
 },
 "nbformat": 4,
 "nbformat_minor": 2
}
