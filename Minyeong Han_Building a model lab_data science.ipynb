{
 "cells": [
  {
   "cell_type": "markdown",
   "metadata": {},
   "source": [
    "## Building a model lab"
   ]
  },
  {
   "cell_type": "markdown",
   "metadata": {},
   "source": [
    "### Introduction"
   ]
  },
  {
   "cell_type": "markdown",
   "metadata": {},
   "source": [
    "In this lesson, we'll use some data for a restaurant to see how the daily temperature can predict how many customers it will have in the day.  It records the weather each bi-weekly over two months.  "
   ]
  },
  {
   "cell_type": "markdown",
   "metadata": {},
   "source": [
    "### Start with a chart of data"
   ]
  },
  {
   "cell_type": "markdown",
   "metadata": {},
   "source": [
    "| temperature        | actual customers           \n",
    "| ------------- |:-------------:| \n",
    "|    80       | 120 | \n",
    "|    65        | 100 | \n",
    "|    50        | 85 | \n",
    "|    70        | 100 | \n",
    "|    60        | 90 | \n"
   ]
  },
  {
   "cell_type": "markdown",
   "metadata": {},
   "source": [
    "Here is a list of the temperatures and a separate list of the customers."
   ]
  },
  {
   "cell_type": "code",
   "execution_count": 1,
   "metadata": {},
   "outputs": [],
   "source": [
    "temperatures = [80, 65, 50, 70, 60]"
   ]
  },
  {
   "cell_type": "code",
   "execution_count": 2,
   "metadata": {},
   "outputs": [],
   "source": [
    "amounts = [120, 100, 85, 100, 90]"
   ]
  },
  {
   "cell_type": "markdown",
   "metadata": {},
   "source": [
    "And we decide to use a linear regression model with the following parameters."
   ]
  },
  {
   "cell_type": "markdown",
   "metadata": {},
   "source": [
    "Our coefficient equals 1.3 and our y-intercept is 20.  Now write out the machine learning model in the cell below.  We'll get you started."
   ]
  },
  {
   "cell_type": "markdown",
   "metadata": {},
   "source": [
    "$$ number\\_of\\_customers = 1.3 * temperatures + 20 $$"
   ]
  },
  {
   "cell_type": "markdown",
   "metadata": {},
   "source": [
    "Now use the above formula to make a prediction of our first two days, with temperatures of 80 degrees and 65 degrees."
   ]
  },
  {
   "cell_type": "code",
   "execution_count": 3,
   "metadata": {},
   "outputs": [
    {
     "data": {
      "text/plain": [
       "124.0"
      ]
     },
     "execution_count": 3,
     "metadata": {},
     "output_type": "execute_result"
    }
   ],
   "source": [
    "expected_customers_day_1 = 1.3 * 80 + 20\n",
    "expected_customers_day_1\n",
    "# 124"
   ]
  },
  {
   "cell_type": "code",
   "execution_count": 4,
   "metadata": {},
   "outputs": [
    {
     "data": {
      "text/plain": [
       "104.5"
      ]
     },
     "execution_count": 4,
     "metadata": {},
     "output_type": "execute_result"
    }
   ],
   "source": [
    "expected_customers_day_2 = 1.3 * 65 + 20\n",
    "\n",
    "expected_customers_day_2\n",
    "# 104"
   ]
  },
  {
   "cell_type": "markdown",
   "metadata": {},
   "source": [
    "| temperature        | actual customers | expected|\n",
    "| ------------- |:-------------:| :-------------:| \n",
    "|    80       | 120 |  ? | \n",
    "|    65        | 100 |  ? | \n",
    "|    50        | 85 | 85 | \n",
    "|    70        | 100 | 111  | \n",
    "|    60        | 90 | 98 | \n"
   ]
  },
  {
   "cell_type": "markdown",
   "metadata": {},
   "source": [
    "### Other expressions of a model "
   ]
  },
  {
   "cell_type": "markdown",
   "metadata": {},
   "source": [
    "Now translate our machine learning model into a function in Python called `predicted_customers`.  It should be in the general form of y = mx + b."
   ]
  },
  {
   "cell_type": "code",
   "execution_count": 5,
   "metadata": {},
   "outputs": [],
   "source": [
    "def predicted_customers(x):\n",
    "    return 1.3 * x + 20"
   ]
  },
  {
   "cell_type": "code",
   "execution_count": 6,
   "metadata": {},
   "outputs": [
    {
     "data": {
      "text/plain": [
       "85.0"
      ]
     },
     "execution_count": 6,
     "metadata": {},
     "output_type": "execute_result"
    }
   ],
   "source": [
    "predicted_customers(50)\n",
    "\n",
    "# predicted_customers(50) # 85\n",
    "# predicted_customers(70) # 111"
   ]
  },
  {
   "cell_type": "code",
   "execution_count": 7,
   "metadata": {},
   "outputs": [
    {
     "data": {
      "text/plain": [
       "111.0"
      ]
     },
     "execution_count": 7,
     "metadata": {},
     "output_type": "execute_result"
    }
   ],
   "source": [
    "predicted_customers(70)"
   ]
  },
  {
   "cell_type": "markdown",
   "metadata": {},
   "source": [
    "### Visualizing our model"
   ]
  },
  {
   "cell_type": "markdown",
   "metadata": {},
   "source": [
    "Now it's time to visualize our model.  We can start by plotting a graph of our actual data.  Remember that we alread have lists of our temperatures, and the amount of customers."
   ]
  },
  {
   "cell_type": "code",
   "execution_count": 8,
   "metadata": {},
   "outputs": [
    {
     "data": {
      "text/plain": [
       "[80, 65, 50, 70, 60]"
      ]
     },
     "execution_count": 8,
     "metadata": {},
     "output_type": "execute_result"
    }
   ],
   "source": [
    "temperatures"
   ]
  },
  {
   "cell_type": "code",
   "execution_count": 9,
   "metadata": {},
   "outputs": [
    {
     "data": {
      "text/plain": [
       "[120, 100, 85, 100, 90]"
      ]
     },
     "execution_count": 9,
     "metadata": {},
     "output_type": "execute_result"
    }
   ],
   "source": [
    "amounts"
   ]
  },
  {
   "cell_type": "markdown",
   "metadata": {},
   "source": [
    "So we can plot them, by passing them into our `trace_values` function."
   ]
  },
  {
   "cell_type": "code",
   "execution_count": 10,
   "metadata": {},
   "outputs": [
    {
     "data": {
      "text/html": [
       "<script type=\"text/javascript\">window.PlotlyConfig = {MathJaxConfig: 'local'};</script><script type=\"text/javascript\">if (window.MathJax) {MathJax.Hub.Config({SVG: {font: \"STIX-Web\"}});}</script><script>requirejs.config({paths: { 'plotly': ['https://cdn.plot.ly/plotly-latest.min']},});if(!window._Plotly) {require(['plotly'],function(plotly) {window._Plotly=plotly;});}</script>"
      ],
      "text/vnd.plotly.v1+html": [
       "<script type=\"text/javascript\">window.PlotlyConfig = {MathJaxConfig: 'local'};</script><script type=\"text/javascript\">if (window.MathJax) {MathJax.Hub.Config({SVG: {font: \"STIX-Web\"}});}</script><script>requirejs.config({paths: { 'plotly': ['https://cdn.plot.ly/plotly-latest.min']},});if(!window._Plotly) {require(['plotly'],function(plotly) {window._Plotly=plotly;});}</script>"
      ]
     },
     "metadata": {},
     "output_type": "display_data"
    },
    {
     "data": {
      "application/vnd.plotly.v1+json": {
       "config": {
        "linkText": "Export to plot.ly",
        "plotlyServerURL": "https://plot.ly",
        "showLink": false
       },
       "data": [
        {
         "mode": "markers",
         "name": "data",
         "text": [],
         "type": "scatter",
         "uid": "8591ad7c-9059-4d40-8641-be1b0a0f6748",
         "x": [
          80,
          65,
          50,
          70,
          60
         ],
         "y": [
          120,
          100,
          85,
          100,
          90
         ]
        }
       ],
       "layout": {}
      },
      "text/html": [
       "<div id=\"d51ecca9-9a19-4eee-829a-189e52b381cc\" style=\"height: 525px; width: 100%;\" class=\"plotly-graph-div\"></div><script type=\"text/javascript\">require([\"plotly\"], function(Plotly) { window.PLOTLYENV=window.PLOTLYENV || {};window.PLOTLYENV.BASE_URL=\"https://plot.ly\";\n",
       "if (document.getElementById(\"d51ecca9-9a19-4eee-829a-189e52b381cc\")) {\n",
       "    Plotly.newPlot(\"d51ecca9-9a19-4eee-829a-189e52b381cc\", [{\"mode\": \"markers\", \"name\": \"data\", \"text\": [], \"x\": [80, 65, 50, 70, 60], \"y\": [120, 100, 85, 100, 90], \"type\": \"scatter\", \"uid\": \"705fc6b7-0cc3-48f7-9e68-1b0a380558cc\"}], {}, {\"showLink\": false, \"linkText\": \"Export to plot.ly\", \"plotlyServerURL\": \"https://plot.ly\"}); \n",
       "}\n",
       "});</script><script type=\"text/javascript\">window.addEventListener(\"resize\", function(){if (document.getElementById(\"d51ecca9-9a19-4eee-829a-189e52b381cc\")) {window._Plotly.Plots.resize(document.getElementById(\"d51ecca9-9a19-4eee-829a-189e52b381cc\"));};})</script>"
      ],
      "text/vnd.plotly.v1+html": [
       "<div id=\"d51ecca9-9a19-4eee-829a-189e52b381cc\" style=\"height: 525px; width: 100%;\" class=\"plotly-graph-div\"></div><script type=\"text/javascript\">require([\"plotly\"], function(Plotly) { window.PLOTLYENV=window.PLOTLYENV || {};window.PLOTLYENV.BASE_URL=\"https://plot.ly\";\n",
       "if (document.getElementById(\"d51ecca9-9a19-4eee-829a-189e52b381cc\")) {\n",
       "    Plotly.newPlot(\"d51ecca9-9a19-4eee-829a-189e52b381cc\", [{\"mode\": \"markers\", \"name\": \"data\", \"text\": [], \"x\": [80, 65, 50, 70, 60], \"y\": [120, 100, 85, 100, 90], \"type\": \"scatter\", \"uid\": \"705fc6b7-0cc3-48f7-9e68-1b0a380558cc\"}], {}, {\"showLink\": false, \"linkText\": \"Export to plot.ly\", \"plotlyServerURL\": \"https://plot.ly\"}); \n",
       "}\n",
       "});</script><script type=\"text/javascript\">window.addEventListener(\"resize\", function(){if (document.getElementById(\"d51ecca9-9a19-4eee-829a-189e52b381cc\")) {window._Plotly.Plots.resize(document.getElementById(\"d51ecca9-9a19-4eee-829a-189e52b381cc\"));};})</script>"
      ]
     },
     "metadata": {},
     "output_type": "display_data"
    }
   ],
   "source": [
    "from graph import trace_values, plot\n",
    "data_trace = trace_values(temperatures, amounts)\n",
    "plot([data_trace])"
   ]
  },
  {
   "cell_type": "markdown",
   "metadata": {},
   "source": [
    "Now your task is display our model as trace of a line our above trace of the data.  Here is the code that we just used.  We'll guide you through in the lines that follow."
   ]
  },
  {
   "cell_type": "code",
   "execution_count": 11,
   "metadata": {},
   "outputs": [
    {
     "data": {
      "application/vnd.plotly.v1+json": {
       "config": {
        "linkText": "Export to plot.ly",
        "plotlyServerURL": "https://plot.ly",
        "showLink": false
       },
       "data": [
        {
         "mode": "markers",
         "name": "data",
         "text": [],
         "type": "scatter",
         "uid": "7cec8bbe-95c8-44a0-af39-88e6f55eac82",
         "x": [
          80,
          65,
          50,
          70,
          60
         ],
         "y": [
          120,
          100,
          85,
          100,
          90
         ]
        }
       ],
       "layout": {}
      },
      "text/html": [
       "<div id=\"06a1a9a0-0ff6-4d19-945d-63281530329c\" style=\"height: 525px; width: 100%;\" class=\"plotly-graph-div\"></div><script type=\"text/javascript\">require([\"plotly\"], function(Plotly) { window.PLOTLYENV=window.PLOTLYENV || {};window.PLOTLYENV.BASE_URL=\"https://plot.ly\";\n",
       "if (document.getElementById(\"06a1a9a0-0ff6-4d19-945d-63281530329c\")) {\n",
       "    Plotly.newPlot(\"06a1a9a0-0ff6-4d19-945d-63281530329c\", [{\"mode\": \"markers\", \"name\": \"data\", \"text\": [], \"x\": [80, 65, 50, 70, 60], \"y\": [120, 100, 85, 100, 90], \"type\": \"scatter\", \"uid\": \"48d86e61-5375-4cbb-a317-9aa2e6ef3de6\"}], {}, {\"showLink\": false, \"linkText\": \"Export to plot.ly\", \"plotlyServerURL\": \"https://plot.ly\"}); \n",
       "}\n",
       "});</script><script type=\"text/javascript\">window.addEventListener(\"resize\", function(){if (document.getElementById(\"06a1a9a0-0ff6-4d19-945d-63281530329c\")) {window._Plotly.Plots.resize(document.getElementById(\"06a1a9a0-0ff6-4d19-945d-63281530329c\"));};})</script>"
      ],
      "text/vnd.plotly.v1+html": [
       "<div id=\"06a1a9a0-0ff6-4d19-945d-63281530329c\" style=\"height: 525px; width: 100%;\" class=\"plotly-graph-div\"></div><script type=\"text/javascript\">require([\"plotly\"], function(Plotly) { window.PLOTLYENV=window.PLOTLYENV || {};window.PLOTLYENV.BASE_URL=\"https://plot.ly\";\n",
       "if (document.getElementById(\"06a1a9a0-0ff6-4d19-945d-63281530329c\")) {\n",
       "    Plotly.newPlot(\"06a1a9a0-0ff6-4d19-945d-63281530329c\", [{\"mode\": \"markers\", \"name\": \"data\", \"text\": [], \"x\": [80, 65, 50, 70, 60], \"y\": [120, 100, 85, 100, 90], \"type\": \"scatter\", \"uid\": \"48d86e61-5375-4cbb-a317-9aa2e6ef3de6\"}], {}, {\"showLink\": false, \"linkText\": \"Export to plot.ly\", \"plotlyServerURL\": \"https://plot.ly\"}); \n",
       "}\n",
       "});</script><script type=\"text/javascript\">window.addEventListener(\"resize\", function(){if (document.getElementById(\"06a1a9a0-0ff6-4d19-945d-63281530329c\")) {window._Plotly.Plots.resize(document.getElementById(\"06a1a9a0-0ff6-4d19-945d-63281530329c\"));};})</script>"
      ]
     },
     "metadata": {},
     "output_type": "display_data"
    }
   ],
   "source": [
    "from graph import trace_values, plot\n",
    "data_trace = trace_values(temperatures, amounts)\n",
    "plot([data_trace])"
   ]
  },
  {
   "cell_type": "markdown",
   "metadata": {},
   "source": [
    "So to plot a trace of our model, we need a set of x values, which are our inputs of the temperatures."
   ]
  },
  {
   "cell_type": "code",
   "execution_count": 12,
   "metadata": {},
   "outputs": [],
   "source": [
    "inputs = [50, 55, 60, 65, 70, 75, 80, 85, 90]"
   ]
  },
  {
   "cell_type": "markdown",
   "metadata": {},
   "source": [
    "And it's your task to calculate the expected outputs for each of these inputs.  Assign these expected outputs to the variable `predicted_customers`."
   ]
  },
  {
   "cell_type": "code",
   "execution_count": 13,
   "metadata": {},
   "outputs": [
    {
     "data": {
      "text/plain": [
       "int"
      ]
     },
     "execution_count": 13,
     "metadata": {},
     "output_type": "execute_result"
    }
   ],
   "source": [
    "type(inputs[0])"
   ]
  },
  {
   "cell_type": "code",
   "execution_count": 14,
   "metadata": {},
   "outputs": [
    {
     "data": {
      "text/plain": [
       "[85.0, 91.5, 98.0, 104.5, 111.0, 117.5, 124.0, 130.5, 137.0]"
      ]
     },
     "execution_count": 14,
     "metadata": {},
     "output_type": "execute_result"
    }
   ],
   "source": [
    "predicted_customers = [1.3 * temp + 20 for temp in inputs]\n",
    "predicted_customers"
   ]
  },
  {
   "cell_type": "markdown",
   "metadata": {},
   "source": [
    "Next we can create a `model_trace` and plot it alongside our data."
   ]
  },
  {
   "cell_type": "code",
   "execution_count": 15,
   "metadata": {},
   "outputs": [],
   "source": [
    "model_trace = trace_values(inputs, predicted_customers, mode = 'lines', name = 'model')"
   ]
  },
  {
   "cell_type": "markdown",
   "metadata": {},
   "source": [
    "Uncomment the code below to display a trace of our model and our outputs."
   ]
  },
  {
   "cell_type": "code",
   "execution_count": 16,
   "metadata": {},
   "outputs": [
    {
     "data": {
      "application/vnd.plotly.v1+json": {
       "config": {
        "linkText": "Export to plot.ly",
        "plotlyServerURL": "https://plot.ly",
        "showLink": false
       },
       "data": [
        {
         "mode": "markers",
         "name": "data",
         "text": [],
         "type": "scatter",
         "uid": "4dc0ad59-529f-46e7-b9ed-c483f1f5cd1f",
         "x": [
          80,
          65,
          50,
          70,
          60
         ],
         "y": [
          120,
          100,
          85,
          100,
          90
         ]
        },
        {
         "mode": "lines",
         "name": "model",
         "text": [],
         "type": "scatter",
         "uid": "248c89ad-e966-4893-b139-84d9998901af",
         "x": [
          50,
          55,
          60,
          65,
          70,
          75,
          80,
          85,
          90
         ],
         "y": [
          85,
          91.5,
          98,
          104.5,
          111,
          117.5,
          124,
          130.5,
          137
         ]
        }
       ],
       "layout": {
        "xaxis": {
         "title": {
          "text": "temperatures"
         }
        },
        "yaxis": {
         "range": [
          0,
          140
         ],
         "title": {
          "text": "expected customers"
         }
        }
       }
      },
      "text/html": [
       "<div id=\"0e6d9310-6f4e-4ba3-ba01-a299735cac27\" style=\"height: 525px; width: 100%;\" class=\"plotly-graph-div\"></div><script type=\"text/javascript\">require([\"plotly\"], function(Plotly) { window.PLOTLYENV=window.PLOTLYENV || {};window.PLOTLYENV.BASE_URL=\"https://plot.ly\";\n",
       "if (document.getElementById(\"0e6d9310-6f4e-4ba3-ba01-a299735cac27\")) {\n",
       "    Plotly.newPlot(\"0e6d9310-6f4e-4ba3-ba01-a299735cac27\", [{\"mode\": \"markers\", \"name\": \"data\", \"text\": [], \"x\": [80, 65, 50, 70, 60], \"y\": [120, 100, 85, 100, 90], \"type\": \"scatter\", \"uid\": \"b66519e8-f878-4feb-998c-e428178944d0\"}, {\"mode\": \"lines\", \"name\": \"model\", \"text\": [], \"x\": [50, 55, 60, 65, 70, 75, 80, 85, 90], \"y\": [85.0, 91.5, 98.0, 104.5, 111.0, 117.5, 124.0, 130.5, 137.0], \"type\": \"scatter\", \"uid\": \"e7ea9d62-48a7-4b60-a336-5fdb8bf3e892\"}], {\"xaxis\": {\"title\": {\"text\": \"temperatures\"}}, \"yaxis\": {\"range\": [0, 140], \"title\": {\"text\": \"expected customers\"}}}, {\"showLink\": false, \"linkText\": \"Export to plot.ly\", \"plotlyServerURL\": \"https://plot.ly\"}); \n",
       "}\n",
       "});</script><script type=\"text/javascript\">window.addEventListener(\"resize\", function(){if (document.getElementById(\"0e6d9310-6f4e-4ba3-ba01-a299735cac27\")) {window._Plotly.Plots.resize(document.getElementById(\"0e6d9310-6f4e-4ba3-ba01-a299735cac27\"));};})</script>"
      ],
      "text/vnd.plotly.v1+html": [
       "<div id=\"0e6d9310-6f4e-4ba3-ba01-a299735cac27\" style=\"height: 525px; width: 100%;\" class=\"plotly-graph-div\"></div><script type=\"text/javascript\">require([\"plotly\"], function(Plotly) { window.PLOTLYENV=window.PLOTLYENV || {};window.PLOTLYENV.BASE_URL=\"https://plot.ly\";\n",
       "if (document.getElementById(\"0e6d9310-6f4e-4ba3-ba01-a299735cac27\")) {\n",
       "    Plotly.newPlot(\"0e6d9310-6f4e-4ba3-ba01-a299735cac27\", [{\"mode\": \"markers\", \"name\": \"data\", \"text\": [], \"x\": [80, 65, 50, 70, 60], \"y\": [120, 100, 85, 100, 90], \"type\": \"scatter\", \"uid\": \"b66519e8-f878-4feb-998c-e428178944d0\"}, {\"mode\": \"lines\", \"name\": \"model\", \"text\": [], \"x\": [50, 55, 60, 65, 70, 75, 80, 85, 90], \"y\": [85.0, 91.5, 98.0, 104.5, 111.0, 117.5, 124.0, 130.5, 137.0], \"type\": \"scatter\", \"uid\": \"e7ea9d62-48a7-4b60-a336-5fdb8bf3e892\"}], {\"xaxis\": {\"title\": {\"text\": \"temperatures\"}}, \"yaxis\": {\"range\": [0, 140], \"title\": {\"text\": \"expected customers\"}}}, {\"showLink\": false, \"linkText\": \"Export to plot.ly\", \"plotlyServerURL\": \"https://plot.ly\"}); \n",
       "}\n",
       "});</script><script type=\"text/javascript\">window.addEventListener(\"resize\", function(){if (document.getElementById(\"0e6d9310-6f4e-4ba3-ba01-a299735cac27\")) {window._Plotly.Plots.resize(document.getElementById(\"0e6d9310-6f4e-4ba3-ba01-a299735cac27\"));};})</script>"
      ]
     },
     "metadata": {},
     "output_type": "display_data"
    }
   ],
   "source": [
    "from graph import trace_values, plot\n",
    "data_trace = trace_values(temperatures, amounts, name = 'data')\n",
    "layout = {'yaxis': {'range': [0, 140], 'title': 'expected customers'},\n",
    "          'xaxis': {'title': 'temperatures'}}\n",
    "plot([data_trace, model_trace], layout)"
   ]
  },
  {
   "cell_type": "markdown",
   "metadata": {},
   "source": [
    "- I corrected the code \"data_trace = trace_values([.30, .50, .70], [8, 11, 17], name = 'data') into as shown above cell, because the data_trace was already defined previously, as data_trace = trace_values(temperatures, amounts) to plot a graph of actual data. \n",
    "- I changed the yaxis range of [0, 18] to [0, 140] as above, because the predicted_customers has the highest value of 137 when the temperature is 90.  "
   ]
  },
  {
   "cell_type": "markdown",
   "metadata": {},
   "source": [
    "### Summary"
   ]
  },
  {
   "cell_type": "markdown",
   "metadata": {},
   "source": [
    "In this lesson, we built our own machine learning model and plotted it alongside our data.  We started by expressing our machine learning model as a math formula, and used it to plug in different temperatures and calculate the expected number of customers. \n",
    "\n",
    "Then we saw that we could translate our machine learning model into code by using a Python function that takes an input and returns an output.  Finally, we plotted our model as a line alongside our actual data.  "
   ]
  }
 ],
 "metadata": {
  "kernelspec": {
   "display_name": "Python 3",
   "language": "python",
   "name": "python3"
  },
  "language_info": {
   "codemirror_mode": {
    "name": "ipython",
    "version": 3
   },
   "file_extension": ".py",
   "mimetype": "text/x-python",
   "name": "python",
   "nbconvert_exporter": "python",
   "pygments_lexer": "ipython3",
   "version": "3.7.1"
  }
 },
 "nbformat": 4,
 "nbformat_minor": 2
}
