{
 "cells": [
  {
   "cell_type": "markdown",
   "metadata": {},
   "source": [
    "# Object Lifecycle Practice"
   ]
  },
  {
   "cell_type": "markdown",
   "metadata": {},
   "source": [
    "### Introduction"
   ]
  },
  {
   "cell_type": "markdown",
   "metadata": {},
   "source": [
    "Now that we know about our object lifecycle method, let's refactor our previous class.  Copy and paste in your previous `Bundle` class from the `Understanding Self Lab`."
   ]
  },
  {
   "cell_type": "code",
   "execution_count": 1,
   "metadata": {},
   "outputs": [],
   "source": [
    "class Bundle:\n",
    "    \n",
    "    def price(self):\n",
    "        if self.weight < 5:\n",
    "            return 10\n",
    "        else:\n",
    "            return 10 + (self.weight - 5)*1.50\n",
    "    \n",
    "    def processingDays(self):\n",
    "        month_diff = self.ready_month - self.dropoff_month\n",
    "        day_diff = self.ready_day - self.dropoff_day\n",
    "        return month_diff * 30 + day_diff \n",
    "    \n",
    "    def holdingDays(self):\n",
    "        month_diff2 = self.pickup_month - self.dropoff_month\n",
    "        day_diff2 = self.pickup_day - self.dropoff_day\n",
    "        return month_diff2 * 30 + day_diff2"
   ]
  },
  {
   "cell_type": "markdown",
   "metadata": {},
   "source": [
    "### Refactoring"
   ]
  },
  {
   "cell_type": "markdown",
   "metadata": {},
   "source": [
    "Let's create one of our bundles."
   ]
  },
  {
   "cell_type": "code",
   "execution_count": 2,
   "metadata": {},
   "outputs": [],
   "source": [
    "bundle = Bundle()"
   ]
  },
  {
   "cell_type": "code",
   "execution_count": 3,
   "metadata": {},
   "outputs": [
    {
     "data": {
      "text/plain": [
       "<__main__.Bundle at 0x1b0422d10b8>"
      ]
     },
     "execution_count": 3,
     "metadata": {},
     "output_type": "execute_result"
    }
   ],
   "source": [
    "bundle"
   ]
  },
  {
   "cell_type": "code",
   "execution_count": 4,
   "metadata": {},
   "outputs": [
    {
     "data": {
      "text/plain": [
       "dict_keys(['dropoff_month', 'dropoff_day', 'ready_month', 'ready_day', 'pickup_month', 'pickup_day'])"
      ]
     },
     "execution_count": 4,
     "metadata": {},
     "output_type": "execute_result"
    }
   ],
   "source": [
    "from test_helpers import addDaysToBundle, addPickupDays\n",
    "\n",
    "bundle = Bundle()\n",
    "\n",
    "bundle\n",
    "\n",
    "addDaysToBundle(bundle)\n",
    "addPickupDays(bundle)\n",
    "bundle.__dict__.keys()"
   ]
  },
  {
   "cell_type": "code",
   "execution_count": 5,
   "metadata": {},
   "outputs": [
    {
     "data": {
      "text/plain": [
       "dict_values([5, 29, 6, 2, 6, 5])"
      ]
     },
     "execution_count": 5,
     "metadata": {},
     "output_type": "execute_result"
    }
   ],
   "source": [
    "bundle.__dict__.values()"
   ]
  },
  {
   "cell_type": "code",
   "execution_count": 6,
   "metadata": {},
   "outputs": [
    {
     "data": {
      "text/plain": [
       "{'dropoff_month': 5,\n",
       " 'dropoff_day': 29,\n",
       " 'ready_month': 6,\n",
       " 'ready_day': 2,\n",
       " 'pickup_month': 6,\n",
       " 'pickup_day': 5}"
      ]
     },
     "execution_count": 6,
     "metadata": {},
     "output_type": "execute_result"
    }
   ],
   "source": [
    "bundle.__dict__"
   ]
  },
  {
   "cell_type": "markdown",
   "metadata": {},
   "source": [
    "Now if we add an `__init__` method to our class, we are requiring certain information to be provided when we initialize the object.  Think about what information should be moved be required when initializing, and change the `Bundle` class accordingly."
   ]
  },
  {
   "cell_type": "code",
   "execution_count": 7,
   "metadata": {},
   "outputs": [],
   "source": [
    "from test_helpers import addPickupDays\n",
    "\n",
    "class Bundle:\n",
    "            \n",
    "    def __init__(self, weight, dropoff_month, dropoff_day):\n",
    "        self.weight = weight\n",
    "        self.dropoff_month = dropoff_month\n",
    "        self.dropoff_day = dropoff_day\n",
    "    \n",
    "    def price(self):\n",
    "        if self.weight < 5:\n",
    "            return 10\n",
    "        else:\n",
    "            return 10 + (self.weight - 5)*1.50\n",
    "    \n",
    "    def processingDays(self):\n",
    "        month_diff = self.ready_month - self.dropoff_month\n",
    "        day_diff = self.ready_day - self.dropoff_day\n",
    "        return month_diff * 30 + day_diff \n",
    "    \n",
    "    def holdingDays(self):\n",
    "        month_diff2 = self.pickup_month - self.dropoff_month\n",
    "        day_diff2 = self.pickup_day - self.dropoff_day\n",
    "        return month_diff2 * 30 + day_diff2"
   ]
  },
  {
   "cell_type": "markdown",
   "metadata": {},
   "source": [
    "- I think the wieght, dropoff_month, dropoff_day should be provided when we intialize the object, so I moved these information into __init__ method to assign values when initializing the object as shown above. By doing this, I don't need to import addDaysToBundle module, I just need to import addPickupDays for the ready_month, ready_day, pickup_month, and pickup_day information. In addition, the weight, dropoff_month and dropoff_day can be acquired in the beginning of the loundry, so providing these information when initializing the object makes sense."
   ]
  },
  {
   "cell_type": "code",
   "execution_count": 8,
   "metadata": {},
   "outputs": [],
   "source": [
    "bundle1 = Bundle(8, 5, 29)"
   ]
  },
  {
   "cell_type": "code",
   "execution_count": 9,
   "metadata": {},
   "outputs": [
    {
     "data": {
      "text/plain": [
       "<__main__.Bundle at 0x1b0422e4780>"
      ]
     },
     "execution_count": 9,
     "metadata": {},
     "output_type": "execute_result"
    }
   ],
   "source": [
    "bundle1"
   ]
  },
  {
   "cell_type": "code",
   "execution_count": 10,
   "metadata": {},
   "outputs": [
    {
     "data": {
      "text/plain": [
       "{'weight': 8, 'dropoff_month': 5, 'dropoff_day': 29}"
      ]
     },
     "execution_count": 10,
     "metadata": {},
     "output_type": "execute_result"
    }
   ],
   "source": [
    "bundle1.__dict__"
   ]
  },
  {
   "cell_type": "code",
   "execution_count": 11,
   "metadata": {},
   "outputs": [
    {
     "data": {
      "text/plain": [
       "{'weight': 8,\n",
       " 'dropoff_month': 5,\n",
       " 'dropoff_day': 29,\n",
       " 'ready_month': 6,\n",
       " 'ready_day': 2,\n",
       " 'pickup_month': 6,\n",
       " 'pickup_day': 5}"
      ]
     },
     "execution_count": 11,
     "metadata": {},
     "output_type": "execute_result"
    }
   ],
   "source": [
    "addPickupDays(bundle1)\n",
    "bundle1.__dict__"
   ]
  },
  {
   "cell_type": "code",
   "execution_count": 12,
   "metadata": {},
   "outputs": [
    {
     "data": {
      "text/plain": [
       "3"
      ]
     },
     "execution_count": 12,
     "metadata": {},
     "output_type": "execute_result"
    }
   ],
   "source": [
    "bundle1.processingDays()"
   ]
  },
  {
   "cell_type": "code",
   "execution_count": 13,
   "metadata": {},
   "outputs": [
    {
     "data": {
      "text/plain": [
       "6"
      ]
     },
     "execution_count": 13,
     "metadata": {},
     "output_type": "execute_result"
    }
   ],
   "source": [
    "bundle1.holdingDays()"
   ]
  },
  {
   "cell_type": "code",
   "execution_count": 14,
   "metadata": {},
   "outputs": [
    {
     "data": {
      "text/plain": [
       "14.5"
      ]
     },
     "execution_count": 14,
     "metadata": {},
     "output_type": "execute_result"
    }
   ],
   "source": [
    "bundle1.price()"
   ]
  }
 ],
 "metadata": {
  "kernelspec": {
   "display_name": "Python 3",
   "language": "python",
   "name": "python3"
  },
  "language_info": {
   "codemirror_mode": {
    "name": "ipython",
    "version": 3
   },
   "file_extension": ".py",
   "mimetype": "text/x-python",
   "name": "python",
   "nbconvert_exporter": "python",
   "pygments_lexer": "ipython3",
   "version": "3.7.1"
  }
 },
 "nbformat": 4,
 "nbformat_minor": 2
}
