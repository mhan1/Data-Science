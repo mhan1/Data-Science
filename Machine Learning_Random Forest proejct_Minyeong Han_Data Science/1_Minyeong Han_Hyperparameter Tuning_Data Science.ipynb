{
 "cells": [
  {
   "cell_type": "markdown",
   "metadata": {},
   "source": [
    "# Hyperparameter Tuning\n",
    "* Use the previous dataset to model a random forest."
   ]
  },
  {
   "cell_type": "markdown",
   "metadata": {},
   "source": [
    "- Three hyperparameters to tune:\n",
    " 1. Feature Sampling\n",
    " 2. Number of Estimators\n",
    " 3. Min Samples Leaf\n",
    "\n",
    "Show how you use each of these parameters by evaluating against your validation set. Do so by both plotting accuracy scores of the hyperparameters against the validation set, and with a sentence or two about how you made your decision.\n",
    "\n",
    "- A couple of notes: Remember that there is an interaction between feature sampling and number of estimators. Feature sampling increases the variance of the estimators, which tends to lead to a greater benefit of adding additional estimators\n",
    "\n",
    "For choosing the number of estimators, we can initially work with a lower number than we will in our final model. The goal initially is to choose a number so that we can model relatively quickly, yet still find the general trend in the data."
   ]
  },
  {
   "cell_type": "markdown",
   "metadata": {},
   "source": [
    "## my data in use: Automobile (insurance) Data Set \n",
    "http://mlr.cs.umass.edu/ml/datasets/Automobile"
   ]
  },
  {
   "cell_type": "code",
   "execution_count": 1,
   "metadata": {},
   "outputs": [
    {
     "data": {
      "text/html": [
       "<div>\n",
       "<style scoped>\n",
       "    .dataframe tbody tr th:only-of-type {\n",
       "        vertical-align: middle;\n",
       "    }\n",
       "\n",
       "    .dataframe tbody tr th {\n",
       "        vertical-align: top;\n",
       "    }\n",
       "\n",
       "    .dataframe thead th {\n",
       "        text-align: right;\n",
       "    }\n",
       "</style>\n",
       "<table border=\"1\" class=\"dataframe\">\n",
       "  <thead>\n",
       "    <tr style=\"text-align: right;\">\n",
       "      <th></th>\n",
       "      <th>Unnamed: 0</th>\n",
       "      <th>symboling</th>\n",
       "      <th>num_of_doors</th>\n",
       "      <th>wheel-base</th>\n",
       "      <th>length</th>\n",
       "      <th>width</th>\n",
       "      <th>height</th>\n",
       "      <th>curb_weight</th>\n",
       "      <th>num_of_cylinders</th>\n",
       "      <th>engine_size</th>\n",
       "      <th>...</th>\n",
       "      <th>engine_type_ohc</th>\n",
       "      <th>engine_type_ohcf</th>\n",
       "      <th>engine_type_ohcv</th>\n",
       "      <th>engine_type_other</th>\n",
       "      <th>fuel_system_1bbl</th>\n",
       "      <th>fuel_system_2bbl</th>\n",
       "      <th>fuel_system_idi</th>\n",
       "      <th>fuel_system_mpfi</th>\n",
       "      <th>fuel_system_other</th>\n",
       "      <th>normalized_losses</th>\n",
       "    </tr>\n",
       "  </thead>\n",
       "  <tbody>\n",
       "    <tr>\n",
       "      <th>0</th>\n",
       "      <td>0</td>\n",
       "      <td>3</td>\n",
       "      <td>2.0</td>\n",
       "      <td>88.6</td>\n",
       "      <td>168.8</td>\n",
       "      <td>64.1</td>\n",
       "      <td>48.8</td>\n",
       "      <td>2548</td>\n",
       "      <td>4</td>\n",
       "      <td>130</td>\n",
       "      <td>...</td>\n",
       "      <td>0</td>\n",
       "      <td>0</td>\n",
       "      <td>0</td>\n",
       "      <td>0</td>\n",
       "      <td>0</td>\n",
       "      <td>0</td>\n",
       "      <td>0</td>\n",
       "      <td>1</td>\n",
       "      <td>0</td>\n",
       "      <td>122.0</td>\n",
       "    </tr>\n",
       "    <tr>\n",
       "      <th>1</th>\n",
       "      <td>1</td>\n",
       "      <td>3</td>\n",
       "      <td>2.0</td>\n",
       "      <td>88.6</td>\n",
       "      <td>168.8</td>\n",
       "      <td>64.1</td>\n",
       "      <td>48.8</td>\n",
       "      <td>2548</td>\n",
       "      <td>4</td>\n",
       "      <td>130</td>\n",
       "      <td>...</td>\n",
       "      <td>0</td>\n",
       "      <td>0</td>\n",
       "      <td>0</td>\n",
       "      <td>0</td>\n",
       "      <td>0</td>\n",
       "      <td>0</td>\n",
       "      <td>0</td>\n",
       "      <td>1</td>\n",
       "      <td>0</td>\n",
       "      <td>122.0</td>\n",
       "    </tr>\n",
       "  </tbody>\n",
       "</table>\n",
       "<p>2 rows × 50 columns</p>\n",
       "</div>"
      ],
      "text/plain": [
       "   Unnamed: 0  symboling  num_of_doors  wheel-base  length  width  height  \\\n",
       "0           0          3           2.0        88.6   168.8   64.1    48.8   \n",
       "1           1          3           2.0        88.6   168.8   64.1    48.8   \n",
       "\n",
       "   curb_weight  num_of_cylinders  engine_size  ...  engine_type_ohc  \\\n",
       "0         2548                 4          130  ...                0   \n",
       "1         2548                 4          130  ...                0   \n",
       "\n",
       "   engine_type_ohcf  engine_type_ohcv  engine_type_other  fuel_system_1bbl  \\\n",
       "0                 0                 0                  0                 0   \n",
       "1                 0                 0                  0                 0   \n",
       "\n",
       "   fuel_system_2bbl  fuel_system_idi  fuel_system_mpfi  fuel_system_other  \\\n",
       "0                 0                0                 1                  0   \n",
       "1                 0                0                 1                  0   \n",
       "\n",
       "   normalized_losses  \n",
       "0              122.0  \n",
       "1              122.0  \n",
       "\n",
       "[2 rows x 50 columns]"
      ]
     },
     "execution_count": 1,
     "metadata": {},
     "output_type": "execute_result"
    }
   ],
   "source": [
    "import pandas as pd\n",
    "\n",
    "df1 = pd.read_csv(\"https://raw.githubusercontent.com/mhan1/Data-Science/master/Machine%20Learning_Linear%20Regression%20project_Minyeong%20Han_Data%20Science/imputed_engineered_features.csv\")\n",
    "df1.head(2)"
   ]
  },
  {
   "cell_type": "code",
   "execution_count": 2,
   "metadata": {},
   "outputs": [
    {
     "data": {
      "text/plain": [
       "(205, 50)"
      ]
     },
     "execution_count": 2,
     "metadata": {},
     "output_type": "execute_result"
    }
   ],
   "source": [
    "#checking the number of rows and columns\n",
    "df1.shape"
   ]
  },
  {
   "cell_type": "code",
   "execution_count": 3,
   "metadata": {},
   "outputs": [
    {
     "data": {
      "text/html": [
       "<div>\n",
       "<style scoped>\n",
       "    .dataframe tbody tr th:only-of-type {\n",
       "        vertical-align: middle;\n",
       "    }\n",
       "\n",
       "    .dataframe tbody tr th {\n",
       "        vertical-align: top;\n",
       "    }\n",
       "\n",
       "    .dataframe thead th {\n",
       "        text-align: right;\n",
       "    }\n",
       "</style>\n",
       "<table border=\"1\" class=\"dataframe\">\n",
       "  <thead>\n",
       "    <tr style=\"text-align: right;\">\n",
       "      <th></th>\n",
       "      <th>symboling</th>\n",
       "      <th>num_of_doors</th>\n",
       "      <th>wheel-base</th>\n",
       "      <th>length</th>\n",
       "      <th>width</th>\n",
       "      <th>height</th>\n",
       "      <th>curb_weight</th>\n",
       "      <th>num_of_cylinders</th>\n",
       "      <th>engine_size</th>\n",
       "      <th>bore</th>\n",
       "      <th>...</th>\n",
       "      <th>engine_type_ohc</th>\n",
       "      <th>engine_type_ohcf</th>\n",
       "      <th>engine_type_ohcv</th>\n",
       "      <th>engine_type_other</th>\n",
       "      <th>fuel_system_1bbl</th>\n",
       "      <th>fuel_system_2bbl</th>\n",
       "      <th>fuel_system_idi</th>\n",
       "      <th>fuel_system_mpfi</th>\n",
       "      <th>fuel_system_other</th>\n",
       "      <th>normalized_losses</th>\n",
       "    </tr>\n",
       "  </thead>\n",
       "  <tbody>\n",
       "    <tr>\n",
       "      <th>0</th>\n",
       "      <td>3</td>\n",
       "      <td>2.0</td>\n",
       "      <td>88.6</td>\n",
       "      <td>168.8</td>\n",
       "      <td>64.1</td>\n",
       "      <td>48.8</td>\n",
       "      <td>2548</td>\n",
       "      <td>4</td>\n",
       "      <td>130</td>\n",
       "      <td>3.47</td>\n",
       "      <td>...</td>\n",
       "      <td>0</td>\n",
       "      <td>0</td>\n",
       "      <td>0</td>\n",
       "      <td>0</td>\n",
       "      <td>0</td>\n",
       "      <td>0</td>\n",
       "      <td>0</td>\n",
       "      <td>1</td>\n",
       "      <td>0</td>\n",
       "      <td>122.0</td>\n",
       "    </tr>\n",
       "    <tr>\n",
       "      <th>1</th>\n",
       "      <td>3</td>\n",
       "      <td>2.0</td>\n",
       "      <td>88.6</td>\n",
       "      <td>168.8</td>\n",
       "      <td>64.1</td>\n",
       "      <td>48.8</td>\n",
       "      <td>2548</td>\n",
       "      <td>4</td>\n",
       "      <td>130</td>\n",
       "      <td>3.47</td>\n",
       "      <td>...</td>\n",
       "      <td>0</td>\n",
       "      <td>0</td>\n",
       "      <td>0</td>\n",
       "      <td>0</td>\n",
       "      <td>0</td>\n",
       "      <td>0</td>\n",
       "      <td>0</td>\n",
       "      <td>1</td>\n",
       "      <td>0</td>\n",
       "      <td>122.0</td>\n",
       "    </tr>\n",
       "  </tbody>\n",
       "</table>\n",
       "<p>2 rows × 49 columns</p>\n",
       "</div>"
      ],
      "text/plain": [
       "   symboling  num_of_doors  wheel-base  length  width  height  curb_weight  \\\n",
       "0          3           2.0        88.6   168.8   64.1    48.8         2548   \n",
       "1          3           2.0        88.6   168.8   64.1    48.8         2548   \n",
       "\n",
       "   num_of_cylinders  engine_size  bore  ...  engine_type_ohc  \\\n",
       "0                 4          130  3.47  ...                0   \n",
       "1                 4          130  3.47  ...                0   \n",
       "\n",
       "   engine_type_ohcf  engine_type_ohcv  engine_type_other  fuel_system_1bbl  \\\n",
       "0                 0                 0                  0                 0   \n",
       "1                 0                 0                  0                 0   \n",
       "\n",
       "   fuel_system_2bbl  fuel_system_idi  fuel_system_mpfi  fuel_system_other  \\\n",
       "0                 0                0                 1                  0   \n",
       "1                 0                0                 1                  0   \n",
       "\n",
       "   normalized_losses  \n",
       "0              122.0  \n",
       "1              122.0  \n",
       "\n",
       "[2 rows x 49 columns]"
      ]
     },
     "execution_count": 3,
     "metadata": {},
     "output_type": "execute_result"
    }
   ],
   "source": [
    "#drop unnecessary column\n",
    "df1 = df1.drop('Unnamed: 0', axis=1)\n",
    "df1.head(2)"
   ]
  },
  {
   "cell_type": "code",
   "execution_count": 4,
   "metadata": {},
   "outputs": [
    {
     "data": {
      "text/plain": [
       "Index(['symboling', 'num_of_doors', 'wheel-base', 'length', 'width', 'height',\n",
       "       'curb_weight', 'num_of_cylinders', 'engine_size', 'bore', 'stroke',\n",
       "       'compression_ratio', 'horsepower', 'peak_rpm', 'city_mpg',\n",
       "       'highway_mpg', 'price', 'engine_location_is_front', 'fuel_type_is_gas',\n",
       "       'aspiration_is_std', 'make_honda', 'make_mazda', 'make_mitsubishi',\n",
       "       'make_nissan', 'make_other', 'make_peugot', 'make_subaru',\n",
       "       'make_toyota', 'make_volkswagen', 'make_volvo', 'body_style_hatchback',\n",
       "       'body_style_other', 'body_style_sedan', 'body_style_wagon',\n",
       "       'drive_wheels_fwd', 'drive_wheels_other', 'drive_wheels_rwd',\n",
       "       'engine_type_dohc', 'engine_type_l', 'engine_type_ohc',\n",
       "       'engine_type_ohcf', 'engine_type_ohcv', 'engine_type_other',\n",
       "       'fuel_system_1bbl', 'fuel_system_2bbl', 'fuel_system_idi',\n",
       "       'fuel_system_mpfi', 'fuel_system_other', 'normalized_losses'],\n",
       "      dtype='object')"
      ]
     },
     "execution_count": 4,
     "metadata": {},
     "output_type": "execute_result"
    }
   ],
   "source": [
    "df1.columns"
   ]
  },
  {
   "cell_type": "code",
   "execution_count": 5,
   "metadata": {},
   "outputs": [
    {
     "data": {
      "text/html": [
       "<div>\n",
       "<style scoped>\n",
       "    .dataframe tbody tr th:only-of-type {\n",
       "        vertical-align: middle;\n",
       "    }\n",
       "\n",
       "    .dataframe tbody tr th {\n",
       "        vertical-align: top;\n",
       "    }\n",
       "\n",
       "    .dataframe thead th {\n",
       "        text-align: right;\n",
       "    }\n",
       "</style>\n",
       "<table border=\"1\" class=\"dataframe\">\n",
       "  <thead>\n",
       "    <tr style=\"text-align: right;\">\n",
       "      <th></th>\n",
       "      <th>symboling</th>\n",
       "      <th>num_of_doors</th>\n",
       "      <th>wheel-base</th>\n",
       "      <th>length</th>\n",
       "      <th>width</th>\n",
       "      <th>height</th>\n",
       "      <th>curb_weight</th>\n",
       "      <th>num_of_cylinders</th>\n",
       "      <th>engine_size</th>\n",
       "      <th>bore</th>\n",
       "      <th>...</th>\n",
       "      <th>engine_type_l</th>\n",
       "      <th>engine_type_ohc</th>\n",
       "      <th>engine_type_ohcf</th>\n",
       "      <th>engine_type_ohcv</th>\n",
       "      <th>engine_type_other</th>\n",
       "      <th>fuel_system_1bbl</th>\n",
       "      <th>fuel_system_2bbl</th>\n",
       "      <th>fuel_system_idi</th>\n",
       "      <th>fuel_system_mpfi</th>\n",
       "      <th>fuel_system_other</th>\n",
       "    </tr>\n",
       "  </thead>\n",
       "  <tbody>\n",
       "    <tr>\n",
       "      <th>0</th>\n",
       "      <td>3</td>\n",
       "      <td>2.0</td>\n",
       "      <td>88.6</td>\n",
       "      <td>168.8</td>\n",
       "      <td>64.1</td>\n",
       "      <td>48.8</td>\n",
       "      <td>2548</td>\n",
       "      <td>4</td>\n",
       "      <td>130</td>\n",
       "      <td>3.47</td>\n",
       "      <td>...</td>\n",
       "      <td>0</td>\n",
       "      <td>0</td>\n",
       "      <td>0</td>\n",
       "      <td>0</td>\n",
       "      <td>0</td>\n",
       "      <td>0</td>\n",
       "      <td>0</td>\n",
       "      <td>0</td>\n",
       "      <td>1</td>\n",
       "      <td>0</td>\n",
       "    </tr>\n",
       "    <tr>\n",
       "      <th>1</th>\n",
       "      <td>3</td>\n",
       "      <td>2.0</td>\n",
       "      <td>88.6</td>\n",
       "      <td>168.8</td>\n",
       "      <td>64.1</td>\n",
       "      <td>48.8</td>\n",
       "      <td>2548</td>\n",
       "      <td>4</td>\n",
       "      <td>130</td>\n",
       "      <td>3.47</td>\n",
       "      <td>...</td>\n",
       "      <td>0</td>\n",
       "      <td>0</td>\n",
       "      <td>0</td>\n",
       "      <td>0</td>\n",
       "      <td>0</td>\n",
       "      <td>0</td>\n",
       "      <td>0</td>\n",
       "      <td>0</td>\n",
       "      <td>1</td>\n",
       "      <td>0</td>\n",
       "    </tr>\n",
       "  </tbody>\n",
       "</table>\n",
       "<p>2 rows × 48 columns</p>\n",
       "</div>"
      ],
      "text/plain": [
       "   symboling  num_of_doors  wheel-base  length  width  height  curb_weight  \\\n",
       "0          3           2.0        88.6   168.8   64.1    48.8         2548   \n",
       "1          3           2.0        88.6   168.8   64.1    48.8         2548   \n",
       "\n",
       "   num_of_cylinders  engine_size  bore  ...  engine_type_l  engine_type_ohc  \\\n",
       "0                 4          130  3.47  ...              0                0   \n",
       "1                 4          130  3.47  ...              0                0   \n",
       "\n",
       "   engine_type_ohcf  engine_type_ohcv  engine_type_other  fuel_system_1bbl  \\\n",
       "0                 0                 0                  0                 0   \n",
       "1                 0                 0                  0                 0   \n",
       "\n",
       "   fuel_system_2bbl  fuel_system_idi  fuel_system_mpfi  fuel_system_other  \n",
       "0                 0                0                 1                  0  \n",
       "1                 0                0                 1                  0  \n",
       "\n",
       "[2 rows x 48 columns]"
      ]
     },
     "execution_count": 5,
     "metadata": {},
     "output_type": "execute_result"
    }
   ],
   "source": [
    "X = df1.iloc[:, :-1]\n",
    "X.head(2)"
   ]
  },
  {
   "cell_type": "code",
   "execution_count": 6,
   "metadata": {},
   "outputs": [
    {
     "data": {
      "text/plain": [
       "0    122.0\n",
       "1    122.0\n",
       "Name: normalized_losses, dtype: float64"
      ]
     },
     "execution_count": 6,
     "metadata": {},
     "output_type": "execute_result"
    }
   ],
   "source": [
    "y = df1.iloc[:, -1]\n",
    "y.head(2)"
   ]
  },
  {
   "cell_type": "markdown",
   "metadata": {},
   "source": [
    "## Split the data into training, test, and validation sets"
   ]
  },
  {
   "cell_type": "code",
   "execution_count": 7,
   "metadata": {},
   "outputs": [],
   "source": [
    "from sklearn.model_selection import train_test_split\n",
    "\n",
    "X_train, X_test, y_train, y_test = train_test_split(X, y, test_size=0.2, random_state=42)\n",
    "\n",
    "X_train, X_val, y_train, y_val = train_test_split(X_train, y_train, test_size=0.2, random_state=42)"
   ]
  },
  {
   "cell_type": "code",
   "execution_count": 8,
   "metadata": {},
   "outputs": [
    {
     "data": {
      "text/plain": [
       "0.2"
      ]
     },
     "execution_count": 8,
     "metadata": {},
     "output_type": "execute_result"
    }
   ],
   "source": [
    "len(X_test) / (len(X_train) + len(X_test) + len(X_val))"
   ]
  },
  {
   "cell_type": "code",
   "execution_count": 9,
   "metadata": {},
   "outputs": [
    {
     "data": {
      "text/plain": [
       "0.20121951219512196"
      ]
     },
     "execution_count": 9,
     "metadata": {},
     "output_type": "execute_result"
    }
   ],
   "source": [
    "len(X_val) / (len(X) - len(X_test))"
   ]
  },
  {
   "cell_type": "code",
   "execution_count": 10,
   "metadata": {},
   "outputs": [
    {
     "data": {
      "text/html": [
       "<div>\n",
       "<style scoped>\n",
       "    .dataframe tbody tr th:only-of-type {\n",
       "        vertical-align: middle;\n",
       "    }\n",
       "\n",
       "    .dataframe tbody tr th {\n",
       "        vertical-align: top;\n",
       "    }\n",
       "\n",
       "    .dataframe thead th {\n",
       "        text-align: right;\n",
       "    }\n",
       "</style>\n",
       "<table border=\"1\" class=\"dataframe\">\n",
       "  <thead>\n",
       "    <tr style=\"text-align: right;\">\n",
       "      <th></th>\n",
       "      <th>symboling</th>\n",
       "      <th>num_of_doors</th>\n",
       "      <th>wheel-base</th>\n",
       "      <th>length</th>\n",
       "      <th>width</th>\n",
       "      <th>height</th>\n",
       "      <th>curb_weight</th>\n",
       "      <th>num_of_cylinders</th>\n",
       "      <th>engine_size</th>\n",
       "      <th>bore</th>\n",
       "      <th>...</th>\n",
       "      <th>engine_type_l</th>\n",
       "      <th>engine_type_ohc</th>\n",
       "      <th>engine_type_ohcf</th>\n",
       "      <th>engine_type_ohcv</th>\n",
       "      <th>engine_type_other</th>\n",
       "      <th>fuel_system_1bbl</th>\n",
       "      <th>fuel_system_2bbl</th>\n",
       "      <th>fuel_system_idi</th>\n",
       "      <th>fuel_system_mpfi</th>\n",
       "      <th>fuel_system_other</th>\n",
       "    </tr>\n",
       "  </thead>\n",
       "  <tbody>\n",
       "    <tr>\n",
       "      <th>28</th>\n",
       "      <td>-1</td>\n",
       "      <td>4.0</td>\n",
       "      <td>103.3</td>\n",
       "      <td>174.6</td>\n",
       "      <td>64.6</td>\n",
       "      <td>59.8</td>\n",
       "      <td>2535</td>\n",
       "      <td>4</td>\n",
       "      <td>122</td>\n",
       "      <td>3.34</td>\n",
       "      <td>...</td>\n",
       "      <td>0</td>\n",
       "      <td>1</td>\n",
       "      <td>0</td>\n",
       "      <td>0</td>\n",
       "      <td>0</td>\n",
       "      <td>0</td>\n",
       "      <td>1</td>\n",
       "      <td>0</td>\n",
       "      <td>0</td>\n",
       "      <td>0</td>\n",
       "    </tr>\n",
       "  </tbody>\n",
       "</table>\n",
       "<p>1 rows × 48 columns</p>\n",
       "</div>"
      ],
      "text/plain": [
       "    symboling  num_of_doors  wheel-base  length  width  height  curb_weight  \\\n",
       "28         -1           4.0       103.3   174.6   64.6    59.8         2535   \n",
       "\n",
       "    num_of_cylinders  engine_size  bore  ...  engine_type_l  engine_type_ohc  \\\n",
       "28                 4          122  3.34  ...              0                1   \n",
       "\n",
       "    engine_type_ohcf  engine_type_ohcv  engine_type_other  fuel_system_1bbl  \\\n",
       "28                 0                 0                  0                 0   \n",
       "\n",
       "    fuel_system_2bbl  fuel_system_idi  fuel_system_mpfi  fuel_system_other  \n",
       "28                 1                0                 0                  0  \n",
       "\n",
       "[1 rows x 48 columns]"
      ]
     },
     "execution_count": 10,
     "metadata": {},
     "output_type": "execute_result"
    }
   ],
   "source": [
    "X_train[:1]"
   ]
  },
  {
   "cell_type": "code",
   "execution_count": 11,
   "metadata": {},
   "outputs": [
    {
     "data": {
      "text/html": [
       "<div>\n",
       "<style scoped>\n",
       "    .dataframe tbody tr th:only-of-type {\n",
       "        vertical-align: middle;\n",
       "    }\n",
       "\n",
       "    .dataframe tbody tr th {\n",
       "        vertical-align: top;\n",
       "    }\n",
       "\n",
       "    .dataframe thead th {\n",
       "        text-align: right;\n",
       "    }\n",
       "</style>\n",
       "<table border=\"1\" class=\"dataframe\">\n",
       "  <thead>\n",
       "    <tr style=\"text-align: right;\">\n",
       "      <th></th>\n",
       "      <th>symboling</th>\n",
       "      <th>num_of_doors</th>\n",
       "      <th>wheel-base</th>\n",
       "      <th>length</th>\n",
       "      <th>width</th>\n",
       "      <th>height</th>\n",
       "      <th>curb_weight</th>\n",
       "      <th>num_of_cylinders</th>\n",
       "      <th>engine_size</th>\n",
       "      <th>bore</th>\n",
       "      <th>...</th>\n",
       "      <th>engine_type_l</th>\n",
       "      <th>engine_type_ohc</th>\n",
       "      <th>engine_type_ohcf</th>\n",
       "      <th>engine_type_ohcv</th>\n",
       "      <th>engine_type_other</th>\n",
       "      <th>fuel_system_1bbl</th>\n",
       "      <th>fuel_system_2bbl</th>\n",
       "      <th>fuel_system_idi</th>\n",
       "      <th>fuel_system_mpfi</th>\n",
       "      <th>fuel_system_other</th>\n",
       "    </tr>\n",
       "  </thead>\n",
       "  <tbody>\n",
       "    <tr>\n",
       "      <th>88</th>\n",
       "      <td>-1</td>\n",
       "      <td>4.0</td>\n",
       "      <td>96.3</td>\n",
       "      <td>172.4</td>\n",
       "      <td>65.4</td>\n",
       "      <td>51.6</td>\n",
       "      <td>2403</td>\n",
       "      <td>4</td>\n",
       "      <td>110</td>\n",
       "      <td>3.17</td>\n",
       "      <td>...</td>\n",
       "      <td>0</td>\n",
       "      <td>1</td>\n",
       "      <td>0</td>\n",
       "      <td>0</td>\n",
       "      <td>0</td>\n",
       "      <td>0</td>\n",
       "      <td>0</td>\n",
       "      <td>0</td>\n",
       "      <td>0</td>\n",
       "      <td>1</td>\n",
       "    </tr>\n",
       "  </tbody>\n",
       "</table>\n",
       "<p>1 rows × 48 columns</p>\n",
       "</div>"
      ],
      "text/plain": [
       "    symboling  num_of_doors  wheel-base  length  width  height  curb_weight  \\\n",
       "88         -1           4.0        96.3   172.4   65.4    51.6         2403   \n",
       "\n",
       "    num_of_cylinders  engine_size  bore  ...  engine_type_l  engine_type_ohc  \\\n",
       "88                 4          110  3.17  ...              0                1   \n",
       "\n",
       "    engine_type_ohcf  engine_type_ohcv  engine_type_other  fuel_system_1bbl  \\\n",
       "88                 0                 0                  0                 0   \n",
       "\n",
       "    fuel_system_2bbl  fuel_system_idi  fuel_system_mpfi  fuel_system_other  \n",
       "88                 0                0                 0                  1  \n",
       "\n",
       "[1 rows x 48 columns]"
      ]
     },
     "execution_count": 11,
     "metadata": {},
     "output_type": "execute_result"
    }
   ],
   "source": [
    "X_val[:1]"
   ]
  },
  {
   "cell_type": "code",
   "execution_count": 12,
   "metadata": {},
   "outputs": [
    {
     "data": {
      "text/html": [
       "<div>\n",
       "<style scoped>\n",
       "    .dataframe tbody tr th:only-of-type {\n",
       "        vertical-align: middle;\n",
       "    }\n",
       "\n",
       "    .dataframe tbody tr th {\n",
       "        vertical-align: top;\n",
       "    }\n",
       "\n",
       "    .dataframe thead th {\n",
       "        text-align: right;\n",
       "    }\n",
       "</style>\n",
       "<table border=\"1\" class=\"dataframe\">\n",
       "  <thead>\n",
       "    <tr style=\"text-align: right;\">\n",
       "      <th></th>\n",
       "      <th>symboling</th>\n",
       "      <th>num_of_doors</th>\n",
       "      <th>wheel-base</th>\n",
       "      <th>length</th>\n",
       "      <th>width</th>\n",
       "      <th>height</th>\n",
       "      <th>curb_weight</th>\n",
       "      <th>num_of_cylinders</th>\n",
       "      <th>engine_size</th>\n",
       "      <th>bore</th>\n",
       "      <th>...</th>\n",
       "      <th>engine_type_l</th>\n",
       "      <th>engine_type_ohc</th>\n",
       "      <th>engine_type_ohcf</th>\n",
       "      <th>engine_type_ohcv</th>\n",
       "      <th>engine_type_other</th>\n",
       "      <th>fuel_system_1bbl</th>\n",
       "      <th>fuel_system_2bbl</th>\n",
       "      <th>fuel_system_idi</th>\n",
       "      <th>fuel_system_mpfi</th>\n",
       "      <th>fuel_system_other</th>\n",
       "    </tr>\n",
       "  </thead>\n",
       "  <tbody>\n",
       "    <tr>\n",
       "      <th>15</th>\n",
       "      <td>0</td>\n",
       "      <td>4.0</td>\n",
       "      <td>103.5</td>\n",
       "      <td>189.0</td>\n",
       "      <td>66.9</td>\n",
       "      <td>55.7</td>\n",
       "      <td>3230</td>\n",
       "      <td>6</td>\n",
       "      <td>209</td>\n",
       "      <td>3.62</td>\n",
       "      <td>...</td>\n",
       "      <td>0</td>\n",
       "      <td>1</td>\n",
       "      <td>0</td>\n",
       "      <td>0</td>\n",
       "      <td>0</td>\n",
       "      <td>0</td>\n",
       "      <td>0</td>\n",
       "      <td>0</td>\n",
       "      <td>1</td>\n",
       "      <td>0</td>\n",
       "    </tr>\n",
       "  </tbody>\n",
       "</table>\n",
       "<p>1 rows × 48 columns</p>\n",
       "</div>"
      ],
      "text/plain": [
       "    symboling  num_of_doors  wheel-base  length  width  height  curb_weight  \\\n",
       "15          0           4.0       103.5   189.0   66.9    55.7         3230   \n",
       "\n",
       "    num_of_cylinders  engine_size  bore  ...  engine_type_l  engine_type_ohc  \\\n",
       "15                 6          209  3.62  ...              0                1   \n",
       "\n",
       "    engine_type_ohcf  engine_type_ohcv  engine_type_other  fuel_system_1bbl  \\\n",
       "15                 0                 0                  0                 0   \n",
       "\n",
       "    fuel_system_2bbl  fuel_system_idi  fuel_system_mpfi  fuel_system_other  \n",
       "15                 0                0                 1                  0  \n",
       "\n",
       "[1 rows x 48 columns]"
      ]
     },
     "execution_count": 12,
     "metadata": {},
     "output_type": "execute_result"
    }
   ],
   "source": [
    "X_test[:1]"
   ]
  },
  {
   "cell_type": "code",
   "execution_count": 13,
   "metadata": {},
   "outputs": [
    {
     "data": {
      "text/plain": [
       "(131, 48)"
      ]
     },
     "execution_count": 13,
     "metadata": {},
     "output_type": "execute_result"
    }
   ],
   "source": [
    "X_train.shape"
   ]
  },
  {
   "cell_type": "code",
   "execution_count": 14,
   "metadata": {},
   "outputs": [
    {
     "data": {
      "text/plain": [
       "(41, 48)"
      ]
     },
     "execution_count": 14,
     "metadata": {},
     "output_type": "execute_result"
    }
   ],
   "source": [
    "X_test.shape"
   ]
  },
  {
   "cell_type": "code",
   "execution_count": 15,
   "metadata": {},
   "outputs": [
    {
     "data": {
      "text/plain": [
       "(33, 48)"
      ]
     },
     "execution_count": 15,
     "metadata": {},
     "output_type": "execute_result"
    }
   ],
   "source": [
    "X_val.shape"
   ]
  },
  {
   "cell_type": "markdown",
   "metadata": {},
   "source": [
    "## 1. Sampling the features"
   ]
  },
  {
   "cell_type": "code",
   "execution_count": 16,
   "metadata": {},
   "outputs": [],
   "source": [
    "from sklearn.ensemble import RandomForestRegressor    \n",
    "\n",
    "def max_features_score(max_features_list):\n",
    "    feature_sampling_scores = []\n",
    "    for max_feat in max_features_list:\n",
    "        rfr_max_feature = RandomForestRegressor(n_estimators=50, random_state=1,  \n",
    "                                max_features=max_feat)\n",
    "                            \n",
    "        rfr_max_feature.fit(X_train, y_train)\n",
    "        score = rfr_max_feature.score(X_val, y_val)\n",
    "        feature_sampling_scores.append([max_feat, score])\n",
    "    return feature_sampling_scores"
   ]
  },
  {
   "cell_type": "code",
   "execution_count": 17,
   "metadata": {},
   "outputs": [
    {
     "data": {
      "text/plain": [
       "[[0.5, 0.42474476377455306],\n",
       " ['sqrt', 0.37851450786770213],\n",
       " ['log2', 0.35876288524526434],\n",
       " [None, 0.3931832022859586]]"
      ]
     },
     "execution_count": 17,
     "metadata": {},
     "output_type": "execute_result"
    }
   ],
   "source": [
    "max_features_score([0.5, 'sqrt', 'log2', None])"
   ]
  },
  {
   "cell_type": "markdown",
   "metadata": {},
   "source": [
    "### I can see from above list that using 0.5 or None perform the best for my dataset features. Hence, I will use 0.5"
   ]
  },
  {
   "cell_type": "markdown",
   "metadata": {},
   "source": [
    "## 2. Number of Trees (Estimators for random forest)"
   ]
  },
  {
   "cell_type": "code",
   "execution_count": 18,
   "metadata": {},
   "outputs": [
    {
     "data": {
      "text/plain": [
       "RandomForestRegressor(bootstrap=True, criterion='mse', max_depth=None,\n",
       "           max_features=0.5, max_leaf_nodes=None,\n",
       "           min_impurity_decrease=0.0, min_impurity_split=None,\n",
       "           min_samples_leaf=1, min_samples_split=2,\n",
       "           min_weight_fraction_leaf=0.0, n_estimators=50, n_jobs=None,\n",
       "           oob_score=False, random_state=1, verbose=0, warm_start=False)"
      ]
     },
     "execution_count": 18,
     "metadata": {},
     "output_type": "execute_result"
    }
   ],
   "source": [
    "from sklearn.ensemble import RandomForestRegressor    \n",
    "\n",
    "rfr_n_trees = RandomForestRegressor(n_estimators=50, random_state=1,  \n",
    "                                max_features=0.5)\n",
    "rfr_n_trees.fit(X_train, y_train)"
   ]
  },
  {
   "cell_type": "code",
   "execution_count": 19,
   "metadata": {},
   "outputs": [
    {
     "data": {
      "text/plain": [
       "0.42474476377455306"
      ]
     },
     "execution_count": 19,
     "metadata": {},
     "output_type": "execute_result"
    }
   ],
   "source": [
    "rfr_n_trees.score(X_val, y_val)"
   ]
  },
  {
   "cell_type": "code",
   "execution_count": 20,
   "metadata": {},
   "outputs": [
    {
     "data": {
      "text/plain": [
       "[DecisionTreeRegressor(criterion='mse', max_depth=None, max_features=0.5,\n",
       "            max_leaf_nodes=None, min_impurity_decrease=0.0,\n",
       "            min_impurity_split=None, min_samples_leaf=1,\n",
       "            min_samples_split=2, min_weight_fraction_leaf=0.0,\n",
       "            presort=False, random_state=77964601, splitter='best'),\n",
       " DecisionTreeRegressor(criterion='mse', max_depth=None, max_features=0.5,\n",
       "            max_leaf_nodes=None, min_impurity_decrease=0.0,\n",
       "            min_impurity_split=None, min_samples_leaf=1,\n",
       "            min_samples_split=2, min_weight_fraction_leaf=0.0,\n",
       "            presort=False, random_state=1616579073, splitter='best'),\n",
       " DecisionTreeRegressor(criterion='mse', max_depth=None, max_features=0.5,\n",
       "            max_leaf_nodes=None, min_impurity_decrease=0.0,\n",
       "            min_impurity_split=None, min_samples_leaf=1,\n",
       "            min_samples_split=2, min_weight_fraction_leaf=0.0,\n",
       "            presort=False, random_state=1567750016, splitter='best')]"
      ]
     },
     "execution_count": 20,
     "metadata": {},
     "output_type": "execute_result"
    }
   ],
   "source": [
    "rfr_n_trees.estimators_[47:50]"
   ]
  },
  {
   "cell_type": "code",
   "execution_count": 21,
   "metadata": {},
   "outputs": [],
   "source": [
    "import numpy as np\n",
    "\n",
    "tree_predictions = np.vstack([estimator.predict(X_val) for estimator in rfr_n_trees.estimators_])"
   ]
  },
  {
   "cell_type": "code",
   "execution_count": 22,
   "metadata": {},
   "outputs": [
    {
     "data": {
      "text/plain": [
       "(50, 33)"
      ]
     },
     "execution_count": 22,
     "metadata": {},
     "output_type": "execute_result"
    }
   ],
   "source": [
    "tree_predictions.shape"
   ]
  },
  {
   "cell_type": "code",
   "execution_count": 23,
   "metadata": {},
   "outputs": [
    {
     "data": {
      "text/plain": [
       "array([[125., 128.,  95., 161., 122.,  91.,  94., 122., 113., 104.,  94.,\n",
       "         85., 154., 122., 118., 104., 154., 122., 125., 150., 186., 119.,\n",
       "         65., 122.,  85.,  95., 154., 168., 145., 122.,  95.,  94., 158.],\n",
       "       [153., 128.,  93.,  94., 122.,  91., 168., 122., 113., 104.,  85.,\n",
       "         85., 134., 118., 101., 161., 134., 122., 153., 150., 134., 161.,\n",
       "         65.,  87.,  83.,  93.,  85., 101., 145.,  94.,  74.,  94., 158.]])"
      ]
     },
     "execution_count": 23,
     "metadata": {},
     "output_type": "execute_result"
    }
   ],
   "source": [
    "tree_predictions[0:2]"
   ]
  },
  {
   "cell_type": "code",
   "execution_count": 24,
   "metadata": {},
   "outputs": [],
   "source": [
    "#visualizing the r2_score of prediction\n",
    "import numpy as np\n",
    "from sklearn.metrics import r2_score\n",
    "\n",
    "r2_scores = [r2_score(y_val, np.mean(tree_predictions[:i + 1], axis = 0)) \n",
    "                  for i in range(0, len(rfr_n_trees.estimators_))]"
   ]
  },
  {
   "cell_type": "code",
   "execution_count": 25,
   "metadata": {},
   "outputs": [
    {
     "data": {
      "text/plain": [
       "[-0.0005296970521631028,\n",
       " 0.31627530639815715,\n",
       " 0.44276329075238574,\n",
       " 0.3976515346635694,\n",
       " 0.35311695127759035,\n",
       " 0.3698252620677517,\n",
       " 0.3954791482241312,\n",
       " 0.3930856690827007,\n",
       " 0.4168706201301199,\n",
       " 0.4054439007085304,\n",
       " 0.39983313880183313,\n",
       " 0.40009379039547466,\n",
       " 0.42410550612911335,\n",
       " 0.4246098951297028,\n",
       " 0.41787516428168003,\n",
       " 0.4083073787346072,\n",
       " 0.40608646648161584,\n",
       " 0.3928131782075107,\n",
       " 0.3920442703912769,\n",
       " 0.40289901009826135,\n",
       " 0.39539060091375144,\n",
       " 0.39448663343285206,\n",
       " 0.4018277648709866,\n",
       " 0.4115868513505926,\n",
       " 0.4142532126855155,\n",
       " 0.4160447317529129,\n",
       " 0.42369765659400327,\n",
       " 0.4187171579893607,\n",
       " 0.4162057793624009,\n",
       " 0.4147085991267828,\n",
       " 0.41035769541969946,\n",
       " 0.4101035465290568,\n",
       " 0.4117942735384833,\n",
       " 0.40861647782753496,\n",
       " 0.40423256804787233,\n",
       " 0.41529720457765273,\n",
       " 0.417691481485565,\n",
       " 0.41210532292700985,\n",
       " 0.42010068918286647,\n",
       " 0.4151873150312474,\n",
       " 0.4205369732786254,\n",
       " 0.42618029167950167,\n",
       " 0.4303464303507998,\n",
       " 0.428061720198908,\n",
       " 0.4234065717951587,\n",
       " 0.42260655816045345,\n",
       " 0.42193468891070574,\n",
       " 0.4208190438981707,\n",
       " 0.4204631041368143,\n",
       " 0.42474476377455306]"
      ]
     },
     "execution_count": 25,
     "metadata": {},
     "output_type": "execute_result"
    }
   ],
   "source": [
    "r2_scores"
   ]
  },
  {
   "cell_type": "code",
   "execution_count": 26,
   "metadata": {},
   "outputs": [
    {
     "data": {
      "text/html": [
       "<script type=\"text/javascript\">window.PlotlyConfig = {MathJaxConfig: 'local'};</script><script type=\"text/javascript\">if (window.MathJax) {MathJax.Hub.Config({SVG: {font: \"STIX-Web\"}});}</script><script>requirejs.config({paths: { 'plotly': ['https://cdn.plot.ly/plotly-latest.min']},});if(!window._Plotly) {require(['plotly'],function(plotly) {window._Plotly=plotly;});}</script>"
      ],
      "text/vnd.plotly.v1+html": [
       "<script type=\"text/javascript\">window.PlotlyConfig = {MathJaxConfig: 'local'};</script><script type=\"text/javascript\">if (window.MathJax) {MathJax.Hub.Config({SVG: {font: \"STIX-Web\"}});}</script><script>requirejs.config({paths: { 'plotly': ['https://cdn.plot.ly/plotly-latest.min']},});if(!window._Plotly) {require(['plotly'],function(plotly) {window._Plotly=plotly;});}</script>"
      ]
     },
     "metadata": {},
     "output_type": "display_data"
    },
    {
     "data": {
      "application/vnd.plotly.v1+json": {
       "config": {
        "linkText": "Export to plot.ly",
        "plotlyServerURL": "https://plot.ly",
        "showLink": false
       },
       "data": [
        {
         "mode": "markers",
         "name": "data",
         "text": [],
         "type": "scatter",
         "uid": "b051e863-036c-443e-b33a-953e264f5ece",
         "x": [
          1,
          2,
          3,
          4,
          5,
          6,
          7,
          8,
          9,
          10,
          11,
          12,
          13,
          14,
          15,
          16,
          17,
          18,
          19,
          20,
          21,
          22,
          23,
          24,
          25,
          26,
          27,
          28,
          29,
          30,
          31,
          32,
          33,
          34,
          35,
          36,
          37,
          38,
          39,
          40,
          41,
          42,
          43,
          44,
          45,
          46,
          47,
          48,
          49,
          50
         ],
         "y": [
          -0.0005296970521631028,
          0.31627530639815715,
          0.44276329075238574,
          0.3976515346635694,
          0.35311695127759035,
          0.3698252620677517,
          0.3954791482241312,
          0.3930856690827007,
          0.4168706201301199,
          0.4054439007085304,
          0.39983313880183313,
          0.40009379039547466,
          0.42410550612911335,
          0.4246098951297028,
          0.41787516428168003,
          0.4083073787346072,
          0.40608646648161584,
          0.3928131782075107,
          0.3920442703912769,
          0.40289901009826135,
          0.39539060091375144,
          0.39448663343285206,
          0.4018277648709866,
          0.4115868513505926,
          0.4142532126855155,
          0.4160447317529129,
          0.42369765659400327,
          0.4187171579893607,
          0.4162057793624009,
          0.4147085991267828,
          0.41035769541969946,
          0.4101035465290568,
          0.4117942735384833,
          0.40861647782753496,
          0.40423256804787233,
          0.41529720457765273,
          0.417691481485565,
          0.41210532292700985,
          0.42010068918286647,
          0.4151873150312474,
          0.4205369732786254,
          0.42618029167950167,
          0.4303464303507998,
          0.428061720198908,
          0.4234065717951587,
          0.42260655816045345,
          0.42193468891070574,
          0.4208190438981707,
          0.4204631041368143,
          0.42474476377455306
         ]
        }
       ],
       "layout": {}
      },
      "text/html": [
       "<div id=\"ec75a6fb-469c-4e68-b003-f3367074f958\" style=\"height: 525px; width: 100%;\" class=\"plotly-graph-div\"></div><script type=\"text/javascript\">require([\"plotly\"], function(Plotly) { window.PLOTLYENV=window.PLOTLYENV || {};window.PLOTLYENV.BASE_URL=\"https://plot.ly\";\n",
       "if (document.getElementById(\"ec75a6fb-469c-4e68-b003-f3367074f958\")) {\n",
       "    Plotly.newPlot(\"ec75a6fb-469c-4e68-b003-f3367074f958\", [{\"mode\": \"markers\", \"name\": \"data\", \"text\": [], \"x\": [1, 2, 3, 4, 5, 6, 7, 8, 9, 10, 11, 12, 13, 14, 15, 16, 17, 18, 19, 20, 21, 22, 23, 24, 25, 26, 27, 28, 29, 30, 31, 32, 33, 34, 35, 36, 37, 38, 39, 40, 41, 42, 43, 44, 45, 46, 47, 48, 49, 50], \"y\": [-0.0005296970521631028, 0.31627530639815715, 0.44276329075238574, 0.3976515346635694, 0.35311695127759035, 0.3698252620677517, 0.3954791482241312, 0.3930856690827007, 0.4168706201301199, 0.4054439007085304, 0.39983313880183313, 0.40009379039547466, 0.42410550612911335, 0.4246098951297028, 0.41787516428168003, 0.4083073787346072, 0.40608646648161584, 0.3928131782075107, 0.3920442703912769, 0.40289901009826135, 0.39539060091375144, 0.39448663343285206, 0.4018277648709866, 0.4115868513505926, 0.4142532126855155, 0.4160447317529129, 0.42369765659400327, 0.4187171579893607, 0.4162057793624009, 0.4147085991267828, 0.41035769541969946, 0.4101035465290568, 0.4117942735384833, 0.40861647782753496, 0.40423256804787233, 0.41529720457765273, 0.417691481485565, 0.41210532292700985, 0.42010068918286647, 0.4151873150312474, 0.4205369732786254, 0.42618029167950167, 0.4303464303507998, 0.428061720198908, 0.4234065717951587, 0.42260655816045345, 0.42193468891070574, 0.4208190438981707, 0.4204631041368143, 0.42474476377455306], \"type\": \"scatter\", \"uid\": \"ade6f0fc-a214-431d-9ae1-15998afd9b17\"}], {}, {\"showLink\": false, \"linkText\": \"Export to plot.ly\", \"plotlyServerURL\": \"https://plot.ly\"}); \n",
       "}\n",
       "});</script><script type=\"text/javascript\">window.addEventListener(\"resize\", function(){if (document.getElementById(\"ec75a6fb-469c-4e68-b003-f3367074f958\")) {window._Plotly.Plots.resize(document.getElementById(\"ec75a6fb-469c-4e68-b003-f3367074f958\"));};})</script>"
      ],
      "text/vnd.plotly.v1+html": [
       "<div id=\"ec75a6fb-469c-4e68-b003-f3367074f958\" style=\"height: 525px; width: 100%;\" class=\"plotly-graph-div\"></div><script type=\"text/javascript\">require([\"plotly\"], function(Plotly) { window.PLOTLYENV=window.PLOTLYENV || {};window.PLOTLYENV.BASE_URL=\"https://plot.ly\";\n",
       "if (document.getElementById(\"ec75a6fb-469c-4e68-b003-f3367074f958\")) {\n",
       "    Plotly.newPlot(\"ec75a6fb-469c-4e68-b003-f3367074f958\", [{\"mode\": \"markers\", \"name\": \"data\", \"text\": [], \"x\": [1, 2, 3, 4, 5, 6, 7, 8, 9, 10, 11, 12, 13, 14, 15, 16, 17, 18, 19, 20, 21, 22, 23, 24, 25, 26, 27, 28, 29, 30, 31, 32, 33, 34, 35, 36, 37, 38, 39, 40, 41, 42, 43, 44, 45, 46, 47, 48, 49, 50], \"y\": [-0.0005296970521631028, 0.31627530639815715, 0.44276329075238574, 0.3976515346635694, 0.35311695127759035, 0.3698252620677517, 0.3954791482241312, 0.3930856690827007, 0.4168706201301199, 0.4054439007085304, 0.39983313880183313, 0.40009379039547466, 0.42410550612911335, 0.4246098951297028, 0.41787516428168003, 0.4083073787346072, 0.40608646648161584, 0.3928131782075107, 0.3920442703912769, 0.40289901009826135, 0.39539060091375144, 0.39448663343285206, 0.4018277648709866, 0.4115868513505926, 0.4142532126855155, 0.4160447317529129, 0.42369765659400327, 0.4187171579893607, 0.4162057793624009, 0.4147085991267828, 0.41035769541969946, 0.4101035465290568, 0.4117942735384833, 0.40861647782753496, 0.40423256804787233, 0.41529720457765273, 0.417691481485565, 0.41210532292700985, 0.42010068918286647, 0.4151873150312474, 0.4205369732786254, 0.42618029167950167, 0.4303464303507998, 0.428061720198908, 0.4234065717951587, 0.42260655816045345, 0.42193468891070574, 0.4208190438981707, 0.4204631041368143, 0.42474476377455306], \"type\": \"scatter\", \"uid\": \"ade6f0fc-a214-431d-9ae1-15998afd9b17\"}], {}, {\"showLink\": false, \"linkText\": \"Export to plot.ly\", \"plotlyServerURL\": \"https://plot.ly\"}); \n",
       "}\n",
       "});</script><script type=\"text/javascript\">window.addEventListener(\"resize\", function(){if (document.getElementById(\"ec75a6fb-469c-4e68-b003-f3367074f958\")) {window._Plotly.Plots.resize(document.getElementById(\"ec75a6fb-469c-4e68-b003-f3367074f958\"));};})</script>"
      ]
     },
     "metadata": {},
     "output_type": "display_data"
    }
   ],
   "source": [
    "from graph import trace_values, plot\n",
    "x_vals = list(range(1, len(rfr_n_trees.estimators_) + 1))\n",
    "\n",
    "trace = trace_values(x_vals, r2_scores)\n",
    "\n",
    "plot([trace])"
   ]
  },
  {
   "cell_type": "markdown",
   "metadata": {},
   "source": [
    "### RandomForestRegression adding additional trees does not hurt the model, but it takes more time to train a random forest with more trees(estimators). Based on above, with max_features of 0.5, the r2_score of the mean prediction of the estimators is highest at 14 estimators(decision trees) and reaches a plateau after that. Hence, I will use 14 estimators(decision trees) to limit the number of estimators."
   ]
  },
  {
   "cell_type": "markdown",
   "metadata": {},
   "source": [
    "## 3. Number of leaves (min_samples_leaf)"
   ]
  },
  {
   "cell_type": "code",
   "execution_count": 27,
   "metadata": {},
   "outputs": [],
   "source": [
    "from sklearn.ensemble import RandomForestRegressor\n",
    "\n",
    "min_samples = list(range(2, 51, 1))\n",
    "def find_min_samples_leaf(min_samples):\n",
    "    scores = []\n",
    "    for min_sample in min_samples:\n",
    "        rfr_min_sample = RandomForestRegressor(min_samples_leaf = min_sample,\n",
    "                                              n_estimators = 14, random_state=1,\n",
    "                                              max_features = 0.5)\n",
    "                            \n",
    "        rfr_min_sample.fit(X_train, y_train)\n",
    "        score = rfr_min_sample.score(X_val, y_val)\n",
    "        scores.append([min_sample, score])\n",
    "    return scores"
   ]
  },
  {
   "cell_type": "code",
   "execution_count": 28,
   "metadata": {},
   "outputs": [
    {
     "data": {
      "text/plain": [
       "[[2, 0.4427916863445995],\n",
       " [3, 0.44611710774064506],\n",
       " [4, 0.46286045376950197],\n",
       " [5, 0.3629140727485617],\n",
       " [6, 0.33383081295145467],\n",
       " [7, 0.34425196758385745],\n",
       " [8, 0.30853740043735844],\n",
       " [9, 0.31791664986498214],\n",
       " [10, 0.3067690796229522],\n",
       " [11, 0.2812803706643987],\n",
       " [12, 0.2840319654048178],\n",
       " [13, 0.2723435761406978],\n",
       " [14, 0.22143403734507794],\n",
       " [15, 0.168629456251969],\n",
       " [16, 0.16259471818415083],\n",
       " [17, 0.16444704849337355],\n",
       " [18, 0.1547625634926445],\n",
       " [19, 0.13592442421392958],\n",
       " [20, 0.12880301645275838],\n",
       " [21, 0.12598783712411243],\n",
       " [22, 0.11910855515897924],\n",
       " [23, 0.11186840012360165],\n",
       " [24, 0.10913119760182455],\n",
       " [25, 0.11867702813635095],\n",
       " [26, 0.10364405345886507],\n",
       " [27, 0.1038644127021755],\n",
       " [28, 0.09603748128599554],\n",
       " [29, 0.05541565712191444],\n",
       " [30, 0.05688672340669044],\n",
       " [31, 0.05688672340669044],\n",
       " [32, 0.07966958865888663],\n",
       " [33, 0.08023273869087999],\n",
       " [34, 0.06193726799750432],\n",
       " [35, 0.05413282322218482],\n",
       " [36, 0.047311516182212965],\n",
       " [37, 0.043687112889255975],\n",
       " [38, 0.01850141267996752],\n",
       " [39, 0.018768358195947354],\n",
       " [40, 0.030248788422046476],\n",
       " [41, 0.013705683985658636],\n",
       " [42, 0.0067770087287025715],\n",
       " [43, 0.010919488392231003],\n",
       " [44, -0.022733571748599912],\n",
       " [45, -0.025131137437106377],\n",
       " [46, -0.025131137437106377],\n",
       " [47, -0.025131137437106377],\n",
       " [48, -0.025131137437106377],\n",
       " [49, -0.025131137437106377],\n",
       " [50, -0.025131137437106377]]"
      ]
     },
     "execution_count": 28,
     "metadata": {},
     "output_type": "execute_result"
    }
   ],
   "source": [
    "scores = find_min_samples_leaf(min_samples)\n",
    "scores"
   ]
  },
  {
   "cell_type": "code",
   "execution_count": 29,
   "metadata": {},
   "outputs": [],
   "source": [
    "import numpy as np\n",
    "wrapped_scores = np.array(scores)"
   ]
  },
  {
   "cell_type": "code",
   "execution_count": 30,
   "metadata": {},
   "outputs": [
    {
     "data": {
      "text/plain": [
       "array([[2.        , 0.44279169],\n",
       "       [3.        , 0.44611711],\n",
       "       [4.        , 0.46286045],\n",
       "       [5.        , 0.36291407],\n",
       "       [6.        , 0.33383081]])"
      ]
     },
     "execution_count": 30,
     "metadata": {},
     "output_type": "execute_result"
    }
   ],
   "source": [
    "wrapped_scores[:5]"
   ]
  },
  {
   "cell_type": "code",
   "execution_count": 31,
   "metadata": {},
   "outputs": [
    {
     "data": {
      "application/vnd.plotly.v1+json": {
       "config": {
        "linkText": "Export to plot.ly",
        "plotlyServerURL": "https://plot.ly",
        "showLink": false
       },
       "data": [
        {
         "mode": "markers",
         "name": "data",
         "text": [],
         "type": "scatter",
         "uid": "340b340c-35c5-41b0-897b-b0da933a5a0a",
         "x": [
          2,
          3,
          4,
          5,
          6,
          7,
          8,
          9,
          10,
          11,
          12,
          13,
          14,
          15,
          16,
          17,
          18,
          19,
          20,
          21,
          22,
          23,
          24,
          25,
          26,
          27,
          28,
          29,
          30,
          31,
          32,
          33,
          34,
          35,
          36,
          37,
          38,
          39,
          40,
          41,
          42,
          43,
          44,
          45,
          46,
          47,
          48,
          49,
          50
         ],
         "y": [
          0.4427916863445995,
          0.44611710774064506,
          0.46286045376950197,
          0.3629140727485617,
          0.33383081295145467,
          0.34425196758385745,
          0.30853740043735844,
          0.31791664986498214,
          0.3067690796229522,
          0.2812803706643987,
          0.2840319654048178,
          0.2723435761406978,
          0.22143403734507794,
          0.168629456251969,
          0.16259471818415083,
          0.16444704849337355,
          0.1547625634926445,
          0.13592442421392958,
          0.12880301645275838,
          0.12598783712411243,
          0.11910855515897924,
          0.11186840012360165,
          0.10913119760182455,
          0.11867702813635095,
          0.10364405345886507,
          0.1038644127021755,
          0.09603748128599554,
          0.05541565712191444,
          0.05688672340669044,
          0.05688672340669044,
          0.07966958865888663,
          0.08023273869087999,
          0.06193726799750432,
          0.05413282322218482,
          0.047311516182212965,
          0.043687112889255975,
          0.01850141267996752,
          0.018768358195947354,
          0.030248788422046476,
          0.013705683985658636,
          0.0067770087287025715,
          0.010919488392231003,
          -0.022733571748599912,
          -0.025131137437106377,
          -0.025131137437106377,
          -0.025131137437106377,
          -0.025131137437106377,
          -0.025131137437106377,
          -0.025131137437106377
         ]
        }
       ],
       "layout": {}
      },
      "text/html": [
       "<div id=\"29c9ac0b-ee92-4502-8770-1e62e67d892e\" style=\"height: 525px; width: 100%;\" class=\"plotly-graph-div\"></div><script type=\"text/javascript\">require([\"plotly\"], function(Plotly) { window.PLOTLYENV=window.PLOTLYENV || {};window.PLOTLYENV.BASE_URL=\"https://plot.ly\";\n",
       "if (document.getElementById(\"29c9ac0b-ee92-4502-8770-1e62e67d892e\")) {\n",
       "    Plotly.newPlot(\"29c9ac0b-ee92-4502-8770-1e62e67d892e\", [{\"mode\": \"markers\", \"name\": \"data\", \"text\": [], \"x\": [2.0, 3.0, 4.0, 5.0, 6.0, 7.0, 8.0, 9.0, 10.0, 11.0, 12.0, 13.0, 14.0, 15.0, 16.0, 17.0, 18.0, 19.0, 20.0, 21.0, 22.0, 23.0, 24.0, 25.0, 26.0, 27.0, 28.0, 29.0, 30.0, 31.0, 32.0, 33.0, 34.0, 35.0, 36.0, 37.0, 38.0, 39.0, 40.0, 41.0, 42.0, 43.0, 44.0, 45.0, 46.0, 47.0, 48.0, 49.0, 50.0], \"y\": [0.4427916863445995, 0.44611710774064506, 0.46286045376950197, 0.3629140727485617, 0.33383081295145467, 0.34425196758385745, 0.30853740043735844, 0.31791664986498214, 0.3067690796229522, 0.2812803706643987, 0.2840319654048178, 0.2723435761406978, 0.22143403734507794, 0.168629456251969, 0.16259471818415083, 0.16444704849337355, 0.1547625634926445, 0.13592442421392958, 0.12880301645275838, 0.12598783712411243, 0.11910855515897924, 0.11186840012360165, 0.10913119760182455, 0.11867702813635095, 0.10364405345886507, 0.1038644127021755, 0.09603748128599554, 0.05541565712191444, 0.05688672340669044, 0.05688672340669044, 0.07966958865888663, 0.08023273869087999, 0.06193726799750432, 0.05413282322218482, 0.047311516182212965, 0.043687112889255975, 0.01850141267996752, 0.018768358195947354, 0.030248788422046476, 0.013705683985658636, 0.0067770087287025715, 0.010919488392231003, -0.022733571748599912, -0.025131137437106377, -0.025131137437106377, -0.025131137437106377, -0.025131137437106377, -0.025131137437106377, -0.025131137437106377], \"type\": \"scatter\", \"uid\": \"f1d96cbc-009e-410d-85ec-24c78e9260ce\"}], {}, {\"showLink\": false, \"linkText\": \"Export to plot.ly\", \"plotlyServerURL\": \"https://plot.ly\"}); \n",
       "}\n",
       "});</script><script type=\"text/javascript\">window.addEventListener(\"resize\", function(){if (document.getElementById(\"29c9ac0b-ee92-4502-8770-1e62e67d892e\")) {window._Plotly.Plots.resize(document.getElementById(\"29c9ac0b-ee92-4502-8770-1e62e67d892e\"));};})</script>"
      ],
      "text/vnd.plotly.v1+html": [
       "<div id=\"29c9ac0b-ee92-4502-8770-1e62e67d892e\" style=\"height: 525px; width: 100%;\" class=\"plotly-graph-div\"></div><script type=\"text/javascript\">require([\"plotly\"], function(Plotly) { window.PLOTLYENV=window.PLOTLYENV || {};window.PLOTLYENV.BASE_URL=\"https://plot.ly\";\n",
       "if (document.getElementById(\"29c9ac0b-ee92-4502-8770-1e62e67d892e\")) {\n",
       "    Plotly.newPlot(\"29c9ac0b-ee92-4502-8770-1e62e67d892e\", [{\"mode\": \"markers\", \"name\": \"data\", \"text\": [], \"x\": [2.0, 3.0, 4.0, 5.0, 6.0, 7.0, 8.0, 9.0, 10.0, 11.0, 12.0, 13.0, 14.0, 15.0, 16.0, 17.0, 18.0, 19.0, 20.0, 21.0, 22.0, 23.0, 24.0, 25.0, 26.0, 27.0, 28.0, 29.0, 30.0, 31.0, 32.0, 33.0, 34.0, 35.0, 36.0, 37.0, 38.0, 39.0, 40.0, 41.0, 42.0, 43.0, 44.0, 45.0, 46.0, 47.0, 48.0, 49.0, 50.0], \"y\": [0.4427916863445995, 0.44611710774064506, 0.46286045376950197, 0.3629140727485617, 0.33383081295145467, 0.34425196758385745, 0.30853740043735844, 0.31791664986498214, 0.3067690796229522, 0.2812803706643987, 0.2840319654048178, 0.2723435761406978, 0.22143403734507794, 0.168629456251969, 0.16259471818415083, 0.16444704849337355, 0.1547625634926445, 0.13592442421392958, 0.12880301645275838, 0.12598783712411243, 0.11910855515897924, 0.11186840012360165, 0.10913119760182455, 0.11867702813635095, 0.10364405345886507, 0.1038644127021755, 0.09603748128599554, 0.05541565712191444, 0.05688672340669044, 0.05688672340669044, 0.07966958865888663, 0.08023273869087999, 0.06193726799750432, 0.05413282322218482, 0.047311516182212965, 0.043687112889255975, 0.01850141267996752, 0.018768358195947354, 0.030248788422046476, 0.013705683985658636, 0.0067770087287025715, 0.010919488392231003, -0.022733571748599912, -0.025131137437106377, -0.025131137437106377, -0.025131137437106377, -0.025131137437106377, -0.025131137437106377, -0.025131137437106377], \"type\": \"scatter\", \"uid\": \"f1d96cbc-009e-410d-85ec-24c78e9260ce\"}], {}, {\"showLink\": false, \"linkText\": \"Export to plot.ly\", \"plotlyServerURL\": \"https://plot.ly\"}); \n",
       "}\n",
       "});</script><script type=\"text/javascript\">window.addEventListener(\"resize\", function(){if (document.getElementById(\"29c9ac0b-ee92-4502-8770-1e62e67d892e\")) {window._Plotly.Plots.resize(document.getElementById(\"29c9ac0b-ee92-4502-8770-1e62e67d892e\"));};})</script>"
      ]
     },
     "metadata": {},
     "output_type": "display_data"
    }
   ],
   "source": [
    "from graph import trace_values, plot\n",
    "trace_1 = trace_values(wrapped_scores[:, 0], wrapped_scores[:, 1])\n",
    "plot([trace_1])"
   ]
  },
  {
   "cell_type": "markdown",
   "metadata": {},
   "source": [
    "### Based on above graph, there is a downward trend once the min_samples_leaf is larger than 4. Hence, I will choose 4 for my final model."
   ]
  },
  {
   "cell_type": "code",
   "execution_count": 32,
   "metadata": {},
   "outputs": [
    {
     "data": {
      "text/plain": [
       "(33, 48)"
      ]
     },
     "execution_count": 32,
     "metadata": {},
     "output_type": "execute_result"
    }
   ],
   "source": [
    "X_val.shape"
   ]
  },
  {
   "cell_type": "code",
   "execution_count": 33,
   "metadata": {},
   "outputs": [
    {
     "data": {
      "text/plain": [
       "(131, 48)"
      ]
     },
     "execution_count": 33,
     "metadata": {},
     "output_type": "execute_result"
    }
   ],
   "source": [
    "X_train.shape"
   ]
  },
  {
   "cell_type": "markdown",
   "metadata": {},
   "source": [
    "## 4. Evaluation"
   ]
  },
  {
   "cell_type": "code",
   "execution_count": 34,
   "metadata": {},
   "outputs": [],
   "source": [
    "from sklearn.ensemble import RandomForestRegressor\n",
    "\n",
    "rfr_tuned = RandomForestRegressor(min_samples_leaf = 4,\n",
    "                                  n_estimators = 14,\n",
    "                                  max_features = 0.5, random_state=1)"
   ]
  },
  {
   "cell_type": "code",
   "execution_count": 35,
   "metadata": {},
   "outputs": [
    {
     "data": {
      "text/plain": [
       "(164, 48)"
      ]
     },
     "execution_count": 35,
     "metadata": {},
     "output_type": "execute_result"
    }
   ],
   "source": [
    "combined_X = np.vstack((X_train, X_val))\n",
    "combined_X.shape"
   ]
  },
  {
   "cell_type": "code",
   "execution_count": 36,
   "metadata": {},
   "outputs": [
    {
     "data": {
      "text/plain": [
       "(164,)"
      ]
     },
     "execution_count": 36,
     "metadata": {},
     "output_type": "execute_result"
    }
   ],
   "source": [
    "combined_y = np.concatenate((y_train, y_val))\n",
    "combined_y.shape"
   ]
  },
  {
   "cell_type": "code",
   "execution_count": 37,
   "metadata": {},
   "outputs": [
    {
     "data": {
      "text/plain": [
       "0.46286045376950197"
      ]
     },
     "execution_count": 37,
     "metadata": {},
     "output_type": "execute_result"
    }
   ],
   "source": [
    "rfr_tuned.fit(X_train, y_train)\n",
    "rfr_tuned.score(X_val, y_val)"
   ]
  },
  {
   "cell_type": "code",
   "execution_count": 38,
   "metadata": {},
   "outputs": [
    {
     "data": {
      "text/plain": [
       "0.548243519192865"
      ]
     },
     "execution_count": 38,
     "metadata": {},
     "output_type": "execute_result"
    }
   ],
   "source": [
    "rfr_tuned.fit(combined_X, combined_y)\n",
    "rfr_tuned.score(X_test, y_test)"
   ]
  },
  {
   "cell_type": "markdown",
   "metadata": {},
   "source": [
    "### My model's accuracy is now 0.55, which performs the best so far."
   ]
  },
  {
   "cell_type": "code",
   "execution_count": null,
   "metadata": {},
   "outputs": [],
   "source": []
  }
 ],
 "metadata": {
  "kernelspec": {
   "display_name": "Python 3",
   "language": "python",
   "name": "python3"
  },
  "language_info": {
   "codemirror_mode": {
    "name": "ipython",
    "version": 3
   },
   "file_extension": ".py",
   "mimetype": "text/x-python",
   "name": "python",
   "nbconvert_exporter": "python",
   "pygments_lexer": "ipython3",
   "version": "3.7.1"
  }
 },
 "nbformat": 4,
 "nbformat_minor": 2
}
