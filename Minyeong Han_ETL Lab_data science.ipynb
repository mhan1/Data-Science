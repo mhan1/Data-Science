{
 "cells": [
  {
   "cell_type": "markdown",
   "metadata": {},
   "source": [
    "# ETL Lab"
   ]
  },
  {
   "cell_type": "markdown",
   "metadata": {},
   "source": [
    "### Introduction"
   ]
  },
  {
   "cell_type": "markdown",
   "metadata": {},
   "source": [
    "In this lab, we ask you to use the techniques learned in this section to work with an API of your choosing.  As important to getting to the correct code is to develop the proper procedure for getting there.  Just like in the preceding lessons we will following our procedures such as: \n",
    "\n",
    "1. Red, green, refactor\n",
    "2. Move mess into an object\n",
    "3. Make small methods by: \n",
    "    A. Commenting code\n",
    "    B. Translating comments into methods\n",
    "    \n",
    "Along the way, we will arrive at our pattern of a *Client*, *Adapter*, and *Target*."
   ]
  },
  {
   "cell_type": "markdown",
   "metadata": {},
   "source": [
    "### Step 1.  Just get the data"
   ]
  },
  {
   "cell_type": "markdown",
   "metadata": {},
   "source": [
    "The first step is to go from red to green.  That is, the code starts off with nothing working and our task is simply to get it working.  In this case, this means the following: \n",
    "\n",
    "1. Call an API of your choosing\n",
    "2. Return a list of dictionaries and store as a variable named `entities`"
   ]
  },
  {
   "cell_type": "code",
   "execution_count": 1,
   "metadata": {},
   "outputs": [
    {
     "data": {
      "text/plain": [
       "[{'id': 'ETgJqJHV7BW6pIr9Ox74sA',\n",
       "  'alias': 'amélie-new-york',\n",
       "  'name': 'Amélie',\n",
       "  'image_url': 'https://s3-media4.fl.yelpcdn.com/bphoto/cSDgVuPMnJgMLTrTNSEXug/o.jpg',\n",
       "  'is_closed': False,\n",
       "  'url': 'https://www.yelp.com/biz/am%C3%A9lie-new-york?adjust_creative=PdG5NYNj9KqEVMaMf45xhA&utm_campaign=yelp_api_v3&utm_medium=api_v3_business_search&utm_source=PdG5NYNj9KqEVMaMf45xhA',\n",
       "  'review_count': 2483,\n",
       "  'categories': [{'alias': 'french', 'title': 'French'},\n",
       "   {'alias': 'wine_bars', 'title': 'Wine Bars'}],\n",
       "  'rating': 4.5,\n",
       "  'coordinates': {'latitude': 40.7327, 'longitude': -73.99766},\n",
       "  'transactions': ['restaurant_reservation'],\n",
       "  'price': '$$',\n",
       "  'location': {'address1': '22 W 8th St',\n",
       "   'address2': '',\n",
       "   'address3': '',\n",
       "   'city': 'New York',\n",
       "   'zip_code': '10011',\n",
       "   'country': 'US',\n",
       "   'state': 'NY',\n",
       "   'display_address': ['22 W 8th St', 'New York, NY 10011']},\n",
       "  'phone': '+12125332962',\n",
       "  'display_phone': '(212) 533-2962',\n",
       "  'distance': 3038.8699032940094},\n",
       " {'id': 'ehUuSk5gPTCQmwS_ubgKRA',\n",
       "  'alias': 'upstate-new-york-2',\n",
       "  'name': 'Upstate',\n",
       "  'image_url': 'https://s3-media1.fl.yelpcdn.com/bphoto/RvnUVU7MF7DT0RzNL-EebQ/o.jpg',\n",
       "  'is_closed': False,\n",
       "  'url': 'https://www.yelp.com/biz/upstate-new-york-2?adjust_creative=PdG5NYNj9KqEVMaMf45xhA&utm_campaign=yelp_api_v3&utm_medium=api_v3_business_search&utm_source=PdG5NYNj9KqEVMaMf45xhA',\n",
       "  'review_count': 1731,\n",
       "  'categories': [{'alias': 'seafood', 'title': 'Seafood'},\n",
       "   {'alias': 'wine_bars', 'title': 'Wine Bars'},\n",
       "   {'alias': 'beerbar', 'title': 'Beer Bar'}],\n",
       "  'rating': 4.5,\n",
       "  'coordinates': {'latitude': 40.7263139141197,\n",
       "   'longitude': -73.9864901976935},\n",
       "  'transactions': ['restaurant_reservation'],\n",
       "  'price': '$$',\n",
       "  'location': {'address1': '95 1st Ave',\n",
       "   'address2': '',\n",
       "   'address3': '',\n",
       "   'city': 'New York',\n",
       "   'zip_code': '10003',\n",
       "   'country': 'US',\n",
       "   'state': 'NY',\n",
       "   'display_address': ['95 1st Ave', 'New York, NY 10003']},\n",
       "  'phone': '+16467915400',\n",
       "  'display_phone': '(646) 791-5400',\n",
       "  'distance': 2411.9187177986864},\n",
       " {'id': 'lMy1BYJ5HX8TccXTBwdRNg',\n",
       "  'alias': 'covenhoven-brooklyn',\n",
       "  'name': 'Covenhoven',\n",
       "  'image_url': 'https://s3-media2.fl.yelpcdn.com/bphoto/OZZ2U4MyoiBUrjQMZgqcRg/o.jpg',\n",
       "  'is_closed': False,\n",
       "  'url': 'https://www.yelp.com/biz/covenhoven-brooklyn?adjust_creative=PdG5NYNj9KqEVMaMf45xhA&utm_campaign=yelp_api_v3&utm_medium=api_v3_business_search&utm_source=PdG5NYNj9KqEVMaMf45xhA',\n",
       "  'review_count': 116,\n",
       "  'categories': [{'alias': 'bars', 'title': 'Bars'},\n",
       "   {'alias': 'salad', 'title': 'Salad'},\n",
       "   {'alias': 'soup', 'title': 'Soup'}],\n",
       "  'rating': 4.5,\n",
       "  'coordinates': {'latitude': 40.675246, 'longitude': -73.960244},\n",
       "  'transactions': [],\n",
       "  'price': '$$',\n",
       "  'location': {'address1': '730 Classon Ave',\n",
       "   'address2': None,\n",
       "   'address3': '',\n",
       "   'city': 'Brooklyn',\n",
       "   'zip_code': '11238',\n",
       "   'country': 'US',\n",
       "   'state': 'NY',\n",
       "   'display_address': ['730 Classon Ave', 'Brooklyn, NY 11238']},\n",
       "  'phone': '+17184839950',\n",
       "  'display_phone': '(718) 483-9950',\n",
       "  'distance': 4417.8365326838175},\n",
       " {'id': 'I2lgw_7DUnwD92ND4PN-Ow',\n",
       "  'alias': 'aunt-jakes-new-york',\n",
       "  'name': \"Aunt Jake's\",\n",
       "  'image_url': 'https://s3-media2.fl.yelpcdn.com/bphoto/hMhn_lnES3QWc4Gtihvr0A/o.jpg',\n",
       "  'is_closed': False,\n",
       "  'url': 'https://www.yelp.com/biz/aunt-jakes-new-york?adjust_creative=PdG5NYNj9KqEVMaMf45xhA&utm_campaign=yelp_api_v3&utm_medium=api_v3_business_search&utm_source=PdG5NYNj9KqEVMaMf45xhA',\n",
       "  'review_count': 1193,\n",
       "  'categories': [{'alias': 'italian', 'title': 'Italian'},\n",
       "   {'alias': 'wine_bars', 'title': 'Wine Bars'},\n",
       "   {'alias': 'pastashops', 'title': 'Pasta Shops'}],\n",
       "  'rating': 4.0,\n",
       "  'coordinates': {'latitude': 40.7190315, 'longitude': -73.9977161},\n",
       "  'transactions': ['restaurant_reservation', 'pickup', 'delivery'],\n",
       "  'price': '$$',\n",
       "  'location': {'address1': '149 Mulberry St',\n",
       "   'address2': None,\n",
       "   'address3': '',\n",
       "   'city': 'New York',\n",
       "   'zip_code': '10013',\n",
       "   'country': 'US',\n",
       "   'state': 'NY',\n",
       "   'display_address': ['149 Mulberry St', 'New York, NY 10013']},\n",
       "  'phone': '+16468580470',\n",
       "  'display_phone': '(646) 858-0470',\n",
       "  'distance': 1538.0627375870665},\n",
       " {'id': 'UA2M9QFZghe-9th2KwLoWQ',\n",
       "  'alias': 'burger-and-lobster-new-york-4',\n",
       "  'name': 'Burger & Lobster',\n",
       "  'image_url': 'https://s3-media3.fl.yelpcdn.com/bphoto/1rHd7F4zztAsScwzM0vDmw/o.jpg',\n",
       "  'is_closed': False,\n",
       "  'url': 'https://www.yelp.com/biz/burger-and-lobster-new-york-4?adjust_creative=PdG5NYNj9KqEVMaMf45xhA&utm_campaign=yelp_api_v3&utm_medium=api_v3_business_search&utm_source=PdG5NYNj9KqEVMaMf45xhA',\n",
       "  'review_count': 5116,\n",
       "  'categories': [{'alias': 'seafood', 'title': 'Seafood'},\n",
       "   {'alias': 'burgers', 'title': 'Burgers'},\n",
       "   {'alias': 'newamerican', 'title': 'American (New)'}],\n",
       "  'rating': 4.0,\n",
       "  'coordinates': {'latitude': 40.74007, 'longitude': -73.99344},\n",
       "  'transactions': ['restaurant_reservation', 'pickup', 'delivery'],\n",
       "  'price': '$$',\n",
       "  'location': {'address1': '39 W 19th St',\n",
       "   'address2': '',\n",
       "   'address3': '',\n",
       "   'city': 'New York',\n",
       "   'zip_code': '10011',\n",
       "   'country': 'US',\n",
       "   'state': 'NY',\n",
       "   'display_address': ['39 W 19th St', 'New York, NY 10011']},\n",
       "  'phone': '+16468337532',\n",
       "  'display_phone': '(646) 833-7532',\n",
       "  'distance': 3852.2188529432046},\n",
       " {'id': 'CwOAKJdX8AMz5iAoA-ZEuA',\n",
       "  'alias': 'uglyduckling-brooklyn',\n",
       "  'name': 'Uglyduckling',\n",
       "  'image_url': 'https://s3-media3.fl.yelpcdn.com/bphoto/sCDU8uosDuxp26wjxq4p4g/o.jpg',\n",
       "  'is_closed': False,\n",
       "  'url': 'https://www.yelp.com/biz/uglyduckling-brooklyn?adjust_creative=PdG5NYNj9KqEVMaMf45xhA&utm_campaign=yelp_api_v3&utm_medium=api_v3_business_search&utm_source=PdG5NYNj9KqEVMaMf45xhA',\n",
       "  'review_count': 448,\n",
       "  'categories': [{'alias': 'tradamerican', 'title': 'American (Traditional)'},\n",
       "   {'alias': 'gastropubs', 'title': 'Gastropubs'}],\n",
       "  'rating': 4.0,\n",
       "  'coordinates': {'latitude': 40.686023, 'longitude': -73.991302},\n",
       "  'transactions': ['restaurant_reservation', 'pickup', 'delivery'],\n",
       "  'price': '$$',\n",
       "  'location': {'address1': '166 Smith St',\n",
       "   'address2': '',\n",
       "   'address3': '',\n",
       "   'city': 'Brooklyn',\n",
       "   'zip_code': '11201',\n",
       "   'country': 'US',\n",
       "   'state': 'NY',\n",
       "   'display_address': ['166 Smith St', 'Brooklyn, NY 11201']},\n",
       "  'phone': '+17184513825',\n",
       "  'display_phone': '(718) 451-3825',\n",
       "  'distance': 2174.2838817065267},\n",
       " {'id': 'jjJc_CrkB2HodEinB6cWww',\n",
       "  'alias': 'lovemama-new-york',\n",
       "  'name': 'LoveMama',\n",
       "  'image_url': 'https://s3-media1.fl.yelpcdn.com/bphoto/bLlFKTlVuLfmF-lIDGIjZA/o.jpg',\n",
       "  'is_closed': False,\n",
       "  'url': 'https://www.yelp.com/biz/lovemama-new-york?adjust_creative=PdG5NYNj9KqEVMaMf45xhA&utm_campaign=yelp_api_v3&utm_medium=api_v3_business_search&utm_source=PdG5NYNj9KqEVMaMf45xhA',\n",
       "  'review_count': 4244,\n",
       "  'categories': [{'alias': 'thai', 'title': 'Thai'},\n",
       "   {'alias': 'malaysian', 'title': 'Malaysian'},\n",
       "   {'alias': 'vietnamese', 'title': 'Vietnamese'}],\n",
       "  'rating': 4.0,\n",
       "  'coordinates': {'latitude': 40.7303859, 'longitude': -73.9860613},\n",
       "  'transactions': ['restaurant_reservation', 'pickup', 'delivery'],\n",
       "  'price': '$$',\n",
       "  'location': {'address1': '174 2nd Ave',\n",
       "   'address2': '',\n",
       "   'address3': '',\n",
       "   'city': 'New York',\n",
       "   'zip_code': '10003',\n",
       "   'country': 'US',\n",
       "   'state': 'NY',\n",
       "   'display_address': ['174 2nd Ave', 'New York, NY 10003']},\n",
       "  'phone': '+12122545370',\n",
       "  'display_phone': '(212) 254-5370',\n",
       "  'distance': 2858.7729410008346},\n",
       " {'id': '-udRA8VRsQJoIaT-kxCrGg',\n",
       "  'alias': 'ipanema-restaurant-new-york',\n",
       "  'name': 'Ipanema Restaurant',\n",
       "  'image_url': 'https://s3-media4.fl.yelpcdn.com/bphoto/p7A065ZhtvsgsnVEaOfMuQ/o.jpg',\n",
       "  'is_closed': False,\n",
       "  'url': 'https://www.yelp.com/biz/ipanema-restaurant-new-york?adjust_creative=PdG5NYNj9KqEVMaMf45xhA&utm_campaign=yelp_api_v3&utm_medium=api_v3_business_search&utm_source=PdG5NYNj9KqEVMaMf45xhA',\n",
       "  'review_count': 1251,\n",
       "  'categories': [{'alias': 'brazilian', 'title': 'Brazilian'},\n",
       "   {'alias': 'latin', 'title': 'Latin American'},\n",
       "   {'alias': 'portuguese', 'title': 'Portuguese'}],\n",
       "  'rating': 4.0,\n",
       "  'coordinates': {'latitude': 40.757072217349, 'longitude': -73.9807795529175},\n",
       "  'transactions': ['restaurant_reservation', 'pickup'],\n",
       "  'price': '$$',\n",
       "  'location': {'address1': '43 W 46th St',\n",
       "   'address2': None,\n",
       "   'address3': '',\n",
       "   'city': 'New York',\n",
       "   'zip_code': '10036',\n",
       "   'country': 'US',\n",
       "   'state': 'NY',\n",
       "   'display_address': ['43 W 46th St', 'New York, NY 10036']},\n",
       "  'phone': '+12127305848',\n",
       "  'display_phone': '(212) 730-5848',\n",
       "  'distance': 5852.5328132075565},\n",
       " {'id': 's3jou_L_LVYGkNHiuhjlew',\n",
       "  'alias': 'boucherie-west-village-new-york-3',\n",
       "  'name': 'Boucherie West Village',\n",
       "  'image_url': 'https://s3-media2.fl.yelpcdn.com/bphoto/-5TXMVrjARsqKQHDg-hKbQ/o.jpg',\n",
       "  'is_closed': False,\n",
       "  'url': 'https://www.yelp.com/biz/boucherie-west-village-new-york-3?adjust_creative=PdG5NYNj9KqEVMaMf45xhA&utm_campaign=yelp_api_v3&utm_medium=api_v3_business_search&utm_source=PdG5NYNj9KqEVMaMf45xhA',\n",
       "  'review_count': 1057,\n",
       "  'categories': [{'alias': 'french', 'title': 'French'},\n",
       "   {'alias': 'cocktailbars', 'title': 'Cocktail Bars'},\n",
       "   {'alias': 'steak', 'title': 'Steakhouses'}],\n",
       "  'rating': 4.5,\n",
       "  'coordinates': {'latitude': 40.733063, 'longitude': -74.0028772},\n",
       "  'transactions': ['restaurant_reservation', 'pickup', 'delivery'],\n",
       "  'price': '$$$',\n",
       "  'location': {'address1': '99 7th Ave S',\n",
       "   'address2': '',\n",
       "   'address3': None,\n",
       "   'city': 'New York',\n",
       "   'zip_code': '10014',\n",
       "   'country': 'US',\n",
       "   'state': 'NY',\n",
       "   'display_address': ['99 7th Ave S', 'New York, NY 10014']},\n",
       "  'phone': '+12128371616',\n",
       "  'display_phone': '(212) 837-1616',\n",
       "  'distance': 3155.0505772747442},\n",
       " {'id': 'xZ96vaoL-cQjfotmUKtjJQ',\n",
       "  'alias': 'barn-joo-35-new-york',\n",
       "  'name': 'Barn Joo 35',\n",
       "  'image_url': 'https://s3-media1.fl.yelpcdn.com/bphoto/1R5CgYlK5qGUhKZOvZThKw/o.jpg',\n",
       "  'is_closed': False,\n",
       "  'url': 'https://www.yelp.com/biz/barn-joo-35-new-york?adjust_creative=PdG5NYNj9KqEVMaMf45xhA&utm_campaign=yelp_api_v3&utm_medium=api_v3_business_search&utm_source=PdG5NYNj9KqEVMaMf45xhA',\n",
       "  'review_count': 1487,\n",
       "  'categories': [{'alias': 'korean', 'title': 'Korean'},\n",
       "   {'alias': 'gastropubs', 'title': 'Gastropubs'},\n",
       "   {'alias': 'tapasmallplates', 'title': 'Tapas/Small Plates'}],\n",
       "  'rating': 4.5,\n",
       "  'coordinates': {'latitude': 40.74964, 'longitude': -73.98582},\n",
       "  'transactions': ['restaurant_reservation', 'pickup', 'delivery'],\n",
       "  'price': '$$',\n",
       "  'location': {'address1': '34 W 35th St',\n",
       "   'address2': '',\n",
       "   'address3': '',\n",
       "   'city': 'New York',\n",
       "   'zip_code': '10001',\n",
       "   'country': 'US',\n",
       "   'state': 'NY',\n",
       "   'display_address': ['34 W 35th St', 'New York, NY 10001']},\n",
       "  'phone': '+12125644430',\n",
       "  'display_phone': '(212) 564-4430',\n",
       "  'distance': 4968.473297353009},\n",
       " {'id': 'Rc1lxc5lSKJYd162JHNMfQ',\n",
       "  'alias': 'bea-new-york',\n",
       "  'name': 'Bea',\n",
       "  'image_url': 'https://s3-media2.fl.yelpcdn.com/bphoto/iVlolLTkpoSWA_VYtRR2ng/o.jpg',\n",
       "  'is_closed': False,\n",
       "  'url': 'https://www.yelp.com/biz/bea-new-york?adjust_creative=PdG5NYNj9KqEVMaMf45xhA&utm_campaign=yelp_api_v3&utm_medium=api_v3_business_search&utm_source=PdG5NYNj9KqEVMaMf45xhA',\n",
       "  'review_count': 2269,\n",
       "  'categories': [{'alias': 'newamerican', 'title': 'American (New)'},\n",
       "   {'alias': 'cocktailbars', 'title': 'Cocktail Bars'}],\n",
       "  'rating': 4.0,\n",
       "  'coordinates': {'latitude': 40.7591968, 'longitude': -73.9923361},\n",
       "  'transactions': ['restaurant_reservation'],\n",
       "  'price': '$$',\n",
       "  'location': {'address1': '403 W 43rd St',\n",
       "   'address2': '',\n",
       "   'address3': '',\n",
       "   'city': 'New York',\n",
       "   'zip_code': '10036',\n",
       "   'country': 'US',\n",
       "   'state': 'NY',\n",
       "   'display_address': ['403 W 43rd St', 'New York, NY 10036']},\n",
       "  'phone': '+12126021910',\n",
       "  'display_phone': '(212) 602-1910',\n",
       "  'distance': 5979.210371091945},\n",
       " {'id': 'xt4sa64WOrpJvZBDPNPNYg',\n",
       "  'alias': 'jacobs-pickles-new-york',\n",
       "  'name': \"Jacob's Pickles\",\n",
       "  'image_url': 'https://s3-media2.fl.yelpcdn.com/bphoto/167Rl2s1oMge_2ZSDD1z0A/o.jpg',\n",
       "  'is_closed': False,\n",
       "  'url': 'https://www.yelp.com/biz/jacobs-pickles-new-york?adjust_creative=PdG5NYNj9KqEVMaMf45xhA&utm_campaign=yelp_api_v3&utm_medium=api_v3_business_search&utm_source=PdG5NYNj9KqEVMaMf45xhA',\n",
       "  'review_count': 3742,\n",
       "  'categories': [{'alias': 'comfortfood', 'title': 'Comfort Food'},\n",
       "   {'alias': 'southern', 'title': 'Southern'},\n",
       "   {'alias': 'tradamerican', 'title': 'American (Traditional)'}],\n",
       "  'rating': 4.0,\n",
       "  'coordinates': {'latitude': 40.7866504411994,\n",
       "   'longitude': -73.9755284786224},\n",
       "  'transactions': [],\n",
       "  'price': '$$',\n",
       "  'location': {'address1': '509 Amsterdam Ave',\n",
       "   'address2': '',\n",
       "   'address3': '',\n",
       "   'city': 'New York',\n",
       "   'zip_code': '10024',\n",
       "   'country': 'US',\n",
       "   'state': 'NY',\n",
       "   'display_address': ['509 Amsterdam Ave', 'New York, NY 10024']},\n",
       "  'phone': '+12124705566',\n",
       "  'display_phone': '(212) 470-5566',\n",
       "  'distance': 9166.964737863183},\n",
       " {'id': 'hmdm-dO72hLsMQwQRcGEUQ',\n",
       "  'alias': 'atrium-dumbo-brooklyn',\n",
       "  'name': 'Atrium Dumbo',\n",
       "  'image_url': 'https://s3-media3.fl.yelpcdn.com/bphoto/TAog5s7slOJ0778OGRzuWQ/o.jpg',\n",
       "  'is_closed': False,\n",
       "  'url': 'https://www.yelp.com/biz/atrium-dumbo-brooklyn?adjust_creative=PdG5NYNj9KqEVMaMf45xhA&utm_campaign=yelp_api_v3&utm_medium=api_v3_business_search&utm_source=PdG5NYNj9KqEVMaMf45xhA',\n",
       "  'review_count': 613,\n",
       "  'categories': [{'alias': 'newamerican', 'title': 'American (New)'},\n",
       "   {'alias': 'french', 'title': 'French'}],\n",
       "  'rating': 4.0,\n",
       "  'coordinates': {'latitude': 40.7033899, 'longitude': -73.9904923},\n",
       "  'transactions': [],\n",
       "  'price': '$$',\n",
       "  'location': {'address1': '15 Main St',\n",
       "   'address2': '',\n",
       "   'address3': '',\n",
       "   'city': 'Brooklyn',\n",
       "   'zip_code': '11201',\n",
       "   'country': 'US',\n",
       "   'state': 'NY',\n",
       "   'display_address': ['15 Main St', 'Brooklyn, NY 11201']},\n",
       "  'phone': '+17188581095',\n",
       "  'display_phone': '(718) 858-1095',\n",
       "  'distance': 392.6441573431464},\n",
       " {'id': 'qm1J_dPA5IHij1oAnoZwHw',\n",
       "  'alias': 'nonono-new-york-6',\n",
       "  'name': 'nonono',\n",
       "  'image_url': 'https://s3-media4.fl.yelpcdn.com/bphoto/yhZYzx5cnn8SFFF8eZdRHw/o.jpg',\n",
       "  'is_closed': False,\n",
       "  'url': 'https://www.yelp.com/biz/nonono-new-york-6?adjust_creative=PdG5NYNj9KqEVMaMf45xhA&utm_campaign=yelp_api_v3&utm_medium=api_v3_business_search&utm_source=PdG5NYNj9KqEVMaMf45xhA',\n",
       "  'review_count': 356,\n",
       "  'categories': [{'alias': 'tapasmallplates', 'title': 'Tapas/Small Plates'},\n",
       "   {'alias': 'izakaya', 'title': 'Izakaya'},\n",
       "   {'alias': 'ramen', 'title': 'Ramen'}],\n",
       "  'rating': 4.5,\n",
       "  'coordinates': {'latitude': 40.74545, 'longitude': -73.98499},\n",
       "  'transactions': ['restaurant_reservation', 'pickup', 'delivery'],\n",
       "  'price': '$$',\n",
       "  'location': {'address1': '118 Madison Ave',\n",
       "   'address2': '',\n",
       "   'address3': '',\n",
       "   'city': 'New York',\n",
       "   'zip_code': '10016',\n",
       "   'country': 'US',\n",
       "   'state': 'NY',\n",
       "   'display_address': ['118 Madison Ave', 'New York, NY 10016']},\n",
       "  'phone': '+16467073227',\n",
       "  'display_phone': '(646) 707-3227',\n",
       "  'distance': 4515.897681612123},\n",
       " {'id': 'eTR6nfHvQzvKX7Dcd6JrfA',\n",
       "  'alias': 'district-social-new-york',\n",
       "  'name': 'District Social',\n",
       "  'image_url': 'https://s3-media4.fl.yelpcdn.com/bphoto/1H7eaiTAQ_3ueCOHON7N_Q/o.jpg',\n",
       "  'is_closed': False,\n",
       "  'url': 'https://www.yelp.com/biz/district-social-new-york?adjust_creative=PdG5NYNj9KqEVMaMf45xhA&utm_campaign=yelp_api_v3&utm_medium=api_v3_business_search&utm_source=PdG5NYNj9KqEVMaMf45xhA',\n",
       "  'review_count': 599,\n",
       "  'categories': [{'alias': 'bars', 'title': 'Bars'},\n",
       "   {'alias': 'newamerican', 'title': 'American (New)'}],\n",
       "  'rating': 4.0,\n",
       "  'coordinates': {'latitude': 40.75369, 'longitude': -73.99136},\n",
       "  'transactions': ['restaurant_reservation'],\n",
       "  'price': '$$',\n",
       "  'location': {'address1': '252 W 37th St',\n",
       "   'address2': None,\n",
       "   'address3': '',\n",
       "   'city': 'New York',\n",
       "   'zip_code': '10018',\n",
       "   'country': 'US',\n",
       "   'state': 'NY',\n",
       "   'display_address': ['252 W 37th St', 'New York, NY 10018']},\n",
       "  'phone': '+12129949599',\n",
       "  'display_phone': '(212) 994-9599',\n",
       "  'distance': 5363.40804598862},\n",
       " {'id': '22nKUyCIbpnzR6R3_g1ptQ',\n",
       "  'alias': 'carmines-italian-restaurant-times-square-new-york-5',\n",
       "  'name': \"Carmine's Italian Restaurant - Times Square\",\n",
       "  'image_url': 'https://s3-media1.fl.yelpcdn.com/bphoto/0UszeEYPWI-RIk0Ak6HtVQ/o.jpg',\n",
       "  'is_closed': False,\n",
       "  'url': 'https://www.yelp.com/biz/carmines-italian-restaurant-times-square-new-york-5?adjust_creative=PdG5NYNj9KqEVMaMf45xhA&utm_campaign=yelp_api_v3&utm_medium=api_v3_business_search&utm_source=PdG5NYNj9KqEVMaMf45xhA',\n",
       "  'review_count': 3414,\n",
       "  'categories': [{'alias': 'italian', 'title': 'Italian'},\n",
       "   {'alias': 'catering', 'title': 'Caterers'},\n",
       "   {'alias': 'venues', 'title': 'Venues & Event Spaces'}],\n",
       "  'rating': 4.0,\n",
       "  'coordinates': {'latitude': 40.7574955824307,\n",
       "   'longitude': -73.9866844540098},\n",
       "  'transactions': ['pickup', 'delivery'],\n",
       "  'price': '$$',\n",
       "  'location': {'address1': '200 W 44th St',\n",
       "   'address2': '',\n",
       "   'address3': '',\n",
       "   'city': 'New York',\n",
       "   'zip_code': '10036',\n",
       "   'country': 'US',\n",
       "   'state': 'NY',\n",
       "   'display_address': ['200 W 44th St', 'New York, NY 10036']},\n",
       "  'phone': '+12122213800',\n",
       "  'display_phone': '(212) 221-3800',\n",
       "  'distance': 5823.169973434953},\n",
       " {'id': 'fVbUVAiLiGgLA_nxBFxyww',\n",
       "  'alias': 'thursday-kitchen-new-york',\n",
       "  'name': 'Thursday Kitchen',\n",
       "  'image_url': 'https://s3-media4.fl.yelpcdn.com/bphoto/6Pkff_x6iq6xDLIs9gJQmg/o.jpg',\n",
       "  'is_closed': False,\n",
       "  'url': 'https://www.yelp.com/biz/thursday-kitchen-new-york?adjust_creative=PdG5NYNj9KqEVMaMf45xhA&utm_campaign=yelp_api_v3&utm_medium=api_v3_business_search&utm_source=PdG5NYNj9KqEVMaMf45xhA',\n",
       "  'review_count': 1183,\n",
       "  'categories': [{'alias': 'korean', 'title': 'Korean'},\n",
       "   {'alias': 'newamerican', 'title': 'American (New)'},\n",
       "   {'alias': 'tapasmallplates', 'title': 'Tapas/Small Plates'}],\n",
       "  'rating': 4.5,\n",
       "  'coordinates': {'latitude': 40.7275, 'longitude': -73.9838},\n",
       "  'transactions': [],\n",
       "  'price': '$$',\n",
       "  'location': {'address1': '424 E 9th St',\n",
       "   'address2': None,\n",
       "   'address3': '',\n",
       "   'city': 'New York',\n",
       "   'zip_code': '10009',\n",
       "   'country': 'US',\n",
       "   'state': 'NY',\n",
       "   'display_address': ['424 E 9th St', 'New York, NY 10009']},\n",
       "  'phone': '',\n",
       "  'display_phone': '',\n",
       "  'distance': 2613.42601480514},\n",
       " {'id': 'L7_siqDfU4-ZA17YtA-SBg',\n",
       "  'alias': 'silver-factory-brooklyn',\n",
       "  'name': 'Silver Factory',\n",
       "  'image_url': 'https://s3-media2.fl.yelpcdn.com/bphoto/jTUCcGJiZZPLlEmx0EHgXg/o.jpg',\n",
       "  'is_closed': False,\n",
       "  'url': 'https://www.yelp.com/biz/silver-factory-brooklyn?adjust_creative=PdG5NYNj9KqEVMaMf45xhA&utm_campaign=yelp_api_v3&utm_medium=api_v3_business_search&utm_source=PdG5NYNj9KqEVMaMf45xhA',\n",
       "  'review_count': 151,\n",
       "  'categories': [{'alias': 'korean', 'title': 'Korean'},\n",
       "   {'alias': 'bars', 'title': 'Bars'}],\n",
       "  'rating': 4.5,\n",
       "  'coordinates': {'latitude': 40.709227, 'longitude': -73.958598},\n",
       "  'transactions': ['restaurant_reservation', 'pickup', 'delivery'],\n",
       "  'price': '$$',\n",
       "  'location': {'address1': '270 South 5th St',\n",
       "   'address2': None,\n",
       "   'address3': '',\n",
       "   'city': 'Brooklyn',\n",
       "   'zip_code': '11211',\n",
       "   'country': 'US',\n",
       "   'state': 'NY',\n",
       "   'display_address': ['270 South 5th St', 'Brooklyn, NY 11211']},\n",
       "  'phone': '+13477253017',\n",
       "  'display_phone': '(347) 725-3017',\n",
       "  'distance': 3039.9237511522865},\n",
       " {'id': 'B3_K2kUVbYOU0VaLcj_LTw',\n",
       "  'alias': 'thai-villa-new-york-2',\n",
       "  'name': 'Thai Villa',\n",
       "  'image_url': 'https://s3-media1.fl.yelpcdn.com/bphoto/OgCU9NPFIl8hF_04Zani9w/o.jpg',\n",
       "  'is_closed': False,\n",
       "  'url': 'https://www.yelp.com/biz/thai-villa-new-york-2?adjust_creative=PdG5NYNj9KqEVMaMf45xhA&utm_campaign=yelp_api_v3&utm_medium=api_v3_business_search&utm_source=PdG5NYNj9KqEVMaMf45xhA',\n",
       "  'review_count': 2618,\n",
       "  'categories': [{'alias': 'thai', 'title': 'Thai'},\n",
       "   {'alias': 'asianfusion', 'title': 'Asian Fusion'},\n",
       "   {'alias': 'vegetarian', 'title': 'Vegetarian'}],\n",
       "  'rating': 4.5,\n",
       "  'coordinates': {'latitude': 40.73902, 'longitude': -73.99065},\n",
       "  'transactions': ['pickup', 'delivery'],\n",
       "  'price': '$$',\n",
       "  'location': {'address1': '5 E 19th St',\n",
       "   'address2': 'G Floor',\n",
       "   'address3': '',\n",
       "   'city': 'New York',\n",
       "   'zip_code': '10003',\n",
       "   'country': 'US',\n",
       "   'state': 'NY',\n",
       "   'display_address': ['5 E 19th St', 'G Floor', 'New York, NY 10003']},\n",
       "  'phone': '+12128029999',\n",
       "  'display_phone': '(212) 802-9999',\n",
       "  'distance': 3744.570399827637},\n",
       " {'id': 'qOomR3AwClOGpV1HdqOTFg',\n",
       "  'alias': 'les-enfants-de-boheme-new-york',\n",
       "  'name': 'Les Enfants de Boheme',\n",
       "  'image_url': 'https://s3-media2.fl.yelpcdn.com/bphoto/I1V4kucJO69x8L8UhDwiiA/o.jpg',\n",
       "  'is_closed': False,\n",
       "  'url': 'https://www.yelp.com/biz/les-enfants-de-boheme-new-york?adjust_creative=PdG5NYNj9KqEVMaMf45xhA&utm_campaign=yelp_api_v3&utm_medium=api_v3_business_search&utm_source=PdG5NYNj9KqEVMaMf45xhA',\n",
       "  'review_count': 202,\n",
       "  'categories': [{'alias': 'french', 'title': 'French'},\n",
       "   {'alias': 'cocktailbars', 'title': 'Cocktail Bars'},\n",
       "   {'alias': 'wine_bars', 'title': 'Wine Bars'}],\n",
       "  'rating': 4.5,\n",
       "  'coordinates': {'latitude': 40.7136187, 'longitude': -73.9888503},\n",
       "  'transactions': ['restaurant_reservation'],\n",
       "  'price': '$$',\n",
       "  'location': {'address1': '177 Henry St',\n",
       "   'address2': '',\n",
       "   'address3': '',\n",
       "   'city': 'New York',\n",
       "   'zip_code': '10002',\n",
       "   'country': 'US',\n",
       "   'state': 'NY',\n",
       "   'display_address': ['177 Henry St', 'New York, NY 10002']},\n",
       "  'phone': '+16464764843',\n",
       "  'display_phone': '(646) 476-4843',\n",
       "  'distance': 1026.2110364656392}]"
      ]
     },
     "execution_count": 1,
     "metadata": {},
     "output_type": "execute_result"
    }
   ],
   "source": [
    "#importing necessary libraries\n",
    "import requests\n",
    "import json\n",
    "\n",
    "#api-endpoint\n",
    "api_key = '4ZV6k_jsCYOmslVsz-SDQgRCYsOngFjXx6vbdY-09nDR6UsSEDjVXu-wgDCJDnVSAVTjYBr1PZFsm00JOFfYRzaavn_ObxoflOlWJCO3SON5Z1q5lIgZXx_REEawXHYx'\n",
    "headers = {'Authorization': 'Bearer %s' % api_key}\n",
    "\n",
    "#recommended restaurants in New York City from yelp.com\n",
    "url='https://api.yelp.com/v3/businesses/search'\n",
    "params={'term':'restaurant', 'location':'New York City'}\n",
    "response = requests.get(url, params = params, headers = headers)\n",
    "entities = response.json()['businesses']\n",
    "entities"
   ]
  },
  {
   "cell_type": "code",
   "execution_count": 2,
   "metadata": {},
   "outputs": [
    {
     "data": {
      "text/plain": [
       "list"
      ]
     },
     "execution_count": 2,
     "metadata": {},
     "output_type": "execute_result"
    }
   ],
   "source": [
    "type(entities)\n",
    "#list"
   ]
  },
  {
   "cell_type": "code",
   "execution_count": 3,
   "metadata": {},
   "outputs": [
    {
     "data": {
      "text/plain": [
       "dict"
      ]
     },
     "execution_count": 3,
     "metadata": {},
     "output_type": "execute_result"
    }
   ],
   "source": [
    "type(entities[0])\n",
    "# dict"
   ]
  },
  {
   "cell_type": "code",
   "execution_count": 4,
   "metadata": {},
   "outputs": [
    {
     "data": {
      "text/plain": [
       "20"
      ]
     },
     "execution_count": 4,
     "metadata": {},
     "output_type": "execute_result"
    }
   ],
   "source": [
    "len(entities)"
   ]
  },
  {
   "cell_type": "code",
   "execution_count": 5,
   "metadata": {},
   "outputs": [
    {
     "data": {
      "text/plain": [
       "{'id': 'ETgJqJHV7BW6pIr9Ox74sA',\n",
       " 'alias': 'amélie-new-york',\n",
       " 'name': 'Amélie',\n",
       " 'image_url': 'https://s3-media4.fl.yelpcdn.com/bphoto/cSDgVuPMnJgMLTrTNSEXug/o.jpg',\n",
       " 'is_closed': False,\n",
       " 'url': 'https://www.yelp.com/biz/am%C3%A9lie-new-york?adjust_creative=PdG5NYNj9KqEVMaMf45xhA&utm_campaign=yelp_api_v3&utm_medium=api_v3_business_search&utm_source=PdG5NYNj9KqEVMaMf45xhA',\n",
       " 'review_count': 2483,\n",
       " 'categories': [{'alias': 'french', 'title': 'French'},\n",
       "  {'alias': 'wine_bars', 'title': 'Wine Bars'}],\n",
       " 'rating': 4.5,\n",
       " 'coordinates': {'latitude': 40.7327, 'longitude': -73.99766},\n",
       " 'transactions': ['restaurant_reservation'],\n",
       " 'price': '$$',\n",
       " 'location': {'address1': '22 W 8th St',\n",
       "  'address2': '',\n",
       "  'address3': '',\n",
       "  'city': 'New York',\n",
       "  'zip_code': '10011',\n",
       "  'country': 'US',\n",
       "  'state': 'NY',\n",
       "  'display_address': ['22 W 8th St', 'New York, NY 10011']},\n",
       " 'phone': '+12125332962',\n",
       " 'display_phone': '(212) 533-2962',\n",
       " 'distance': 3038.8699032940094}"
      ]
     },
     "execution_count": 5,
     "metadata": {},
     "output_type": "execute_result"
    }
   ],
   "source": [
    "entities[0]"
   ]
  },
  {
   "cell_type": "code",
   "execution_count": 6,
   "metadata": {},
   "outputs": [
    {
     "data": {
      "text/plain": [
       "dict_keys(['id', 'alias', 'name', 'image_url', 'is_closed', 'url', 'review_count', 'categories', 'rating', 'coordinates', 'transactions', 'price', 'location', 'phone', 'display_phone', 'distance'])"
      ]
     },
     "execution_count": 6,
     "metadata": {},
     "output_type": "execute_result"
    }
   ],
   "source": [
    "entities[0].keys()"
   ]
  },
  {
   "cell_type": "markdown",
   "metadata": {},
   "source": [
    "### Step 2. Change the dictionaries into objects"
   ]
  },
  {
   "cell_type": "markdown",
   "metadata": {},
   "source": [
    "The next step is to change dictionaries received back from the API into objects.  We can break this down into a couple of steps.\n",
    "\n",
    "1. Create the *target class*.  This is the class the dictionaries will be transformed into.  To do this, choose no more than five attributes to store in each instance."
   ]
  },
  {
   "cell_type": "code",
   "execution_count": 7,
   "metadata": {},
   "outputs": [],
   "source": [
    "class RestaurantTarget:\n",
    "    def __init__(self, name, display_phone, review_count, rating):\n",
    "        self._name = name\n",
    "        self._display_phone = display_phone\n",
    "        self._review_count = review_count\n",
    "        self._rating = rating           "
   ]
  },
  {
   "cell_type": "code",
   "execution_count": 8,
   "metadata": {},
   "outputs": [],
   "source": [
    "target_instance = RestaurantTarget(entities[0]['name'], entities[0]['display_phone'], \n",
    "                           entities[0]['review_count'], entities[0]['rating'])"
   ]
  },
  {
   "cell_type": "markdown",
   "metadata": {},
   "source": [
    "Check your work by assigning an instance to the variable `target_instance`."
   ]
  },
  {
   "cell_type": "code",
   "execution_count": 9,
   "metadata": {},
   "outputs": [
    {
     "data": {
      "text/plain": [
       "True"
      ]
     },
     "execution_count": 9,
     "metadata": {},
     "output_type": "execute_result"
    }
   ],
   "source": [
    "3 < len( target_instance.__dict__.keys()) < 5\n",
    "# True "
   ]
  },
  {
   "cell_type": "code",
   "execution_count": 10,
   "metadata": {},
   "outputs": [
    {
     "data": {
      "text/plain": [
       "dict_keys(['_name', '_display_phone', '_review_count', '_rating'])"
      ]
     },
     "execution_count": 10,
     "metadata": {},
     "output_type": "execute_result"
    }
   ],
   "source": [
    "target_instance.__dict__.keys()"
   ]
  },
  {
   "cell_type": "code",
   "execution_count": 11,
   "metadata": {},
   "outputs": [
    {
     "data": {
      "text/plain": [
       "{'_name': 'Amélie',\n",
       " '_display_phone': '(212) 533-2962',\n",
       " '_review_count': 2483,\n",
       " '_rating': 4.5}"
      ]
     },
     "execution_count": 11,
     "metadata": {},
     "output_type": "execute_result"
    }
   ],
   "source": [
    "target_instance.__dict__"
   ]
  },
  {
   "cell_type": "markdown",
   "metadata": {},
   "source": [
    "1. Reject some of the data\n",
    "\n",
    "We don't want to pass all of our data into our class.  So create a smaller dictionary of just the attributes we need."
   ]
  },
  {
   "cell_type": "code",
   "execution_count": 12,
   "metadata": {},
   "outputs": [],
   "source": [
    "selected_attributes = {'name':entities[0]['name'], 'display_phone':entities[0]['display_phone'],\n",
    "                       'review_count':entities[0]['review_count'], 'rating':entities[0]['rating']}"
   ]
  },
  {
   "cell_type": "code",
   "execution_count": 13,
   "metadata": {},
   "outputs": [
    {
     "data": {
      "text/plain": [
       "dict"
      ]
     },
     "execution_count": 13,
     "metadata": {},
     "output_type": "execute_result"
    }
   ],
   "source": [
    "type(selected_attributes)\n",
    "# dict"
   ]
  },
  {
   "cell_type": "code",
   "execution_count": 14,
   "metadata": {},
   "outputs": [
    {
     "data": {
      "text/plain": [
       "dict_keys(['name', 'display_phone', 'review_count', 'rating'])"
      ]
     },
     "execution_count": 14,
     "metadata": {},
     "output_type": "execute_result"
    }
   ],
   "source": [
    "selected_attributes.keys()"
   ]
  },
  {
   "cell_type": "code",
   "execution_count": 15,
   "metadata": {},
   "outputs": [
    {
     "data": {
      "text/plain": [
       "dict_keys(['_name', '_display_phone', '_review_count', '_rating'])"
      ]
     },
     "execution_count": 15,
     "metadata": {},
     "output_type": "execute_result"
    }
   ],
   "source": [
    "target_instance.__dict__.keys()"
   ]
  },
  {
   "cell_type": "code",
   "execution_count": 16,
   "metadata": {},
   "outputs": [
    {
     "data": {
      "text/plain": [
       "True"
      ]
     },
     "execution_count": 16,
     "metadata": {},
     "output_type": "execute_result"
    }
   ],
   "source": [
    "len(selected_attributes.keys()) == len(target_instance.__dict__.keys())\n",
    "# True"
   ]
  },
  {
   "cell_type": "markdown",
   "metadata": {},
   "source": [
    "2. Coerce dictionaries into objects\n",
    "\n",
    "A. To start, coerce just one dictionary into an object."
   ]
  },
  {
   "cell_type": "code",
   "execution_count": 17,
   "metadata": {},
   "outputs": [],
   "source": [
    "first_object = RestaurantTarget(selected_attributes['name'], selected_attributes['display_phone'],\n",
    "                     selected_attributes['review_count'], selected_attributes['rating'])\n",
    "# change the above line to reference your target class"
   ]
  },
  {
   "cell_type": "code",
   "execution_count": 18,
   "metadata": {},
   "outputs": [
    {
     "data": {
      "text/plain": [
       "{'_name': 'Amélie',\n",
       " '_display_phone': '(212) 533-2962',\n",
       " '_review_count': 2483,\n",
       " '_rating': 4.5}"
      ]
     },
     "execution_count": 18,
     "metadata": {},
     "output_type": "execute_result"
    }
   ],
   "source": [
    "first_object.__dict__"
   ]
  },
  {
   "cell_type": "code",
   "execution_count": 19,
   "metadata": {},
   "outputs": [
    {
     "data": {
      "text/plain": [
       "['Amélie', '(212) 533-2962', 2483, 4.5]"
      ]
     },
     "execution_count": 19,
     "metadata": {},
     "output_type": "execute_result"
    }
   ],
   "source": [
    "list(first_object.__dict__.values())"
   ]
  },
  {
   "cell_type": "code",
   "execution_count": 20,
   "metadata": {},
   "outputs": [
    {
     "data": {
      "text/plain": [
       "False"
      ]
     },
     "execution_count": 20,
     "metadata": {},
     "output_type": "execute_result"
    }
   ],
   "source": [
    "list(first_object.__dict__.values()) == list(entities[0].values())\n",
    "# True"
   ]
  },
  {
   "cell_type": "markdown",
   "metadata": {},
   "source": [
    "- Above code returns \"False\", instead of \"True\" shown in the cell, so I checked out the entities[0].values as blow. fist_object contains only selected_attributes, but entities[0] still contains al the attributes, hence the list of values of them cannot be the same."
   ]
  },
  {
   "cell_type": "code",
   "execution_count": 21,
   "metadata": {},
   "outputs": [
    {
     "data": {
      "text/plain": [
       "dict_values(['ETgJqJHV7BW6pIr9Ox74sA', 'amélie-new-york', 'Amélie', 'https://s3-media4.fl.yelpcdn.com/bphoto/cSDgVuPMnJgMLTrTNSEXug/o.jpg', False, 'https://www.yelp.com/biz/am%C3%A9lie-new-york?adjust_creative=PdG5NYNj9KqEVMaMf45xhA&utm_campaign=yelp_api_v3&utm_medium=api_v3_business_search&utm_source=PdG5NYNj9KqEVMaMf45xhA', 2483, [{'alias': 'french', 'title': 'French'}, {'alias': 'wine_bars', 'title': 'Wine Bars'}], 4.5, {'latitude': 40.7327, 'longitude': -73.99766}, ['restaurant_reservation'], '$$', {'address1': '22 W 8th St', 'address2': '', 'address3': '', 'city': 'New York', 'zip_code': '10011', 'country': 'US', 'state': 'NY', 'display_address': ['22 W 8th St', 'New York, NY 10011']}, '+12125332962', '(212) 533-2962', 3038.8699032940094])"
      ]
     },
     "execution_count": 21,
     "metadata": {},
     "output_type": "execute_result"
    }
   ],
   "source": [
    "entities[0].values()"
   ]
  },
  {
   "cell_type": "markdown",
   "metadata": {},
   "source": [
    "B. Now that you have solved for one, solve for all.  Coerce all of the dictionaries into objects.  Assign the list of objects to a variable `targets`."
   ]
  },
  {
   "cell_type": "code",
   "execution_count": 39,
   "metadata": {},
   "outputs": [],
   "source": [
    "class RestaurantAPI:\n",
    "    def get_restaurants(self):\n",
    "        api_key = '4ZV6k_jsCYOmslVsz-SDQgRCYsOngFjXx6vbdY-09nDR6UsSEDjVXu-wgDCJDnVSAVTjYBr1PZFsm00JOFfYRzaavn_ObxoflOlWJCO3SON5Z1q5lIgZXx_REEawXHYx'\n",
    "        headers = {'Authorization': 'Bearer %s' % api_key}\n",
    "        url='https://api.yelp.com/v3/businesses/search'\n",
    "        params={'term':'restaurant', 'location':'New York City'}\n",
    "        entities = requests.get(url, params = params, headers = headers).json()['businesses']\n",
    "        return entities\n",
    "        \n",
    "        \n",
    "        for restaurant_dict in entities:\n",
    "            target = {'name':restaurant_dict['name'], 'display_phone':restaurant_dict['display_phone'],\n",
    "             'review_count':restaurant_dict['review_count'], 'rating':restaurant_dict['rating']}\n",
    "        targets.append(target)\n",
    "        return targets"
   ]
  },
  {
   "cell_type": "code",
   "execution_count": 40,
   "metadata": {},
   "outputs": [],
   "source": [
    "targets = RestaurantObject()"
   ]
  },
  {
   "cell_type": "code",
   "execution_count": 41,
   "metadata": {},
   "outputs": [
    {
     "data": {
      "text/plain": [
       "<bound method RestaurantObject.listofobjects of <__main__.RestaurantObject object at 0x000001BA310CAF98>>"
      ]
     },
     "execution_count": 41,
     "metadata": {},
     "output_type": "execute_result"
    }
   ],
   "source": [
    "targets.listofobjects"
   ]
  },
  {
   "cell_type": "code",
   "execution_count": 46,
   "metadata": {},
   "outputs": [
    {
     "ename": "TypeError",
     "evalue": "object of type 'RestaurantObject' has no len()",
     "output_type": "error",
     "traceback": [
      "\u001b[1;31m---------------------------------------------------------------------------\u001b[0m",
      "\u001b[1;31mTypeError\u001b[0m                                 Traceback (most recent call last)",
      "\u001b[1;32m<ipython-input-46-ae94325e2850>\u001b[0m in \u001b[0;36m<module>\u001b[1;34m\u001b[0m\n\u001b[1;32m----> 1\u001b[1;33m \u001b[0mlen\u001b[0m\u001b[1;33m(\u001b[0m\u001b[0mtargets\u001b[0m\u001b[1;33m)\u001b[0m \u001b[1;33m==\u001b[0m \u001b[0mlen\u001b[0m\u001b[1;33m(\u001b[0m\u001b[0mentities\u001b[0m\u001b[1;33m)\u001b[0m\u001b[1;33m\u001b[0m\u001b[1;33m\u001b[0m\u001b[0m\n\u001b[0m\u001b[0;32m      2\u001b[0m \u001b[1;31m# True\u001b[0m\u001b[1;33m\u001b[0m\u001b[1;33m\u001b[0m\u001b[1;33m\u001b[0m\u001b[0m\n",
      "\u001b[1;31mTypeError\u001b[0m: object of type 'RestaurantObject' has no len()"
     ]
    }
   ],
   "source": [
    "len(targets) == len(entities)\n",
    "# True"
   ]
  },
  {
   "cell_type": "markdown",
   "metadata": {},
   "source": [
    "### 3. Move the remaining code into an object \n",
    "\n",
    "At this point, we successfully have transformed a list of dictionaries from an API into a list of objects.  But we need to keep cleaning up our code.  To do this, look at the code outside of a class, and move it into a class, with a method name of run."
   ]
  },
  {
   "cell_type": "code",
   "execution_count": 24,
   "metadata": {},
   "outputs": [],
   "source": [
    "class RestaurantAdapter:\n",
    "    def __init__(self, restaurant_dicts):\n",
    "        self._restaurant_dicts = restaurant_dicts\n",
    "        \n",
    "    def run(self):\n",
    "        self._targets = []\n",
    "        for restaurant_dict in self._restaurant_dicts:\n",
    "            selected_attribute = {'name':restaurant_dict['name'], \n",
    "                                  'display_phone':restaurant_dict['display_phone'],\n",
    "                                  'review_count':restaurant_dict['review_count'], \n",
    "                                  'rating':restaurant_dict['rating']}\n",
    "            target = RestaurantTarget(selected_attribute['name'], selected_attribute['display_phone'],\n",
    "                                selected_attribute['review_count'],selected_attribute['rating'])\n",
    "            self._targets.append(target)\n",
    "        return self._targets"
   ]
  },
  {
   "cell_type": "markdown",
   "metadata": {},
   "source": [
    "Let's marke sure that this works."
   ]
  },
  {
   "cell_type": "code",
   "execution_count": 25,
   "metadata": {},
   "outputs": [
    {
     "data": {
      "text/plain": [
       "[<__main__.RestaurantTarget at 0x1ba310b5780>,\n",
       " <__main__.RestaurantTarget at 0x1ba310b5860>,\n",
       " <__main__.RestaurantTarget at 0x1ba310b5828>,\n",
       " <__main__.RestaurantTarget at 0x1ba310b55f8>,\n",
       " <__main__.RestaurantTarget at 0x1ba310b5940>,\n",
       " <__main__.RestaurantTarget at 0x1ba310b57b8>,\n",
       " <__main__.RestaurantTarget at 0x1ba310b5390>,\n",
       " <__main__.RestaurantTarget at 0x1ba310b59b0>,\n",
       " <__main__.RestaurantTarget at 0x1ba310b59e8>,\n",
       " <__main__.RestaurantTarget at 0x1ba310b5b70>,\n",
       " <__main__.RestaurantTarget at 0x1ba310b5978>,\n",
       " <__main__.RestaurantTarget at 0x1ba310b5668>,\n",
       " <__main__.RestaurantTarget at 0x1ba310b54a8>,\n",
       " <__main__.RestaurantTarget at 0x1ba310b53c8>,\n",
       " <__main__.RestaurantTarget at 0x1ba310b56d8>,\n",
       " <__main__.RestaurantTarget at 0x1ba310b55c0>,\n",
       " <__main__.RestaurantTarget at 0x1ba310b5a90>,\n",
       " <__main__.RestaurantTarget at 0x1ba310b5a20>,\n",
       " <__main__.RestaurantTarget at 0x1ba310b5908>,\n",
       " <__main__.RestaurantTarget at 0x1ba310b5be0>]"
      ]
     },
     "execution_count": 25,
     "metadata": {},
     "output_type": "execute_result"
    }
   ],
   "source": [
    "adapter = RestaurantAdapter(entities)\n",
    "# change the above line to reference your adapter\n",
    "results = adapter.run()\n",
    "results"
   ]
  },
  {
   "cell_type": "code",
   "execution_count": 26,
   "metadata": {},
   "outputs": [
    {
     "data": {
      "text/plain": [
       "True"
      ]
     },
     "execution_count": 26,
     "metadata": {},
     "output_type": "execute_result"
    }
   ],
   "source": [
    "len(results) == len(targets)\n",
    "# True"
   ]
  },
  {
   "cell_type": "markdown",
   "metadata": {},
   "source": [
    "### 4. Make the methods smaller"
   ]
  },
  {
   "cell_type": "markdown",
   "metadata": {},
   "source": [
    "Next, separate out the run method in the adapter class smaller.  Do this by first writing comments in the code, and then moving the code into separate methods.  Please leave the comments in your code.  Your methods should be no longer than five lines long, and there can only be a total of one `if else` statement or `loop` per method.  Having both an `if else` and a `loop` in any method is also too complicated -- don't do it."
   ]
  },
  {
   "cell_type": "code",
   "execution_count": 27,
   "metadata": {},
   "outputs": [],
   "source": [
    "class RestaurantAdapter:\n",
    "    def __init__(self, restaurant_dicts):\n",
    "        self._restaurant_dicts = restaurant_dicts\n",
    "        \n",
    "    def run(self):\n",
    "        self._targets = []\n",
    "        for restaurant_dict in self._restaurant_dicts:\n",
    "            selected_attribute = {'name':restaurant_dict['name'], \n",
    "                                  'display_phone':restaurant_dict['display_phone'],\n",
    "                                  'review_count':restaurant_dict['review_count'], \n",
    "                                  'rating':restaurant_dict['rating']}\n",
    "            target = RestaurantTarget(selected_attribute['name'], selected_attribute['display_phone'],\n",
    "                                selected_attribute['review_count'],selected_attribute['rating'])\n",
    "            self._targets.append(target)\n",
    "        return self._targets"
   ]
  },
  {
   "cell_type": "markdown",
   "metadata": {},
   "source": [
    "### 5. Create the client class"
   ]
  },
  {
   "cell_type": "markdown",
   "metadata": {},
   "source": [
    "Next move calls to the API into their own separate class.  This way we can call the API but later to decide to coerce the data into different types of objects than we did above."
   ]
  },
  {
   "cell_type": "code",
   "execution_count": 28,
   "metadata": {},
   "outputs": [],
   "source": [
    "class RestaurantClient:\n",
    "    def run(self):\n",
    "        api_key = '4ZV6k_jsCYOmslVsz-SDQgRCYsOngFjXx6vbdY-09nDR6UsSEDjVXu-wgDCJDnVSAVTjYBr1PZFsm00JOFfYRzaavn_ObxoflOlWJCO3SON5Z1q5lIgZXx_REEawXHYx'\n",
    "        headers = {'Authorization': 'Bearer %s' % api_key}\n",
    "        url='https://api.yelp.com/v3/businesses/search'\n",
    "        params={'term':'restaurant', 'location':'New York City'}\n",
    "        entities = requests.get(url, params = params, headers = headers).json()['businesses']\n",
    "        return entities"
   ]
  },
  {
   "cell_type": "markdown",
   "metadata": {},
   "source": [
    "Place the updated Adapter class below.  Check that it still works as it did before."
   ]
  },
  {
   "cell_type": "code",
   "execution_count": 29,
   "metadata": {},
   "outputs": [],
   "source": [
    "class RestaurantAdapter:\n",
    "    def __init__(self, restaurant_dicts):\n",
    "        self._restaurant_dicts = restaurant_dicts\n",
    "        \n",
    "    def run(self):\n",
    "        self._targets = []\n",
    "        for restaurant_dict in self._restaurant_dicts:\n",
    "            selected_attribute = {'name':restaurant_dict['name'], \n",
    "                                  'display_phone':restaurant_dict['display_phone'],\n",
    "                                  'review_count':restaurant_dict['review_count'], \n",
    "                                  'rating':restaurant_dict['rating']}\n",
    "            target = RestaurantTarget(selected_attribute['name'], selected_attribute['display_phone'],\n",
    "                                selected_attribute['review_count'],selected_attribute['rating'])\n",
    "            self._targets.append(target)\n",
    "        return self._targets"
   ]
  },
  {
   "cell_type": "code",
   "execution_count": 30,
   "metadata": {},
   "outputs": [
    {
     "data": {
      "text/plain": [
       "True"
      ]
     },
     "execution_count": 30,
     "metadata": {},
     "output_type": "execute_result"
    }
   ],
   "source": [
    "refactored_adapter = RestaurantAdapter(entities)\n",
    "\n",
    "len(refactored_adapter.run()) == len(adapter.run())"
   ]
  },
  {
   "cell_type": "markdown",
   "metadata": {},
   "source": [
    "### Summary"
   ]
  },
  {
   "cell_type": "markdown",
   "metadata": {},
   "source": [
    "Great job!  Hopefully, you saw how by building our code and then slowly refactoring our code, we can eventually get to some clean code."
   ]
  }
 ],
 "metadata": {
  "kernelspec": {
   "display_name": "Python 3",
   "language": "python",
   "name": "python3"
  },
  "language_info": {
   "codemirror_mode": {
    "name": "ipython",
    "version": 3
   },
   "file_extension": ".py",
   "mimetype": "text/x-python",
   "name": "python",
   "nbconvert_exporter": "python",
   "pygments_lexer": "ipython3",
   "version": "3.7.1"
  }
 },
 "nbformat": 4,
 "nbformat_minor": 2
}
